{
 "cells": [
  {
   "cell_type": "markdown",
   "id": "68ab7e25",
   "metadata": {},
   "source": [
    "## 통계적 추정\n",
    "### 점추정\n",
    "- 모평균이나 모분산 등의 모수를 하나의 수치로 추정\n",
    "- 추정량의 기댓값이 추측하려는 모수가 되는 성질을 불편성이라고 하며 불편성을 가진 추정량을 불편추정량이라고 한다.\n",
    "- 표본평군이 모평균을 잘 추정할 수 있는 근거 중 하나가 바로 이 불편성이다.\n",
    "- 표본크기 n을 증가시키면 추측하기 원하는 모수에 수렴해 가는 성질을 알치성이라고 하며 일치성을 지닌 추정량을 일치 추정량이라고 함.\n",
    "- 표본평균은 불편성과 일치성을 모두 가지고 있기 때문에 모평균을 잘 추정한다고 할 수 있다.\n",
    "- 모분산의 불편 추정량이 되는 표본통계량은 불편분산이다.\n",
    "- 불편분산은 표본분산에서 나누는 수 n-1로 하는 식으로 계산되며 표본분산은 $S^2$으로 나타내지만 불편분산은 $s^2$으로 나타낸다.\n",
    "\n",
    "### 구간추정\n",
    "- 모분산을 알고 있는 경우의 모평균 구간추정\n",
    "- 모분산을 알고 있는 경우의 모분산 구간추정\n",
    "- 모분산을 알지 못하는 경우의 모평균 구간추정\n",
    "- 베르누이 분포의 모평균의 구간 추정\n",
    "- 포아송 분포의 모평균의 구간추정"
   ]
  },
  {
   "cell_type": "code",
   "execution_count": 1,
   "id": "3bea4373",
   "metadata": {},
   "outputs": [],
   "source": [
    "# [과제] 모평균과 모분산의 점추정 사례를 파이썬 코드로 수행하세요."
   ]
  },
  {
   "cell_type": "code",
   "execution_count": 11,
   "id": "26519369",
   "metadata": {},
   "outputs": [],
   "source": [
    "# 데이터 불러오기, 모평균과 모분산\n",
    "import numpy as np\n",
    "import pandas as pd\n",
    "import matplotlib.pyplot as plt\n",
    "from scipy import stats\n",
    "\n",
    "df=pd.read_csv('./data/ch4_scores400.csv')\n",
    "\n",
    "scores=np.array(df.score)\n",
    "p_mean=np.mean(scores)\n",
    "p_var=np.var(scores)"
   ]
  },
  {
   "cell_type": "code",
   "execution_count": 4,
   "id": "dead6ec5",
   "metadata": {},
   "outputs": [
    {
     "data": {
      "image/png": "[encoded data removed]",
      "text/plain": [
       "<Figure size 720x432 with 1 Axes>"
      ]
     },
     "metadata": {
      "needs_background": "light"
     },
     "output_type": "display_data"
    }
   ],
   "source": [
    "plt.figure(figsize=(10,6))\n",
    "xs=np.arange(111)\n",
    "rv=stats.norm(np.mean(scores),np.sqrt(np.var(scores)))\n",
    "plt.plot(xs,rv.pdf(xs))\n",
    "plt.hist(scores,bins=100,density=True)\n",
    "plt.show()"
   ]
  },
  {
   "cell_type": "code",
   "execution_count": null,
   "id": "354491b7",
   "metadata": {},
   "outputs": [],
   "source": [
    "np.random.seed(0)\n",
    "sample_size=10000\n",
    "n=20\n",
    "samples=np.random.choice(scores,n)\n",
    "np.mean(samples),np.var(samples)\n",
    "\n",
    "for i in range(sample_size):\n",
    "    s_mean = np.mean(samples[i])\n",
    "    s_var = np.var(samples[i])\n",
    "#     print(f'{i}번째 평균 {s_mean},분산 {s_var}')\n",
    "print(np.mean(np.mean(samples,axis=1)),np.mean(np.random.choice(score,int(1e6))))\n",
    "print(np.mean(np.var(samples,axis=1,ddof=1)),np.var(np.random.choice(score,int(1e6)),ddof=1))"
   ]
  },
  {
   "cell_type": "code",
   "execution_count": null,
   "id": "d7ccc465",
   "metadata": {},
   "outputs": [],
   "source": [
    "# 시험점수 데이터 불러오기\n",
    "df = pd.read_csv('dataset/ch4_scores400.csv')\n",
    "scores = np.array(df['score'])\n",
    "display(df)\n",
    "\n",
    "# 모평균과 모분산 \n",
    "p_mean = np.mean(scores)\n",
    "p_var = np.var(scores)\n",
    "print('모평균, 모분산:', p_mean, p_var)\n",
    "\n",
    "# 시험점수 모집단(전교생 시험점수)이 정규분포를 따른다고 가정 \n",
    "plt.figure(figsize=(10,6))\n",
    "xs = np.arange(101)\n",
    "rv = stats.norm(p_mean, np.sqrt(p_var))\n",
    "plt.plot(xs, rv.pdf(xs), color='gray')\n",
    "plt.hist(scores, bins=100, range=(0,100), density=True) # 전체 시험점수 히스토그램\n",
    "plt.show()\n",
    "\n",
    "# 무작위추출한 20명의 시험점수 표본 데이터\n",
    "np.random.seed(0)\n",
    "n = 20\n",
    "sample = np.random.choice(scores, n)\n",
    "print('시험점수 표본 데이터:', sample)\n",
    "\n",
    "# 표본 크기가 20인 표본 데이터 1만 개 추출\n",
    "# (표본으로 평균과 분산을 어느 저옫의 정확도로 추출할 수 있는지 시뮬레이션)\n",
    "np.random.seed(1111)\n",
    "n_samples = 10000\n",
    "samples = np.random.choice(scores, (n_samples, n))\n",
    "\n",
    "## 대수의 법칙을 사용하여 기댓값이 모평균인 것을 확인\n",
    "sample_means = np.mean(samples, axis=1) # 준비해둔 1만 개의 표본 데이터(n=20) 각각의 표본평균을 구하고\n",
    "s_means = np.mean(sample_means)         # 그 표본평균들의 평균(기댓값) 계산\n",
    "print('모평균:', p_mean, '\\n', \n",
    "      '표본평균의 기댓값:', s_means)\n"
   ]
  },
  {
   "cell_type": "code",
   "execution_count": null,
   "id": "113d2172",
   "metadata": {},
   "outputs": [],
   "source": [
    "## 표본분산이 모분산의 불편추정량이 되는지 대수의 법칙으로 확인\n",
    "sample_vars = np.var(samples, axis=1) # 준비해둔 1만 개의 표본 데이터 각각의 표본분산 구하고\n",
    "s_vars = np.mean(sample_vars)         # 표본분산의 평균 \n",
    "## 불편분산이 모분산의 불편추정량이 되는지 확인\n",
    "sample_u_vars = np.var(samples, axis=1, ddof=1)\n",
    "u_vars = np.mean(sample_u_vars)\n",
    "print('모분산:', p_var, '\\n', \n",
    "      '표본분산:', s_vars, '\\n', \n",
    "     '불편분산:', u_vars)\n"
   ]
  },
  {
   "cell_type": "markdown",
   "id": "90eadfba",
   "metadata": {},
   "source": [
    "모분산을 모르는 경우\n",
    "- $\\sqrt{\\sigma^2/n}$ 대신 불편표준편차의 $\\sqrt{s^2/n}$를 표준오차로 사용한다.\n",
    "- 표준화 과정에서 다음의 식이 사용되는데, 이것은 t분포를 따른다. (카이제곱분포 Y 이용하여 구함)  \n",
    "$t = $ $Z \\over \\sqrt{Y/(n-1)}$\n",
    "- 이 때, $\\alpha$ 신뢰구간은 다음과 같다.  \n",
    "$[\\bar{X}-t_{\\alpha/2}(n-1)\\sqrt{s^2/n}, \\bar{X}-t_{1-\\alpha/2}(n-1)\\sqrt{s^2/n}]$\n"
   ]
  },
  {
   "cell_type": "code",
   "execution_count": null,
   "id": "e130bf86",
   "metadata": {},
   "outputs": [],
   "source": [
    "# [과제] 모분산을 알지 못할 때 정규분포의 모평균의 구간 추정을 파이썬 코드로 수행하세요.\n",
    "s_mean=np.mean(sample)\n",
    "u_var=np.var(sample,ddof=1)\n",
    "\n",
    "rv = stats.t(df=n-1)\n",
    "lcl = s_mean - rv.isf(0.025) * np.sqrt(u_var/n)\n",
    "ucl = s_mean - rv.isf(0.975) * np.sqrt(u_var/n)\n",
    "lcl, ucl"
   ]
  },
  {
   "cell_type": "code",
   "execution_count": 4,
   "id": "0e45a5e4",
   "metadata": {},
   "outputs": [
    {
     "data": {
      "text/plain": [
       "(9.697953549598202, 11.190935339290688)"
      ]
     },
     "execution_count": 4,
     "metadata": {},
     "output_type": "execute_result"
    }
   ],
   "source": [
    "# [과제] 모집단에 정규분포를 가정할 수 없는 예를 포아송 분포로 설정하여 모평균 신뢰구간을 구하세요\n",
    "n_access_df = pd.read_csv('data/ch10_access.csv')\n",
    "n_access = np.array(n_access_df['access number'])\n",
    "n = len(n_access)\n",
    "n_access[:10]\n",
    "\n",
    "s_mean = n_access.mean()\n",
    "s_mean\n",
    "\n",
    "rv = stats.norm\n",
    "lcl = s_mean - rv.isf(0.025) * np.sqrt(s_mean/n)\n",
    "ucl = s_mean - rv.isf(0.975) * np.sqrt(s_mean/n)\n",
    "lcl,ucl\n"
   ]
  },
  {
   "cell_type": "markdown",
   "id": "2f0bb9c4",
   "metadata": {},
   "source": [
    "## 통계적 가설검정\n",
    "### 귀무가설\n",
    "- 가설에 대해 차이나 효과가 없다. $H_0$\n",
    "- 기각은 귀무가설이 옳지 않음을 의미함.\n",
    "- 채택은 귀무가설이 옳지 않다고 말할수 없음을 의미함. 확정하지 않음.\n",
    "- \n",
    "### 대립가설\n",
    "- 주장 하고자 하는 가설이 대립가설이다.(ex. 감자의 평균이 130보다 작다.)\n",
    "- 가설에 대해 차이나 효과가 있다. $H_1$\n",
    "#### 기각역\n",
    "#### 채택역\n",
    "#### 유의수준-임계값\n",
    "#### 검정통계량"
   ]
  },
  {
   "cell_type": "code",
   "execution_count": 26,
   "id": "8914997c",
   "metadata": {},
   "outputs": [
    {
     "name": "stdout",
     "output_type": "stream",
     "text": [
      "[122.02 131.73 130.6  131.82 132.05 126.12 124.43 132.89 122.79 129.95\n",
      " 126.14 134.45 127.64 125.68]\n",
      "128.4507142857143\n",
      "128.68118313069039\n",
      "-1.932298779026813\n",
      "-1.6448536269514722\n",
      "0.026661319523126635\n"
     ]
    }
   ],
   "source": [
    "# 데이터 불러오기\n",
    "df=pd.read_csv('./data/ch11_potato.csv')\n",
    "sample=np.array(df.무게)\n",
    "print(sample)\n",
    "\n",
    "# 샘플의 평균\n",
    "s_mean = np.mean(sample)\n",
    "print(s_mean)\n",
    "\n",
    "# 하위 5프로의 지점\n",
    "rv = stats.norm(130,np.sqrt(9/14))\n",
    "print(rv.isf(0.95))\n",
    "\n",
    "# 검정통계량의 값\n",
    "z=(s_mean - 130) / np.sqrt(9/14)\n",
    "print(z)\n",
    "\n",
    "# 임계값\n",
    "rv = stats.norm()\n",
    "print(rv.isf(0.95))\n",
    "\n",
    "# p값\n",
    "rv.cdf(z)\n",
    "print(rv.cdf(z))\n",
    "\n",
    "# 귀무가설이 기각됨 p<0.05\n",
    "# 모평균은 130g이다 라는 결론이 되는 것은 아니다. "
   ]
  },
  {
   "cell_type": "code",
   "execution_count": 6,
   "id": "8bb6e0fa",
   "metadata": {},
   "outputs": [
    {
     "data": {
      "text/plain": [
       "Text(0, 0.5, 'cdf')"
      ]
     },
     "execution_count": 6,
     "metadata": {},
     "output_type": "execute_result"
    },
    {
     "data": {
      "image/png": "[encoded data removed]",
      "text/plain": [
       "<Figure size 720x432 with 2 Axes>"
      ]
     },
     "metadata": {
      "needs_background": "light"
     },
     "output_type": "display_data"
    }
   ],
   "source": [
    "import matplotlib.pyplot as plt\n",
    "rv=stats.norm(130,np.sqrt(9/14))\n",
    "fig=plt.figure(figsize=(10,6))\n",
    "ax1=fig.add_subplot(111)\n",
    "ax2=ax1.twinx()\n",
    "xs=np.linspace(127,133,60)\n",
    "ax1.plot(xs,rv.pdf(xs))\n",
    "ax2.plot(xs,rv.cdf(xs),color='black')\n",
    "ax1.vlines(rv.isf(0.95),0,0.5,color='gray',ls='--')\n",
    "ax1.set_xlabel('x',fontsize=20)\n",
    "ax1.set_ylabel('pdf',rotation=0,fontsize=20)\n",
    "ax2.set_ylabel('cdf',rotation=0,fontsize=20)\n"
   ]
  },
  {
   "cell_type": "code",
   "execution_count": 7,
   "id": "000cc49e",
   "metadata": {},
   "outputs": [
    {
     "data": {
      "text/plain": [
       "-1.932298779026813"
      ]
     },
     "execution_count": 7,
     "metadata": {},
     "output_type": "execute_result"
    }
   ],
   "source": [
    "#양측검정\n",
    "z=(s_mean - 130) / np.sqrt(9/14)\n",
    "z"
   ]
  },
  {
   "cell_type": "code",
   "execution_count": 8,
   "id": "19b2244e",
   "metadata": {},
   "outputs": [
    {
     "data": {
      "text/plain": [
       "(-1.959963984540054, 1.959963984540054)"
      ]
     },
     "execution_count": 8,
     "metadata": {},
     "output_type": "execute_result"
    }
   ],
   "source": [
    "rv=stats.norm()\n",
    "rv.interval(0.95)"
   ]
  },
  {
   "cell_type": "code",
   "execution_count": 9,
   "id": "05e32bdf",
   "metadata": {},
   "outputs": [
    {
     "data": {
      "text/plain": [
       "0.05332263904625327"
      ]
     },
     "execution_count": 9,
     "metadata": {},
     "output_type": "execute_result"
    }
   ],
   "source": [
    "# 양측검정의 p값은 상단과 하단의 양쪽 면적을 고려해야 하므로 누적밀도함수의 2배로 한다.\n",
    "# p값이 0.05보다 크므로 기무가설은 기각되지 않는다. '감자튀김의 무게는 130g이 아니다'라고 말할 수 없다.\n",
    "rv.cdf(z)*2"
   ]
  },
  {
   "cell_type": "markdown",
   "id": "a470ea4e",
   "metadata": {},
   "source": [
    "#### 가설검정에서의 두가지 오류\n",
    "- 제 1종 오류 : 귀무가설이 옳을때 귀무가설이 기각하는 오류\n",
    " - 실제로 평균이 130g인데도 평균은 130g 보다 작다라는 결론을 내리는 상황\n",
    "- 제 2종 오류 : 대립가설이 옳을 대 귀무가설을 채택하는 오류\n",
    " - '모평균은 130g 보다 작다'인데도 '모평균은 130g 이다' 라는 결론을 얻을 수 없는 비율\n",
    "- 통계적 가설검정에서는 제 1종 오류는 제어항ㄹ 수 있으나 제 2종 오류는 제어할 수 없는 비대칭성이다."
   ]
  },
  {
   "cell_type": "markdown",
   "id": "f9934454",
   "metadata": {},
   "source": [
    "$\\beta$"
   ]
  },
  {
   "cell_type": "code",
   "execution_count": 17,
   "id": "3ce9da58",
   "metadata": {},
   "outputs": [
    {
     "data": {
      "text/plain": [
       "0.0522"
      ]
     },
     "execution_count": 17,
     "metadata": {},
     "output_type": "execute_result"
    }
   ],
   "source": [
    "# 제 1종 오류를 범할 비율 : 위험률, 유의수준(𝛼), 분삭가가 제어할수 있는 확률\n",
    "np.random.seed(10)\n",
    "rv=stats.norm(130,3)\n",
    "c=stats.norm().isf(0.95)\n",
    "n_sample=10000\n",
    "cnt=0\n",
    "for _ in range(n_sample):\n",
    "    sample_ = np.round(rv.rvs(14),2)\n",
    "    s_mean_ = np.mean(sample_)\n",
    "    z = (s_mean_ - 130) / np.sqrt(9/14)\n",
    "    if z < c:\n",
    "        cnt += 1\n",
    "cnt / n_sample"
   ]
  },
  {
   "cell_type": "code",
   "execution_count": 15,
   "id": "98bf4af7",
   "metadata": {},
   "outputs": [
    {
     "data": {
      "text/plain": [
       "0.1932"
      ]
     },
     "execution_count": 15,
     "metadata": {},
     "output_type": "execute_result"
    }
   ],
   "source": [
    "# 제 2종 오류를 범할 비율(과제) : 1-𝛽,검정력,분석가가 제어할 수 없는 확률\n",
    "np.random.seed(10)\n",
    "rv=stats.norm(128,3)\n",
    "c=stats.norm().isf(0.95)\n",
    "n_sample=10000\n",
    "cnt=0\n",
    "for _ in range(n_sample):\n",
    "    sample_ = np.round(rv.rvs(14),2)\n",
    "    s_mean_ = np.mean(sample_)\n",
    "    z = (s_mean_ - 130) / np.sqrt(9/14)\n",
    "    if z >= c:\n",
    "        cnt += 1\n",
    "cnt / n_sample"
   ]
  },
  {
   "cell_type": "code",
   "execution_count": 18,
   "id": "009b0779",
   "metadata": {},
   "outputs": [],
   "source": [
    "# 정규분포이 모평균에 대한 검정(모분산을 알고 있음)"
   ]
  },
  {
   "cell_type": "code",
   "execution_count": 1,
   "id": "baacfb28",
   "metadata": {},
   "outputs": [],
   "source": [
    "# [과제] 모평균에 대한 검정을 사용자 함수 pmean_test()를 작성하여 감자튀김 사례에 대하여 양측검정으로 수행하세요"
   ]
  },
  {
   "cell_type": "code",
   "execution_count": 5,
   "id": "b4f805d8",
   "metadata": {},
   "outputs": [],
   "source": [
    "import pandas as pd\n",
    "df = pd.read_csv('./data/ch11_potato.csv')\n",
    "sample = np.array(df['무게'])\n",
    "sample\n",
    "\n",
    "def pmean_test(sample,mean0, p_var, alpha=0.05):\n",
    "    s_mean = np.mean(sample)\n",
    "    n = len(sample)\n",
    "    rv = stats.norm()\n",
    "    interval = rv.interval(1-alpha)\n",
    "\n",
    "    z = (s_mean-mean0) / np.sqrt(p_var/n)\n",
    "    if interval[0] <= z <= interval[1]:\n",
    "        print('귀무가설을 채택')\n",
    "    else:\n",
    "        print('귀무가설을 기각')\n",
    "    if z < 0:\n",
    "        p = rv.cdf(z) * 2\n",
    "    else:\n",
    "        p = (1-rv.cdf(z)) * 2\n",
    "    print(f'p값은 {p:.3f}')\n"
   ]
  },
  {
   "cell_type": "code",
   "execution_count": 29,
   "id": "d351dcdf",
   "metadata": {},
   "outputs": [],
   "source": [
    "# 정규분포의 모분산에 대한 검정\n",
    "def pvar_test(sample,var0, alpha=0.05):\n",
    "    u_var = np.var(sample,ddof=1)\n",
    "    n=len(sample)\n",
    "    rv=stats.chi2(df=n-1)\n",
    "    interval = rv.interval(1-alpha)\n",
    "    \n",
    "    y=(n-1) * u_var/var0 # 검정통계량\n",
    "    if interval[0] <= y <= interval[1]:\n",
    "        print('귀무가설 채택')\n",
    "    else:\n",
    "        print('귀무가설 기각')\n",
    "    if y<rv.isf(0.5):\n",
    "        p=rv.cdf(y)*2\n",
    "    else:\n",
    "        p=(1-rv.cdf(y))*2\n",
    "    print(p)"
   ]
  },
  {
   "cell_type": "code",
   "execution_count": 30,
   "id": "1274e259",
   "metadata": {},
   "outputs": [
    {
     "name": "stdout",
     "output_type": "stream",
     "text": [
      "귀무가설 채택\n",
      "0.08524846084256699\n"
     ]
    }
   ],
   "source": [
    "pvar_test(sample,9)"
   ]
  },
  {
   "cell_type": "code",
   "execution_count": 8,
   "id": "643b5aa0",
   "metadata": {},
   "outputs": [
    {
     "ename": "NameError",
     "evalue": "name 'pman_test' is not defined",
     "output_type": "error",
     "traceback": [
      "\u001b[1;31m---------------------------------------------------------------------------\u001b[0m",
      "\u001b[1;31mNameError\u001b[0m                                 Traceback (most recent call last)",
      "\u001b[1;32m~\\AppData\\Local\\Temp/ipykernel_11672/2656320503.py\u001b[0m in \u001b[0;36m<module>\u001b[1;34m\u001b[0m\n\u001b[1;32m----> 1\u001b[1;33m \u001b[0mpman_test\u001b[0m\u001b[1;33m(\u001b[0m\u001b[0msample\u001b[0m\u001b[1;33m,\u001b[0m\u001b[1;36m130\u001b[0m\u001b[1;33m)\u001b[0m\u001b[1;33m\u001b[0m\u001b[1;33m\u001b[0m\u001b[0m\n\u001b[0m",
      "\u001b[1;31mNameError\u001b[0m: name 'pman_test' is not defined"
     ]
    }
   ],
   "source": [
    "pman_test(sample,130)"
   ]
  },
  {
   "cell_type": "code",
   "execution_count": null,
   "id": "8c1d8932",
   "metadata": {},
   "outputs": [],
   "source": [
    "대응표본 독립표본에 대하여 정규분포 가정하는 경우와 가정할수 없는 경우의 4가지 유형\n",
    "# 대응표본 신약 개발테스트\n",
    " - 비정규분포 -> 표본이 부족함\n",
    "# 독립표본은\n",
    "\n",
    "대응비교- ex) 같은 시간에 수영을 하는 아침반 참여 사람들이 수영을 한달 한 뒤 살이 빠지는지\n",
    "#독립비교-아침반 사람들은 초보자이고 오후반 사람들은 선수반인데 오후반 사람들은 수영을 시작하기 전과\n",
    "비교해서 살이 많이 빠졌을까\n"
   ]
  },
  {
   "cell_type": "code",
   "execution_count": 35,
   "id": "e2d7b1c0",
   "metadata": {},
   "outputs": [
    {
     "data": {
      "text/html": [
       "<div>\n",
       "<style scoped>\n",
       "    .dataframe tbody tr th:only-of-type {\n",
       "        vertical-align: middle;\n",
       "    }\n",
       "\n",
       "    .dataframe tbody tr th {\n",
       "        vertical-align: top;\n",
       "    }\n",
       "\n",
       "    .dataframe thead th {\n",
       "        text-align: right;\n",
       "    }\n",
       "</style>\n",
       "<table border=\"1\" class=\"dataframe\">\n",
       "  <thead>\n",
       "    <tr style=\"text-align: right;\">\n",
       "      <th></th>\n",
       "      <th>전</th>\n",
       "      <th>후</th>\n",
       "      <th>gap</th>\n",
       "    </tr>\n",
       "  </thead>\n",
       "  <tbody>\n",
       "    <tr>\n",
       "      <th>0</th>\n",
       "      <td>59</td>\n",
       "      <td>41</td>\n",
       "      <td>-18</td>\n",
       "    </tr>\n",
       "    <tr>\n",
       "      <th>1</th>\n",
       "      <td>52</td>\n",
       "      <td>63</td>\n",
       "      <td>11</td>\n",
       "    </tr>\n",
       "    <tr>\n",
       "      <th>2</th>\n",
       "      <td>55</td>\n",
       "      <td>68</td>\n",
       "      <td>13</td>\n",
       "    </tr>\n",
       "    <tr>\n",
       "      <th>3</th>\n",
       "      <td>61</td>\n",
       "      <td>59</td>\n",
       "      <td>-2</td>\n",
       "    </tr>\n",
       "    <tr>\n",
       "      <th>4</th>\n",
       "      <td>59</td>\n",
       "      <td>84</td>\n",
       "      <td>25</td>\n",
       "    </tr>\n",
       "    <tr>\n",
       "      <th>5</th>\n",
       "      <td>45</td>\n",
       "      <td>37</td>\n",
       "      <td>-8</td>\n",
       "    </tr>\n",
       "    <tr>\n",
       "      <th>6</th>\n",
       "      <td>55</td>\n",
       "      <td>60</td>\n",
       "      <td>5</td>\n",
       "    </tr>\n",
       "    <tr>\n",
       "      <th>7</th>\n",
       "      <td>49</td>\n",
       "      <td>52</td>\n",
       "      <td>3</td>\n",
       "    </tr>\n",
       "    <tr>\n",
       "      <th>8</th>\n",
       "      <td>49</td>\n",
       "      <td>68</td>\n",
       "      <td>19</td>\n",
       "    </tr>\n",
       "    <tr>\n",
       "      <th>9</th>\n",
       "      <td>52</td>\n",
       "      <td>70</td>\n",
       "      <td>18</td>\n",
       "    </tr>\n",
       "    <tr>\n",
       "      <th>10</th>\n",
       "      <td>51</td>\n",
       "      <td>57</td>\n",
       "      <td>6</td>\n",
       "    </tr>\n",
       "    <tr>\n",
       "      <th>11</th>\n",
       "      <td>57</td>\n",
       "      <td>65</td>\n",
       "      <td>8</td>\n",
       "    </tr>\n",
       "    <tr>\n",
       "      <th>12</th>\n",
       "      <td>54</td>\n",
       "      <td>51</td>\n",
       "      <td>-3</td>\n",
       "    </tr>\n",
       "    <tr>\n",
       "      <th>13</th>\n",
       "      <td>51</td>\n",
       "      <td>38</td>\n",
       "      <td>-13</td>\n",
       "    </tr>\n",
       "    <tr>\n",
       "      <th>14</th>\n",
       "      <td>52</td>\n",
       "      <td>54</td>\n",
       "      <td>2</td>\n",
       "    </tr>\n",
       "    <tr>\n",
       "      <th>15</th>\n",
       "      <td>52</td>\n",
       "      <td>58</td>\n",
       "      <td>6</td>\n",
       "    </tr>\n",
       "    <tr>\n",
       "      <th>16</th>\n",
       "      <td>57</td>\n",
       "      <td>73</td>\n",
       "      <td>16</td>\n",
       "    </tr>\n",
       "    <tr>\n",
       "      <th>17</th>\n",
       "      <td>49</td>\n",
       "      <td>65</td>\n",
       "      <td>16</td>\n",
       "    </tr>\n",
       "    <tr>\n",
       "      <th>18</th>\n",
       "      <td>52</td>\n",
       "      <td>54</td>\n",
       "      <td>2</td>\n",
       "    </tr>\n",
       "    <tr>\n",
       "      <th>19</th>\n",
       "      <td>46</td>\n",
       "      <td>48</td>\n",
       "      <td>2</td>\n",
       "    </tr>\n",
       "  </tbody>\n",
       "</table>\n",
       "</div>"
      ],
      "text/plain": [
       "     전   후  gap\n",
       "0   59  41  -18\n",
       "1   52  63   11\n",
       "2   55  68   13\n",
       "3   61  59   -2\n",
       "4   59  84   25\n",
       "5   45  37   -8\n",
       "6   55  60    5\n",
       "7   49  52    3\n",
       "8   49  68   19\n",
       "9   52  70   18\n",
       "10  51  57    6\n",
       "11  57  65    8\n",
       "12  54  51   -3\n",
       "13  51  38  -13\n",
       "14  52  54    2\n",
       "15  52  58    6\n",
       "16  57  73   16\n",
       "17  49  65   16\n",
       "18  52  54    2\n",
       "19  46  48    2"
      ]
     },
     "execution_count": 35,
     "metadata": {},
     "output_type": "execute_result"
    }
   ],
   "source": [
    "data = pd.read_csv('./data/ch11_training_rel.csv')\n",
    "data['gap'] = data['후']-data['전']\n",
    "data"
   ]
  },
  {
   "cell_type": "code",
   "execution_count": 37,
   "id": "329ebd52",
   "metadata": {},
   "outputs": [
    {
     "data": {
      "text/plain": [
       "(2.204154108716127, 0.04004419061842953)"
      ]
     },
     "execution_count": 37,
     "metadata": {},
     "output_type": "execute_result"
    }
   ],
   "source": [
    "# 귀무가결을 기각함, 근력운동은 집중력에 유의한 차이를 가져온다' 라고 할 수 있다.\n",
    "t,p=stats.ttest_1samp(data.gap, 0)\n",
    "t,p"
   ]
  },
  {
   "cell_type": "code",
   "execution_count": 38,
   "id": "a711eb82",
   "metadata": {},
   "outputs": [
    {
     "data": {
      "text/html": [
       "<div>\n",
       "<style scoped>\n",
       "    .dataframe tbody tr th:only-of-type {\n",
       "        vertical-align: middle;\n",
       "    }\n",
       "\n",
       "    .dataframe tbody tr th {\n",
       "        vertical-align: top;\n",
       "    }\n",
       "\n",
       "    .dataframe thead th {\n",
       "        text-align: right;\n",
       "    }\n",
       "</style>\n",
       "<table border=\"1\" class=\"dataframe\">\n",
       "  <thead>\n",
       "    <tr style=\"text-align: right;\">\n",
       "      <th></th>\n",
       "      <th>A</th>\n",
       "      <th>B</th>\n",
       "    </tr>\n",
       "  </thead>\n",
       "  <tbody>\n",
       "    <tr>\n",
       "      <th>0</th>\n",
       "      <td>47</td>\n",
       "      <td>49</td>\n",
       "    </tr>\n",
       "    <tr>\n",
       "      <th>1</th>\n",
       "      <td>50</td>\n",
       "      <td>52</td>\n",
       "    </tr>\n",
       "    <tr>\n",
       "      <th>2</th>\n",
       "      <td>37</td>\n",
       "      <td>54</td>\n",
       "    </tr>\n",
       "    <tr>\n",
       "      <th>3</th>\n",
       "      <td>60</td>\n",
       "      <td>48</td>\n",
       "    </tr>\n",
       "    <tr>\n",
       "      <th>4</th>\n",
       "      <td>39</td>\n",
       "      <td>51</td>\n",
       "    </tr>\n",
       "    <tr>\n",
       "      <th>5</th>\n",
       "      <td>45</td>\n",
       "      <td>52</td>\n",
       "    </tr>\n",
       "    <tr>\n",
       "      <th>6</th>\n",
       "      <td>53</td>\n",
       "      <td>50</td>\n",
       "    </tr>\n",
       "    <tr>\n",
       "      <th>7</th>\n",
       "      <td>43</td>\n",
       "      <td>47</td>\n",
       "    </tr>\n",
       "    <tr>\n",
       "      <th>8</th>\n",
       "      <td>44</td>\n",
       "      <td>46</td>\n",
       "    </tr>\n",
       "    <tr>\n",
       "      <th>9</th>\n",
       "      <td>45</td>\n",
       "      <td>52</td>\n",
       "    </tr>\n",
       "    <tr>\n",
       "      <th>10</th>\n",
       "      <td>53</td>\n",
       "      <td>52</td>\n",
       "    </tr>\n",
       "    <tr>\n",
       "      <th>11</th>\n",
       "      <td>64</td>\n",
       "      <td>64</td>\n",
       "    </tr>\n",
       "    <tr>\n",
       "      <th>12</th>\n",
       "      <td>50</td>\n",
       "      <td>41</td>\n",
       "    </tr>\n",
       "    <tr>\n",
       "      <th>13</th>\n",
       "      <td>43</td>\n",
       "      <td>54</td>\n",
       "    </tr>\n",
       "    <tr>\n",
       "      <th>14</th>\n",
       "      <td>53</td>\n",
       "      <td>55</td>\n",
       "    </tr>\n",
       "    <tr>\n",
       "      <th>15</th>\n",
       "      <td>46</td>\n",
       "      <td>60</td>\n",
       "    </tr>\n",
       "    <tr>\n",
       "      <th>16</th>\n",
       "      <td>50</td>\n",
       "      <td>56</td>\n",
       "    </tr>\n",
       "    <tr>\n",
       "      <th>17</th>\n",
       "      <td>57</td>\n",
       "      <td>49</td>\n",
       "    </tr>\n",
       "    <tr>\n",
       "      <th>18</th>\n",
       "      <td>46</td>\n",
       "      <td>53</td>\n",
       "    </tr>\n",
       "    <tr>\n",
       "      <th>19</th>\n",
       "      <td>50</td>\n",
       "      <td>56</td>\n",
       "    </tr>\n",
       "  </tbody>\n",
       "</table>\n",
       "</div>"
      ],
      "text/plain": [
       "     A   B\n",
       "0   47  49\n",
       "1   50  52\n",
       "2   37  54\n",
       "3   60  48\n",
       "4   39  51\n",
       "5   45  52\n",
       "6   53  50\n",
       "7   43  47\n",
       "8   44  46\n",
       "9   45  52\n",
       "10  53  52\n",
       "11  64  64\n",
       "12  50  41\n",
       "13  43  54\n",
       "14  53  55\n",
       "15  46  60\n",
       "16  50  56\n",
       "17  57  49\n",
       "18  46  53\n",
       "19  50  56"
      ]
     },
     "execution_count": 38,
     "metadata": {},
     "output_type": "execute_result"
    }
   ],
   "source": [
    "# 독립표본 t검정\n",
    "data=pd.read_csv('./data/ch11_training_ind.csv')"
   ]
  },
  {
   "cell_type": "code",
   "execution_count": 39,
   "id": "6a01835a",
   "metadata": {},
   "outputs": [
    {
     "data": {
      "text/plain": [
       "0.08695731107259362"
      ]
     },
     "execution_count": 39,
     "metadata": {},
     "output_type": "execute_result"
    }
   ],
   "source": [
    "# t값이 0.05보다 크므로 귀무가설을 채택함. A학급과 B학급의 학생사이에는 평균 점수에 유의한 차이가 있다고 말할 수 없다.\n",
    "t,p = stats.ttest_ind(data.A,data.B,equal_var=False)\n",
    "p"
   ]
  },
  {
   "cell_type": "code",
   "execution_count": null,
   "id": "ff8e4bea",
   "metadata": {},
   "outputs": [],
   "source": [
    "# [과제] 정규분포를 가정할 수 없는 경우 대응표본에 대한 가설검정을 수행하세요.\n",
    "data = pd.read_csv('./data/ch11_training_rel.csv')\n",
    "data1 = data[:6].copy()\n",
    "월콕슨"
   ]
  },
  {
   "cell_type": "code",
   "execution_count": 18,
   "id": "ac4a217c",
   "metadata": {},
   "outputs": [
    {
     "data": {
      "text/html": [
       "<div>\n",
       "<style scoped>\n",
       "    .dataframe tbody tr th:only-of-type {\n",
       "        vertical-align: middle;\n",
       "    }\n",
       "\n",
       "    .dataframe tbody tr th {\n",
       "        vertical-align: top;\n",
       "    }\n",
       "\n",
       "    .dataframe thead th {\n",
       "        text-align: right;\n",
       "    }\n",
       "</style>\n",
       "<table border=\"1\" class=\"dataframe\">\n",
       "  <thead>\n",
       "    <tr style=\"text-align: right;\">\n",
       "      <th></th>\n",
       "      <th>A</th>\n",
       "      <th>B</th>\n",
       "    </tr>\n",
       "  </thead>\n",
       "  <tbody>\n",
       "    <tr>\n",
       "      <th>0</th>\n",
       "      <td>47</td>\n",
       "      <td>49</td>\n",
       "    </tr>\n",
       "    <tr>\n",
       "      <th>1</th>\n",
       "      <td>50</td>\n",
       "      <td>52</td>\n",
       "    </tr>\n",
       "    <tr>\n",
       "      <th>2</th>\n",
       "      <td>37</td>\n",
       "      <td>54</td>\n",
       "    </tr>\n",
       "    <tr>\n",
       "      <th>3</th>\n",
       "      <td>60</td>\n",
       "      <td>48</td>\n",
       "    </tr>\n",
       "    <tr>\n",
       "      <th>4</th>\n",
       "      <td>39</td>\n",
       "      <td>51</td>\n",
       "    </tr>\n",
       "  </tbody>\n",
       "</table>\n",
       "</div>"
      ],
      "text/plain": [
       "    A   B\n",
       "0  47  49\n",
       "1  50  52\n",
       "2  37  54\n",
       "3  60  48\n",
       "4  39  51"
      ]
     },
     "execution_count": 18,
     "metadata": {},
     "output_type": "execute_result"
    }
   ],
   "source": [
    "# [과제] 정규분포를 가정할 수 없는 경우 독립표본에 대한 가설검정을 수행하세요.\n",
    "data = pd.read_csv('./data/ch11_training_ind.csv')\n",
    "data2 = data[:5].copy()\n",
    "data2"
   ]
  },
  {
   "cell_type": "code",
   "execution_count": 23,
   "id": "5632137e",
   "metadata": {},
   "outputs": [
    {
     "data": {
      "text/plain": [
       "0.30952380952380953"
      ]
     },
     "execution_count": 23,
     "metadata": {},
     "output_type": "execute_result"
    }
   ],
   "source": [
    "training_ind = pd.read_csv('./data/ch11_training_ind.csv')\n",
    "u,p = stats.mannwhitneyu(data2['A'],data2['B'],alternative='two-sided')\n",
    "p\n"
   ]
  },
  {
   "cell_type": "code",
   "execution_count": null,
   "id": "87631454",
   "metadata": {},
   "outputs": [],
   "source": [
    "[과제] 독립성 검정이 필요한 사례 2가지를 작성하세요."
   ]
  },
  {
   "cell_type": "code",
   "execution_count": 43,
   "id": "2acfd0f9",
   "metadata": {},
   "outputs": [
    {
     "data": {
      "text/html": [
       "<div>\n",
       "<style scoped>\n",
       "    .dataframe tbody tr th:only-of-type {\n",
       "        vertical-align: middle;\n",
       "    }\n",
       "\n",
       "    .dataframe tbody tr th {\n",
       "        vertical-align: top;\n",
       "    }\n",
       "\n",
       "    .dataframe thead th {\n",
       "        text-align: right;\n",
       "    }\n",
       "</style>\n",
       "<table border=\"1\" class=\"dataframe\">\n",
       "  <thead>\n",
       "    <tr style=\"text-align: right;\">\n",
       "      <th></th>\n",
       "      <th>광고</th>\n",
       "      <th>구입</th>\n",
       "    </tr>\n",
       "  </thead>\n",
       "  <tbody>\n",
       "    <tr>\n",
       "      <th>0</th>\n",
       "      <td>B</td>\n",
       "      <td>하지 않았다</td>\n",
       "    </tr>\n",
       "    <tr>\n",
       "      <th>1</th>\n",
       "      <td>B</td>\n",
       "      <td>하지 않았다</td>\n",
       "    </tr>\n",
       "    <tr>\n",
       "      <th>2</th>\n",
       "      <td>A</td>\n",
       "      <td>했다</td>\n",
       "    </tr>\n",
       "    <tr>\n",
       "      <th>3</th>\n",
       "      <td>A</td>\n",
       "      <td>했다</td>\n",
       "    </tr>\n",
       "    <tr>\n",
       "      <th>4</th>\n",
       "      <td>B</td>\n",
       "      <td>하지 않았다</td>\n",
       "    </tr>\n",
       "    <tr>\n",
       "      <th>...</th>\n",
       "      <td>...</td>\n",
       "      <td>...</td>\n",
       "    </tr>\n",
       "    <tr>\n",
       "      <th>995</th>\n",
       "      <td>B</td>\n",
       "      <td>하지 않았다</td>\n",
       "    </tr>\n",
       "    <tr>\n",
       "      <th>996</th>\n",
       "      <td>B</td>\n",
       "      <td>하지 않았다</td>\n",
       "    </tr>\n",
       "    <tr>\n",
       "      <th>997</th>\n",
       "      <td>B</td>\n",
       "      <td>하지 않았다</td>\n",
       "    </tr>\n",
       "    <tr>\n",
       "      <th>998</th>\n",
       "      <td>B</td>\n",
       "      <td>하지 않았다</td>\n",
       "    </tr>\n",
       "    <tr>\n",
       "      <th>999</th>\n",
       "      <td>A</td>\n",
       "      <td>했다</td>\n",
       "    </tr>\n",
       "  </tbody>\n",
       "</table>\n",
       "<p>1000 rows × 2 columns</p>\n",
       "</div>"
      ],
      "text/plain": [
       "    광고      구입\n",
       "0    B  하지 않았다\n",
       "1    B  하지 않았다\n",
       "2    A      했다\n",
       "3    A      했다\n",
       "4    B  하지 않았다\n",
       "..  ..     ...\n",
       "995  B  하지 않았다\n",
       "996  B  하지 않았다\n",
       "997  B  하지 않았다\n",
       "998  B  하지 않았다\n",
       "999  A      했다\n",
       "\n",
       "[1000 rows x 2 columns]"
      ]
     },
     "execution_count": 43,
     "metadata": {},
     "output_type": "execute_result"
    }
   ],
   "source": [
    "df=pd.read_csv('./data/ch11_ad.csv')\n",
    "df"
   ]
  },
  {
   "cell_type": "code",
   "execution_count": 45,
   "id": "3d08c93e",
   "metadata": {},
   "outputs": [
    {
     "data": {
      "text/html": [
       "<div>\n",
       "<style scoped>\n",
       "    .dataframe tbody tr th:only-of-type {\n",
       "        vertical-align: middle;\n",
       "    }\n",
       "\n",
       "    .dataframe tbody tr th {\n",
       "        vertical-align: top;\n",
       "    }\n",
       "\n",
       "    .dataframe thead th {\n",
       "        text-align: right;\n",
       "    }\n",
       "</style>\n",
       "<table border=\"1\" class=\"dataframe\">\n",
       "  <thead>\n",
       "    <tr style=\"text-align: right;\">\n",
       "      <th>구입</th>\n",
       "      <th>하지 않았다</th>\n",
       "      <th>했다</th>\n",
       "    </tr>\n",
       "    <tr>\n",
       "      <th>광고</th>\n",
       "      <th></th>\n",
       "      <th></th>\n",
       "    </tr>\n",
       "  </thead>\n",
       "  <tbody>\n",
       "    <tr>\n",
       "      <th>A</th>\n",
       "      <td>351</td>\n",
       "      <td>49</td>\n",
       "    </tr>\n",
       "    <tr>\n",
       "      <th>B</th>\n",
       "      <td>549</td>\n",
       "      <td>51</td>\n",
       "    </tr>\n",
       "  </tbody>\n",
       "</table>\n",
       "</div>"
      ],
      "text/plain": [
       "구입  하지 않았다  했다\n",
       "광고            \n",
       "A      351  49\n",
       "B      549  51"
      ]
     },
     "execution_count": 45,
     "metadata": {},
     "output_type": "execute_result"
    }
   ],
   "source": [
    "# 교차집계표\n",
    "ad_cross = pd.crosstab(df.광고,df.구입)\n",
    "ad_cross"
   ]
  },
  {
   "cell_type": "code",
   "execution_count": 48,
   "id": "3b9bfbb4",
   "metadata": {},
   "outputs": [
    {
     "data": {
      "text/plain": [
       "(3.75,\n",
       " 0.052807511416113395,\n",
       " 1,\n",
       " array([[360.,  40.],\n",
       "        [540.,  60.]]))"
      ]
     },
     "execution_count": 48,
     "metadata": {},
     "output_type": "execute_result"
    }
   ],
   "source": [
    "# p값이 0.05보다 크므로 귀무가설을 채택하며 '광고 A와 광고 b에 유의미한 차이가 인정되지 않는다'고 결론 내릴 수 있다\n",
    "chi2, p, dof, ef = stats.chi2_contingency(ad_cross,correction=False)\n",
    "chi2, p, dof, ef"
   ]
  },
  {
   "cell_type": "code",
   "execution_count": null,
   "id": "6e430342",
   "metadata": {},
   "outputs": [],
   "source": [
    "# [과제] 기대도수와 관측도수(실측)의 차이를 측정해서 검정 수행"
   ]
  }
 ],
 "metadata": {
  "kernelspec": {
   "display_name": "Python 3 (ipykernel)",
   "language": "python",
   "name": "python3"
  },
  "language_info": {
   "codemirror_mode": {
    "name": "ipython",
    "version": 3
   },
   "file_extension": ".py",
   "mimetype": "text/x-python",
   "name": "python",
   "nbconvert_exporter": "python",
   "pygments_lexer": "ipython3",
   "version": "3.8.12"
  },
  "toc": {
   "base_numbering": 1,
   "nav_menu": {},
   "number_sections": true,
   "sideBar": true,
   "skip_h1_title": true,
   "title_cell": "Table of Contents",
   "title_sidebar": "Contents",
   "toc_cell": false,
   "toc_position": {
    "height": "771px",
    "left": "42px",
    "top": "210.672px",
    "width": "193px"
   },
   "toc_section_display": true,
   "toc_window_display": false
  },
  "varInspector": {
   "cols": {
    "lenName": 16,
    "lenType": 16,
    "lenVar": 40
   },
   "kernels_config": {
    "python": {
     "delete_cmd_postfix": "",
     "delete_cmd_prefix": "del ",
     "library": "var_list.py",
     "varRefreshCmd": "print(var_dic_list())"
    },
    "r": {
     "delete_cmd_postfix": ") ",
     "delete_cmd_prefix": "rm(",
     "library": "var_list.r",
     "varRefreshCmd": "cat(var_dic_list()) "
    }
   },
   "types_to_exclude": [
    "module",
    "function",
    "builtin_function_or_method",
    "instance",
    "_Feature"
   ],
   "window_display": false
  }
 },
 "nbformat": 4,
 "nbformat_minor": 5
}
