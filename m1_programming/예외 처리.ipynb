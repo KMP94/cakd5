{
 "cells": [
  {
   "cell_type": "code",
   "execution_count": 2,
   "id": "16fe2eeb",
   "metadata": {},
   "outputs": [
    {
     "ename": "SyntaxError",
     "evalue": "EOL while scanning string literal (Temp/ipykernel_16832/4231619008.py, line 4)",
     "output_type": "error",
     "traceback": [
      "\u001b[1;36m  File \u001b[1;32m\"C:\\Users\\qkrrh\\AppData\\Local\\Temp/ipykernel_16832/4231619008.py\"\u001b[1;36m, line \u001b[1;32m4\u001b[0m\n\u001b[1;33m    print(\"구분오류!)\u001b[0m\n\u001b[1;37m                 ^\u001b[0m\n\u001b[1;31mSyntaxError\u001b[0m\u001b[1;31m:\u001b[0m EOL while scanning string literal\n"
     ]
    }
   ],
   "source": [
    "# 구문 오류 : 프로그램 실행전에 발생하는 오류\n",
    "# 예외 또는 런타임 오류 : 프로그램 실행중에 발생하는 오류\n",
    "\n",
    "print(\"구분오류!)"
   ]
  },
  {
   "cell_type": "code",
   "execution_count": 6,
   "id": "54453750",
   "metadata": {},
   "outputs": [
    {
     "name": "stdout",
     "output_type": "stream",
     "text": [
      "정수 입력> s\n"
     ]
    },
    {
     "ename": "ValueError",
     "evalue": "invalid literal for int() with base 10: 's'",
     "output_type": "error",
     "traceback": [
      "\u001b[1;31m---------------------------------------------------------------------------\u001b[0m",
      "\u001b[1;31mValueError\u001b[0m                                Traceback (most recent call last)",
      "\u001b[1;32m~\\AppData\\Local\\Temp/ipykernel_16832/1268070435.py\u001b[0m in \u001b[0;36m<module>\u001b[1;34m\u001b[0m\n\u001b[0;32m      1\u001b[0m \u001b[1;31m# 정수를 입력하지 않은 경우 예외 발생\u001b[0m\u001b[1;33m\u001b[0m\u001b[1;33m\u001b[0m\u001b[1;33m\u001b[0m\u001b[0m\n\u001b[1;32m----> 2\u001b[1;33m \u001b[0mnum\u001b[0m\u001b[1;33m=\u001b[0m\u001b[0mint\u001b[0m\u001b[1;33m(\u001b[0m\u001b[0minput\u001b[0m\u001b[1;33m(\u001b[0m\u001b[1;34m'정수 입력> '\u001b[0m\u001b[1;33m)\u001b[0m\u001b[1;33m)\u001b[0m\u001b[1;33m\u001b[0m\u001b[1;33m\u001b[0m\u001b[0m\n\u001b[0m\u001b[0;32m      3\u001b[0m \u001b[0mprint\u001b[0m\u001b[1;33m(\u001b[0m\u001b[1;34m'원의 반지름: '\u001b[0m\u001b[1;33m,\u001b[0m\u001b[0mnum\u001b[0m\u001b[1;33m)\u001b[0m\u001b[1;33m\u001b[0m\u001b[1;33m\u001b[0m\u001b[0m\n",
      "\u001b[1;31mValueError\u001b[0m: invalid literal for int() with base 10: 's'"
     ]
    }
   ],
   "source": [
    "# 정수를 입력하지 않은 경우 예외 발생\n",
    "num=int(input('정수 입력> '))\n",
    "print('원의 반지름: ',num)"
   ]
  },
  {
   "cell_type": "code",
   "execution_count": 33,
   "id": "67ebb631",
   "metadata": {},
   "outputs": [
    {
     "name": "stdout",
     "output_type": "stream",
     "text": [
      "정수 입력> fafsa\n",
      "입력값 오류\n"
     ]
    }
   ],
   "source": [
    "#조건문으로 예외 처리\n",
    "num=input('정수 입력> ')\n",
    "if num.isdigit()==1:\n",
    "    print('원의 반지름: ',num)\n",
    "else:\n",
    "    print('입력값 오류')"
   ]
  },
  {
   "cell_type": "code",
   "execution_count": 1,
   "id": "5daddccb",
   "metadata": {},
   "outputs": [
    {
     "name": "stdout",
     "output_type": "stream",
     "text": [
      "안녕하세요\n"
     ]
    },
    {
     "ename": "NameError",
     "evalue": "name 'param' is not defined",
     "output_type": "error",
     "traceback": [
      "\u001b[1;31m---------------------------------------------------------------------------\u001b[0m",
      "\u001b[1;31mNameError\u001b[0m                                 Traceback (most recent call last)",
      "\u001b[1;32m~\\AppData\\Local\\Temp/ipykernel_3496/12626273.py\u001b[0m in \u001b[0;36m<module>\u001b[1;34m\u001b[0m\n\u001b[0;32m      1\u001b[0m \u001b[0mprint\u001b[0m\u001b[1;33m(\u001b[0m\u001b[1;34m'안녕하세요'\u001b[0m\u001b[1;33m)\u001b[0m\u001b[1;33m\u001b[0m\u001b[1;33m\u001b[0m\u001b[0m\n\u001b[1;32m----> 2\u001b[1;33m \u001b[0mprint\u001b[0m\u001b[1;33m(\u001b[0m\u001b[0mparam\u001b[0m\u001b[1;33m)\u001b[0m\u001b[1;33m\u001b[0m\u001b[1;33m\u001b[0m\u001b[0m\n\u001b[0m",
      "\u001b[1;31mNameError\u001b[0m: name 'param' is not defined"
     ]
    }
   ],
   "source": [
    "print('안녕하세요')\n",
    "print(param)"
   ]
  },
  {
   "cell_type": "code",
   "execution_count": 2,
   "id": "ddb95638",
   "metadata": {},
   "outputs": [
    {
     "name": "stdout",
     "output_type": "stream",
     "text": [
      "안녕하세요\n",
      "예외가 발생했습니다.\n"
     ]
    }
   ],
   "source": [
    "try:\n",
    "    print('안녕하세요')\n",
    "    print(param)\n",
    "except:\n",
    "    print('예외가 발생했습니다.')"
   ]
  },
  {
   "cell_type": "code",
   "execution_count": 3,
   "id": "bc866b80",
   "metadata": {},
   "outputs": [
    {
     "name": "stdout",
     "output_type": "stream",
     "text": [
      "안녕하세요\n",
      "예외가 발생했습니다.\n",
      "무조건 실행하는 코드\n"
     ]
    }
   ],
   "source": [
    "try:\n",
    "    print('안녕하세요')\n",
    "    print(param)\n",
    "except:\n",
    "    print('예외가 발생했습니다.')\n",
    "finally:\n",
    "    print('무조건 실행하는 코드')`"
   ]
  },
  {
   "cell_type": "code",
   "execution_count": 6,
   "id": "13a20d22",
   "metadata": {},
   "outputs": [
    {
     "name": "stdout",
     "output_type": "stream",
     "text": [
      "name 'parm' is not defined\n"
     ]
    }
   ],
   "source": [
    "#코드에서 예외 발생 내용을 확인하고자 하는 경우 처리 방법\n",
    "try:\n",
    "    print(parm)\n",
    "except Exception as e:\n",
    "    print(e)"
   ]
  },
  {
   "cell_type": "code",
   "execution_count": 8,
   "id": "fc4cb401",
   "metadata": {},
   "outputs": [
    {
     "name": "stdout",
     "output_type": "stream",
     "text": [
      "1\n",
      "2\n",
      "3\n",
      "4\n",
      "사용자에 의해 프로그램이 중단되었습니다.\n"
     ]
    }
   ],
   "source": [
    "import time\n",
    "count=1\n",
    "try:\n",
    "    while True:\n",
    "        print(count)\n",
    "        count += 1\n",
    "        time.sleep(0.5)\n",
    "except KeyboardInterrupt:\n",
    "    print('사용자에 의해 프로그램이 중단되었습니다.')\n"
   ]
  },
  {
   "cell_type": "code",
   "execution_count": 11,
   "id": "3ebdbf9f",
   "metadata": {},
   "outputs": [
    {
     "name": "stdout",
     "output_type": "stream",
     "text": [
      "52\n",
      "273\n",
      "32\n",
      "103\n"
     ]
    }
   ],
   "source": [
    "# 리스트 ['52','273','32','문자','103'] 에서 숫자 부분만 출력하세요(예외처리 수행)\n",
    "list = ['52','273','32','문자','103']\n",
    "for i in list:\n",
    "    if i.isdigit() == True :\n",
    "        print(i)\n",
    "    else:\n",
    "        continue\n",
    "    "
   ]
  },
  {
   "cell_type": "code",
   "execution_count": null,
   "id": "6ec93c0e",
   "metadata": {},
   "outputs": [],
   "source": [
    "li = ['52', '273','32','문자','103']\n",
    "for i in li:    \n",
    "    try:\n",
    "        print(f'리스트에 포함된 숫자: {int(i)}')\n",
    "    except:\n",
    "        pass\n"
   ]
  },
  {
   "cell_type": "code",
   "execution_count": 39,
   "id": "633e1fb8",
   "metadata": {},
   "outputs": [
    {
     "name": "stdout",
     "output_type": "stream",
     "text": [
      "['52', '273', '32', '103']\n"
     ]
    }
   ],
   "source": [
    "list = ['52', '273','32','문자','103']\n",
    "list_num=[]\n",
    "for i in list:\n",
    "    try:\n",
    "        int(i)\n",
    "        list_num.append(i)\n",
    "    except:\n",
    "        pass\n",
    "print(list_num)"
   ]
  },
  {
   "cell_type": "code",
   "execution_count": 54,
   "id": "50351d1b",
   "metadata": {},
   "outputs": [
    {
     "name": "stdout",
     "output_type": "stream",
     "text": [
      "정수 입력 : afasf\n",
      "정수 아님\n"
     ]
    }
   ],
   "source": [
    "try:\n",
    "    num=input('정수 입력 : ')\n",
    "    num=int(num)\n",
    "    print('정수')\n",
    "except:\n",
    "    print('정수 아님')"
   ]
  },
  {
   "cell_type": "code",
   "execution_count": 63,
   "id": "78a5737a",
   "metadata": {},
   "outputs": [
    {
     "name": "stdout",
     "output_type": "stream",
     "text": [
      "정수 입력: ㅇㄹㅇㄴㄹ\n",
      "장수 아님\n"
     ]
    }
   ],
   "source": [
    "try:\n",
    "    num=int(input('정수 입력: '))\n",
    "    print('정수')\n",
    "except:\n",
    "    print('장수 아님')"
   ]
  },
  {
   "cell_type": "code",
   "execution_count": 74,
   "id": "2bcddeb4",
   "metadata": {},
   "outputs": [
    {
     "name": "stdout",
     "output_type": "stream",
     "text": [
      "정수 입력 : xvzvzxcv\n",
      "정수 아님\n",
      "프로그램 종료\n"
     ]
    }
   ],
   "source": [
    "try:\n",
    "    num=int(input('정수 입력 : '))  \n",
    "except:\n",
    "    print('정수 아님')\n",
    "else:\n",
    "    print(num)\n",
    "    print('예외 발생하지 않음')\n",
    "finally:\n",
    "    print('프로그램 종료')"
   ]
  },
  {
   "cell_type": "code",
   "execution_count": 76,
   "id": "0a6d592e",
   "metadata": {
    "scrolled": true
   },
   "outputs": [
    {
     "name": "stdout",
     "output_type": "stream",
     "text": [
      "프로그램이 시작되었습니다.\n",
      "try 구문이 시작되었습니다.\n",
      "finally 구문이 실행되었습니다.\n",
      "프로그램이 종료되었습니다\n"
     ]
    }
   ],
   "source": [
    "print('프로그램이 시작되었습니다.')\n",
    "while True:\n",
    "    try:\n",
    "        print('try 구문이 시작되었습니다.')\n",
    "        break\n",
    "    except:\n",
    "        print('except 구문이 실행되었습니다.')\n",
    "    finally:\n",
    "        print('finally 구문이 실행되었습니다.')\n",
    "    print('while 반복문의 마지막 줄 입니다.')\n",
    "print('프로그램이 종료되었습니다')\n"
   ]
  },
  {
   "cell_type": "code",
   "execution_count": 2,
   "id": "24ff11da",
   "metadata": {},
   "outputs": [
    {
     "name": "stdout",
     "output_type": "stream",
     "text": [
      "프로그램이 시작되었습니다.\n",
      "try 구문이 시작되었습니다.\n",
      "except 구문이 실행되었습니다.\n",
      "finally 구문이 실행되었습니다.\n",
      "프로그램이 종료되었습니다\n"
     ]
    }
   ],
   "source": [
    "# 위 코드에서 try ~ except ~finally를 사용하여 아래와 같이 출력하세요\n",
    "print('프로그램이 시작되었습니다.')\n",
    "while True:\n",
    "    try:\n",
    "        print('try 구문이 시작되었습니다.')\n",
    "        print(a)\n",
    "    except:\n",
    "        print('except 구문이 실행되었습니다.')\n",
    "        break\n",
    "    finally:\n",
    "        print('finally 구문이 실행되었습니다.')\n",
    "    print('while 반복문의 마지막 줄 입니다.')\n",
    "print('프로그램이 종료되었습니다')\n",
    "\n",
    "# 프로그램이 시작되었습니다.\n",
    "# try 구문이 시작되었습니다.\n",
    "# excppt구문이  실행되었습니다\n",
    "# finally 구문이 실행되었습니다.\n",
    "# 프로그램이 종료되었습니다"
   ]
  },
  {
   "cell_type": "code",
   "execution_count": 4,
   "id": "1d475ef7",
   "metadata": {},
   "outputs": [
    {
     "name": "stdout",
     "output_type": "stream",
     "text": [
      "정수 입력> rkskek\n",
      "<class 'ValueError'>\n",
      "invalid literal for int() with base 10: 'rkskek'\n"
     ]
    }
   ],
   "source": [
    "# 과제 숫자 대신 문자를 입력 시 예외가 발생되는데 아래 코드를 수정해서 예외 객체를 자료형과 예외 객체 자체를 출력하세요\n",
    "try:\n",
    "    num_input=int(input('정수 입력> '))\n",
    "    print('원의 반지름: ',num_input)\n",
    "    print('원의 둘레: ',2*3.14*num_input)\n",
    "    print('원의 넓이: ',3.14*num_input*num_input)\n",
    "except Exception as e:\n",
    "    print(type(e))\n",
    "    print(e)"
   ]
  },
  {
   "cell_type": "code",
   "execution_count": 11,
   "id": "28aa9918",
   "metadata": {},
   "outputs": [
    {
     "name": "stdout",
     "output_type": "stream",
     "text": [
      "정수 입력>123\n",
      "인텍스 오류\n",
      "모든 예외처리 완료\n",
      "정수 입력>111\n",
      "인텍스 오류\n",
      "모든 예외처리 완료\n",
      "정수 입력>1\n",
      "1번째 요소: 52\n",
      "모든 예외처리 완료\n"
     ]
    }
   ],
   "source": [
    "# 아래 코드를 보완하여 발강 가능한 모든 에외(정수 ,인텍스,미리 파악하지 못한 예외)를 처리한 후 마지막에 \"모든 예외처리 완료\"를 출력하\n",
    "#세요ㅕ\n",
    "list_num=[52,273,32,72,100]\n",
    "while 1:\n",
    "    try:\n",
    "        num_input=int(input('정수 입력>'))\n",
    "        print('{}번째 요소: {}'.format(num_input, list_num[num_input-1]))\n",
    "        break\n",
    "    except IndexError:\n",
    "        print(\"인텍스 오류\")\n",
    "    except ValueError:\n",
    "        print(\"참조값 없음\")\n",
    "    except Exception:\n",
    "        print(\"정수값이 아님\")\n",
    "    finally:\n",
    "        print(\"모든 예외처리 완료\")"
   ]
  },
  {
   "cell_type": "code",
   "execution_count": null,
   "id": "34ea0a04",
   "metadata": {},
   "outputs": [],
   "source": [
    "#도전 과제 자유 주제로 프로그래밍을 수행하세요. 단 예외처리 3건 이상(100)"
   ]
  },
  {
   "cell_type": "code",
   "execution_count": null,
   "id": "1e3ce653",
   "metadata": {},
   "outputs": [],
   "source": []
  }
 ],
 "metadata": {
  "kernelspec": {
   "display_name": "Python 3 (ipykernel)",
   "language": "python",
   "name": "python3"
  },
  "language_info": {
   "codemirror_mode": {
    "name": "ipython",
    "version": 3
   },
   "file_extension": ".py",
   "mimetype": "text/x-python",
   "name": "python",
   "nbconvert_exporter": "python",
   "pygments_lexer": "ipython3",
   "version": "3.8.12"
  }
 },
 "nbformat": 4,
 "nbformat_minor": 5
}
