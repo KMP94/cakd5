{
 "cells": [
  {
   "cell_type": "markdown",
   "id": "8227e99a",
   "metadata": {},
   "source": [
    "# 파이썬 이란\n",
    "- 1990년 암스테르담의 귀도 반 로섬(Guido Van Rossum)이 개발한 인터프리터 언어\n",
    "- 컴퓨터 프로그래밍 교육을 위해 많이 사용하지만, 기업의 실무를 위해서도 많이 사용하는 언어. 구글에서 만든 소프트웨어의 50%이상이 파이썬으로 작성\n",
    "\n",
    "## 파이썬의 특징\n",
    "- 파이썬은 인간다운 언어이다\n",
    "- 파이썬은 문법이 쉬워 빠르게 배울 수 있다\n",
    "- 파이썬은 무료이지만 강력하다\n",
    "- 파이썬은 간결하다\n",
    "- 파이썬은 프로그래밍을 즐기게 해준다\n",
    "- 파이썬은 개발 속도가 빠르다\n",
    "\n",
    "## 파이썬으로 할 수 있는 일\n",
    "- 시스템 유틸리티 제작\n",
    "- GUI 프로그래밍\n",
    "- C/C++와의 결합\n",
    "- 웹 프로그래밍\n",
    "- 수치 연산 프로그래밍\n",
    "- 데이터베이스 프로그래밍\n",
    "- 데이터 분석, 사물 인터넷\n",
    "\n",
    "## 참조\n",
    "- 표현식 : 어떠한 값을 만들어 내는 간단한 코드. 273, 10 + 20 + 30, \"Python Programming\"\n",
    "- 문장 : 표현식이 하나 이상 모이면 문장. print(\"Hello\")\n",
    "- 프로그램 : 문장이 모여서 프로그램\n",
    "- 식별자 : 프로그램밍 언어에서 이름을 붙일 때 사용하는 단어. 주로 변수 또는 함수 이름 등으로 사용\n",
    "- 주석 : 프로그램을 설명하기 위해 사용. # 기호로 주석 처리\n",
    "- 연산자 : 스스로 값이 되는 것이 아니고 값과 값 사이에 무언가 기능을 적용할 때 사용\n",
    "- 자료 : 리터럴이라고 하는데 숫자이든 문자이든 어떠한 값 자체를 의미. 1, 10, \"Hello\"\n",
    "- 키워드 : 파이썬이 만들어질 때 이미 사용하겠다고 예약해 놓는 것. False, None, True, ...\n",
    "- 프로그램밍 언어에서 사용자가 이름을 정할 때 키워드는 사용할 수 없음"
   ]
  },
  {
   "cell_type": "code",
   "execution_count": null,
   "id": "5966b1a3",
   "metadata": {},
   "outputs": [],
   "source": [
    "!python -V"
   ]
  },
  {
   "cell_type": "code",
   "execution_count": null,
   "id": "bfe8c45e",
   "metadata": {},
   "outputs": [],
   "source": [
    "#표현식\n",
    "print(273)\n",
    "10+20+30"
   ]
  },
  {
   "cell_type": "code",
   "execution_count": 1,
   "id": "42540b95",
   "metadata": {},
   "outputs": [
    {
     "name": "stdout",
     "output_type": "stream",
     "text": [
      "Hello Python\n",
      "52 Hello Python 8\n"
     ]
    }
   ],
   "source": [
    "#표현식이 하나 이상씩 모이면 문장\n",
    "print(\"Hello Python\")\n",
    "print(52,'Hello Python',5+3)"
   ]
  },
  {
   "cell_type": "code",
   "execution_count": null,
   "id": "a7fe714d",
   "metadata": {},
   "outputs": [],
   "source": [
    "#문장이 모여서 프로그램\n",
    "a=1;b=1;c=a+b\n",
    "print(c)"
   ]
  },
  {
   "cell_type": "code",
   "execution_count": 1,
   "id": "9a1dda64",
   "metadata": {},
   "outputs": [
    {
     "name": "stdout",
     "output_type": "stream",
     "text": [
      "['False', 'None', 'True', 'and', 'as', 'assert', 'async', 'await', 'break', 'class', 'continue', 'def', 'del', 'elif', 'else', 'except', 'finally', 'for', 'from', 'global', 'if', 'import', 'in', 'is', 'lambda', 'nonlocal', 'not', 'or', 'pass', 'raise', 'return', 'try', 'while', 'with', 'yield'] \n",
      "\n",
      "35\n"
     ]
    }
   ],
   "source": [
    "import keyword\n",
    "print(keyword.kwlist,'\\n')\n",
    "print(len(keyword.kwlist))"
   ]
  },
  {
   "cell_type": "markdown",
   "id": "d68d709b",
   "metadata": {},
   "source": [
    "# 식별자 기본 규칙\n",
    "\n",
    "- 키워드를 사용하면 안된다\n",
    "특수문자는 언더바만 사용\n",
    "특수문자 언ㅓ 바\n",
    "숫자로 시작 x\n",
    "공백포함 ㅌ"
   ]
  },
  {
   "cell_type": "code",
   "execution_count": null,
   "id": "4629840d",
   "metadata": {},
   "outputs": [],
   "source": [
    "alpha\n",
    "break # 키워드\n",
    "alpha1-\n",
    "_alpja\n",
    "273 tntwkl\n",
    "ha space 공백"
   ]
  },
  {
   "cell_type": "markdown",
   "id": "85945dbd",
   "metadata": {},
   "source": [
    "https://bibi6666667.tistory.com/277"
   ]
  },
  {
   "cell_type": "markdown",
   "id": "d47bbdbd",
   "metadata": {},
   "source": [
    "### 파이썬은 snake_case CamelCase를 모두 사용\n",
    " - itemlist item_list itemList\n",
    " - loginstatus login_status LoginSatus\n",
    " - 캐멀 케이스(대문자로 시작)클래스"
   ]
  },
  {
   "cell_type": "code",
   "execution_count": null,
   "id": "94cf007e",
   "metadata": {},
   "outputs": [],
   "source": [
    "# 사람이 생각하는 방식을 그래도 표현할 수 있는 언어\n",
    "`\n",
    "if 3 in [1,2,3,4]: print(\"3이 있습니다\")"
   ]
  },
  {
   "cell_type": "code",
   "execution_count": null,
   "id": "a8518317",
   "metadata": {},
   "outputs": [],
   "source": [
    "a=123\n",
    "b=-123\n",
    "c=0\n",
    "d=1.23\n",
    "e=0o177\n",
    "f=0xABC\n",
    "g=0b101010\n",
    "print(a)\n",
    "print(b)\n",
    "print(c)\n",
    "print(d)\n",
    "print(e)\n",
    "print(f)\n",
    "print(g)"
   ]
  },
  {
   "cell_type": "code",
   "execution_count": null,
   "id": "10c7ae2d",
   "metadata": {},
   "outputs": [],
   "source": [
    "#사칙연산\n",
    "a=10\n",
    "b=2\n",
    "c=a+b\n",
    "d=a*b\n",
    "e=a/b\n",
    "f=a%b\n",
    "g=a//b\n",
    "h=2**3\n",
    "print(a)\n",
    "print(b)\n",
    "print(c)\n",
    "print(d)\n",
    "print(e)\n",
    "print(f)\n",
    "print(g)"
   ]
  },
  {
   "cell_type": "code",
   "execution_count": null,
   "id": "414cbfa6",
   "metadata": {},
   "outputs": [],
   "source": [
    "string=\"문자열\"\n",
    "number=\"273\"\n",
    "print(string+number)"
   ]
  },
  {
   "cell_type": "code",
   "execution_count": null,
   "id": "670cdf39",
   "metadata": {
    "scrolled": true
   },
   "outputs": [],
   "source": [
    "a=10\n",
    "a=\"문자\"\n",
    "a=100\n",
    "type(a)"
   ]
  },
  {
   "cell_type": "code",
   "execution_count": null,
   "id": "7c6027fb",
   "metadata": {},
   "outputs": [],
   "source": [
    "# 복합 대입 연산자\n",
    "num=10\n",
    "num += 10\n",
    "print(num)\n",
    "num *= 10\n",
    "num"
   ]
  },
  {
   "cell_type": "code",
   "execution_count": null,
   "id": "6bc9960b",
   "metadata": {},
   "outputs": [],
   "source": [
    "num=100\n",
    "num *= 10\n",
    "num -= 990\n",
    "int(num)"
   ]
  },
  {
   "cell_type": "code",
   "execution_count": null,
   "id": "fd3ae19c",
   "metadata": {},
   "outputs": [],
   "source": [
    "# 사용자 입력\n",
    "input(\"인사말을 입력하세요: \")"
   ]
  },
  {
   "cell_type": "code",
   "execution_count": null,
   "id": "057d7812",
   "metadata": {},
   "outputs": [],
   "source": [
    "num =input(\"숫자를 입력하세요: \")\n",
    "print(num)\n",
    "type(num)\n",
    "##input은 문자열로만 입력받음"
   ]
  },
  {
   "cell_type": "code",
   "execution_count": null,
   "id": "cd19dafc",
   "metadata": {},
   "outputs": [],
   "source": [
    "num1= input(\"숫자를 입력하세요. \")\n",
    "num2= input(\"숫자를 입력하세요. \")\n",
    "print(num1+num2)"
   ]
  },
  {
   "cell_type": "code",
   "execution_count": null,
   "id": "177ba617",
   "metadata": {},
   "outputs": [],
   "source": [
    "num1= input(\"숫자를 입력하세요. \")\n",
    "num1=int(num1)\n",
    "num2= input(\"숫자를 입력하세요. \")\n",
    "num2=int(num2)\n",
    "print(num1+num2)"
   ]
  },
  {
   "cell_type": "code",
   "execution_count": null,
   "id": "68cc1461",
   "metadata": {},
   "outputs": [],
   "source": [
    "num1= input(\"숫자를 입력하세요. \")\n",
    "num1=float(num1)\n",
    "num2= input(\"숫자를 입력하세요. \")\n",
    "num2=float(num2)\n",
    "print(num1+num2)"
   ]
  },
  {
   "cell_type": "code",
   "execution_count": null,
   "id": "525e9796",
   "metadata": {},
   "outputs": [],
   "source": [
    "a=52\n",
    "\n",
    "b=52.273\n",
    "str(a)+str(b)"
   ]
  },
  {
   "cell_type": "code",
   "execution_count": null,
   "id": "318e6aaa",
   "metadata": {},
   "outputs": [],
   "source": [
    "# 문자열 : \"\",'',\"\"\" \"\"\",''' '''\n",
    "p2= \"'python's value is great\"\n",
    "print(p2)"
   ]
  },
  {
   "cell_type": "code",
   "execution_count": null,
   "id": "43b9a504",
   "metadata": {},
   "outputs": [],
   "source": [
    "s1=\"\"\"\"python is valuable\" he says\"\"\"\n",
    "s1"
   ]
  },
  {
   "cell_type": "code",
   "execution_count": null,
   "id": "63ae9eba",
   "metadata": {},
   "outputs": [],
   "source": [
    "s2 = 'python\\'s value is great'\n",
    "s2"
   ]
  },
  {
   "cell_type": "code",
   "execution_count": null,
   "id": "df9fae46",
   "metadata": {},
   "outputs": [],
   "source": [
    "y1 = \"Once you study data analysis\\nYou need Python\"\n",
    "print(y1)\n",
    "y2='''Once you study data analysis\n",
    "You need Python'''\n",
    "print(y2)\n",
    "y3=\"\"\"Once you study data analysis\n",
    "You need Python\"\"\"\n",
    "print(y3)"
   ]
  },
  {
   "cell_type": "code",
   "execution_count": null,
   "id": "041e4728",
   "metadata": {},
   "outputs": [],
   "source": [
    "a1=\"python\"\n",
    "a2=\"is easy to learn\"\n",
    "print(a1+a2)\n",
    "print(a1*3)\n",
    "print(\"=\"*20)\n"
   ]
  },
  {
   "cell_type": "code",
   "execution_count": null,
   "id": "70a09837",
   "metadata": {},
   "outputs": [],
   "source": [
    "while true:\n",
    "    print(\"연산할 두 수를 입력하시오 : \")\n",
    "    num1=input()\n",
    "    num1=float(num1)\n",
    "    num2=input()\n",
    "    num2=float(num2)\n",
    "    cont=true\n",
    "    while \n",
    "    print(\"연산과정을 선택하시오. (1)+ (2)- (3)/ (4)* \")\n"
   ]
  },
  {
   "cell_type": "code",
   "execution_count": null,
   "id": "50a2863d",
   "metadata": {},
   "outputs": [],
   "source": [
    "list1 = [1,2,3,4,5]\n",
    "list2 = ['a','b','c']\n",
    "list3=[1,'a','abc',[1,2,3,4,5],['a','b','c']]\n",
    "print(list3[3][2])"
   ]
  },
  {
   "cell_type": "code",
   "execution_count": 17,
   "id": "20dfb6e5",
   "metadata": {},
   "outputs": [
    {
     "name": "stdout",
     "output_type": "stream",
     "text": [
      "[0, 1, 2, 3, 4, 5, 6, 7, 8]\n",
      "2\n",
      "[3, 4]\n",
      "[8, 7, 6, 5, 4, 3, 2, 1, 0]\n"
     ]
    }
   ],
   "source": [
    "list3=[0,1,2,3,4,5,6,7,8]\n",
    "print(list3[:])\n",
    "print(list3[2])\n",
    "print(list3[3:5])\n",
    "print(list3[::-1])"
   ]
  },
  {
   "cell_type": "code",
   "execution_count": null,
   "id": "b62fc2ea",
   "metadata": {},
   "outputs": [],
   "source": [
    "a=[0,1,2,3,4,5,6,7,8,9]\n",
    "b=['a','b','c']\n",
    "a[0]=1\n",
    "print(a)\n",
    "b[1]='a'\n",
    "print(b)\n",
    "del b[1]\n",
    "print(b)"
   ]
  },
  {
   "cell_type": "code",
   "execution_count": null,
   "id": "464a70c0",
   "metadata": {},
   "outputs": [],
   "source": [
    "a=[0,1,2,3,4,5,6,7,8,9]\n",
    "b=['a','b','c']\n",
    "c=a+b\n",
    "print(c)\n",
    "c[-1] = 1 #뒤에서 부터 시작 .....-3 -2 -1 마지막 인텍스는 -1\n",
    "print(c)"
   ]
  },
  {
   "cell_type": "code",
   "execution_count": null,
   "id": "6b3d2dbc",
   "metadata": {},
   "outputs": [],
   "source": [
    "c[-2]=2\n",
    "c"
   ]
  },
  {
   "cell_type": "code",
   "execution_count": 21,
   "id": "6c0a061b",
   "metadata": {},
   "outputs": [
    {
     "ename": "SyntaxError",
     "evalue": "expression cannot contain assignment, perhaps you meant \"==\"? (Temp/ipykernel_4212/1585620856.py, line 5)",
     "output_type": "error",
     "traceback": [
      "\u001b[1;36m  File \u001b[1;32m\"C:\\Users\\qkrrh\\AppData\\Local\\Temp/ipykernel_4212/1585620856.py\"\u001b[1;36m, line \u001b[1;32m5\u001b[0m\n\u001b[1;33m    print(sorted(b.reverse=True))\u001b[0m\n\u001b[1;37m                 ^\u001b[0m\n\u001b[1;31mSyntaxError\u001b[0m\u001b[1;31m:\u001b[0m expression cannot contain assignment, perhaps you meant \"==\"?\n"
     ]
    }
   ],
   "source": [
    "# 정렬\n",
    "b=[2,4,3,1]\n",
    "b.sort()\n",
    "print(b)\n",
    "print(sorted(b.reverse=True))\n",
    "b.reverce() #내리차순\n"
   ]
  },
  {
   "cell_type": "code",
   "execution_count": 22,
   "id": "604c99fb",
   "metadata": {},
   "outputs": [
    {
     "name": "stdout",
     "output_type": "stream",
     "text": [
      "[1, 1, 1, 2, 2, 3, 4, 5, 6, 7, 8, 9]\n",
      "[9, 8, 7, 6, 5, 4, 3, 2, 2, 1, 1, 1]\n"
     ]
    }
   ],
   "source": [
    "s=[1,1,2,3,4,5,6,7,8,9,2,1]\n",
    "s.sort()\n",
    "print(s)\n",
    "s.reverse()\n",
    "print(s)"
   ]
  },
  {
   "cell_type": "code",
   "execution_count": 23,
   "id": "8a093c61",
   "metadata": {},
   "outputs": [
    {
     "name": "stdout",
     "output_type": "stream",
     "text": [
      "2\n"
     ]
    }
   ],
   "source": [
    "c=[1,2,3,1,5]\n",
    "print(c.index(3))"
   ]
  },
  {
   "cell_type": "code",
   "execution_count": null,
   "id": "098fc458",
   "metadata": {},
   "outputs": [],
   "source": [
    "# ! pip install numpy"
   ]
  },
  {
   "cell_type": "code",
   "execution_count": 25,
   "id": "059e477c",
   "metadata": {},
   "outputs": [
    {
     "name": "stdout",
     "output_type": "stream",
     "text": [
      "[3, 9, 4, 0, 5, 7, 8, 5, 6, 6, 8, 3, 4, 6, 7, 3, 5, 1, 3, 9, 6, 4, 3, 0, 0, 9, 5, 6, 9, 3, 9, 1, 1, 7, 2, 1, 9, 1, 0, 7, 0, 2, 2, 1, 6, 8, 5, 3, 8, 7, 4, 3, 5, 8, 9, 1, 5, 3, 3, 2, 2, 8, 1, 7, 1, 0, 7, 7, 0, 2, 3, 0, 4, 6, 5, 8, 2, 7, 5, 8, 0, 8, 1, 7, 2, 2, 8, 2, 0, 4, 5, 0, 7, 6, 5, 4, 7, 1, 5, 0]\n"
     ]
    },
    {
     "data": {
      "text/plain": [
       "6"
      ]
     },
     "execution_count": 25,
     "metadata": {},
     "output_type": "execute_result"
    }
   ],
   "source": [
    "import numpy as np\n",
    "c=np.random.randint(10,size=100).tolist() #범위 개수\n",
    "print(c)\n",
    "c.index(8)\n"
   ]
  },
  {
   "cell_type": "code",
   "execution_count": 26,
   "id": "21dabfb2",
   "metadata": {},
   "outputs": [
    {
     "name": "stdout",
     "output_type": "stream",
     "text": [
      "12\n"
     ]
    }
   ],
   "source": [
    "#개수 반환\n",
    "print(c.count(5))"
   ]
  },
  {
   "cell_type": "code",
   "execution_count": 27,
   "id": "175ee844",
   "metadata": {},
   "outputs": [
    {
     "name": "stdout",
     "output_type": "stream",
     "text": [
      "[1, 2, 3, 4, 5]\n",
      "[1, 2, 3, 4, 5, 6]\n",
      "[5, 1, 2, 3, 4, 5, 6]\n",
      "[5, 1, 2, 3, 4, 5, 6, 7]\n"
     ]
    }
   ],
   "source": [
    "#리스트 확장\n",
    "h=[1,2,3]\n",
    "h.extend([4,5])\n",
    "print(h)\n",
    "h.append(6)\n",
    "print(h)\n",
    "h.insert(0,5)\n",
    "print(h)\n",
    "h.insert(7,7)\n",
    "print(h)"
   ]
  },
  {
   "cell_type": "code",
   "execution_count": 28,
   "id": "f192acf3",
   "metadata": {},
   "outputs": [
    {
     "name": "stdout",
     "output_type": "stream",
     "text": [
      "(1, 2, 3, 4, 5)\n",
      "abc\n",
      "5\n",
      "b\n"
     ]
    }
   ],
   "source": [
    "# 튜플\n",
    "tuple1 = (1,2,3,4,5)\n",
    "tuple2 =('a','b','c')\n",
    "tuple3=(1,'a','abc',[1,2,3,4,5],['a','b','c'])\n",
    "\n",
    "print(tuple1[:])\n",
    "print(tuple3[2])\n",
    "print(tuple3[3][4])\n",
    "print(tuple3[4][1])"
   ]
  },
  {
   "cell_type": "code",
   "execution_count": 29,
   "id": "ec8d893b",
   "metadata": {},
   "outputs": [
    {
     "name": "stdout",
     "output_type": "stream",
     "text": [
      "[6, 2, 3, 4, 5]\n"
     ]
    }
   ],
   "source": [
    "#리스트 수정 가능\n",
    "list1=[1,2,3,4,5]\n",
    "list1[0]=6\n",
    "print(list1)"
   ]
  },
  {
   "cell_type": "code",
   "execution_count": 30,
   "id": "2735bdf9",
   "metadata": {},
   "outputs": [
    {
     "ename": "TypeError",
     "evalue": "'tuple' object does not support item assignment",
     "output_type": "error",
     "traceback": [
      "\u001b[1;31m---------------------------------------------------------------------------\u001b[0m",
      "\u001b[1;31mTypeError\u001b[0m                                 Traceback (most recent call last)",
      "\u001b[1;32m~\\AppData\\Local\\Temp/ipykernel_4212/191414519.py\u001b[0m in \u001b[0;36m<module>\u001b[1;34m\u001b[0m\n\u001b[0;32m      2\u001b[0m \u001b[1;31m#튜플은 값 변경 불가능\u001b[0m\u001b[1;33m\u001b[0m\u001b[1;33m\u001b[0m\u001b[1;33m\u001b[0m\u001b[0m\n\u001b[0;32m      3\u001b[0m \u001b[0mtouple1\u001b[0m\u001b[1;33m=\u001b[0m\u001b[1;33m(\u001b[0m\u001b[1;36m1\u001b[0m\u001b[1;33m,\u001b[0m\u001b[1;36m2\u001b[0m\u001b[1;33m,\u001b[0m\u001b[1;36m3\u001b[0m\u001b[1;33m,\u001b[0m\u001b[1;36m4\u001b[0m\u001b[1;33m,\u001b[0m\u001b[1;36m5\u001b[0m\u001b[1;33m)\u001b[0m\u001b[1;33m\u001b[0m\u001b[1;33m\u001b[0m\u001b[0m\n\u001b[1;32m----> 4\u001b[1;33m \u001b[0mtouple1\u001b[0m\u001b[1;33m[\u001b[0m\u001b[1;36m0\u001b[0m\u001b[1;33m]\u001b[0m\u001b[1;33m=\u001b[0m\u001b[1;36m6\u001b[0m\u001b[1;33m\u001b[0m\u001b[1;33m\u001b[0m\u001b[0m\n\u001b[0m\u001b[0;32m      5\u001b[0m \u001b[0mprint\u001b[0m\u001b[1;33m(\u001b[0m\u001b[0mtouple1\u001b[0m\u001b[1;33m)\u001b[0m\u001b[1;33m\u001b[0m\u001b[1;33m\u001b[0m\u001b[0m\n",
      "\u001b[1;31mTypeError\u001b[0m: 'tuple' object does not support item assignment"
     ]
    }
   ],
   "source": [
    "#항상 변하지 않는 값을 프로그래밍 할떄 사용\n",
    "#튜플은 값 변경 불가능\n",
    "touple1=(1,2,3,4,5)\n",
    "touple1[0]=6\n",
    "print(touple1)"
   ]
  },
  {
   "cell_type": "code",
   "execution_count": 31,
   "id": "272afe39",
   "metadata": {},
   "outputs": [
    {
     "name": "stdout",
     "output_type": "stream",
     "text": [
      "(1,)\n",
      "(1, 2, 3)\n",
      "(1, 2, 3, 1, 2, 3, 1, 2, 3)\n",
      "(1, 1, 2, 3)\n",
      "(1,)\n"
     ]
    },
    {
     "data": {
      "text/plain": [
       "tuple"
      ]
     },
     "execution_count": 31,
     "metadata": {},
     "output_type": "execute_result"
    }
   ],
   "source": [
    "t1=(1,) # 1개의 요소만 가질 경우에도 콤마 필수\n",
    "print(t1)\n",
    "t2=1,2,3 #괄호없어도 상관없음\n",
    "print(t2)\n",
    "print(t2*3)\n",
    "t3=t1+t2\n",
    "print(t3)\n",
    "t4=1,\n",
    "print(t4)\n",
    "type(t4)"
   ]
  },
  {
   "cell_type": "code",
   "execution_count": 22,
   "id": "1f6259a7",
   "metadata": {},
   "outputs": [
    {
     "name": "stdout",
     "output_type": "stream",
     "text": [
      "1\n",
      "{'a': 1, 'b': 5, '3': 3}\n"
     ]
    }
   ],
   "source": [
    "#자료형 사전(키와 값이 하나의 요소로 하며 순서가 없음)\n",
    "d1={'a':1,'b':2,'3':3}\n",
    "print(d1['a'])\n",
    "d1['b']=5\n",
    "print(d1)"
   ]
  },
  {
   "cell_type": "code",
   "execution_count": 32,
   "id": "5753ef73",
   "metadata": {},
   "outputs": [
    {
     "name": "stdout",
     "output_type": "stream",
     "text": [
      "dict_keys([1, 2, 3])\n",
      "dict_values(['수박', '배', '사과'])\n",
      "dict_keys([2, 3])\n"
     ]
    }
   ],
   "source": [
    "d2={1:\"수박\",2:\"배\",3:\"사과\"}\n",
    "print(d2.keys())\n",
    "print(d2.values())\n",
    "del d2[1]\n",
    "print(d2.keys())\n",
    "# 키 값"
   ]
  },
  {
   "cell_type": "code",
   "execution_count": 11,
   "id": "8bfd070d",
   "metadata": {},
   "outputs": [
    {
     "name": "stdout",
     "output_type": "stream",
     "text": [
      "dict_keys([1, 2, 3])\n",
      "dict_values(['수박', '배', '사과'])\n",
      "dict_items([(1, '수박'), (2, '배'), (3, '사과')])\n"
     ]
    },
    {
     "ename": "TypeError",
     "evalue": "'dict' object is not callable",
     "output_type": "error",
     "traceback": [
      "\u001b[1;31m---------------------------------------------------------------------------\u001b[0m",
      "\u001b[1;31mTypeError\u001b[0m                                 Traceback (most recent call last)",
      "\u001b[1;32m~\\AppData\\Local\\Temp/ipykernel_18292/3252436236.py\u001b[0m in \u001b[0;36m<module>\u001b[1;34m\u001b[0m\n\u001b[0;32m      3\u001b[0m \u001b[0mprint\u001b[0m\u001b[1;33m(\u001b[0m\u001b[0md1\u001b[0m\u001b[1;33m.\u001b[0m\u001b[0mvalues\u001b[0m\u001b[1;33m(\u001b[0m\u001b[1;33m)\u001b[0m\u001b[1;33m)\u001b[0m\u001b[1;33m\u001b[0m\u001b[1;33m\u001b[0m\u001b[0m\n\u001b[0;32m      4\u001b[0m \u001b[0mprint\u001b[0m\u001b[1;33m(\u001b[0m\u001b[0md1\u001b[0m\u001b[1;33m.\u001b[0m\u001b[0mitems\u001b[0m\u001b[1;33m(\u001b[0m\u001b[1;33m)\u001b[0m\u001b[1;33m)\u001b[0m\u001b[1;33m\u001b[0m\u001b[1;33m\u001b[0m\u001b[0m\n\u001b[1;32m----> 5\u001b[1;33m \u001b[0mprint\u001b[0m\u001b[1;33m(\u001b[0m\u001b[0md1\u001b[0m\u001b[1;33m(\u001b[0m\u001b[1;36m1\u001b[0m\u001b[1;33m)\u001b[0m\u001b[1;33m)\u001b[0m\u001b[1;33m\u001b[0m\u001b[1;33m\u001b[0m\u001b[0m\n\u001b[0m",
      "\u001b[1;31mTypeError\u001b[0m: 'dict' object is not callable"
     ]
    }
   ],
   "source": [
    "d1={1:\"수박\",2:\"배\",3:\"사과\"}\n",
    "print(d1.keys())\n",
    "print(d1.values())\n",
    "print(d1.items())\n",
    "print(d1(1))"
   ]
  },
  {
   "cell_type": "code",
   "execution_count": 33,
   "id": "28e36e90",
   "metadata": {},
   "outputs": [
    {
     "name": "stdout",
     "output_type": "stream",
     "text": [
      "{1, 2, 3, 4, 5}\n",
      "{'o', 'e', 'l', 'H'}\n"
     ]
    }
   ],
   "source": [
    "# 자료형 집합,set(\"중복을 허용하지 않으며\" 순서가 없다.)\n",
    "s1=set([1,2,5,4,3])\n",
    "s2=set('Hello')\n",
    "print(s1)\n",
    "print(s2)"
   ]
  },
  {
   "cell_type": "code",
   "execution_count": 34,
   "id": "5cfebaea",
   "metadata": {},
   "outputs": [
    {
     "name": "stdout",
     "output_type": "stream",
     "text": [
      "2\n",
      "e\n"
     ]
    }
   ],
   "source": [
    "#집합은 인덱싱으로 값을 얻을수 없으며 각각 리스트와 튜플로 변환 후 인덱싱\n",
    "l1=list(s1)\n",
    "print(l1[1])\n",
    "l2=list(s2)\n",
    "print(l2[1])"
   ]
  },
  {
   "cell_type": "markdown",
   "id": "2ed918b3",
   "metadata": {},
   "source": [
    "list\n",
    "tuple\n",
    "dic\n",
    "set\n",
    "\n"
   ]
  },
  {
   "cell_type": "code",
   "execution_count": 35,
   "id": "91ba048b",
   "metadata": {},
   "outputs": [
    {
     "name": "stdout",
     "output_type": "stream",
     "text": [
      "[7, 8, 9, 0]\n"
     ]
    }
   ],
   "source": [
    "list1=[1,2,3,4,5,6]\n",
    "tuple1=(\"q\",\"w\",\"e\",\"r\",\"t\",\"y\")\n",
    "dic1={1:\"a\",2:\"b\"}\n",
    "set1=([7,8,9,0])\n",
    "print(list(set1))"
   ]
  },
  {
   "cell_type": "code",
   "execution_count": null,
   "id": "1ae72a51",
   "metadata": {},
   "outputs": [],
   "source": [
    "s1=set([1,2,3,4,5,6])\n",
    "s2=set([4,5,6,7,8,9])\n",
    "print(list(s1|s2)) #합  or\n",
    "print(list(s1&s2)) #교 and\n",
    "s3=list(s1)\n",
    "print(s3)\n"
   ]
  },
  {
   "cell_type": "code",
   "execution_count": null,
   "id": "0dca2637",
   "metadata": {},
   "outputs": [],
   "source": [
    "#들여쓰기\n",
    "\n",
    "li=['a','b','c']\n",
    "if 'a' in li:\n",
    "    print(\"a가 li에 있습니다.\")\n",
    "else:\n",
    "    print(\"a가 li에 있습니다.\")"
   ]
  },
  {
   "cell_type": "code",
   "execution_count": 307,
   "id": "99c94268",
   "metadata": {},
   "outputs": [
    {
     "data": {
      "text/plain": [
       "'나의 이름은hong gilldonh입니다. 나이는 30입니다.'"
      ]
     },
     "execution_count": 307,
     "metadata": {},
     "output_type": "execute_result"
    }
   ],
   "source": [
    "# 문자열 포멧\n",
    "name='hong gilldonh'\n",
    "age = 30\n",
    "f'나의 이름은{name}입니다. 나이는 {age}입니다.'"
   ]
  },
  {
   "cell_type": "code",
   "execution_count": null,
   "id": "0db94384",
   "metadata": {},
   "outputs": [],
   "source": [
    "d={'name':\"홍길동\",'age':30}\n",
    "f'나의 이름은{d[\"name\"]}입니다. 나이는 {d[\"age\"]}입니다.'"
   ]
  },
  {
   "cell_type": "code",
   "execution_count": null,
   "id": "808bbe34",
   "metadata": {},
   "outputs": [],
   "source": [
    "y=3.42134234\n",
    "print(f'{y:0.4f}')\n",
    "print(f'{y:10.4f}')"
   ]
  },
  {
   "cell_type": "code",
   "execution_count": null,
   "id": "39cf7b8d",
   "metadata": {},
   "outputs": [],
   "source": [
    "#포맷함수\n",
    "f1=\"{} 선수가 {}등입니다.\".format(\"홍길동\",1)\n",
    "print(f1)\n",
    "print(\"%s 선수가 %d등입니다,\"%(\"홍길동\",1))"
   ]
  },
  {
   "cell_type": "code",
   "execution_count": null,
   "id": "476869dc",
   "metadata": {},
   "outputs": [],
   "source": [
    "f1=\"{}은 {}보다 {}배 쉽습니다\".format(\"파이썬\",\"자바\",2)\n",
    "print(f1)\n",
    "print(\"%s은 보다 배 쉅습니다.\"%2)"
   ]
  },
  {
   "cell_type": "code",
   "execution_count": null,
   "id": "f23eaa49",
   "metadata": {},
   "outputs": [],
   "source": [
    "#[과제]\n",
    "num1=12345\n",
    "print(num1)\n",
    "print(f'{num1:10d}')\n",
    "num2=12.345679\n",
    "print(num2)\n",
    "print(f'{num2:16.3f}')\n",
    "print(\"%16.3f\"%num2)"
   ]
  },
  {
   "cell_type": "markdown",
   "id": "73f2a5fe",
   "metadata": {},
   "source": [
    "# 자료구조 전환\n",
    "https://statools.tistory.com/301"
   ]
  },
  {
   "cell_type": "code",
   "execution_count": null,
   "id": "a58a4070",
   "metadata": {},
   "outputs": [],
   "source": [
    "i= 5,000,000\n",
    "e=3,000,000\n",
    "if i>e:\n",
    "    print(\"저축 증가\")\n",
    "elif i<e:\n",
    "    print(\"빛이 증가\")\n",
    "else:\n",
    "    print(\"현상 유지\")"
   ]
  },
  {
   "cell_type": "code",
   "execution_count": 36,
   "id": "ca969030",
   "metadata": {},
   "outputs": [
    {
     "name": "stdout",
     "output_type": "stream",
     "text": [
      "5 15 6 20 7 25 "
     ]
    }
   ],
   "source": [
    "numbers=[5,15,6,20,7,25]\n",
    "for number in numbers:\n",
    "    print(number,end=' ')"
   ]
  },
  {
   "cell_type": "code",
   "execution_count": null,
   "id": "a0143446",
   "metadata": {},
   "outputs": [],
   "source": [
    "for i in range(1,10):\n",
    "    print(i)\n",
    "    if i<5 :\n",
    "        continue:\n",
    "    else:\n",
    "        break"
   ]
  },
  {
   "cell_type": "code",
   "execution_count": null,
   "id": "f838a976",
   "metadata": {},
   "outputs": [],
   "source": [
    "print(\"몫 :\",5//2)\n",
    "print(\"나머지 :\",5%2)"
   ]
  },
  {
   "cell_type": "code",
   "execution_count": null,
   "id": "ad2d71c3",
   "metadata": {},
   "outputs": [],
   "source": [
    "print(101**3)"
   ]
  },
  {
   "cell_type": "code",
   "execution_count": null,
   "id": "20ab7b98",
   "metadata": {},
   "outputs": [],
   "source": [
    "str1=\"Python\"\n",
    "str2=\"3.8.3\"\n",
    "print(str1+\" \"+str2)"
   ]
  },
  {
   "cell_type": "code",
   "execution_count": null,
   "id": "98bd43ae",
   "metadata": {},
   "outputs": [],
   "source": [
    "a=10\n",
    "a='10'\n",
    "a=15 #마지막에 정수형 타입이 들어옴\n",
    "type(a)"
   ]
  },
  {
   "cell_type": "code",
   "execution_count": null,
   "id": "42ca44a0",
   "metadata": {},
   "outputs": [],
   "source": [
    "tmp=5**3\n",
    "tmp%=3\n",
    "\n",
    "print(tmp)\n"
   ]
  },
  {
   "cell_type": "code",
   "execution_count": null,
   "id": "0bf38414",
   "metadata": {},
   "outputs": [],
   "source": [
    "name = input(\"이름을 써주세요:\")\n",
    "print(\"입력하신\"+name+\"이 맞습니까?\")\n"
   ]
  },
  {
   "cell_type": "code",
   "execution_count": null,
   "id": "a4686726",
   "metadata": {},
   "outputs": [],
   "source": [
    "num1=int(input(\"첫번째 숫자를 입력:\"))\n",
    "num2=int(input(\"두번째 숫자를 입력:\"))\n",
    "num3=int(input(\"세번째 숫자를 입력:\"))\n",
    "print(num1**num2//num3)"
   ]
  },
  {
   "cell_type": "code",
   "execution_count": null,
   "id": "dd907dfa",
   "metadata": {},
   "outputs": [],
   "source": [
    "x=1\n",
    "sum = 0\n",
    "while 1:\n",
    "    sum=sum+x\n",
    "    if sum>1000:\n",
    "        print(x)\n",
    "        print(sum)\n",
    "        break\n",
    "    x+=1\n"
   ]
  },
  {
   "cell_type": "code",
   "execution_count": null,
   "id": "49cde434",
   "metadata": {},
   "outputs": [],
   "source": [
    "for i in range(1,11):\n",
    "    print(i,end=' ')\n",
    "    if i<5:\n",
    "        continue\n",
    "    else:\n",
    "        break"
   ]
  },
  {
   "cell_type": "code",
   "execution_count": null,
   "id": "4f53965e",
   "metadata": {},
   "outputs": [],
   "source": [
    "for i in range(1,11):\n",
    "    print(i,end=' ')\n",
    "    if i < 5:\n",
    "        continue\n",
    "    else:\n",
    "        break"
   ]
  },
  {
   "cell_type": "code",
   "execution_count": null,
   "id": "f2689f48",
   "metadata": {},
   "outputs": [],
   "source": [
    "numbers=[5,15,6,20,7,25]\n",
    "for i in numbers:\n",
    "    if i >= 15:\n",
    "        print(i)"
   ]
  },
  {
   "cell_type": "code",
   "execution_count": null,
   "id": "5580d0b9",
   "metadata": {},
   "outputs": [],
   "source": [
    "x=1\n",
    "sum = 0\n",
    "while i<1000:\n",
    "    i+=1\n",
    "    if i%3==0:\n",
    "        sum+=i\n",
    "print(sum)"
   ]
  },
  {
   "cell_type": "code",
   "execution_count": null,
   "id": "bff300c5",
   "metadata": {},
   "outputs": [],
   "source": [
    "#과제 1부터 100까지의 정수중 5에서 95까지의 합\n",
    "num=1\n",
    "sum=0\n",
    "while num<=100:\n",
    "    num+=1\n",
    "    if 5<=num and num<=95:\n",
    "        sum+=num\n",
    "print(sum)\n",
    "    "
   ]
  },
  {
   "cell_type": "code",
   "execution_count": null,
   "id": "9067fdbc",
   "metadata": {},
   "outputs": [],
   "source": [
    "# [과제]\n",
    "# Q. while문을 사용해 1부터 1000까지의 정수 중 3과 5의 공배수의 합을 구해 보세요.\n",
    "num=1\n",
    "sum=0\n",
    "while num<=1000:\n",
    "    if(num%3==0 and num%5==0):\n",
    "        sum+=num\n",
    "    num += 1\n",
    "print(sum)"
   ]
  },
  {
   "cell_type": "code",
   "execution_count": null,
   "id": "52e5d562",
   "metadata": {},
   "outputs": [],
   "source": [
    "# [과제] 1부터 5까지 입력해서 12345를 출력하세요\n",
    "list=[]\n",
    "for i in range(0,5):\n",
    "    list.append(int(input()))\n",
    "for i in range(0,5):\n",
    "    print(list[i],end='')"
   ]
  },
  {
   "cell_type": "code",
   "execution_count": null,
   "id": "89bbfd07",
   "metadata": {},
   "outputs": [],
   "source": [
    "## [0,1,2,3,4,5,6,7,8,9,'a','b','c']에서 9와 'a'  삭제\n",
    "list=[0,1,2,3,4,5,6,7,8,9,'a','b','c']\n",
    "del list[9]\n",
    "del list[-3]\n",
    "print(list)"
   ]
  },
  {
   "cell_type": "code",
   "execution_count": null,
   "id": "2d5bd2d0",
   "metadata": {},
   "outputs": [],
   "source": [
    "# [과제] [0, 1, 2, 3, 4, 5, 6, 7, 8, 'b', 'c']에서 'c'를 삭제 후 출력하세요.\n",
    "list=[0,1,2,3,4,5,6,7,8,'b','c']\n",
    "del list[-1]\n",
    "print(list)"
   ]
  },
  {
   "cell_type": "code",
   "execution_count": null,
   "id": "aa02c249",
   "metadata": {},
   "outputs": [],
   "source": [
    "# [과제] [4, 8, 5, 4, 8, 4, 3, 9, 1, 9]를 내림차순으로 정렬하세요\n",
    "list=[4,8,5,4,8,4,8,4,3,9,1,9]\n",
    "list.sort()\n",
    "print(list)\n",
    "list.reverse()\n",
    "print(list)"
   ]
  },
  {
   "cell_type": "code",
   "execution_count": null,
   "id": "6695e41a",
   "metadata": {},
   "outputs": [],
   "source": [
    "# [과제] format 함수를 이용해서 다음과 같은 형식으로 현재 날짜/시간을 출력하세요\n",
    "import datetime\n",
    "t=datetime.datetime.now()\n",
    "time=\"{}년 {}월 {}일 {}시 {}분 {}초\".format(t.year,t.month,t.day,t.hour,t.minute,t.second)\n",
    "print(time)\n"
   ]
  },
  {
   "cell_type": "code",
   "execution_count": null,
   "id": "e908297e",
   "metadata": {},
   "outputs": [],
   "source": [
    "# [과제] 현재 시각을 오전과 오후로 구분하는 프로그램을 작성하세요.\n",
    "import datetime\n",
    "t=datetime.datetime.now()\n",
    "print(t)\n",
    "if t.hour<12:\n",
    "    print(\"오전입니다\")\n",
    "elif t.hour==12 and t.minute==0 and t.second==0:\n",
    "    print(\"정각입니다\")\n",
    "else:\n",
    "    print(\"오후입니다\")\n"
   ]
  },
  {
   "cell_type": "code",
   "execution_count": null,
   "id": "e8608da5",
   "metadata": {},
   "outputs": [],
   "source": [
    "# [과제] 정수를 입력하면 홀수 짝수를 판별하는 프로그램 작성\n",
    "num=input(\"정수를 입력하시오: \")\n",
    "num=int(num)\n",
    "if num%2==0 :\n",
    "    print(\"짝수 입니다\")\n",
    "else:\n",
    "    print(\"홀수 입니다\")"
   ]
  },
  {
   "cell_type": "code",
   "execution_count": null,
   "id": "75c6c8c0",
   "metadata": {},
   "outputs": [],
   "source": [
    "# [과제] 태어난 연도를 입력받아 띠를 출력하는 프로그램을 작성하세요.\n",
    "# 원숭이, 닭, 개, 돼지, 쥐, 소, 범, 토끼, 용, 뱀, 말, 양띠\n",
    "zodiac=['원숭이','닭','개','돼지','쥐','소','범','토끼','용','뱀','말','양띠']\n",
    "year=int(input(\"태어난 년도를 입력하세요: \"))\n",
    "print(zodiac[year%12]+\"의 해에 태어나셨습니다.\")\n"
   ]
  },
  {
   "cell_type": "code",
   "execution_count": null,
   "id": "cbdfcc19",
   "metadata": {},
   "outputs": [],
   "source": [
    "import datetime\n",
    "t=datetime.datetime.now()\n",
    "print(t.month)\n",
    "month=int(t.month)\n",
    "print(month)\n",
    "print(type(month))\n",
    "if month >= 11 or month <= 1:\n",
    "    print(\"현재는 겨울 입니다.\")\n",
    "elif month >= 2 and month <=4:\n",
    "    print(\"현재는 봄 입니다.\")\n",
    "elif month >= 5 and month <=7:\n",
    "    print(\"현재는 여름 입니다.\")\n",
    "elif month >= 8 and month <=10:\n",
    "    print(\"현재는 가을 입니다\")\n"
   ]
  },
  {
   "cell_type": "code",
   "execution_count": null,
   "id": "bac6ec1a",
   "metadata": {},
   "outputs": [],
   "source": [
    "# [과제] 람다 함수를 이용해서 a의 b제곱을 구하는 식을 만들고\n",
    "# a, b가 아래와 같이 주어졌을 때 각각의 값을 구하세요. \n",
    "# a = 2, b = 5\n",
    "# a= 5, b = 2\n",
    "#수정보완필요\n",
    "\n",
    "process = lambda num1,num2:num1**num2\n",
    "print(process(2,5))\n",
    "print(process(5,2))"
   ]
  },
  {
   "cell_type": "code",
   "execution_count": null,
   "id": "31384c21",
   "metadata": {},
   "outputs": [],
   "source": []
  },
  {
   "cell_type": "code",
   "execution_count": null,
   "id": "c953e07b",
   "metadata": {
    "scrolled": true
   },
   "outputs": [],
   "source": [
    "#[과제] 커피 자판기 프로그램\n",
    "coffee=5\n",
    "\n",
    "money=int(input(\"자판기에 넣을 금액: \"))\n",
    "while 1:\n",
    "    print(\"(1)커피1회 뽑기, (2)거스름돈 받기(종료), (3)추가금액 \")\n",
    "    choice=int(input(\"선택:\"))\n",
    "    if choice==1:\n",
    "        if coffee==0 or money<300 :\n",
    "            if money==0:\n",
    "                print(\"현재 잔액이 존재하지 않습니다.\")\n",
    "            elif money<300:\n",
    "                print(\"돈이 부족합니다 현재 잔액은 %d원 입니다. (2)거스름돈 (3)추가금액을 선택하세요\"%money)\n",
    "            if coffee==0:\n",
    "                print(\"커피가 더이상 존재하지 않습니다\")\n",
    "                break\n",
    "        else: \n",
    "            money-=300\n",
    "            coffee-=1\n",
    "            print(\"커피가 나왔습니다. 남은 커피는 %d잔 이고 잔액은 %d원 입니다\"%(coffee,money))\n",
    "            if money==0:\n",
    "                print(\"현재 잔액이 존재하지 않습니다.\")\n",
    "            if coffee==0:\n",
    "                print(\"현재 커피가 마지막 커피 입니다.\")\n",
    "    elif choice==2:\n",
    "        print(\"거스름돈은 %d입니다.\"%money)\n",
    "        break\n",
    "    elif choice==3:\n",
    "        temp=int(input(\"추가 금액을 입력해주세요. \"))\n",
    "        money+=temp;\n",
    "        print(\"추가금액 %d 넣으셨으며, 현재 잔액은 %d원 입니다.\"%(temp,money))\n",
    "    else:\n",
    "        print(\"잘못된 값을 입력하였습니다.\")\n"
   ]
  },
  {
   "cell_type": "code",
   "execution_count": null,
   "id": "9cb2a539",
   "metadata": {},
   "outputs": [],
   "source": [
    "def cal_abc (a,b,c):\n",
    "    return((a+b)%c)\n",
    "print(cal_abc(2,5,3))"
   ]
  },
  {
   "cell_type": "code",
   "execution_count": null,
   "id": "37e88850",
   "metadata": {},
   "outputs": [],
   "source": [
    "#문자열 공백제거 아래와 같이 출력\n",
    "input_a = \"\"\"\n",
    "                       It is true\n",
    "'Python is fit for data analysis'\n",
    "\"\"\"\n",
    "print(input_a.strip())\n"
   ]
  },
  {
   "cell_type": "code",
   "execution_count": null,
   "id": "e68285f5",
   "metadata": {},
   "outputs": [],
   "source": [
    "#\"10/20/30/40/50\" '/' 기준으로 자르세요\n",
    "str1=\"10/20/30/40/50\"\n",
    "print(str1.split('/'))\n",
    "str2=\"10,20,30,40,50\"\n",
    "print(str2.split(','))"
   ]
  },
  {
   "cell_type": "code",
   "execution_count": null,
   "id": "1b6b557e",
   "metadata": {},
   "outputs": [],
   "source": [
    "# \n",
    "num1 = int(input())\n",
    "num2 = int(input())\n",
    "if num1%2==0 and num2%2==0 :\n",
    "    print(num1*num2)\n",
    "elif num1%2 != 0 and num2%2 != 0:\n",
    "    print(num1+num2)\n",
    "else:\n",
    "    print(\"다시 입력하세요\")\n",
    "    "
   ]
  },
  {
   "cell_type": "code",
   "execution_count": 27,
   "id": "20e3b4f5",
   "metadata": {},
   "outputs": [
    {
     "name": "stdout",
     "output_type": "stream",
     "text": [
      "2500\n"
     ]
    }
   ],
   "source": [
    "#과제\n",
    "Max = 0\n",
    "for i in range(1,100):\n",
    "    tmp = i*(100-i)\n",
    "    if tmp > Max:\n",
    "        Max=tmp\n",
    "print(Max)"
   ]
  },
  {
   "cell_type": "code",
   "execution_count": null,
   "id": "d76a45e1",
   "metadata": {},
   "outputs": [],
   "source": [
    "def findBiggestOne():\n",
    "    biggestNum = 0\n",
    "    for i,j in zip(range(1,100), range(99,0,-1)):\n",
    "        if i*j >biggestNum:\n",
    "            biggestNum = i*j\n",
    "    return biggestNum\n",
    "print(findBiggestOne())\n"
   ]
  },
  {
   "cell_type": "code",
   "execution_count": 30,
   "id": "cbd04d8a",
   "metadata": {},
   "outputs": [
    {
     "name": "stdout",
     "output_type": "stream",
     "text": [
      "[[1, 4, 7], [2, 5, 8], [3, 6, 9]]\n"
     ]
    }
   ],
   "source": [
    "#과제\n",
    "numbers=[1,2,3,4,5,6,7,8,9]\n",
    "output=[[],[],[]]\n",
    "for number in numbers:\n",
    "    output[(number-1)%3].append(number) #index\n",
    "print(output)"
   ]
  },
  {
   "cell_type": "code",
   "execution_count": null,
   "id": "6c5bfb49",
   "metadata": {},
   "outputs": [],
   "source": [
    "import numpy as np\n",
    "np.random.seed(0) #중복제거\n",
    "num=np.random.randint(10,size=10)\n",
    "num"
   ]
  },
  {
   "cell_type": "raw",
   "id": "bd02c45e",
   "metadata": {},
   "source": [
    "https://codedrive.tistory.com/?page=91"
   ]
  },
  {
   "cell_type": "code",
   "execution_count": 34,
   "id": "264f76cd",
   "metadata": {},
   "outputs": [
    {
     "name": "stdout",
     "output_type": "stream",
     "text": [
      "로또 추첨 횟수를 입력하세요. 6\n",
      "1번째 추천 번호는 [17, 28, 34, 30, 31, 37] 입니다. 보너스 번호는 36입니다.\n",
      "2번째 추천 번호는 [38, 25, 20, 19, 31, 45] 입니다. 보너스 번호는 1입니다.\n",
      "3번째 추천 번호는 [45, 18, 1, 11, 7, 28] 입니다. 보너스 번호는 44입니다.\n",
      "4번째 추천 번호는 [28, 23, 12, 35, 8, 36] 입니다. 보너스 번호는 4입니다.\n",
      "5번째 추천 번호는 [37, 4, 16, 26, 11, 20] 입니다. 보너스 번호는 36입니다.\n",
      "6번째 추천 번호는 [21, 45, 31, 39, 43, 35] 입니다. 보너스 번호는 23입니다.\n"
     ]
    }
   ],
   "source": [
    "#과제 사용자가 입력한  개임 횟수만큼 로도 번호 출력하는 프로그램\n",
    "import numpy as np\n",
    "lotto=[]\n",
    "count=0\n",
    "num = int(input(\"로또 추첨 횟수를 입력하세요. \"))\n",
    "for i in range(0,num):\n",
    "    while count != 8:\n",
    "        temp = int(np.random.randint(46))\n",
    "        if temp not in lotto:\n",
    "            lotto.append(temp)\n",
    "            count+=1\n",
    "        elif temp in lotto:\n",
    "            continue \n",
    "    count=0\n",
    "    print(f'{i+1}번째 추천 번호는 {lotto[0:6]} 입니다. 보너스 번호는 {lotto[7]}입니다.')\n",
    "    lotto.clear()"
   ]
  },
  {
   "cell_type": "code",
   "execution_count": 3,
   "id": "42405712",
   "metadata": {},
   "outputs": [
    {
     "name": "stdout",
     "output_type": "stream",
     "text": [
      "로또 횟수를 입력하세요>1\n",
      "it is [1, 2, 3, 4, 5, 6, 7, 8, 9, 10, 11, 12, 13, 14, 15, 16, 17, 18, 19, 20, 21, 22, 23, 24, 25, 26, 27, 28, 29, 30, 31, 32, 33, 34, 35, 36, 37, 38, 39, 40, 41, 42, 43, 44, 45] suffle is [30, 15, 33, 18, 11, 4, 21, 45, 39, 43, 13, 2, 34, 29, 6, 1, 20, 8, 17, 3, 9, 19, 5, 36, 23, 38, 41, 25, 10, 37, 26, 7, 16, 42, 40, 28, 32, 14, 35, 44, 31, 12, 24, 22, 27] suffle is [14, 35, 18, 5, 25, 30, 19, 11, 28, 26, 44, 45, 42, 40, 8, 2, 4, 13, 10, 12, 34, 16, 6, 22, 39, 7, 20, 38, 21, 32, 43, 15, 9, 17, 41, 31, 29, 33, 3, 23, 24, 36, 1, 37] suffle is [20, 9, 43, 19, 21, 16, 7, 45, 28, 34, 42, 24, 41, 13, 12, 17, 8, 11, 38, 2, 4, 10, 33, 40, 22, 23, 1, 15, 30, 31, 32, 39, 29, 26, 25, 18, 35, 5, 6, 36, 44, 3, 14] suffle is [39, 25, 6, 16, 10, 30, 32, 20, 44, 43, 12, 41, 18, 4, 11, 31, 23, 7, 29, 45, 2, 21, 22, 24, 8, 9, 1, 36, 28, 17, 40, 13, 34, 19, 35, 26, 5, 33, 42, 15, 38, 3] suffle is [13, 10, 36, 20, 41, 4, 38, 34, 25, 28, 8, 45, 5, 16, 2, 26, 40, 1, 19, 33, 6, 7, 12, 35, 30, 21, 15, 9, 31, 22, 32, 18, 39, 42, 44, 11, 24, 23, 43, 17, 29] suffle is [15, 1, 36, 33, 38, 39, 16, 13, 28, 42, 10, 30, 5, 40, 20, 9, 44, 41, 7, 4, 32, 24, 17, 12, 43, 8, 45, 35, 26, 34, 18, 2, 19, 6, 11, 22, 25, 31, 21, 23] [3, 14, 23, 27, 29, 37]\n"
     ]
    }
   ],
   "source": [
    "from random import shuffle\n",
    "from time import sleep\n",
    "\n",
    "gnum = int(input('로또 횟수를 입력하세요>'))\n",
    "for i in range(gnum):\n",
    "    it=[x+1 for x in range(45)]\n",
    "    ret = []\n",
    "    print(f'it is {it}',end=' ')\n",
    "    for j in range(6):\n",
    "        shuffle(it)\n",
    "        print(f'suffle is {it}',end=' ')\n",
    "        num=it.pop()\n",
    "        ret.append(num)\n",
    "        ret.sort()\n",
    "    print(ret)\n",
    "    sleep(1)"
   ]
  },
  {
   "cell_type": "code",
   "execution_count": 37,
   "id": "0a6cd88f",
   "metadata": {},
   "outputs": [
    {
     "name": "stdout",
     "output_type": "stream",
     "text": [
      "[4]\n",
      "[4, 3]\n",
      "[4, 3, 2]\n",
      "[4, 3, 2, 1]\n",
      "[4, 3, 2, 1, 0]\n",
      "[0]\n",
      "[0, 1]\n",
      "[0, 1, 4]\n",
      "[0, 1, 4, 2]\n",
      "[0, 1, 4, 2, 3]\n"
     ]
    }
   ],
   "source": [
    "# [과제] 남녀 파트너 정해주기 프로그램을 작성하세요(5개 커플)import numpy as np\n",
    "#랜덤 셔플\n",
    "import numpy as np\n",
    "man=[\"a\",\"b\",\"c\",\"d\",\"e\",\"f\"]\n",
    "girl=[\"q\",\"w\",\"e\",\"r\",\"t\"]\n",
    "mChoice=[]\n",
    "gChoice=[]\n",
    "count=0\n",
    "while count != 5:\n",
    "    temp = int(np.random.randint(5))\n",
    "    if temp not in mChoice:\n",
    "        mChoice.append(temp)\n",
    "        count+=1\n",
    "        print(mChoice)\n",
    "    elif temp in mChoice:\n",
    "        continue \n",
    "count =0\n",
    "while count != 5: \n",
    "    temp = int(np.random.randint(5))\n",
    "    if temp not in gChoice:\n",
    "        gChoice.append(temp)\n",
    "        count+=1\n",
    "        print(gChoice)\n",
    "    elif temp in gChoice:\n",
    "        continue  \n",
    "  "
   ]
  },
  {
   "cell_type": "code",
   "execution_count": 26,
   "id": "1f929ae5",
   "metadata": {},
   "outputs": [
    {
     "name": "stdout",
     "output_type": "stream",
     "text": [
      "첫번째남성 참여자의 이름을 입력하세요 : 123\n",
      "두번째남성 참여자의 이름을 입력하세요 : 123\n",
      "세번째남성 참여자의 이름을 입력하세요 : 124\n",
      "네번째남성 참여자의 이름을 입력하세요 : 125\n",
      "다섯번째남성 참여자의 이름을 입력하세요 : 123\n",
      "\n",
      "첫번째여성 참여자의 이름을 입력하세요 : 123213\n",
      "두번째여성 참여자의 이름을 입력하세요 : 125\n",
      "세번째여성 참여자의 이름을 입력하세요 : 125\n",
      "네번째여성 참여자의 이름을 입력하세요 : 12521\n",
      "다섯번째여성 참여자의 이름을 입력하세요 : 5\n",
      "123와 125 [은/는] 첫번째번째 파트너 입니다\n",
      "123와 125 [은/는] 두번째번째 파트너 입니다\n",
      "125와 123213 [은/는] 세번째번째 파트너 입니다\n",
      "124와 12521 [은/는] 네번째번째 파트너 입니다\n",
      "123와 5 [은/는] 다섯번째번째 파트너 입니다\n"
     ]
    }
   ],
   "source": [
    "## [과제] 남녀 파트너 정해주기 프로그램을 작성하세요(5개 커플)\n",
    "import random\n",
    "listMan=[]\n",
    "listGirl=[]\n",
    "order={1:\"첫번째\",2:\"두번째\",3:\"세번째\",4:\"네번째\",5:\"다섯번째\"}\n",
    "for i in range(0,5):\n",
    "    listMan.append(input(f'{order[i+1]} 남성 참여자의 이름을 입력하세요 : '))\n",
    "print()\n",
    "for i in range(0,5):\n",
    "    listGirl.append(input(f'{order[i+1]} 여성 참여자의 이름을 입력하세요 : '))\n",
    "random.shuffle(listMan)\n",
    "random.shuffle(listGirl)\n",
    "for i in range (5):\n",
    "    print(f'{listMan[i]}와 {listGirl[i]}는 {order[i+1]} 파트너 입니다')\n",
    " "
   ]
  },
  {
   "cell_type": "code",
   "execution_count": 41,
   "id": "959d1898",
   "metadata": {},
   "outputs": [
    {
     "name": "stdout",
     "output_type": "stream",
     "text": [
      "['2', '4', '1', '5', '3'] ['d', 'c', 'a', 'b', 'e']\n"
     ]
    }
   ],
   "source": [
    "import random\n",
    "m=list('12345')\n",
    "f=list('abcde')\n",
    "random.shuffle(m)\n",
    "random.shuffle(f)\n",
    "print(m,f)"
   ]
  },
  {
   "cell_type": "code",
   "execution_count": 8,
   "id": "3e06e39d",
   "metadata": {},
   "outputs": [
    {
     "name": "stdout",
     "output_type": "stream",
     "text": [
      "sdssda\n",
      "sdssda\n",
      "sdssda\n",
      "sdssda\n",
      "sdssda\n"
     ]
    }
   ],
   "source": [
    "list=[]\n",
    "for i in range(0,5):\n",
    "    list.append(input(\"sdssd\"))\n",
    "    "
   ]
  },
  {
   "cell_type": "code",
   "execution_count": 3,
   "id": "f1b8deb6",
   "metadata": {},
   "outputs": [
    {
     "name": "stdout",
     "output_type": "stream",
     "text": [
      "1 [와/과] e [은/는] 1번째 파트너 입니다\n",
      "5 [와/과] b [은/는] 2번째 파트너 입니다\n",
      "3 [와/과] a [은/는] 3번째 파트너 입니다\n",
      "4 [와/과] c [은/는] 4번째 파트너 입니다\n",
      "2 [와/과] d [은/는] 5번째 파트너 입니다\n"
     ]
    }
   ],
   "source": [
    "## [과제] 남녀 파트너 정해주기 프로그램을 작성하세요(5개 커플)\n",
    "import random\n",
    "listMan=['1','2','3','4','5']\n",
    "listGirl=['a','b','c','d','e']\n",
    "\n",
    "random.shuffle(listMan)\n",
    "random.shuffle(listGirl)\n",
    "for i in range (5):\n",
    "    print(f'{listMan[i]} [와/과] {listGirl[i]} [은/는] {i+1}번째 파트너 입니다')\n",
    " "
   ]
  },
  {
   "cell_type": "code",
   "execution_count": 42,
   "id": "3f2deff6",
   "metadata": {},
   "outputs": [
    {
     "data": {
      "text/plain": [
       "[1, 2, 3, 1]"
      ]
     },
     "execution_count": 42,
     "metadata": {},
     "output_type": "execute_result"
    }
   ],
   "source": [
    "list=[1,2,3,4]\n",
    "list[0]\n",
    "del list[3]\n",
    "list.insert(3,1)\n",
    "list"
   ]
  },
  {
   "cell_type": "code",
   "execution_count": null,
   "id": "bf01bc50",
   "metadata": {},
   "outputs": [],
   "source": [
    "text = input('문장을 입력하세요> ')\n",
    "ret = ''\n",
    "for i in range(len(text)):\n",
    "    if i != len(text)-1:\n",
    "        ret += text[i+1]\n",
    "    else:\n",
    "        ret += text[0]\n",
    "print(ret)"
   ]
  },
  {
   "cell_type": "code",
   "execution_count": null,
   "id": "fc2a53ef",
   "metadata": {},
   "outputs": [
    {
     "name": "stdout",
     "output_type": "stream",
     "text": [
      "♣♣♣중앙 식당에 오신 것을 환영합니다♣♣♣\n",
      "\n",
      "========================================\n",
      "\n",
      "          - 메  뉴 -\n",
      "          \n",
      "    1. 불고기 비빔밥 : 12,000원\n",
      "    2. 야채 비빔밥 : 8,000원\n",
      "    3. 전주 비빔밥 : 10,000원\n",
      "\n",
      "    세트 주문시 : 3000원 추가\n",
      "    (세트는 밥과 반찬이 추가됩니다.)\n",
      "\n",
      "========================================\n",
      "\n",
      "■장바구니\n",
      " 불고기 비빔밥 0개: 0원\n",
      " 불고기 비빔밥 세트 0개: 0원\n",
      " 야채 비빔밥 0개: 0원\n",
      " 야채 비빔밥 세트 0개: 0원\n",
      " 전주 비빔밥 0개: 0원\n",
      " 전주 비빔밥 세트 0개: 0원\n",
      " 총 금액 0원\n",
      "\n",
      "●주문할 메뉴를 골라주세요. (불고기 비빔밥:1, 야채 비빔밥:2, 전주 비빔밥:3, 전체 취소:0, 주문확정:주문)\n",
      "1\n",
      "\n",
      "●3000원을 추가해 세트(밥, 반찬 추가)로 주문하시겠습니까? (일반주문시:n, 세트주문시:y, 이외는 취소)\n",
      "s\n",
      "\u001b[31m\n",
      "★취소 되었습니다. 초기 화면으로 돌아갑니다★\n",
      "\u001b[0m\n",
      "♣♣♣중앙 식당에 오신 것을 환영합니다♣♣♣\n",
      "\n",
      "========================================\n",
      "\n",
      "          - 메  뉴 -\n",
      "          \n",
      "    1. 불고기 비빔밥 : 12,000원\n",
      "    2. 야채 비빔밥 : 8,000원\n",
      "    3. 전주 비빔밥 : 10,000원\n",
      "\n",
      "    세트 주문시 : 3000원 추가\n",
      "    (세트는 밥과 반찬이 추가됩니다.)\n",
      "\n",
      "========================================\n",
      "\n",
      "■장바구니\n",
      " 불고기 비빔밥 0개: 0원\n",
      " 불고기 비빔밥 세트 0개: 0원\n",
      " 야채 비빔밥 0개: 0원\n",
      " 야채 비빔밥 세트 0개: 0원\n",
      " 전주 비빔밥 0개: 0원\n",
      " 전주 비빔밥 세트 0개: 0원\n",
      " 총 금액 0원\n",
      "\n",
      "●주문할 메뉴를 골라주세요. (불고기 비빔밥:1, 야채 비빔밥:2, 전주 비빔밥:3, 전체 취소:0, 주문확정:주문)\n",
      "주문\n",
      "\u001b[31m\n",
      "★메뉴를 고르고 주문해주세요!★\n",
      "\u001b[0m\n",
      "♣♣♣중앙 식당에 오신 것을 환영합니다♣♣♣\n",
      "\n",
      "========================================\n",
      "\n",
      "          - 메  뉴 -\n",
      "          \n",
      "    1. 불고기 비빔밥 : 12,000원\n",
      "    2. 야채 비빔밥 : 8,000원\n",
      "    3. 전주 비빔밥 : 10,000원\n",
      "\n",
      "    세트 주문시 : 3000원 추가\n",
      "    (세트는 밥과 반찬이 추가됩니다.)\n",
      "\n",
      "========================================\n",
      "\n",
      "■장바구니\n",
      " 불고기 비빔밥 0개: 0원\n",
      " 불고기 비빔밥 세트 0개: 0원\n",
      " 야채 비빔밥 0개: 0원\n",
      " 야채 비빔밥 세트 0개: 0원\n",
      " 전주 비빔밥 0개: 0원\n",
      " 전주 비빔밥 세트 0개: 0원\n",
      " 총 금액 0원\n",
      "\n",
      "●주문할 메뉴를 골라주세요. (불고기 비빔밥:1, 야채 비빔밥:2, 전주 비빔밥:3, 전체 취소:0, 주문확정:주문)\n",
      "-\n",
      "\u001b[31m\n",
      "\n",
      "★메뉴의 지정된 숫자로 입력하세요★\n",
      "\n",
      "\u001b[0m\n"
     ]
    }
   ],
   "source": [
    "import string\n",
    "\n",
    "current_bul = 0\n",
    "current_bulset = 0\n",
    "current_veg = 0\n",
    "current_vegset = 0\n",
    "current_jeon = 0\n",
    "current_jeonset = 0\n",
    "price_bul = 12000\n",
    "price_veg = 8000\n",
    "price_jeon = 10000\n",
    "price_set = 3000\n",
    "price_total = 0\n",
    "\n",
    "while 1:\n",
    "    menu = input(f\"\"\"♣♣♣중앙 식당에 오신 것을 환영합니다♣♣♣\n",
    "\n",
    "========================================\n",
    "\n",
    "          - 메  뉴 -\n",
    "          \n",
    "    1. 불고기 비빔밥 : 12,000원\n",
    "    2. 야채 비빔밥 : 8,000원\n",
    "    3. 전주 비빔밥 : 10,000원\n",
    "\n",
    "    세트 주문시 : 3000원 추가\n",
    "    (세트는 밥과 반찬이 추가됩니다.)\n",
    "\n",
    "========================================\n",
    "\n",
    "■장바구니\n",
    " 불고기 비빔밥 {current_bul}개: {current_bul*price_bul}원\n",
    " 불고기 비빔밥 세트 {current_bulset}개: {current_bulset*(price_bul+3000)}원\n",
    " 야채 비빔밥 {current_veg}개: {current_veg*price_veg}원\n",
    " 야채 비빔밥 세트 {current_vegset}개: {current_vegset*(price_veg+3000)}원\n",
    " 전주 비빔밥 {current_jeon}개: {current_jeon*price_jeon}원\n",
    " 전주 비빔밥 세트 {current_jeonset}개: {current_jeonset*(price_jeon+3000)}원\n",
    " 총 금액 {price_total}원\n",
    "\n",
    "●주문할 메뉴를 골라주세요. (불고기 비빔밥:1, 야채 비빔밥:2, 전주 비빔밥:3, 전체 취소:0, 주문확정:주문)\\n\"\"\")\n",
    "    if(menu.isdigit() == True):\n",
    "        if int(menu) == 1:\n",
    "            while 1:\n",
    "                bul_choice = input('\\n●3000원을 추가해 세트(밥, 반찬 추가)로 주문하시겠습니까? (일반주문시:n, 세트주문시:y, 이외는 취소)\\n')\n",
    "                if bul_choice == 'y':\n",
    "                    bulset_num = input('\\n●불고기 비빔밥 세트 몇개 주문 하시겠습니까?\\n')\n",
    "                    if(bulset_num.isdigit() == True):\n",
    "                        if int(bulset_num) > 0:\n",
    "                            print(f'\\n불고기 버거 세트 {bulset_num}개가 장바구니에 담겼습니다.\\n')\n",
    "                            current_bulset += int(bulset_num)\n",
    "                            price_total += int(bulset_num) * (price_bul + price_set)\n",
    "                            break\n",
    "                        else:\n",
    "                            print('\\033[31m' + '\\n★양수만 입력하세요. 세트 선택으로 돌아갑니다★' + '\\033[0m')\n",
    "                            \n",
    "                            continue\n",
    "    \n",
    "                    else:\n",
    "                        print('\\033[31m' + '\\n★숫자만 입력하세요!! 세트 선택으로 돌아갑니다.★' + '\\033[0m')\n",
    "                        continue\n",
    "                                \n",
    "                elif bul_choice == 'n':\n",
    "                    bul_num = input('\\n●불고기 비빔밥 몇개 주문 하시겠습니까?\\n')\n",
    "                    if(bul_num.isdigit() == True):\n",
    "                        if int(bul_num) > 0:\n",
    "                            print(f'\\n불고기 버거 세트 {bul_num}개가 장바구니에 담겼습니다.\\n')\n",
    "                            current_bul += int(bul_num)\n",
    "                            price_total += int(bul_num) * price_bul\n",
    "                            break\n",
    "                        else:\n",
    "                            print('\\033[31m' + '\\n★양수만 입력하세요. 세트 선택으로 돌아갑니다★' + '\\033[0m')\n",
    "                            continue\n",
    "    \n",
    "                    else:\n",
    "                        print('\\033[31m' + '\\n★숫자만 입력하세요!! 세트 선택으로 돌아갑니다.★' + '\\033[0m')\n",
    "                        continue\n",
    "\n",
    "                else:\n",
    "                    print('\\033[31m' + '\\n★취소 되었습니다. 초기 화면으로 돌아갑니다★\\n' + '\\033[0m')\n",
    "                    break\n",
    "                \n",
    "        if int(menu) == 2:\n",
    "            while 1:\n",
    "                veg_choice = input('\\n●3000원을 추가해 세트(밥, 반찬 추가)로 주문하시겠습니까? (일반주문시:n, 세트주문시:y, 이외는 취소)\\n')\n",
    "                if veg_choice == 'y':\n",
    "                    vegset_num = input('\\n●야채 비빔밥 세트 몇개 주문 하시겠습니까?\\n')\n",
    "                    if(vegset_num.isdigit() == True):\n",
    "                        if int(vegset_num) > 0:\n",
    "                            print(f'\\n야채 비빔밥 세트 {vegset_num}개가 장바구니에 담겼습니다.\\n')\n",
    "                            current_vegset += int(vegset_num)\n",
    "                            price_total += int(vegset_num) * (price_veg + price_set)\n",
    "                            break\n",
    "                        else:\n",
    "                            print('\\033[31m' + '\\n★양수만 입력하세요. 세트 선택으로 돌아갑니다★' + '\\033[0m')\n",
    "                            continue\n",
    "\n",
    "                    else:\n",
    "                        print('\\033[31m' + '\\n★숫자만 입력하세요!! 세트 선택으로 돌아갑니다.★' + '\\033[0m')\n",
    "                        continue\n",
    "                                \n",
    "                elif veg_choice == 'n':\n",
    "                    veg_num = input('\\n●야채 비빔밥 몇개 주문 하시겠습니까?\\n')\n",
    "                    if(veg_num.isdigit() == True):\n",
    "                        if int(veg_num) > 0:\n",
    "                            print(f'\\n야채 버거 세트 {veg_num}개가 장바구니에 담겼습니다.\\n')\n",
    "                            current_veg += int(veg_num)\n",
    "                            price_total += int(veg_num) * price_veg\n",
    "                            break\n",
    "                        else:\n",
    "                            print('\\033[31m' + '\\n★양수만 입력하세요. 세트 선택으로 돌아갑니다★' + '\\033[0m')\n",
    "                            continue\n",
    "\n",
    "                    else:\n",
    "                        print('\\033[31m' + '\\n★숫자만 입력하세요!! 세트 선택으로 돌아갑니다.★' + '\\033[0m')\n",
    "                        continue\n",
    "\n",
    "                else:\n",
    "                    print('\\033[31m' + '\\n★취소 되었습니다. 초기 화면으로 돌아갑니다★\\n' + '\\033[0m')\n",
    "                    break\n",
    "                \n",
    "        if int(menu) == 3:\n",
    "            while 1:\n",
    "                jeon_choice = input('\\n●3000원을 추가해 세트(밥, 반찬 추가)로 주문하시겠습니까? (일반주문시:n, 세트주문시:y, 이외는 취소)\\n')\n",
    "                if jeon_choice == 'y':\n",
    "                    jeonset_num = input('\\n●전주 비빔밥 세트 몇개 주문 하시겠습니까?\\n')\n",
    "                    if(jeonset_num.isdigit() == True):\n",
    "                        if int(jeonset_num) > 0:\n",
    "                            print(f'\\n전주 비빔밥 세트 {jeonset_num}개가 장바구니에 담겼습니다.\\n')\n",
    "                            current_jeonset += int(jeonset_num)\n",
    "                            price_total += int(jeonset_num) * (price_jeon + price_set)\n",
    "                            break\n",
    "                        else:\n",
    "                            print('\\033[31m' + '\\n★양수만 입력하세요. 세트 선택으로 돌아갑니다★' + '\\033[0m')\n",
    "                            continue\n",
    "\n",
    "                    else:\n",
    "                        print('\\033[31m' + '\\n★숫자만 입력하세요!! 세트 선택으로 돌아갑니다.★' + '\\033[0m')\n",
    "                        continue\n",
    "                            \n",
    "                elif jeon_choice == 'n':\n",
    "                    jeon_num = input('\\n●전주 비빔밥 몇개 주문 하시겠습니까?\\n')\n",
    "                    if(jeon_num.isdigit() == True):\n",
    "                        if int(jeon_num) > 0:\n",
    "                            print(f'\\n전주 비빔밥 세트 {jeon_num}개가 장바구니에 담겼습니다.\\n')\n",
    "                            current_jeon += int(jeon_num)\n",
    "                            price_total += int(jeon_num) * price_jeon\n",
    "                            break\n",
    "                        else:\n",
    "                            print('\\033[31m' + '\\n★양수만 입력하세요. 세트 선택으로 돌아갑니다★' + '\\033[0m')\n",
    "                            continue\n",
    "\n",
    "                    else:\n",
    "                        print('\\033[31m' + '\\n★숫자만 입력하세요!! 세트 선택으로 돌아갑니다.★' + '\\033[0m')\n",
    "                        continue\n",
    "    \n",
    "                else:\n",
    "                    print('\\033[31m' + '\\n★취소 되었습니다. 초기 화면으로 돌아갑니다★\\n' + '\\033[0m')\n",
    "                    break\n",
    "        elif int(menu) == 0:\n",
    "            print('\\033[31m' + '\\n★전체 주문을 취소합니다★\\n' + '\\033[0m')\n",
    "            current_bul = 0\n",
    "            current_bulset = 0\n",
    "            current_veg = 0\n",
    "            current_vegset = 0\n",
    "            current_jeon = 0\n",
    "            current_jeonset = 0\n",
    "            price_total = 0\n",
    "            continue\n",
    "    elif(menu.isdigit() == False):\n",
    "        if menu != '주문':\n",
    "            print('\\033[31m' + '\\n\\n★메뉴의 지정된 숫자로 입력하세요★\\n\\n' + '\\033[0m')\n",
    "            continue\n",
    "        else:\n",
    "            if price_total == 0:\n",
    "                print('\\033[31m' + '\\n★메뉴를 고르고 주문해주세요!★\\n' + '\\033[0m')\n",
    "                continue\n",
    "            else:\n",
    "                while 1:\n",
    "                    pay = input(f'\\n●주문하려면 결제해주세요. 결제금액은 {price_total}원 입니다.\\n')\n",
    "                    if(pay.isdigit() == True):\n",
    "                        if int(pay) == price_total:\n",
    "                            print('\\033[31m' + '\\n☆★☆★☆★☆★결제가 완료되었습니다. 조금만 기다려주세요!★☆★☆★☆★☆' + '\\033[0m')\n",
    "                            break\n",
    "                        \n",
    "                        else:\n",
    "                            print('\\033[31m' + '\\n★결제금액이 다릅니다. 다시 결제해 주세요★\\n' + '\\033[0m')\n",
    "                            continue\n",
    "                    else:\n",
    "                        print('\\033[31m' + '\\n★결제가 잘못되었습니다. 다시 진행해주세요★\\n' + '\\033[0m')\n",
    "                break"
   ]
  },
  {
   "cell_type": "code",
   "execution_count": 160,
   "id": "37b207cf",
   "metadata": {},
   "outputs": [
    {
     "name": "stdout",
     "output_type": "stream",
     "text": [
      "가위\n",
      "당신은 가위를 컴퓨터는 가위를 내어 비기셨습니다.\n",
      "바위\n",
      "당신은 바위를 컴퓨터는 가위를 내어 이기셨습니다. 현재1승 입니다.\n",
      "보\n",
      "당신은 보를 컴퓨터는 보를 내어 비기셨습니다.\n",
      "바위\n",
      "당신은 바위를 컴퓨터는 가위를 내어 이기셨습니다. 현재2승 입니다.\n",
      "가위\n",
      "당신은 가위를 컴퓨터는 보를 내어 이기셨습니다. 현재3승 입니다.\n",
      "3승 달성을 축하합니다. \n"
     ]
    }
   ],
   "source": [
    "# [과제] Player가 3승할 때까지 계속 진행되는 가위바위보 게임 프로그램을 작성하세요.\n",
    "# 게임은 Player와 컴퓨터가 진행\n",
    "import numpy as np\n",
    "table={1:\"가위\",2:\"바위\",3:\"보\"}\n",
    "win=0\n",
    "while 1:\n",
    "    ch = input(f'가위 바위 보 중 하나를 입력해 주세요.')\n",
    "    if(ch == '가위' or ch == '바위' or ch =='보'):\n",
    "        co = int(np.random.randint(3)+1)\n",
    "        if ch==table[co]:\n",
    "            print(\"당신은 {}를 컴퓨터는 {}를 내어 비기셨습니다.\".format(ch,table[co]))\n",
    "        elif (ch==table[1] and co==3) or (ch==table[2] and co==1) or (ch==table[3] and co==2):\n",
    "            win+=1\n",
    "            print(\"당신은 {}를 컴퓨터는 {}를 내어 이기셨습니다. 현재{}승 입니다.\".format(ch,table[co],win))\n",
    "            if(win==3):\n",
    "                print(\"3승 달성을 축하합니다. \")\n",
    "                break\n",
    "        else:\n",
    "            print(\"당신은 {}를 컴퓨터는 {}를 내어 지셨습니다.\".format(ch,table[co]))\n",
    "    else:\n",
    "        print(\"잘못된 입력입니다.\")\n"
   ]
  },
  {
   "cell_type": "code",
   "execution_count": null,
   "id": "e8f50ff0",
   "metadata": {},
   "outputs": [],
   "source": [
    "import numpy as np\n",
    "while(1):\n",
    "    s_e=input(\"게임을 하시겠습니까?[y/n]: \")\n",
    "\n",
    "    if(s_e==\"y\"):\n",
    "        anser= np.random.randint(0,10)\n",
    "        while(a != anser):\n",
    "            a=int(input(\"숫자를 입력하세요(0~10): \"))\n",
    "            if(a>anser):\n",
    "                print(\"down\")\n",
    "            elif(a<anser):\n",
    "                print(\"up\")\n",
    "            else:\n",
    "                print(\"범위 안의 숫자를 입력해주세요.\")\n",
    "        print(\"정답입니다.\")\n",
    "    else:\n",
    "        print(\"게임을 종료합니다.\")\n",
    "        break\n"
   ]
  }
 ],
 "metadata": {
  "kernelspec": {
   "display_name": "Python 3 (ipykernel)",
   "language": "python",
   "name": "python3"
  },
  "language_info": {
   "codemirror_mode": {
    "name": "ipython",
    "version": 3
   },
   "file_extension": ".py",
   "mimetype": "text/x-python",
   "name": "python",
   "nbconvert_exporter": "python",
   "pygments_lexer": "ipython3",
   "version": "3.8.12"
  }
 },
 "nbformat": 4,
 "nbformat_minor": 5
}
