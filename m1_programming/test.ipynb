{
 "cells": [
  {
   "cell_type": "code",
   "execution_count": 44,
   "id": "51d8b42e",
   "metadata": {},
   "outputs": [
    {
     "name": "stdout",
     "output_type": "stream",
     "text": [
      "1 d\n",
      "4 a\n",
      "2 b\n",
      "3 e\n",
      "5 c\n"
     ]
    }
   ],
   "source": [
    "import random\n",
    "m=list('12345')\n",
    "f=list('abcde')\n",
    "random.shuffle(m)\n",
    "random.shuffle(f)\n",
    "couples=zip(m,f)\n",
    "for i,couple in enumerate(couples): #인덱스와 요소를 같이 추출\n",
    "    print(couple[0],couple[1])"
   ]
  },
  {
   "cell_type": "code",
   "execution_count": 38,
   "id": "e76f620f",
   "metadata": {},
   "outputs": [
    {
     "name": "stdout",
     "output_type": "stream",
     "text": [
      "['1', '5', '2', '3', '4']\n",
      "['e', 'b', 'c', 'd', 'a']\n",
      "('1', 'e')\n",
      "('5', 'b')\n",
      "('2', 'c')\n",
      "('3', 'd')\n",
      "('4', 'a')\n",
      "1 e\n",
      "5 b\n",
      "2 c\n",
      "3 d\n",
      "4 a\n"
     ]
    }
   ],
   "source": [
    "import random\n",
    "m=list('12345')\n",
    "f=list('abcde')\n",
    "random.shuffle(m)\n",
    "random.shuffle(f)\n",
    "print(m)\n",
    "print(f)\n",
    "for i in zip(m,f):\n",
    "    print(i)\n",
    "couple=zip(m,f)\n",
    "for i,name in enumerate(couple):\n",
    "    print(name[0],name[1])"
   ]
  },
  {
   "cell_type": "code",
   "execution_count": 42,
   "id": "7477eef1",
   "metadata": {},
   "outputs": [
    {
     "name": "stdout",
     "output_type": "stream",
     "text": [
      "[1, 2, 3, 4, 5, 6, 7, 8, 9, 2, 4, 6, 8, 10, 12, 14, 16, 18, 3, 6, 9, 12, 15, 18, 21, 24, 27, 4, 8, 12, 16, 20, 24, 28, 32, 36, 5, 10, 15, 20, 25, 30, 35, 40, 45, 6, 12, 18, 24, 30, 36, 42, 48, 54, 7, 14, 21, 28, 35, 42, 49, 56, 63, 8, 16, 24, 32, 40, 48, 56, 64, 72, 9, 18, 27, 36, 45, 54, 63, 72, 81]\n"
     ]
    }
   ],
   "source": [
    "print([x*y for x in range(1,10) for y in range(1,10)])"
   ]
  },
  {
   "cell_type": "code",
   "execution_count": null,
   "id": "a9b9b35e",
   "metadata": {},
   "outputs": [],
   "source": [
    "from random import shuffle\n",
    "from time import sleep\n",
    "\n",
    "gnum = int(input('로또 횟수를 입력하세요>'))\n",
    "for i in range(gnum):\n",
    "    it=[x+1 for x in range(45)]\n",
    "    ret = []\n",
    "    print(f'it is {it}',end=' ')\n",
    "    for j in range(6):\n",
    "        shuffle(it)\n",
    "        print(f'suffle is {it}',end=' ')\n",
    "        num=it.pop()\n",
    "        ret.append(num)\n",
    "        ret.sort()\n",
    "    print(ret)\n",
    "    sleep(1)"
   ]
  },
  {
   "cell_type": "code",
   "execution_count": 2,
   "id": "6c5ec033",
   "metadata": {},
   "outputs": [
    {
     "name": "stdout",
     "output_type": "stream",
     "text": [
      "Help on method_descriptor:\n",
      "\n",
      "sort(self, /, *, key=None, reverse=False)\n",
      "    Sort the list in ascending order and return None.\n",
      "    \n",
      "    The sort is in-place (i.e. the list itself is modified) and stable (i.e. the\n",
      "    order of two equal elements is maintained).\n",
      "    \n",
      "    If a key function is given, apply it once to each list item and sort them,\n",
      "    ascending or descending, according to their function values.\n",
      "    \n",
      "    The reverse flag can be set to sort in descending order.\n",
      "\n"
     ]
    }
   ],
   "source": []
  }
 ],
 "metadata": {
  "kernelspec": {
   "display_name": "Python 3 (ipykernel)",
   "language": "python",
   "name": "python3"
  },
  "language_info": {
   "codemirror_mode": {
    "name": "ipython",
    "version": 3
   },
   "file_extension": ".py",
   "mimetype": "text/x-python",
   "name": "python",
   "nbconvert_exporter": "python",
   "pygments_lexer": "ipython3",
   "version": "3.8.12"
  }
 },
 "nbformat": 4,
 "nbformat_minor": 5
}
