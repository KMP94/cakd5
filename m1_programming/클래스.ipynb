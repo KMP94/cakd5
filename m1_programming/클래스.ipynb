{
 "cells": [
  {
   "cell_type": "markdown",
   "id": "f159f132",
   "metadata": {},
   "source": [
    "## 클래스\n",
    "\n",
    "\n",
    "\n",
    "클래스(class)란 똑같은 무엇인가를 계속해서 만들어 낼 수 있는 설계 도면이고(과자 틀), 객체(object)란 클래스로 만든 피조물(과자 틀을 사용해 만든 과자)을 뜻한다.\n",
    "과자 틀 → 클래스 (class)\n",
    "과자 틀에 의해서 만들어진 과자 → 객체 (object)\n",
    "\n",
    "- class : 함수 + 변수 모아놓은 것\n",
    "- 오브젝트(object) : 클래스를 써서 만든 것\n",
    "- 오브젝트(object) == 인스턴스(instance)\n",
    "- 클래스를 정의한 후, 그 클래스를 사용해서 데이터 객체(인스턴스)를 만들 수 있다.\n",
    "- 동일한 클래스에 의해 만들어진 각 객체들은 유사한 특징을 공유한다.\n",
    "- 모든 인스턴스에서 메소드(=코드)는 동일하지만, 속성(데이터)는 다르다.\n",
    " - 메소드 : 코드\n",
    " - 속성 : 데이터\n",
    " - 인스턴스 : 클래스에 의해 만들어진 데이터 객체\n",
    " - a = 클래스() 이렇게 만든 a는 객체이다. 그리고 a 객체는 클래스의 인스턴스이다. 즉 인스턴스라는 말은 특정 객체(a)가 어떤 클래스의 객체인지를 관계 위주로 설명할 때 사용\n"
   ]
  },
  {
   "cell_type": "code",
   "execution_count": null,
   "id": "9689981a",
   "metadata": {},
   "outputs": [],
   "source": [
    "# 클래스의 정의 및 사용하는 방법을 설"
   ]
  },
  {
   "cell_type": "code",
   "execution_count": 2,
   "id": "4fba33ec",
   "metadata": {},
   "outputs": [
    {
     "name": "stdout",
     "output_type": "stream",
     "text": [
      "박광민\n",
      "25\n",
      "29\n",
      "Computer Science\n"
     ]
    }
   ],
   "source": [
    "# 클래스 생성자(인자가 있는 경우)\n",
    "class Cakd:\n",
    "    def __init__(self,name,age,major):\n",
    "        self.name=name\n",
    "        self.age=age\n",
    "        self.major=major\n",
    "    def age_up(self):\n",
    "        return self.age+4\n",
    "박광민=Cakd('박광민',25,'Computer Science')\n",
    "print(박광민.name)\n",
    "print(박광민.age)\n",
    "print(박광민.age_up())\n",
    "print(박광민.major)"
   ]
  },
  {
   "cell_type": "code",
   "execution_count": 1,
   "id": "9da6623b",
   "metadata": {},
   "outputs": [
    {
     "name": "stdout",
     "output_type": "stream",
     "text": [
      "Cakd 인스턴스 객체가 메모리에서 제거됩니다.\n"
     ]
    }
   ],
   "source": [
    "# 클래스 소멸자\n",
    "# 클래스 인스턴스 객체가 메모리에서 제거될 떄 자동으로 호출되는 클래스 메소드\n",
    "class Cakd:\n",
    "    def __del__(self):\n",
    "        print('Cakd 인스턴스 객체가 메모리에서 제거됩니다.')\n",
    "obj=Cakd()\n",
    "del obj"
   ]
  },
  {
   "cell_type": "markdown",
   "id": "3247af11",
   "metadata": {},
   "source": [
    "## 클래스 멤버,클래스 메소드\n",
    "- 클래스를 구성하는 주요 요소는 클래스 멤버(변수)와 클래스 메소드(함수)로 클래스 공간내에서 정의\n",
    "- 클래스 멤버는 클래스 메소드네에서 정의되는 지역변수나 인스턴스 멤버와는 다름\n",
    "- self는 이클래스의 인스턴스 객체를 가리키는 참조자\n",
    "- 인스턴스 객체에서 클래스 메소드를 호출 시 첫번쨰 인자는 self 생략"
   ]
  },
  {
   "cell_type": "code",
   "execution_count": 32,
   "id": "6d1434a1",
   "metadata": {},
   "outputs": [
    {
     "name": "stdout",
     "output_type": "stream",
     "text": [
      "안녕하세요\n",
      "안녕하세요\n"
     ]
    }
   ],
   "source": [
    "class MyClass:\n",
    "    var =\"안녕하세요\" #클래스 멤버 클래스 변수\n",
    "    def sayHello(b): # 클래스 메소드\n",
    "        return b.var\n",
    "obj=MyClass() # 클래스 생성\n",
    "print(obj.sayHello())\n",
    "print(obj.var)"
   ]
  },
  {
   "cell_type": "code",
   "execution_count": 40,
   "id": "d12a890f",
   "metadata": {},
   "outputs": [
    {
     "name": "stdout",
     "output_type": "stream",
     "text": [
      "안녕\n",
      "안녕하세요\n"
     ]
    }
   ],
   "source": [
    "#클래스 멤버와 인스턴스 멤버\n",
    "#클래스 멤버는 클래스 메소드 바깥에서 선언 인스턴스 멤버는 클래스 메소드 안에서 self와 함께 선언됨\n",
    "class MyClass:\n",
    "    var='안녕하세요'  #클래스 멤버\n",
    "    def sayHello(self):    #클래스 메소드\n",
    "        param1='안녕'    #지역변수\n",
    "        self.param2='하이'  #인스턴스 멤버\n",
    "        print(param1)\n",
    "        print(self.var)\n",
    "obj=MyClass()\n",
    "obj.sayHello()"
   ]
  },
  {
   "cell_type": "code",
   "execution_count": 3,
   "id": "92ae7695",
   "metadata": {},
   "outputs": [
    {
     "name": "stdout",
     "output_type": "stream",
     "text": [
      "안녕하세요\n",
      "철수! 다음에 보자\n"
     ]
    },
    {
     "data": {
      "text/plain": [
       "__main__.MyClass"
      ]
     },
     "execution_count": 3,
     "metadata": {},
     "output_type": "execute_result"
    }
   ],
   "source": [
    "#클래스 메소드\n",
    "#클래내에서 정의되는 클래스 메소드는 첫번째 인자가 반드시 self 여야 한다.\n",
    "class MyClass:\n",
    "    def sayHello(self):\n",
    "        print('안녕하세요')\n",
    "    def sayBye(self,name):\n",
    "        print(f'{name}! 다음에 보자')\n",
    "obj=MyClass()\n",
    "obj.sayHello()\n",
    "obj.sayBye('철수')\n",
    "type(obj)"
   ]
  },
  {
   "cell_type": "markdown",
   "id": "5c96a9f2",
   "metadata": {},
   "source": [
    "## 객체 지향 프로그래밍(Object-Oriented Programming)\n",
    "- 클래스 인스턴스는 객체(Object)라고도 하며 이렇게 클래스를 정의하고 객체를 만드는 패턴을 객체 지향 프로그래밍이라고 함\n",
    "- 인스턴스를 불러온다는 것은 클래스를 가져와 객체로 바꿔준다는 것인데 Type() 함수를 사용하는 것은 그 반대\n",
    "- 객체의 Type을 확인해 보면 해당 객체가 어떤 클래스 인스턴스인지를 확인\n",
    "- 파이썬에서 main은 \"현재 실행중인 파일\"을 의미"
   ]
  },
  {
   "cell_type": "code",
   "execution_count": 5,
   "id": "8db6cdc9",
   "metadata": {},
   "outputs": [
    {
     "name": "stdout",
     "output_type": "stream",
     "text": [
      "<class '__main__.Test'>\n"
     ]
    }
   ],
   "source": [
    "#임의의 클래스를 작성한 후 인스턴스를 생성하고 그것의 타입을 확인\n",
    "class Test:\n",
    "    pass\n",
    "test1=Test()\n",
    "print(type(test1))"
   ]
  },
  {
   "cell_type": "markdown",
   "id": "3a427d9e",
   "metadata": {},
   "source": [
    "## 클래스 상속\n",
    "- 어떤 클래스가 가지고 있는 모든 멤버나 메소드에 대해서 상속받는 클래스가 모두 사용할 수 있도록 해주는 것\n",
    "- 상속을 해주는 클래스가 부모클래스(슈퍼), 상속을 받는 클래스가 자식클래스(서브)라 함. class 자식 클래스명(부모 클래스명)\n",
    "-자식 클래스는 여러 부모 클래스로 부터 상속 받을수 있으며 다중상속이라 함. class 자식클래스명(부모클래스1, 부모클래스2, ,,,,)"
   ]
  },
  {
   "cell_type": "code",
   "execution_count": 8,
   "id": "135492f1",
   "metadata": {},
   "outputs": [
    {
     "data": {
      "text/plain": [
       "-2"
      ]
     },
     "execution_count": 8,
     "metadata": {},
     "output_type": "execute_result"
    }
   ],
   "source": [
    "class Sum:\n",
    "    def sum(self,n1,n2):\n",
    "        return n1+n2\n",
    "class Mul:\n",
    "    def mul(self,n1,n2):\n",
    "        return n1*n2\n",
    "class Cal(Sum,Mul):\n",
    "    def sub(self,n1,n2):\n",
    "        return n1-n2\n",
    "obj=Cal()\n",
    "obj.sub(3,5)"
   ]
  },
  {
   "cell_type": "code",
   "execution_count": 11,
   "id": "bbfc1923",
   "metadata": {},
   "outputs": [
    {
     "name": "stdout",
     "output_type": "stream",
     "text": [
      "박광민, 안녕하세요\n",
      "박광민, 다음에 보자\n"
     ]
    }
   ],
   "source": [
    "# 클래스 MyClass를 작성하고 객체를 생성하여 아래와 같이 출력 (생성자 사용)\n",
    "class MyClass:\n",
    "    def __init__(self,name):\n",
    "        self.name=name\n",
    "    def sayHello(self):\n",
    "        print(f'{self.name}, 안녕하세요')\n",
    "    def sayBye(self):\n",
    "        print(f'{self.name}, 다음에 보자')\n",
    "obj=MyClass('박광민')\n",
    "obj.sayHello()\n",
    "obj.sayBye()"
   ]
  },
  {
   "cell_type": "code",
   "execution_count": 45,
   "id": "8bd43daa",
   "metadata": {
    "scrolled": true
   },
   "outputs": [
    {
     "name": "stdout",
     "output_type": "stream",
     "text": [
      "1000\n",
      "2000\n",
      "5222\n",
      "6222\n"
     ]
    }
   ],
   "source": [
    "#사용자 함수를 작성하여 기본가격 1000에 입력 받은 값을 추가한 가격을 산출하세요(지역변수,전역변수 2가지 방법)\n",
    "class Price:\n",
    "    def upPriceOne(self,num):\n",
    "        num=num+1000\n",
    "        return num\n",
    "    def upPriceTwo(self):\n",
    "        global num2\n",
    "        num2+1000\n",
    "obj=Price()        \n",
    "num=int(input())\n",
    "print(obj.upPriceOne(num))\n",
    "num2=int(input())\n",
    "print(obj.upPriceTwo())"
   ]
  },
  {
   "cell_type": "code",
   "execution_count": 46,
   "id": "1712baa1",
   "metadata": {},
   "outputs": [
    {
     "name": "stdout",
     "output_type": "stream",
     "text": [
      "추가할 가격을 입력하세요(지역): 5000\n",
      "추가된 가격은 6000원입니다.(지역)\n",
      "추가할 가격을 입력하세요(전역): 100000\n",
      "추가된 가격은 101000원입니다.(전역)\n",
      "1000\n"
     ]
    }
   ],
   "source": [
    "b = 1000\n",
    "class AP:\n",
    "    def add_price_local(self):\n",
    "        가격 = 1000\n",
    "        try:\n",
    "            self.a = int(input('추가할 가격을 입력하세요(지역): '))\n",
    "            print(f'추가된 가격은 {가격 + self.a}원입니다.(지역)')\n",
    "        except:\n",
    "            print('추가할 가격은 숫자로 입력해주세요.')\n",
    "    def add_price_global(self):\n",
    "        try:\n",
    "            global b\n",
    "            self.b = b + int(input('추가할 가격을 입력하세요(전역): '))\n",
    "            print(f'추가된 가격은 {self.b}원입니다.(전역)')\n",
    "        except:\n",
    "            print('추가할 가격은 숫자로 입력해주세요.')\n",
    "result = AP()\n",
    "result.add_price_local()\n",
    "result.add_price_global()\n",
    "print(b)\n"
   ]
  },
  {
   "cell_type": "code",
   "execution_count": 51,
   "id": "4fadf1cf",
   "metadata": {},
   "outputs": [
    {
     "name": "stdout",
     "output_type": "stream",
     "text": [
      "추가 가격을 입력해 주세요> 100\n",
      "가격: 1100\n"
     ]
    }
   ],
   "source": [
    "p=int(input('추가 가격을 입력해 주세요> '))  #지역변수\n",
    "def price(p):\n",
    "    b=1000 #기본가격\n",
    "    b+=p\n",
    "    return b\n",
    "print(f'가격: {price(p)}')"
   ]
  },
  {
   "cell_type": "code",
   "execution_count": 55,
   "id": "27b5efe0",
   "metadata": {},
   "outputs": [
    {
     "name": "stdout",
     "output_type": "stream",
     "text": [
      "추가 가격을 입력해 주세요> 500\n",
      "가격: 1500\n"
     ]
    }
   ],
   "source": [
    "b=1000  #전역변수\n",
    "def price():\n",
    "    global b\n",
    "    p=int(input('추가 가격을 입력해 주세요> '))\n",
    "    b+=p\n",
    "    return b\n",
    "print(f'가격: {price()}')"
   ]
  },
  {
   "cell_type": "code",
   "execution_count": 62,
   "id": "7b20af52",
   "metadata": {},
   "outputs": [
    {
     "name": "stdout",
     "output_type": "stream",
     "text": [
      "첫번째 정수 입력>100\n",
      "두번째 정수 입력>0\n",
      "add : 100, sub : 100, mul : 0, div : 계산불가\n"
     ]
    }
   ],
   "source": [
    "#4칙 연산 기능을 포함한 Cal4 클래스(생성자 이용)을 작성하고 이 클래스를 이용하여 Cal 계산기 객체를 만든후 사칙연산 수행\n",
    "class Cal4:\n",
    "    def __init__(self,num1,num2):\n",
    "        self.num1=num1\n",
    "        self.num2=num2\n",
    "    def add(self):\n",
    "        return self.num1+self.num2\n",
    "    def sub(self):\n",
    "        return self.num1-self.num2\n",
    "    def mul(self):\n",
    "        return self.num1*self.num2\n",
    "    def div(self):\n",
    "        try:\n",
    "            return round(self.num1/self.num2,2)\n",
    "        except:\n",
    "            return \"계산불가\"\n",
    "while 1:\n",
    "    try:\n",
    "        num1=int(input(\"첫번째 정수 입력>\"))\n",
    "        num2=int(input(\"두번째 정수 입력>\"))\n",
    "        break\n",
    "    except:\n",
    "        print(\"올바른 값을 입력하세요.\")\n",
    "    cal=Cal4(num1,num2)\n",
    "print(f'add : {cal.add()}, sub : {cal.sub()}, mul : {cal.mul()}, div : {cal.div()}')\n"
   ]
  },
  {
   "cell_type": "code",
   "execution_count": 81,
   "id": "53645bd8",
   "metadata": {},
   "outputs": [
    {
     "name": "stdout",
     "output_type": "stream",
     "text": [
      "정수입력 :1000\n",
      "합산결과 : 2000\n",
      "정수입력 :3000\n",
      "합산결과 : 4000\n",
      "정수입력 :5000\n",
      "합산결과 : 6000\n"
     ]
    }
   ],
   "source": [
    "#ㄱ;번기격  1000원인 3개의 상품에 대하여 임의의 추가가격을 인수로 대입시 더한 가격을 산추루\n",
    "class Order:\n",
    "    def __init__(self):\n",
    "        while 1:\n",
    "            try:\n",
    "                self.number=int(input(\"정수입력 :\"))\n",
    "                break\n",
    "            except:\n",
    "                print(\"다시입력\")\n",
    "    def add_price(self):\n",
    "        print(f'합산결과 : {self.number+1000}')\n",
    "pd1 = Order()\n",
    "pd1.add_price()\n",
    "pd2 = Order()\n",
    "pd2.add_price()\n",
    "pd3 = Order()\n",
    "pd3.add_price()\n",
    "    "
   ]
  },
  {
   "cell_type": "code",
   "execution_count": 87,
   "id": "c6691f5d",
   "metadata": {},
   "outputs": [
    {
     "name": "stdout",
     "output_type": "stream",
     "text": [
      "추가가격 입력 :600\n",
      "합산결과 : 1600\n",
      "할인가격 : 1440.0\n"
     ]
    }
   ],
   "source": [
    "#기본가격 1000원인 2개의 상품에 대하여 임의으ㅢ 추가 가격을 입력시 아래 두개의 방식으로 산출하세요\n",
    "# price1=기본가격+추가가격\n",
    "# price2=(기본가격 + 추가가격) * 90%\n",
    "base=1000\n",
    "class Order:\n",
    "    def __init__(self):\n",
    "        while 1:\n",
    "            try:\n",
    "                self.number=int(input(\"추가가격 입력 :\"))\n",
    "                break\n",
    "            except:\n",
    "                print(\"다시입력\")\n",
    "    def add_price(self):\n",
    "        print(f'합산결과 : {self.number+base}')\n",
    "    def discount_price(self):\n",
    "        print(f'할인가격 : {(self.number+base)*0.9}')\n",
    "pd1=Order()\n",
    "pd1.add_price()\n",
    "pd1.discount_price()"
   ]
  },
  {
   "cell_type": "code",
   "execution_count": 1,
   "id": "2adac8c9",
   "metadata": {},
   "outputs": [
    {
     "name": "stdout",
     "output_type": "stream",
     "text": [
      "박광민님 업무미팅은 2시 입니다. \n"
     ]
    }
   ],
   "source": [
    "# 업무미팅이 2시임을 알려주는 자동 이메일을 클래스 autoemail을 작성하여 아래와 같이 출력하세요\n",
    "# 안녕하세요. 케빈님 업무미팅은 2시입니다.   이름 시간 주어졌을때 [과제\n",
    "class Automail:\n",
    "    def __init__(self,name,time):\n",
    "        self.name=name\n",
    "        self.time=time\n",
    "    def alarm(self):\n",
    "        print(f'{self.name}님 업무미팅은 {self.time}시 입니다. ')\n",
    "meeting=Automail('박광민',2)\n",
    "meeting.alarm()"
   ]
  },
  {
   "cell_type": "code",
   "execution_count": 93,
   "id": "939be39e",
   "metadata": {},
   "outputs": [
    {
     "name": "stdout",
     "output_type": "stream",
     "text": [
      "1000\n",
      "1000원\n"
     ]
    }
   ],
   "source": [
    "class Order:\n",
    "    def __init__(self,name):\n",
    "        self.customer=0\n",
    "        self.name=name\n",
    "    def order(self,price):\n",
    "        self.customer += price\n",
    "        return self.customer\n",
    "class ExtraOrder(Order):\n",
    "    def order(self,price):\n",
    "        self.customer += price\n",
    "        return str(self.customer)+'원'\n",
    "obj=Order('박광민')\n",
    "print(obj.order(1000))\n",
    "extraCustomer = ExtraOrder('kwangmin')\n",
    "print(extraCustomer.order(1000))\n",
    "    "
   ]
  },
  {
   "cell_type": "markdown",
   "id": "104f4aa6",
   "metadata": {},
   "source": [
    "https://ebbnflow.tistory.com/255"
   ]
  },
  {
   "cell_type": "code",
   "execution_count": 4,
   "id": "64ef8c1a",
   "metadata": {},
   "outputs": [
    {
     "data": {
      "text/plain": [
       "2"
      ]
     },
     "execution_count": 4,
     "metadata": {},
     "output_type": "execute_result"
    }
   ],
   "source": [
    "#인터프리터에서 마지막 실행결과 값을 가지는 변수로 사용\n",
    "1+1\n",
    "_"
   ]
  },
  {
   "cell_type": "code",
   "execution_count": 10,
   "id": "dcc6b5d4",
   "metadata": {},
   "outputs": [
    {
     "name": "stdout",
     "output_type": "stream",
     "text": [
      "hello world!\n",
      "hello world!\n",
      "hello world!\n",
      "hello world!\n",
      "hello world!\n",
      "0\n",
      "\n",
      "1\n",
      "\n",
      "2\n",
      "\n",
      "1 2\n"
     ]
    }
   ],
   "source": [
    "#변수 값을 굳이 사용할 필요가 없는 경우\n",
    "for _ in range(5):\n",
    "    print('hello world!')\n",
    "for _ in range(3):\n",
    "    print(_)\n",
    "    print()\n",
    "def values():\n",
    "    return (1,2,3,4)\n",
    "\n",
    "a,b,_,_=values() #반환된 튜플 값중 2개만 필요\n",
    "print(a,b)"
   ]
  },
  {
   "cell_type": "code",
   "execution_count": 2,
   "id": "c340815b",
   "metadata": {},
   "outputs": [
    {
     "name": "stdout",
     "output_type": "stream",
     "text": [
      "<class '__main__.Order'>\n"
     ]
    }
   ],
   "source": [
    "#예약어를 변수명으로 사용할 수 없는 경우\n",
    "class Order:\n",
    "    def __init__(self):\n",
    "        self.coffee='Americano'\n",
    "        self.price=3000\n",
    "def printClassName(class_):\n",
    "    print(class_)\n",
    "order=Order()\n",
    "printClassName(order.__class__)"
   ]
  },
  {
   "cell_type": "code",
   "execution_count": 10,
   "id": "02d9a2ac",
   "metadata": {},
   "outputs": [
    {
     "name": "stdout",
     "output_type": "stream",
     "text": [
      "abc\n"
     ]
    }
   ],
   "source": [
    "# 클래스 변수 : 인스턴스 변수와 달리 모든 인스턴스 사이에  공유된 값을 가진 변수\n",
    "class MyClass:\n",
    "    value='abc' #클래스 변수 선언\n",
    "if __name__ == \"__main__\":\n",
    "    print(MyClass.value)"
   ]
  },
  {
   "cell_type": "code",
   "execution_count": 13,
   "id": "77fdbcfe",
   "metadata": {},
   "outputs": [
    {
     "name": "stdout",
     "output_type": "stream",
     "text": [
      "1\n",
      "2\n",
      "3\n"
     ]
    }
   ],
   "source": [
    "#인스턴스를 생성할때마다 클래스 변수 value를 +1\n",
    "class MyClass:\n",
    "    value=0\n",
    "    def __init__(self):\n",
    "        MyClass.value += 1\n",
    "if __name__ == \"__main__\":\n",
    "    a=MyClass() #인스턴스 a 생성\n",
    "    print(MyClass.value)\n",
    "    b=MyClass()\n",
    "    print(MyClass.value)\n",
    "    c=MyClass()\n",
    "    print(MyClass.value)"
   ]
  },
  {
   "cell_type": "code",
   "execution_count": 26,
   "id": "71792386",
   "metadata": {},
   "outputs": [
    {
     "name": "stdout",
     "output_type": "stream",
     "text": [
      "1 kw\n",
      "2 crong\n"
     ]
    }
   ],
   "source": [
    "#인스턴스 변수\n",
    "class User:\n",
    "    num_users=0  # 클래스 변수\n",
    "    def __init__(self,name):\n",
    "        self.name=name   #인스턴스 변수\n",
    "        User.num_users +=1\n",
    "u=User('kw')\n",
    "print(User.num_users,u.name)\n",
    "u2=User('crong')\n",
    "print(User.num_users,u2.name)"
   ]
  },
  {
   "cell_type": "code",
   "execution_count": 22,
   "id": "f85d22cc",
   "metadata": {},
   "outputs": [
    {
     "name": "stdout",
     "output_type": "stream",
     "text": [
      "i am aRockstar!\n"
     ]
    }
   ],
   "source": [
    "# 메소드 : 메소드는 클래스 안에서 정의된 함수. 첫번쨰 인수를 항상 self로 지정\n",
    "class Musician:\n",
    "    title='Rockstar'\n",
    "    def explanation(self):\n",
    "        print(f'i am a{self.title}!')\n",
    "drummer=Musician()\n",
    "drummer.explanation()"
   ]
  },
  {
   "cell_type": "code",
   "execution_count": 24,
   "id": "9d7112b3",
   "metadata": {},
   "outputs": [
    {
     "data": {
      "text/plain": [
       "314.0"
      ]
     },
     "execution_count": 24,
     "metadata": {},
     "output_type": "execute_result"
    }
   ],
   "source": [
    "#다른 이수가 있는 메소드\n",
    "class Circle():\n",
    "    pi=3.14\n",
    "    def area(self,radius):\n",
    "        return radius*radius*self.pi\n",
    "    def \n",
    "pizza=Circle()\n",
    "pizza.area(6)\n",
    "donut=Circle()\n",
    "donut.area(10)"
   ]
  },
  {
   "cell_type": "code",
   "execution_count": 28,
   "id": "c64bebb1",
   "metadata": {},
   "outputs": [
    {
     "name": "stdout",
     "output_type": "stream",
     "text": [
      "Hello?!\n",
      "Hello?!\n"
     ]
    }
   ],
   "source": [
    "#생성자(constructor)\n",
    "# 클래스를 호출할 떄 자동으로 어떤 함수를 실행하거나 값을 호출하고 싶은 경우. __init__을 사용\n",
    "#Shouter라는 클래스를 불러올떄 마다 :Hello?! 문자열 출력\n",
    "class Shouter:\n",
    "    def __init__(self):\n",
    "        print(\"Hello?!\")\n",
    "shout=Shouter()\n",
    "shout2=Shouter()"
   ]
  },
  {
   "cell_type": "code",
   "execution_count": null,
   "id": "bb0ddac3",
   "metadata": {},
   "outputs": [],
   "source": [
    "#도전과제 100~200 라인 정도의 프로그램을 구조지향적으로 작성하세요 클래스"
   ]
  },
  {
   "cell_type": "code",
   "execution_count": 9,
   "id": "e34c7251",
   "metadata": {},
   "outputs": [
    {
     "name": "stdout",
     "output_type": "stream",
     "text": [
      "발표자의 인원을 입력하세요 : 14\n",
      "['김민성', '이동연', '권혁종', '임재곤', '이현정', '최종원', '오주완', '박광민', '김기연', '문성윤', '손창효', '정현우', '김정수', '용지영']\n",
      "마이크 on 차례대로 발표하시면 됩니다.\n"
     ]
    }
   ],
   "source": [
    "import random\n",
    "name = ['권혁종', '김기연', '김기현', '김민성', '김영수', '김재경', '김정수', '김태형', '마경수', '문성윤',\n",
    "       '박광민','박종석','손창효','어정호','예지우','오주완','용지영','이동연','이용준','이재우',\n",
    "       '이재호','이현정','임재곤','장종호','정현우','조경윤','조남현','최종원','최지원']\n",
    "while 1:\n",
    "    try:\n",
    "        number=int(input(\"발표자의 인원을 입력하세요 : \"))\n",
    "        if 0<=number<=29:\n",
    "            break\n",
    "        else:\n",
    "            print(\"발표자의 최소 인원은 0명이고 최대 29명 입니다.\")\n",
    "    except:\n",
    "        print(\"정수를 입력하세요. \")\n",
    "print(random.sample(name,number))\n",
    "print(\"마이크 on 차례대로 발표하시면 됩니다.\")\n"
   ]
  },
  {
   "cell_type": "code",
   "execution_count": 10,
   "id": "a842fe01",
   "metadata": {},
   "outputs": [
    {
     "name": "stdout",
     "output_type": "stream",
     "text": [
      "입력>5\n"
     ]
    },
    {
     "ename": "NameError",
     "evalue": "name 'alist' is not defined",
     "output_type": "error",
     "traceback": [
      "\u001b[1;31m---------------------------------------------------------------------------\u001b[0m",
      "\u001b[1;31mNameError\u001b[0m                                 Traceback (most recent call last)",
      "\u001b[1;32m~\\AppData\\Local\\Temp/ipykernel_11320/4103195898.py\u001b[0m in \u001b[0;36m<module>\u001b[1;34m\u001b[0m\n\u001b[0;32m     12\u001b[0m \u001b[1;32mfor\u001b[0m \u001b[0mi\u001b[0m \u001b[1;32min\u001b[0m \u001b[0mli\u001b[0m\u001b[1;33m:\u001b[0m\u001b[1;33m\u001b[0m\u001b[1;33m\u001b[0m\u001b[0m\n\u001b[0;32m     13\u001b[0m     \u001b[0ma\u001b[0m\u001b[1;33m=\u001b[0m\u001b[0mname\u001b[0m\u001b[1;33m[\u001b[0m\u001b[0mi\u001b[0m\u001b[1;33m]\u001b[0m\u001b[1;33m\u001b[0m\u001b[1;33m\u001b[0m\u001b[0m\n\u001b[1;32m---> 14\u001b[1;33m     \u001b[0malist\u001b[0m\u001b[1;33m.\u001b[0m\u001b[0mappend\u001b[0m\u001b[1;33m(\u001b[0m\u001b[0ma\u001b[0m\u001b[1;33m)\u001b[0m\u001b[1;33m\u001b[0m\u001b[1;33m\u001b[0m\u001b[0m\n\u001b[0m\u001b[0;32m     15\u001b[0m \u001b[0malist\u001b[0m\u001b[1;33m=\u001b[0m\u001b[1;33m[\u001b[0m\u001b[1;33m]\u001b[0m\u001b[1;33m\u001b[0m\u001b[1;33m\u001b[0m\u001b[0m\n\u001b[0;32m     16\u001b[0m \u001b[1;33m\u001b[0m\u001b[0m\n",
      "\u001b[1;31mNameError\u001b[0m: name 'alist' is not defined"
     ]
    }
   ],
   "source": [
    "import random\n",
    "li = ['권혁종', '김기연', '김기현', '김민성', '김영수', '김재경', '김정수', '김태형', '마경수', '문성윤',\n",
    "       '박광민','박종석','손창효','어정호','예지우','오주완','용지영','이동연','이용준','이재우',\n",
    "       '이재호','이현정','임재곤','장종호','정현우','조경윤','조남현','최종원','최지원']\n",
    "num=int(input('입력>'))\n",
    "for i in range(num):\n",
    "    p=random.randint(0,29)\n",
    "    while p in li:\n",
    "        p=random.randint(0,29)\n",
    "    li.append(p)\n",
    "for i in li:\n",
    "    a=name[i]\n",
    "    alist.append(a)\n",
    "alist=[]\n",
    "\n",
    "print(alist)"
   ]
  }
 ],
 "metadata": {
  "kernelspec": {
   "display_name": "Python 3 (ipykernel)",
   "language": "python",
   "name": "python3"
  },
  "language_info": {
   "codemirror_mode": {
    "name": "ipython",
    "version": 3
   },
   "file_extension": ".py",
   "mimetype": "text/x-python",
   "name": "python",
   "nbconvert_exporter": "python",
   "pygments_lexer": "ipython3",
   "version": "3.8.12"
  }
 },
 "nbformat": 4,
 "nbformat_minor": 5
}
