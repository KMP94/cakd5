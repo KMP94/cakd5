{
 "cells": [
  {
   "cell_type": "code",
   "execution_count": 4,
   "id": "e4f8e8f0",
   "metadata": {},
   "outputs": [
    {
     "ename": "SyntaxError",
     "evalue": "cannot assign to function call (Temp/ipykernel_4668/2673925081.py, line 109)",
     "output_type": "error",
     "traceback": [
      "\u001b[1;36m  File \u001b[1;32m\"C:\\Users\\qkrrh\\AppData\\Local\\Temp/ipykernel_4668/2673925081.py\"\u001b[1;36m, line \u001b[1;32m109\u001b[0m\n\u001b[1;33m    '%s'.format(name)=Machine()\u001b[0m\n\u001b[1;37m    ^\u001b[0m\n\u001b[1;31mSyntaxError\u001b[0m\u001b[1;31m:\u001b[0m cannot assign to function call\n"
     ]
    }
   ],
   "source": [
    "class CheckError:\n",
    "    def check_num_range(self,start,end):\n",
    "        while 1:\n",
    "            try:           \n",
    "                num=int(input())\n",
    "                if start<= num <= end:\n",
    "                    return num\n",
    "                    break\n",
    "                else:\n",
    "                    print(f'{start}에서 {end} 사이의 값을 입력하세요. :',end=' ')\n",
    "            except:\n",
    "                print(f'{start}에서 {end} 사이의 값을 입력하세요. :',end=' ')\n",
    "    def check_pnum(self):\n",
    "        while 1:\n",
    "            try:\n",
    "                num=int(input())\n",
    "                if num > 0:\n",
    "                    return num\n",
    "                    break\n",
    "                else:\n",
    "                    print(f'0이상의 정수를 입력하세요. :',end=' ')\n",
    "            except:\n",
    "                print(f'0이상의 정수를 입력하세요. :',end=' ')\n",
    "    def check_chr(self):\n",
    "        while 1:\n",
    "            try:\n",
    "                chr=input()\n",
    "                if chr=='Y' or chr=='N' or chr=='y' or chr=='n':\n",
    "                    return chr\n",
    "                    break\n",
    "                else:\n",
    "                    print('Y/N 중에서만 선택하세요.',end=' ')\n",
    "            except:\n",
    "                print('Y/N 중에서만 선택하세요.',end=' ')\n",
    "class Electric:\n",
    "#     def __init__(self,amount,discount):\n",
    "#         self.amount=amount\n",
    "#         self.discount=discount\n",
    "    def tex_price(self):\n",
    "        result=int(self.ele_p*0.1)  #부가세\n",
    "        result1=int(self.ele_p*0.037)  #기반기금\n",
    "        temp=result1\n",
    "        temp=temp%10\n",
    "        result1=result1-temp\n",
    "        return result+result1\n",
    "    def ele_price(self,amount):\n",
    "        if amount==0:\n",
    "            return print(\"사용량이 없습니다.\",end=' ')\n",
    "        elif amount <=200:\n",
    "            b=910\n",
    "            y=88.3\n",
    "            self.ele_p=b+int(amount*y)+int(amount*5.3)\n",
    "        elif 200<amount<=400:\n",
    "            b=1600\n",
    "            y=182.9\n",
    "            self.ele_p= b+int((amount-200)*y)+int(200*88.3)+int(amount*5.3)\n",
    "        elif 400<amount<=1000:\n",
    "            b=7300\n",
    "            y=275.6\n",
    "            self.ele_p= b+int((amount-400)*y)+int(200*182.9)+int(200*88.3)+int(amount*5.3)\n",
    "        else:\n",
    "            y=704.5\n",
    "            self.ele_p= int((amount-1000)*704.5)+int(600*275.6)+int(200*182.9)+int(200*88.3)+int(amount*5.3)\n",
    "        return self.ele_p\n",
    "class Machine(CheckError):\n",
    "    def set_name(self):\n",
    "        self.m_name=input(\"제품 이름 : \")\n",
    "    def start_time(self):\n",
    "        print(f'제품의 시작시간을 입력하세요. :',end=' ')\n",
    "        self.s_time=CheckError.check_num_range(self,0,24)\n",
    "    def end_time(self):\n",
    "        print(f'제품의 종료시간을 입력하세요. :',end=' ')\n",
    "        self.e_time=CheckError.check_num_range(self,0,24)\n",
    "    def set_cost(self):\n",
    "        print('시간당 소비 전력량을 입력해 주세요(단위:kwh)',end=' ')\n",
    "        self.cost=CheckError.check_pnum(self)\n",
    "    def using_time(self):\n",
    "        if (self.e_time-self.s_time)>0:\n",
    "            self.u_time = self.e_time-self.s_time\n",
    "        elif (self.e_time-self.s_time)<0:\n",
    "            self.u_time=self.e_time-self.s_time+24\n",
    "        else:\n",
    "            self.u_time=0\n",
    "    def get_amount(self):\n",
    "        self.amount=self.u_time*self.cost\n",
    "        return self.amount\n",
    "    def machine_print(self):\n",
    "        print(f'제품이름 : {self.m_name}, 사용시간 : {self.u_time}, 사용전기량 : {self.amount}')\n",
    "\n",
    "class FramOne(Machine,CheckError,Electric):\n",
    "    def menu(self):\n",
    "        print('''\n",
    "        *********************************************************************\n",
    "\n",
    "                               전기료 분석 예측 프로그램                         \n",
    "\n",
    "                  (1):설정           (2):비용 예측         (3):뒤로가기\n",
    "\n",
    "        *********************************************************************\n",
    "        ''')\n",
    "\n",
    "        while 1:\n",
    "            print('메뉴선택 :',end='')\n",
    "            choice=CheckError.check_num_range(self,1,3)\n",
    "            machine=[]\n",
    "            if choice==1:\n",
    "                while 1:\n",
    "                    name=input()\n",
    "                    '%s'.format(name)=Machine()\n",
    "                    count.set_name()\n",
    "                    count.start_time()\n",
    "                    count.end_time()\n",
    "                    count.set_cost()\n",
    "                    count.using_time()\n",
    "                    num=count.get_amount()\n",
    "                    count.machine_print()\n",
    "                    print('다시입력하시겠습니까?[Y/N] :',end=' ')\n",
    "                    ch=CheckError.check_chr(self)\n",
    "                    if ch=='Y' or ch=='y':\n",
    "                        print('다시 입력 합니다. ') \n",
    "                    else:\n",
    "                        break\n",
    "            elif choice==2:\n",
    "                print(Electric.ele_price(self,num))\n",
    "                break\n",
    "start=FramOne()\n",
    "start.menu()"
   ]
  },
  {
   "cell_type": "code",
   "execution_count": 21,
   "id": "7936371b",
   "metadata": {},
   "outputs": [
    {
     "ename": "SyntaxError",
     "evalue": "invalid syntax (Temp/ipykernel_13476/3567277848.py, line 3)",
     "output_type": "error",
     "traceback": [
      "\u001b[1;36m  File \u001b[1;32m\"C:\\Users\\qkrrh\\AppData\\Local\\Temp/ipykernel_13476/3567277848.py\"\u001b[1;36m, line \u001b[1;32m3\u001b[0m\n\u001b[1;33m    class Machine\u001b[0m\n\u001b[1;37m                 ^\u001b[0m\n\u001b[1;31mSyntaxError\u001b[0m\u001b[1;31m:\u001b[0m invalid syntax\n"
     ]
    }
   ],
   "source": [
    "class Machine:\n",
    "    def newMachine(self):\n",
    "        class Machine\n",
    "    def set1(self,x,y):\n",
    "        return x+y\n",
    "obj=Machine()\n",
    "obj.set1(5,4)"
   ]
  },
  {
   "cell_type": "code",
   "execution_count": 16,
   "id": "2b00c446",
   "metadata": {},
   "outputs": [
    {
     "ename": "SyntaxError",
     "evalue": "invalid syntax (Temp/ipykernel_12064/2721922454.py, line 2)",
     "output_type": "error",
     "traceback": [
      "\u001b[1;36m  File \u001b[1;32m\"C:\\Users\\qkrrh\\AppData\\Local\\Temp/ipykernel_12064/2721922454.py\"\u001b[1;36m, line \u001b[1;32m2\u001b[0m\n\u001b[1;33m    '%s',%name=Machine\u001b[0m\n\u001b[1;37m         ^\u001b[0m\n\u001b[1;31mSyntaxError\u001b[0m\u001b[1;31m:\u001b[0m invalid syntax\n"
     ]
    }
   ],
   "source": [
    "name=input()\n",
    "'%s',%name=Machine\n"
   ]
  }
 ],
 "metadata": {
  "kernelspec": {
   "display_name": "Python 3 (ipykernel)",
   "language": "python",
   "name": "python3"
  },
  "language_info": {
   "codemirror_mode": {
    "name": "ipython",
    "version": 3
   },
   "file_extension": ".py",
   "mimetype": "text/x-python",
   "name": "python",
   "nbconvert_exporter": "python",
   "pygments_lexer": "ipython3",
   "version": "3.8.12"
  }
 },
 "nbformat": 4,
 "nbformat_minor": 5
}
