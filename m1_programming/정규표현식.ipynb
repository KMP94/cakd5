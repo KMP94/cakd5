{
 "cells": [
  {
   "cell_type": "markdown",
   "id": "51b9651f",
   "metadata": {},
   "source": [
    "## 정규표현식의 기초, 메타 문자\n",
    "- . ^ $ * + ? { } [ ] \\ | ( )\n",
    "- [   ] 문자 클래스\n",
    " - \\d 숫자와 매치,[0-9]와 동일한 표현식\n",
    " - \\D 숫자가 아닌 것과 매치, [^0-9]와 동일한 표현식\n",
    " - \\s whitspace 문자와 매치, [\\t\\n\\r\\f\\v]과 동일한 표현식\n",
    " - \\S whitspace 문자가 아닌것과 매치, [^\\t\\n\\r\\f\\v]과 동일한 표현식\n",
    " - \\w 문자 + 숫자와 매치, [a-zA-Z0-9]동일한 표현식\n",
    " - \\W 문자 + 숫자가 아닌 문자와 매치, [^a-zA-Z0-9]동일한 표현식\n",
    "\n",
    "- whitspace\n",
    " - 스페이스 바(아스키코드 32)\n",
    " - \\b 뒤로 한 칸 이동(BackSpace) (아스키코드 8)\n",
    " - \\t 수평탭 간격 띄우기\n",
    " - \\n 줄바꿈 \n",
    " - \\v 수직텝 간격 띄우기\n",
    " - \\f 프린트 출력 용지를 한 페이지 넘기\n",
    " - \\r 동일한 줄의 맨 앞에서 커서 이동\n",
    " \n",
    "- Dot(.) 메타 문자는 줄바꿈 문자인 \\n를 제외한 모든 문자와 매치됨을 의미\n",
    "- 반복(\\*) ca*t 0 부터 무한대로 반복 caaaa*t 매치 , c*t 매치\n",
    "- 반복(\\+) ca+t 최소 1번 이상 반복\n",
    "- ca{m,n} a 반복 횟수가 m부터 n까지인 것을 매치 \n",
    "- ca{2}t는 c+a(2번 반복)+t의 의미\n",
    "- 반복 횟수가 {1,}은 1회 이상, {0,} 0 이상인 경우로 +, * {0,1}은 반복횟수가 1 이하를 의미\n",
    "- ab?c b가 0-1번 사용되면 매치되는 것으로 ?는 앞에 b가 있어도 되고 없어도 된다.\n",
    "\n",
    "re 모듈 : 파이썬은 정규표현식을 지원하기 위해 기본으로 제공\n",
    "- re.compile의 결과로 리턴되는 객체를 이용하여 그 이후 작업 수행\n",
    "\n",
    "정규식을 이용한 문자열 검색\n",
    "- match(): 문자열이 처음부터 정규식과 매치되는지를 조사\n",
    "- search() : 문자열의 전체를 검색하여 정규식과 매치되는지 조사\n",
    "- findall() : 정규식과 매치되는 모든 문자열을 리스트로 리턴\n",
    "- finditer() : 정규식과 매치되는 모든 문자열을 반복 가능한 객체로 리턴"
   ]
  },
  {
   "cell_type": "code",
   "execution_count": 11,
   "id": "475bac02",
   "metadata": {},
   "outputs": [
    {
     "data": {
      "text/plain": [
       "<re.Match object; span=(0, 7), match='python '>"
      ]
     },
     "execution_count": 11,
     "metadata": {},
     "output_type": "execute_result"
    }
   ],
   "source": [
    "import re\n",
    "p=re.compile('[a-z]+\\s')\n",
    "m=p.match('python python')\n",
    "m"
   ]
  },
  {
   "cell_type": "code",
   "execution_count": 12,
   "id": "96ebdb3d",
   "metadata": {},
   "outputs": [
    {
     "data": {
      "text/plain": [
       "<re.Match object; span=(0, 7), match='python '>"
      ]
     },
     "execution_count": 12,
     "metadata": {},
     "output_type": "execute_result"
    }
   ],
   "source": [
    "re.match('[a-z]+\\s','python python')"
   ]
  },
  {
   "cell_type": "code",
   "execution_count": 16,
   "id": "2de5add4",
   "metadata": {},
   "outputs": [
    {
     "data": {
      "text/plain": [
       "['python ']"
      ]
     },
     "execution_count": 16,
     "metadata": {},
     "output_type": "execute_result"
    }
   ],
   "source": [
    "p.findall('python python')"
   ]
  },
  {
   "cell_type": "code",
   "execution_count": 15,
   "id": "25957854",
   "metadata": {},
   "outputs": [
    {
     "data": {
      "text/plain": [
       "['python ', 'python ']"
      ]
     },
     "execution_count": 15,
     "metadata": {},
     "output_type": "execute_result"
    }
   ],
   "source": [
    "p.findall('python python ')"
   ]
  },
  {
   "cell_type": "code",
   "execution_count": 28,
   "id": "9b748fbc",
   "metadata": {},
   "outputs": [
    {
     "name": "stdout",
     "output_type": "stream",
     "text": [
      "None\n"
     ]
    }
   ],
   "source": [
    "m=p.match('3python ') # 처음으로 입력받는 값이 매치 불가능 함으로 값이 없음\n",
    "print(m)"
   ]
  },
  {
   "cell_type": "code",
   "execution_count": 25,
   "id": "b241a407",
   "metadata": {},
   "outputs": [
    {
     "name": "stdout",
     "output_type": "stream",
     "text": [
      "<re.Match object; span=(1, 8), match='python '>\n"
     ]
    }
   ],
   "source": [
    "m=p.search('3python ')\n",
    "print(m)"
   ]
  },
  {
   "cell_type": "code",
   "execution_count": 31,
   "id": "ce61b90d",
   "metadata": {},
   "outputs": [
    {
     "data": {
      "text/plain": [
       "<re.Match object; span=(0, 6), match='banker'>"
      ]
     },
     "execution_count": 31,
     "metadata": {},
     "output_type": "execute_result"
    }
   ],
   "source": [
    "# 문자 클래스 : [] \n",
    "pattern=re.compile('[a-z]+')\n",
    "p1=pattern.search('Banker')\n",
    "p2=pattern.search('banker')\n",
    "print(p1)\n",
    "print(p2)"
   ]
  },
  {
   "cell_type": "code",
   "execution_count": 37,
   "id": "85b1633f",
   "metadata": {},
   "outputs": [
    {
     "data": {
      "text/plain": [
       "<re.Match object; span=(5, 6), match='a'>"
      ]
     },
     "execution_count": 37,
     "metadata": {},
     "output_type": "execute_result"
    }
   ],
   "source": [
    "import re\n",
    "re.search('[a]','12345abc')\n"
   ]
  },
  {
   "cell_type": "code",
   "execution_count": 36,
   "id": "ebd97894",
   "metadata": {},
   "outputs": [
    {
     "name": "stdout",
     "output_type": "stream",
     "text": [
      "<re.Match object; span=(5, 6), match='a'>\n"
     ]
    }
   ],
   "source": [
    "p = re.compile('[a]')\n",
    "s = p.search('12345abc')\n",
    "print(s)\n"
   ]
  },
  {
   "cell_type": "code",
   "execution_count": 40,
   "id": "f65080ce",
   "metadata": {},
   "outputs": [
    {
     "name": "stdout",
     "output_type": "stream",
     "text": [
      "<re.Match object; span=(5, 6), match='a'>\n"
     ]
    }
   ],
   "source": [
    "pattern=re.compile('[a]')\n",
    "p1=pattern.search('12345abc')\n",
    "print(p1)\n"
   ]
  },
  {
   "cell_type": "code",
   "execution_count": 62,
   "id": "53d80dd9",
   "metadata": {},
   "outputs": [
    {
     "data": {
      "text/plain": [
       "'a'"
      ]
     },
     "execution_count": 62,
     "metadata": {},
     "output_type": "execute_result"
    }
   ],
   "source": [
    "import re\n",
    "pattern = re.compile('[a-z]')\n",
    "text='12345abc'\n",
    "m=pattern.search(text)\n",
    "m.group()"
   ]
  },
  {
   "cell_type": "code",
   "execution_count": 64,
   "id": "59a0a757",
   "metadata": {},
   "outputs": [
    {
     "data": {
      "text/plain": [
       "'A'"
      ]
     },
     "execution_count": 64,
     "metadata": {},
     "output_type": "execute_result"
    }
   ],
   "source": [
    "import re\n",
    "pattern = re.compile('[A-Z]')\n",
    "text='12345Abc'\n",
    "m=pattern.search(text)\n",
    "m.group()"
   ]
  },
  {
   "cell_type": "code",
   "execution_count": 47,
   "id": "e858e4cb",
   "metadata": {},
   "outputs": [
    {
     "data": {
      "text/plain": [
       "'대'"
      ]
     },
     "execution_count": 47,
     "metadata": {},
     "output_type": "execute_result"
    }
   ],
   "source": [
    "#KOREA 대한민국에서 대만 출력\n",
    "import re\n",
    "pattern = re.compile('[대]')\n",
    "text='KOREA대한민국'\n",
    "m=pattern.search(text)\n",
    "m.group()"
   ]
  },
  {
   "cell_type": "code",
   "execution_count": 21,
   "id": "2ee028f5",
   "metadata": {},
   "outputs": [
    {
     "data": {
      "text/plain": [
       "['대', '한', '민', '국']"
      ]
     },
     "execution_count": 21,
     "metadata": {},
     "output_type": "execute_result"
    }
   ],
   "source": [
    "import re\n",
    "p=re.compile('[가-힣]')\n",
    "m=p.findall('korea대한민국')\n",
    "\n",
    "m"
   ]
  },
  {
   "cell_type": "code",
   "execution_count": 8,
   "id": "1ca2589a",
   "metadata": {},
   "outputs": [
    {
     "data": {
      "text/plain": [
       "'122333c'"
      ]
     },
     "execution_count": 8,
     "metadata": {},
     "output_type": "execute_result"
    }
   ],
   "source": [
    "#'122333c'를 모두 출력하세여\n",
    "import re\n",
    "# pattern = re.compile('[0-9a-z]+')\n",
    "p = re.compile('12{2}3{3}c')\n",
    "text='122333c'\n",
    "m=p.search(text)\n",
    "m.group()"
   ]
  },
  {
   "cell_type": "code",
   "execution_count": 9,
   "id": "0602e27b",
   "metadata": {},
   "outputs": [
    {
     "data": {
      "text/plain": [
       "'aaaaBBBBccccDDDDeee'"
      ]
     },
     "execution_count": 9,
     "metadata": {},
     "output_type": "execute_result"
    }
   ],
   "source": [
    "#aaaaBBBBccccDDDDeee 모두 출력\n",
    "import re\n",
    "p = re.compile('a{4}B{4}c{4}D{4}e{3}')\n",
    "text='aaaaBBBBccccDDDDeee'\n",
    "m=p.search(text)\n",
    "m.group()"
   ]
  },
  {
   "cell_type": "code",
   "execution_count": 48,
   "id": "2fb92792",
   "metadata": {},
   "outputs": [
    {
     "name": "stdout",
     "output_type": "stream",
     "text": [
      "<re.Match object; span=(1, 2), match='C'>\n",
      "<re.Match object; span=(0, 1), match='C'>\n",
      "<re.Match object; span=(2, 3), match='C'>\n"
     ]
    }
   ],
   "source": [
    "#BC CC ABC 모두 C가 출려되\n",
    "import re\n",
    "# pattern= re.compile('[C]')\n",
    "pattern = re.compile('A?C')\n",
    "text1 = 'BC'\n",
    "text2 = 'CC'\n",
    "text3 = 'ABC'\n",
    "p1=pattern.search(text1)\n",
    "p2=pattern.search(text2)\n",
    "p3=pattern.search(text3)\n",
    "print(p1)\n",
    "print(p2)\n",
    "print(p3)"
   ]
  },
  {
   "cell_type": "code",
   "execution_count": 75,
   "id": "7ae80dd4",
   "metadata": {},
   "outputs": [
    {
     "name": "stdout",
     "output_type": "stream",
     "text": [
      "['life', 'is', 'too', 'short']\n",
      "<re.Match object; span=(0, 4), match='life'>\n",
      "<re.Match object; span=(0, 4), match='life'>\n"
     ]
    }
   ],
   "source": [
    "p=re.compile('[a-z]+')\n",
    "result1 = p.findall('life is too short')\n",
    "result2 = p.match('life is too short')\n",
    "result3 = p.search('life is too short')\n",
    "print(result1)\n",
    "print(result2)\n",
    "print(result3)"
   ]
  },
  {
   "cell_type": "code",
   "execution_count": 37,
   "id": "a367f659",
   "metadata": {},
   "outputs": [
    {
     "data": {
      "text/plain": [
       "[<re.Match object; span=(0, 4), match='life'>,\n",
       " <re.Match object; span=(5, 7), match='if'>,\n",
       " <re.Match object; span=(8, 11), match='too'>,\n",
       " <re.Match object; span=(12, 17), match='short'>]"
      ]
     },
     "execution_count": 37,
     "metadata": {},
     "output_type": "execute_result"
    }
   ],
   "source": [
    "#finditer는 findall과 동일하지만 그 결과가 반복 가능한 객체를 돌려준다\n",
    "import re\n",
    "p=re.compile('[a-z]+')\n",
    "result=p.finditer('life if too short')\n",
    "list(result)\n",
    "# for r in result:\n",
    "#     print(r.group())"
   ]
  },
  {
   "cell_type": "code",
   "execution_count": 39,
   "id": "9998eb3a",
   "metadata": {},
   "outputs": [
    {
     "data": {
      "text/plain": [
       "'032-232-3245'"
      ]
     },
     "execution_count": 39,
     "metadata": {},
     "output_type": "execute_result"
    }
   ],
   "source": [
    "import re\n",
    "text='문의사항이 있으면 032-232-3245로 연락주시기 바랍니다.'\n",
    "pattern = re.compile('\\d{3}-\\d{3}-\\d{4}')\n",
    "p1=pattern.search(text)\n",
    "p1.group()"
   ]
  },
  {
   "cell_type": "code",
   "execution_count": null,
   "id": "9820c1f1",
   "metadata": {},
   "outputs": [],
   "source": []
  },
  {
   "cell_type": "code",
   "execution_count": 48,
   "id": "8fd257e2",
   "metadata": {},
   "outputs": [
    {
     "data": {
      "text/plain": [
       "['1', '2', '3', '4']"
      ]
     },
     "execution_count": 48,
     "metadata": {},
     "output_type": "execute_result"
    }
   ],
   "source": [
    "import re\n",
    "p=re.compile('[0-9]')\n",
    "p1=p.findall('1234a1234')\n",
    "# p1.sort()\n",
    "list(sorted(set(p1)))"
   ]
  },
  {
   "cell_type": "code",
   "execution_count": 50,
   "id": "60dd827e",
   "metadata": {},
   "outputs": [
    {
     "data": {
      "text/plain": [
       "['1', '2', '3', '4', '1', '2', '3', '4']"
      ]
     },
     "execution_count": 50,
     "metadata": {},
     "output_type": "execute_result"
    }
   ],
   "source": [
    "import re\n",
    "p=re.compile('[1234]')\n",
    "p1=p.findall('1234a1234')\n",
    "# p1.sort()\n",
    "list(p1)"
   ]
  },
  {
   "cell_type": "code",
   "execution_count": 57,
   "id": "d0c478c6",
   "metadata": {},
   "outputs": [
    {
     "name": "stdout",
     "output_type": "stream",
     "text": [
      "['Python', 'is', 'very', 'good', 'programming', 'language']\n"
     ]
    }
   ],
   "source": [
    "#'Python is very good programmingl language!'에서\n",
    "p=re.compile('[a-zA-Z]+')\n",
    "text='Python3 is very good programming language!'\n",
    "p1=p.findall(text)\n",
    "print(p1)"
   ]
  },
  {
   "cell_type": "code",
   "execution_count": 65,
   "id": "9c0cde53",
   "metadata": {},
   "outputs": [
    {
     "name": "stdout",
     "output_type": "stream",
     "text": [
      "python\n",
      "0\n",
      "6\n",
      "(0, 6)\n"
     ]
    }
   ],
   "source": [
    "# match 객체의 메소드\n",
    "import re\n",
    "p=re.compile('[a-z]+')\n",
    "m=p.match('python')\n",
    "print(m.group())\n",
    "print(m.start())\n",
    "print(m.end())\n",
    "print(m.span())"
   ]
  },
  {
   "cell_type": "code",
   "execution_count": 68,
   "id": "97de7db0",
   "metadata": {},
   "outputs": [
    {
     "name": "stdout",
     "output_type": "stream",
     "text": [
      "python\n",
      "2\n",
      "8\n",
      "(2, 8)\n"
     ]
    }
   ],
   "source": [
    "m=p.search('3 python')\n",
    "print(m.group())\n",
    "print(m.start())\n",
    "print(m.end())\n",
    "print(m.span())"
   ]
  },
  {
   "cell_type": "code",
   "execution_count": 75,
   "id": "7055bec3",
   "metadata": {},
   "outputs": [
    {
     "name": "stdout",
     "output_type": "stream",
     "text": [
      "python\n",
      "0\n",
      "6\n",
      "(0, 6)\n"
     ]
    }
   ],
   "source": [
    "#모듈 단위로 수정하기\n",
    "m=re.match('[a-z]+','python')\n",
    "print(m.group())\n",
    "print(m.start())\n",
    "print(m.end())\n",
    "print(m.span())"
   ]
  },
  {
   "cell_type": "code",
   "execution_count": 3,
   "id": "87b32912",
   "metadata": {},
   "outputs": [
    {
     "name": "stdout",
     "output_type": "stream",
     "text": [
      "None\n",
      "acb\n",
      "a123?ab\n"
     ]
    }
   ],
   "source": [
    "#Dot(.) 메타 문자 \n",
    "import re\n",
    "p=re.compile('a.+b')\n",
    "m1 = p.match('a\\nb')\n",
    "m2=p.match('acb')\n",
    "m3=p.match('a123?ab')\n",
    "print(m1)\n",
    "print(m2.group())\n",
    "print(m3.group())"
   ]
  },
  {
   "cell_type": "code",
   "execution_count": 6,
   "id": "df87e664",
   "metadata": {},
   "outputs": [
    {
     "data": {
      "text/plain": [
       "'a\\nb'"
      ]
     },
     "execution_count": 6,
     "metadata": {},
     "output_type": "execute_result"
    }
   ],
   "source": [
    "p=re.compile('a.b',re.DOTALL)\n",
    "m=p.match('a\\nb')\n",
    "m.group()"
   ]
  },
  {
   "cell_type": "code",
   "execution_count": 11,
   "id": "0d643218",
   "metadata": {},
   "outputs": [
    {
     "name": "stdout",
     "output_type": "stream",
     "text": [
      "<re.Match object; span=(0, 9), match='AqwdQWEFz'>\n",
      "<re.Match object; span=(0, 9), match='aqwdQWEFz'>\n",
      "<re.Match object; span=(0, 13), match='qASweqwdQWEFz'>\n",
      "<re.Match object; span=(0, 3), match='mel'>\n"
     ]
    },
    {
     "data": {
      "text/plain": [
       "'AqwdQWEFz'"
      ]
     },
     "execution_count": 11,
     "metadata": {},
     "output_type": "execute_result"
    }
   ],
   "source": [
    "#re.IFNORANCE 또는 re.I 옵션은 대소문자 구분없이 매치를 수행시 사용\n",
    "p=re.compile('[a-z]+',re.I)\n",
    "print(p.match('AqwdQWEFz'))\n",
    "print(p.match('aqwdQWEFz'))\n",
    "print(p.match('qASweqwdQWEFz'))\n",
    "print(p.match('mel2ew'))\n",
    "\n",
    "m.group()"
   ]
  },
  {
   "cell_type": "code",
   "execution_count": 12,
   "id": "134b8b22",
   "metadata": {},
   "outputs": [
    {
     "name": "stdout",
     "output_type": "stream",
     "text": [
      "<re.Match object; span=(0, 9), match='AqwdQWEFz'>\n",
      "<re.Match object; span=(0, 9), match='aqwdQWEFz'>\n",
      "<re.Match object; span=(2, 15), match='qASweqwdQWEFz'>\n",
      "<re.Match object; span=(0, 3), match='mel'>\n"
     ]
    }
   ],
   "source": [
    "p=re.compile('[a-z]+',re.I)\n",
    "print(p.search('AqwdQWEFz'))\n",
    "print(p.search('aqwdQWEFz'))\n",
    "print(p.search('23qASweqwdQWEFz'))\n",
    "print(p.search('mel2ew'))\n"
   ]
  },
  {
   "cell_type": "code",
   "execution_count": 3,
   "id": "942b6336",
   "metadata": {},
   "outputs": [
    {
     "name": "stdout",
     "output_type": "stream",
     "text": [
      "['python one']\n"
     ]
    }
   ],
   "source": [
    "import re          # ^ 문자열 처음에 위치\n",
    "p=re.compile('^python\\s\\w+')  #처음에 파이썬이 와야함  파이썬 스페이스 문자\n",
    "data = \"\"\"python one\n",
    "life is too short\n",
    "python two\n",
    "you need python\n",
    "python three\"\"\"\n",
    "print(p.findall(data))"
   ]
  },
  {
   "cell_type": "code",
   "execution_count": 31,
   "id": "10770b71",
   "metadata": {},
   "outputs": [
    {
     "name": "stdout",
     "output_type": "stream",
     "text": [
      "['python three']\n"
     ]
    }
   ],
   "source": [
    "p=re.compile('python\\s\\w+$')   # 마지막에서 검출 $문자열의 끝에 매치\n",
    "data = \"\"\"python one\n",
    "life is too short\n",
    "python two\n",
    "you need python\n",
    "python three\"\"\"\n",
    "\n",
    "print(p.findall(data))"
   ]
  },
  {
   "cell_type": "code",
   "execution_count": 58,
   "id": "04399ee8",
   "metadata": {},
   "outputs": [
    {
     "name": "stdout",
     "output_type": "stream",
     "text": [
      "<re.Match object; span=(0, 4), match='Crow'>\n",
      "<re.Match object; span=(0, 5), match='Servo'>\n"
     ]
    }
   ],
   "source": [
    "# | or 와 동일한 의미\n",
    "p=re.compile('Crow|Servo')\n",
    "m=p.match('CrowHello')\n",
    "print(m)\n",
    "m2=p.match('ServoHello')\n",
    "print(m2)"
   ]
  },
  {
   "cell_type": "code",
   "execution_count": 76,
   "id": "fde0547b",
   "metadata": {},
   "outputs": [
    {
     "data": {
      "text/plain": [
       "<re.Match object; span=(13, 17), match='home'>"
      ]
     },
     "execution_count": 76,
     "metadata": {},
     "output_type": "execute_result"
    }
   ],
   "source": [
    "# we are going home 에서home만 출력하세요\n",
    "m=re.search('home$','we are going home')   \n",
    "m"
   ]
  },
  {
   "cell_type": "code",
   "execution_count": 6,
   "id": "d14492b8",
   "metadata": {},
   "outputs": [
    {
     "data": {
      "text/plain": [
       "'home'"
      ]
     },
     "execution_count": 6,
     "metadata": {},
     "output_type": "execute_result"
    }
   ],
   "source": [
    "#home sweet에서 home\n",
    "import re\n",
    "m=re.match('home','home sweet')\n",
    "m.group()"
   ]
  },
  {
   "cell_type": "code",
   "execution_count": 2,
   "id": "ac165b8d",
   "metadata": {},
   "outputs": [
    {
     "data": {
      "text/plain": [
       "'199305'"
      ]
     },
     "execution_count": 2,
     "metadata": {},
     "output_type": "execute_result"
    }
   ],
   "source": [
    "# 199305,1923A a93247 에서 199305\n",
    "m=re.match('\\d+','199305,1923A, a93247')\n",
    "m.group()"
   ]
  },
  {
   "cell_type": "code",
   "execution_count": 56,
   "id": "6b68bdae",
   "metadata": {},
   "outputs": [
    {
     "data": {
      "text/plain": [
       "['\\\\section', '\\\\section']"
      ]
     },
     "execution_count": 56,
     "metadata": {},
     "output_type": "execute_result"
    }
   ],
   "source": [
    "# Raw String 규칙\n",
    "# \n",
    "import re\n",
    "p=re.compile(r'\\\\section')\n",
    "m=p.match('\\section sdad')\n",
    "m=p.findall('\\section\\section')\n",
    "m"
   ]
  },
  {
   "cell_type": "code",
   "execution_count": 90,
   "id": "ffa249bb",
   "metadata": {},
   "outputs": [
    {
     "name": "stdout",
     "output_type": "stream",
     "text": [
      "<re.Match object; span=(3, 9), match='ABCDEF'>\n",
      "ABCDEF\n",
      "ABCDEF\n",
      "AB\n",
      "CD\n",
      "EF\n"
     ]
    }
   ],
   "source": [
    "#그룹핑 : 매치된 문자열 중에서 특정 부분의 문자열만 뽑아내는 경우 ()을 만들어 준다.\n",
    "#grop(0) 매치된 전체 문자열 출력\n",
    "p=re.compile('((AB)(CD)(EF))+')\n",
    "p=re.compile('((A(B)(C)D)(EF))+')\n",
    "m=p.search('DEFABCDEFDEF OK?')\n",
    "print(m)\n",
    "print(m.group(0))\n",
    "print(m.group(1))\n",
    "print(m.group(2))\n",
    "print(m.group(3))\n",
    "print(m.group(4))"
   ]
  },
  {
   "cell_type": "code",
   "execution_count": 95,
   "id": "1ee37447",
   "metadata": {},
   "outputs": [
    {
     "name": "stdout",
     "output_type": "stream",
     "text": [
      "abcdefghi\n",
      "e\n"
     ]
    }
   ],
   "source": [
    "#abcdefghij 에 대하여# re 5개로 컴파일하여 group() 함수를 이용하여 abcdefghi'와 ' e\n",
    "\n",
    "p=re.compile('((a(bc)d(e)f(gh)i)j)')\n",
    "m=p.search('abcdefghij')\n",
    "#print(m)\n",
    "#print(m.group(0))\n",
    "#print(m.group(1))\n",
    "print(m.group(2))\n",
    "#print(m.group(3))\n",
    "print(m.group(4))\n",
    "#print(m.group(5))\n"
   ]
  },
  {
   "cell_type": "code",
   "execution_count": 16,
   "id": "78e727f6",
   "metadata": {},
   "outputs": [
    {
     "name": "stdout",
     "output_type": "stream",
     "text": [
      "abcdefghij\n",
      "def\n"
     ]
    }
   ],
   "source": [
    "import re\n",
    "p=re.compile('(a(b(c(d(e)f)g)h)i)j')\n",
    "m=p.search('abcdefghij')\n",
    "print(m.group(0))\n",
    "print(m.group(4))"
   ]
  },
  {
   "cell_type": "code",
   "execution_count": null,
   "id": "e9a92a40",
   "metadata": {},
   "outputs": [],
   "source": []
  },
  {
   "cell_type": "code",
   "execution_count": null,
   "id": "f592a887",
   "metadata": {},
   "outputs": [],
   "source": []
  }
 ],
 "metadata": {
  "kernelspec": {
   "display_name": "Python 3 (ipykernel)",
   "language": "python",
   "name": "python3"
  },
  "language_info": {
   "codemirror_mode": {
    "name": "ipython",
    "version": 3
   },
   "file_extension": ".py",
   "mimetype": "text/x-python",
   "name": "python",
   "nbconvert_exporter": "python",
   "pygments_lexer": "ipython3",
   "version": "3.8.12"
  },
  "toc": {
   "base_numbering": 1,
   "nav_menu": {},
   "number_sections": true,
   "sideBar": true,
   "skip_h1_title": true,
   "title_cell": "Table of Contents",
   "title_sidebar": "Contents",
   "toc_cell": false,
   "toc_position": {
    "height": "calc(100% - 180px)",
    "left": "10px",
    "top": "150px",
    "width": "426.656px"
   },
   "toc_section_display": true,
   "toc_window_display": true
  },
  "varInspector": {
   "cols": {
    "lenName": 16,
    "lenType": 16,
    "lenVar": 40
   },
   "kernels_config": {
    "python": {
     "delete_cmd_postfix": "",
     "delete_cmd_prefix": "del ",
     "library": "var_list.py",
     "varRefreshCmd": "print(var_dic_list())"
    },
    "r": {
     "delete_cmd_postfix": ") ",
     "delete_cmd_prefix": "rm(",
     "library": "var_list.r",
     "varRefreshCmd": "cat(var_dic_list()) "
    }
   },
   "types_to_exclude": [
    "module",
    "function",
    "builtin_function_or_method",
    "instance",
    "_Feature"
   ],
   "window_display": false
  }
 },
 "nbformat": 4,
 "nbformat_minor": 5
}
