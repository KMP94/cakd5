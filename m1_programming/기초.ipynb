{
 "cells": [
  {
   "cell_type": "code",
   "execution_count": 4,
   "id": "b00e61d9",
   "metadata": {},
   "outputs": [
    {
     "name": "stdout",
     "output_type": "stream",
     "text": [
      "hello world\n"
     ]
    }
   ],
   "source": [
    "print(\"hello world\")"
   ]
  },
  {
   "cell_type": "code",
   "execution_count": 2,
   "id": "adbb5f54",
   "metadata": {},
   "outputs": [
    {
     "name": "stdout",
     "output_type": "stream",
     "text": [
      "2.8000000000000007\n"
     ]
    }
   ],
   "source": [
    "a=4.6\n",
    "b=12\n",
    "print(b%a)"
   ]
  },
  {
   "cell_type": "code",
   "execution_count": 3,
   "id": "c95175db",
   "metadata": {},
   "outputs": [
    {
     "name": "stdout",
     "output_type": "stream",
     "text": [
      "Hello Python\n"
     ]
    }
   ],
   "source": [
    "print(\"Hello Python\")"
   ]
  },
  {
   "cell_type": "markdown",
   "id": "1e53f08d",
   "metadata": {},
   "source": [
    "str1[]={\"가방\",\"나무\",\"사과\"}\n",
    "\n",
    "for i "
   ]
  },
  {
   "cell_type": "markdown",
   "id": "93b3defa",
   "metadata": {},
   "source": [
    "## 파이썬 기초\n",
    "### 파이썬이란\n",
    "#### 파이썬의 특징\n",
    "- 1990년\n",
    "- 컴퓨터"
   ]
  },
  {
   "cell_type": "code",
   "execution_count": 4,
   "id": "4d948047",
   "metadata": {},
   "outputs": [
    {
     "name": "stdout",
     "output_type": "stream",
     "text": [
      "5\n",
      "입력값\n",
      "51-\n",
      "5\n"
     ]
    }
   ],
   "source": [
    "a=input()\n",
    "print(\"입력값\")\n",
    "input(a)\n",
    "print(a)"
   ]
  }
 ],
 "metadata": {
  "kernelspec": {
   "display_name": "Python 3 (ipykernel)",
   "language": "python",
   "name": "python3"
  },
  "language_info": {
   "codemirror_mode": {
    "name": "ipython",
    "version": 3
   },
   "file_extension": ".py",
   "mimetype": "text/x-python",
   "name": "python",
   "nbconvert_exporter": "python",
   "pygments_lexer": "ipython3",
   "version": "3.8.12"
  }
 },
 "nbformat": 4,
 "nbformat_minor": 5
}
