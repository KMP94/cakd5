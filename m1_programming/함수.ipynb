{
 "cells": [
  {
   "cell_type": "code",
   "execution_count": 3,
   "id": "6244a4be",
   "metadata": {},
   "outputs": [
    {
     "data": {
      "text/plain": [
       "'Hi'"
      ]
     },
     "execution_count": 3,
     "metadata": {},
     "output_type": "execute_result"
    }
   ],
   "source": [
    "# 입력값이  없고 결과값만 있는 함수\n",
    "def say():\n",
    "    return 'Hi'\n",
    "say()\n"
   ]
  },
  {
   "cell_type": "code",
   "execution_count": 4,
   "id": "003554ee",
   "metadata": {},
   "outputs": [
    {
     "name": "stdout",
     "output_type": "stream",
     "text": [
      "4, 5의 합은 9입니다.\n"
     ]
    }
   ],
   "source": [
    "#입력값은 있고 결과값이 없는 함수\n",
    "#결과값은오직 return명령어로만 돌려 받을 수 있다\n",
    "def add(a,b):\n",
    "    print(\"%d, %d의 합은 %d입니다.\"%(a,b,a+b))\n",
    "add(4,5)"
   ]
  },
  {
   "cell_type": "code",
   "execution_count": 5,
   "id": "54a5c921",
   "metadata": {},
   "outputs": [
    {
     "name": "stdout",
     "output_type": "stream",
     "text": [
      "Hi\n"
     ]
    }
   ],
   "source": [
    "#입력값도 결과값도 없는 함수\n",
    "def say():\n",
    "    print('Hi')\n",
    "say()"
   ]
  },
  {
   "cell_type": "code",
   "execution_count": 11,
   "id": "a41488b3",
   "metadata": {},
   "outputs": [
    {
     "name": "stdout",
     "output_type": "stream",
     "text": [
      "apple tree\n",
      "[4, 5, 6] [1, 2, 3]\n"
     ]
    }
   ],
   "source": [
    "# 입력값, 결과값이 모두 있는 함수\n",
    "def exchange(a,b):\n",
    "    t=a\n",
    "    a=b\n",
    "    b=t\n",
    "    return print(\"{} {}\".format(a,b))\n",
    "exchange(\"tree\",\"apple\")\n",
    "list1=[1,2,3]\n",
    "list2=[4,5,6]\n",
    "exchange(list1,list2)"
   ]
  },
  {
   "cell_type": "code",
   "execution_count": 13,
   "id": "8ace921b",
   "metadata": {},
   "outputs": [
    {
     "data": {
      "text/plain": [
       "15"
      ]
     },
     "execution_count": 13,
     "metadata": {},
     "output_type": "execute_result"
    }
   ],
   "source": [
    "#여러 개의 입력값을 받는 함수 만들기\n",
    "# *args 처럼 입력 변수명 앞에 *을 붙이면 입력값들을 전부 모아서 튜플로 만들어 줌\n",
    "def add_many(*args):\n",
    "    sum=0\n",
    "    for i in args:\n",
    "        sum += i\n",
    "    return sum\n",
    "\n",
    "add_many(1,2,3,4,5)"
   ]
  },
  {
   "cell_type": "code",
   "execution_count": 17,
   "id": "67b54068",
   "metadata": {},
   "outputs": [
    {
     "name": "stdout",
     "output_type": "stream",
     "text": [
      "(7, 12)\n"
     ]
    }
   ],
   "source": [
    "#함수의 반환값은 언제나 하나임\n",
    "def add_and_mul(a,b):\n",
    "    return a+b, a*b\n",
    "\n",
    "result = add_and_mul(3,4)\n",
    "print(result)"
   ]
  },
  {
   "cell_type": "code",
   "execution_count": 27,
   "id": "93834751",
   "metadata": {},
   "outputs": [
    {
     "data": {
      "text/plain": [
       "6720"
      ]
     },
     "execution_count": 27,
     "metadata": {},
     "output_type": "execute_result"
    }
   ],
   "source": [
    "def add_mul(choice, *args):\n",
    "    sum=0\n",
    "    mul=1\n",
    "    if choice == \"*\":\n",
    "        for i in args:\n",
    "            mul*=i\n",
    "        return mul\n",
    "    elif(choice==\"+\"):\n",
    "        for i in args:\n",
    "            sum+=i\n",
    "        return sum\n",
    "add_mul('+',4,5,6,7,8)"
   ]
  },
  {
   "cell_type": "code",
   "execution_count": 35,
   "id": "5a374e56",
   "metadata": {},
   "outputs": [
    {
     "data": {
      "text/plain": [
       "0.0001488095238095238"
      ]
     },
     "execution_count": 35,
     "metadata": {},
     "output_type": "execute_result"
    }
   ],
   "source": [
    "def sub_div_mul(choice,*args):\n",
    "    result=0\n",
    "    if choice == \"sub\":\n",
    "        for i in args:\n",
    "            result-=i\n",
    "        return mul\n",
    "    elif choice==\"div\":\n",
    "        result=1\n",
    "        for i in args:\n",
    "            if(1==0):\n",
    "                print(f'오류')\n",
    "            else:\n",
    "                result /= i\n",
    "        return result\n",
    "    else:\n",
    "        print(\"사용할수 없는 연산입니다.\")\n",
    "sub_div_mul('div',4,5,6,7,8)"
   ]
  },
  {
   "cell_type": "code",
   "execution_count": 5,
   "id": "9050f64c",
   "metadata": {},
   "outputs": [
    {
     "name": "stdout",
     "output_type": "stream",
     "text": [
      "None\n",
      "1\n"
     ]
    }
   ],
   "source": [
    "#  함수 안에서 건언된 변수의 효력 범위\n",
    "a=1\n",
    "def vartest(a):\n",
    "    a=a+1\n",
    "print(vartest(a))\n",
    "print(a)"
   ]
  },
  {
   "cell_type": "code",
   "execution_count": 6,
   "id": "b9cd9ef4",
   "metadata": {},
   "outputs": [
    {
     "data": {
      "text/plain": [
       "2"
      ]
     },
     "execution_count": 6,
     "metadata": {},
     "output_type": "execute_result"
    }
   ],
   "source": [
    "# 함수 안에서 함수 밖의 변수를 변경하는 방법 -return 이용\n",
    "a=1\n",
    "def vartest(a):\n",
    "    a=a+1\n",
    "    return a\n",
    "vartest(a)"
   ]
  },
  {
   "cell_type": "code",
   "execution_count": 4,
   "id": "e323805d",
   "metadata": {},
   "outputs": [
    {
     "name": "stdout",
     "output_type": "stream",
     "text": [
      "4\n"
     ]
    }
   ],
   "source": [
    "#global 명령을 이용하는 방법\n",
    "a=3\n",
    "def vartest():\n",
    "    global a\n",
    "    a=a+1\n",
    "vartest()\n",
    "print(a)"
   ]
  },
  {
   "cell_type": "code",
   "execution_count": 12,
   "id": "bca447f2",
   "metadata": {},
   "outputs": [
    {
     "name": "stdout",
     "output_type": "stream",
     "text": [
      "28\n"
     ]
    }
   ],
   "source": [
    "import numpy as np\n",
    "a=np.random.randint(56)\n",
    "print(a)"
   ]
  },
  {
   "cell_type": "code",
   "execution_count": 13,
   "id": "8c964f94",
   "metadata": {},
   "outputs": [
    {
     "data": {
      "text/plain": [
       "'D:\\\\cakd5\\\\workspace\\\\m1_programming'"
      ]
     },
     "execution_count": 13,
     "metadata": {},
     "output_type": "execute_result"
    }
   ],
   "source": [
    "%pwd"
   ]
  },
  {
   "cell_type": "code",
   "execution_count": 14,
   "id": "2964a0b2",
   "metadata": {},
   "outputs": [],
   "source": [
    "# 파일 읽고 쓰기\n",
    "f = open('test1.txt','w')  # write read add\n",
    "for i in range(1,11):\n",
    "    data = \"%d번째 줄입니다.\\n\"%i\n",
    "    f.write(data)\n",
    "f.close()"
   ]
  },
  {
   "cell_type": "code",
   "execution_count": 3,
   "id": "3b34fe61",
   "metadata": {},
   "outputs": [],
   "source": [
    "# 파일 읽고 쓰기\n",
    "f = open('test1.txt','a')  # write read add\n",
    "for i in range(10,20):\n",
    "    data = (\"%d번째 줄입니다.\\n\"%i)\n",
    "    f.write(data)\n",
    "f.close()"
   ]
  },
  {
   "cell_type": "code",
   "execution_count": 28,
   "id": "16cbd1a9",
   "metadata": {},
   "outputs": [
    {
     "name": "stdout",
     "output_type": "stream",
     "text": [
      "1번째 줄입니다.\n",
      "\n"
     ]
    }
   ],
   "source": [
    "f=open('test1.txt','r')\n",
    "line=f.readline()\n",
    "print(line)\n",
    "f.close()"
   ]
  },
  {
   "cell_type": "code",
   "execution_count": 39,
   "id": "bba857f5",
   "metadata": {},
   "outputs": [
    {
     "name": "stdout",
     "output_type": "stream",
     "text": [
      "1번째 줄입니다.\n",
      "2번째 줄입니다.\n",
      "3번째 줄입니다.\n",
      "4번째 줄입니다.\n",
      "5번째 줄입니다.\n",
      "6번째 줄입니다.\n",
      "7번째 줄입니다.\n",
      "8번째 줄입니다.\n",
      "9번째 줄입니다.\n",
      "10번째 줄입니다.\n",
      "10번째 줄입니다.\n",
      "11번째 줄입니다.\n",
      "12번째 줄입니다.\n",
      "13번째 줄입니다.\n",
      "14번째 줄입니다.\n",
      "15번째 줄입니다.\n",
      "16번째 줄입니다.\n",
      "17번째 줄입니다.\n",
      "18번째 줄입니다.\n",
      "19번째 줄입니다.\n",
      "\n"
     ]
    }
   ],
   "source": [
    "f=open('test1.txt','r')\n",
    "line=f.read()\n",
    "print(line)\n",
    "f.close()"
   ]
  },
  {
   "cell_type": "code",
   "execution_count": 41,
   "id": "f809010a",
   "metadata": {},
   "outputs": [
    {
     "name": "stdout",
     "output_type": "stream",
     "text": [
      "1번째 줄입니다.\n",
      "2번째 줄입니다.\n",
      "3번째 줄입니다.\n",
      "4번째 줄입니다.\n",
      "5번째 줄입니다.\n",
      "6번째 줄입니다.\n",
      "7번째 줄입니다.\n",
      "8번째 줄입니다.\n",
      "9번째 줄입니다.\n",
      "10번째 줄입니다.\n",
      "10번째 줄입니다.\n",
      "11번째 줄입니다.\n",
      "12번째 줄입니다.\n",
      "13번째 줄입니다.\n",
      "14번째 줄입니다.\n",
      "15번째 줄입니다.\n",
      "16번째 줄입니다.\n",
      "17번째 줄입니다.\n",
      "18번째 줄입니다.\n",
      "19번째 줄입니다.\n"
     ]
    }
   ],
   "source": [
    "f=open('test1.txt','r')\n",
    "while True:\n",
    "    line=f.readline()\n",
    "    print(line,end='')\n",
    "    if not line:\n",
    "        break\n",
    "f.close()"
   ]
  },
  {
   "cell_type": "code",
   "execution_count": 42,
   "id": "b679fd4f",
   "metadata": {},
   "outputs": [
    {
     "name": "stdout",
     "output_type": "stream",
     "text": [
      "1번째 줄입니다.\n",
      "2번째 줄입니다.\n",
      "3번째 줄입니다.\n",
      "4번째 줄입니다.\n",
      "5번째 줄입니다.\n",
      "6번째 줄입니다.\n",
      "7번째 줄입니다.\n",
      "8번째 줄입니다.\n",
      "9번째 줄입니다.\n",
      "10번째 줄입니다.\n",
      "10번째 줄입니다.\n",
      "11번째 줄입니다.\n",
      "12번째 줄입니다.\n",
      "13번째 줄입니다.\n",
      "14번째 줄입니다.\n",
      "15번째 줄입니다.\n",
      "16번째 줄입니다.\n",
      "17번째 줄입니다.\n",
      "18번째 줄입니다.\n",
      "19번째 줄입니다.\n",
      "\n"
     ]
    }
   ],
   "source": [
    "#f.read()는 파일 내용 전체를 문자열로 반환\n",
    "f=open('test1.txt','r')\n",
    "data=f.read()\n",
    "print(data)\n",
    "f.close()"
   ]
  },
  {
   "cell_type": "code",
   "execution_count": 46,
   "id": "6ff110ee",
   "metadata": {},
   "outputs": [],
   "source": [
    "f=open('text1.txt','a')\n",
    "for i in range(20,30):\n",
    "    data='%d번째 줄 입니다.\\n'%i\n",
    "    f.write(data)\n",
    "f.close()\n",
    "    \n",
    "###수정\n"
   ]
  },
  {
   "cell_type": "code",
   "execution_count": 47,
   "id": "d7f1d56f",
   "metadata": {},
   "outputs": [
    {
     "name": "stdout",
     "output_type": "stream",
     "text": [
      "1번째 줄입니다.\n",
      "2번째 줄입니다.\n",
      "3번째 줄입니다.\n",
      "4번째 줄입니다.\n",
      "5번째 줄입니다.\n",
      "6번째 줄입니다.\n",
      "7번째 줄입니다.\n",
      "8번째 줄입니다.\n",
      "9번째 줄입니다.\n",
      "10번째 줄입니다.\n",
      "10번째 줄입니다.\n",
      "11번째 줄입니다.\n",
      "12번째 줄입니다.\n",
      "13번째 줄입니다.\n",
      "14번째 줄입니다.\n",
      "15번째 줄입니다.\n",
      "16번째 줄입니다.\n",
      "17번째 줄입니다.\n",
      "18번째 줄입니다.\n",
      "19번째 줄입니다.\n",
      "\n"
     ]
    }
   ],
   "source": [
    "f=open('test1.txt','r')\n",
    "data=f.read()\n",
    "print(data)\n",
    "f.close()"
   ]
  },
  {
   "cell_type": "code",
   "execution_count": 48,
   "id": "83afa91d",
   "metadata": {},
   "outputs": [],
   "source": [
    "#with문과 같이 가용\n",
    "with open('foo.txt','w')as f:\n",
    "    f.write('파이썬을 배웁시다')"
   ]
  },
  {
   "cell_type": "code",
   "execution_count": 57,
   "id": "203daef3",
   "metadata": {},
   "outputs": [
    {
     "name": "stdout",
     "output_type": "stream",
     "text": [
      "0 is best number\n",
      "1 is best number\n",
      "2 is best number\n",
      "3 is best number\n",
      "4 is best number\n",
      "5 is best number\n",
      "6 is best number\n",
      "7 is best number\n",
      "8 is best number\n",
      "9 is best number\n",
      "집에 가고 싶어요\n"
     ]
    }
   ],
   "source": [
    "with open('foo.txt','r')as f:\n",
    "    data=f.read()\n",
    "    print(data)"
   ]
  },
  {
   "cell_type": "code",
   "execution_count": 53,
   "id": "ed345cc4",
   "metadata": {},
   "outputs": [],
   "source": [
    "with open('foo.txt','w')as f:\n",
    "    for i in range(0,10):\n",
    "        f.write(f'{i} is best number\\n')"
   ]
  },
  {
   "cell_type": "code",
   "execution_count": 56,
   "id": "c680579d",
   "metadata": {},
   "outputs": [],
   "source": [
    "with open('foo.txt','a')as f:\n",
    "    f.write(f'집에 가고 싶어요')"
   ]
  },
  {
   "cell_type": "code",
   "execution_count": 75,
   "id": "1521edd7",
   "metadata": {},
   "outputs": [
    {
     "name": "stdout",
     "output_type": "stream",
     "text": [
      "3\n",
      "False\n",
      "True\n",
      "a A\n"
     ]
    }
   ],
   "source": [
    "#내장함수   시험\n",
    "print(abs(-3))\n",
    "print(all([1,2,3,4,0,5]))  # 모두 참이어야 true\n",
    "print(any([1,2,3,4,0,5]))  # 모두 거짓이면 false\n",
    "print(chr(97),chr(65))"
   ]
  },
  {
   "cell_type": "code",
   "execution_count": 76,
   "id": "1dcfd737",
   "metadata": {},
   "outputs": [
    {
     "data": {
      "text/plain": [
       "9"
      ]
     },
     "execution_count": 76,
     "metadata": {},
     "output_type": "execute_result"
    }
   ],
   "source": [
    "sum=lambda a,b : a+b\n",
    "sum(4,5)"
   ]
  },
  {
   "cell_type": "code",
   "execution_count": 81,
   "id": "9af8f4f8",
   "metadata": {},
   "outputs": [
    {
     "data": {
      "text/plain": [
       "7"
      ]
     },
     "execution_count": 81,
     "metadata": {},
     "output_type": "execute_result"
    }
   ],
   "source": [
    "myList=[lambda a,b:a+b,lambda a,b:a*b]\n",
    "myList[0](3,4)"
   ]
  },
  {
   "cell_type": "code",
   "execution_count": 82,
   "id": "5289d2b3",
   "metadata": {},
   "outputs": [
    {
     "name": "stdout",
     "output_type": "stream",
     "text": [
      "6\n",
      "3\n",
      "3\n"
     ]
    }
   ],
   "source": [
    "print(len('prthon'))\n",
    "print(len([1,2,3]))\n",
    "print(len([1,2,'e']))\n"
   ]
  },
  {
   "cell_type": "code",
   "execution_count": 91,
   "id": "ec5ddfaa",
   "metadata": {},
   "outputs": [
    {
     "data": {
      "text/plain": [
       "[0, -1, -2, -3, -4, -5, -6, -7, -8, -9]"
      ]
     },
     "execution_count": 91,
     "metadata": {},
     "output_type": "execute_result"
    }
   ],
   "source": [
    "list(range(5))\n",
    "list(range(1,6))\n",
    "list(range(1,10,2))\n",
    "list(range(0,-10,-1))"
   ]
  },
  {
   "cell_type": "code",
   "execution_count": 92,
   "id": "854526fb",
   "metadata": {},
   "outputs": [
    {
     "data": {
      "text/plain": [
       "(2, 1)"
      ]
     },
     "execution_count": 92,
     "metadata": {},
     "output_type": "execute_result"
    }
   ],
   "source": [
    "divmod(7,3)"
   ]
  },
  {
   "cell_type": "code",
   "execution_count": 3,
   "id": "a157cd5b",
   "metadata": {},
   "outputs": [
    {
     "name": "stdout",
     "output_type": "stream",
     "text": [
      "0 james\n",
      "1 jone\n",
      "2 tom\n",
      "3 smith\n"
     ]
    }
   ],
   "source": [
    "#순서가 있는 자료형을 입력으로 받아 인텍스 값을 포함한 enumerate 객체를 리턴한다.\n",
    "for i, name in enumerate(['james','jone','tom','smith']):\n",
    "#    print(f'{i}{name}')\n",
    "    print(i,name)"
   ]
  },
  {
   "cell_type": "code",
   "execution_count": 1,
   "id": "33114c4e",
   "metadata": {},
   "outputs": [
    {
     "name": "stdout",
     "output_type": "stream",
     "text": [
      "3\n"
     ]
    }
   ],
   "source": [
    "#실행 가능한 문자열 입렵을 받아 문자열을 실행한 결과값을 리턴한다. # 시험\n",
    "print(eval('1+2'))"
   ]
  },
  {
   "cell_type": "code",
   "execution_count": 100,
   "id": "c2ac8ce9",
   "metadata": {},
   "outputs": [
    {
     "data": {
      "text/plain": [
       "[5, 4, 3, 2, 1, 0]"
      ]
     },
     "execution_count": 100,
     "metadata": {},
     "output_type": "execute_result"
    }
   ],
   "source": [
    "li=[0,1,2,3,5,4]\n",
    "li.sort() # li.sort(reverse=True)\n",
    "li\n",
    "li.reverse()\n",
    "li"
   ]
  },
  {
   "cell_type": "code",
   "execution_count": 103,
   "id": "320786ca",
   "metadata": {},
   "outputs": [
    {
     "name": "stdout",
     "output_type": "stream",
     "text": [
      "[0, 2, 1, 5, 4] [0, 1, 2, 4, 5]\n"
     ]
    }
   ],
   "source": [
    "#정렬한 결과를 반환하는 함수는 본체는 변형되지 않는다.\n",
    "li=[0,2,1,5,4]\n",
    "s=sorted(li)\n",
    "print(li,s)\n",
    "li.sorted()"
   ]
  },
  {
   "cell_type": "markdown",
   "id": "c59f4e22",
   "metadata": {},
   "source": [
    "## 외장함수 : 전 세계 파이썬 사용자들이 만든 유용한 프로그램을 모아 놓은 파이썬 라이브러리. \n",
    "## 파이썬을 설치할때 자동으로 설치 (import)\n",
    "### pickle\n",
    "- 객체의 형태를 유지하면서 파일에 저장하고 불러올 수 있게 하는 모듈"
   ]
  },
  {
   "cell_type": "code",
   "execution_count": 105,
   "id": "aca5cafa",
   "metadata": {},
   "outputs": [],
   "source": [
    "import pickle\n",
    "f=open('test.txt','wb') #바이러니타입\n",
    "data={1:'python',2:'you need'}\n",
    "pickle.dump(data,f)\n",
    "f.close()"
   ]
  },
  {
   "cell_type": "code",
   "execution_count": 107,
   "id": "110d60bf",
   "metadata": {},
   "outputs": [
    {
     "name": "stdout",
     "output_type": "stream",
     "text": [
      "{1: 'python', 2: 'you need'}\n"
     ]
    }
   ],
   "source": [
    "import pickle\n",
    "f=open('test.txt','rb')\n",
    "data=pickle.load(f)\n",
    "print(data)\n",
    "f.close()"
   ]
  },
  {
   "cell_type": "code",
   "execution_count": 108,
   "id": "078a6c8d",
   "metadata": {},
   "outputs": [
    {
     "data": {
      "text/plain": [
       "'C:\\\\Users\\\\qkrrh\\\\anaconda3\\\\envs\\\\cakd5;C:\\\\Users\\\\qkrrh\\\\anaconda3\\\\envs\\\\cakd5\\\\Library\\\\mingw-w64\\\\bin;C:\\\\Users\\\\qkrrh\\\\anaconda3\\\\envs\\\\cakd5\\\\Library\\\\usr\\\\bin;C:\\\\Users\\\\qkrrh\\\\anaconda3\\\\envs\\\\cakd5\\\\Library\\\\bin;C:\\\\Users\\\\qkrrh\\\\anaconda3\\\\envs\\\\cakd5\\\\Scripts;C:\\\\Windows\\\\system32;C:\\\\Windows;C:\\\\Windows\\\\System32\\\\Wbem;C:\\\\Windows\\\\System32\\\\WindowsPowerShell\\\\v1.0\\\\;C:\\\\Windows\\\\System32\\\\OpenSSH\\\\;C:\\\\Program Files (x86)\\\\NVIDIA Corporation\\\\PhysX\\\\Common;C:\\\\Program Files\\\\NVIDIA Corporation\\\\NVIDIA NvDLISR;C:\\\\Users\\\\qkrrh\\\\anaconda3;C:\\\\Users\\\\qkrrh\\\\anaconda3\\\\Library\\\\mingw-w64\\\\bin;C:\\\\Users\\\\qkrrh\\\\anaconda3\\\\Library\\\\bin;C:\\\\Users\\\\qkrrh\\\\anaconda3\\\\Scripts;C:\\\\Users\\\\qkrrh\\\\AppData\\\\Local\\\\Microsoft\\\\WindowsApps;'"
      ]
     },
     "execution_count": 108,
     "metadata": {},
     "output_type": "execute_result"
    }
   ],
   "source": [
    "import os\n",
    "os.environ['PATH']"
   ]
  },
  {
   "cell_type": "code",
   "execution_count": 109,
   "id": "c45e73c6",
   "metadata": {},
   "outputs": [
    {
     "data": {
      "text/plain": [
       "'D:\\\\cakd5\\\\workspace\\\\m1_programming'"
      ]
     },
     "execution_count": 109,
     "metadata": {},
     "output_type": "execute_result"
    }
   ],
   "source": [
    "%pwd"
   ]
  },
  {
   "cell_type": "code",
   "execution_count": 110,
   "id": "81433a9d",
   "metadata": {},
   "outputs": [],
   "source": [
    "#작업 폴더 변경\n",
    "os.chdir(\"D:\\cakd5\\workspace\")"
   ]
  },
  {
   "cell_type": "code",
   "execution_count": 111,
   "id": "7d782e2a",
   "metadata": {},
   "outputs": [
    {
     "data": {
      "text/plain": [
       "'D:\\\\cakd5\\\\workspace'"
      ]
     },
     "execution_count": 111,
     "metadata": {},
     "output_type": "execute_result"
    }
   ],
   "source": [
    "%pwd"
   ]
  },
  {
   "cell_type": "code",
   "execution_count": 112,
   "id": "a9da9a35",
   "metadata": {},
   "outputs": [],
   "source": [
    "os.chdir(\"D:\\cakd5\\workspace\\m1_programming\")"
   ]
  },
  {
   "cell_type": "code",
   "execution_count": 113,
   "id": "e1157af3",
   "metadata": {},
   "outputs": [
    {
     "data": {
      "text/plain": [
       "'D:\\\\cakd5\\\\workspace\\\\m1_programming'"
      ]
     },
     "execution_count": 113,
     "metadata": {},
     "output_type": "execute_result"
    }
   ],
   "source": [
    "%pwd"
   ]
  },
  {
   "cell_type": "code",
   "execution_count": 114,
   "id": "ec6e86bd",
   "metadata": {},
   "outputs": [
    {
     "data": {
      "text/plain": [
       "'D:\\\\cakd5\\\\workspace\\\\m1_programming'"
      ]
     },
     "execution_count": 114,
     "metadata": {},
     "output_type": "execute_result"
    }
   ],
   "source": [
    "os.getcwd()"
   ]
  },
  {
   "cell_type": "code",
   "execution_count": 115,
   "id": "edb5ac1f",
   "metadata": {},
   "outputs": [
    {
     "name": "stdout",
     "output_type": "stream",
     "text": [
      " D 드라이브의 볼륨: 새 볼륨\n",
      " 볼륨 일련 번호: 5C57-58A6\n",
      "\n",
      " D:\\cakd5\\workspace\\m1_programming 디렉터리\n",
      "\n",
      "2021-12-31  오후 12:22    <DIR>          .\n",
      "2021-12-29  오전 09:57    <DIR>          ..\n",
      "2021-12-31  오전 10:21    <DIR>          .ipynb_checkpoints\n",
      "2021-12-31  오전 11:33               196 foo.txt\n",
      "2021-12-29  오전 09:10             3,783 Jupyter notebook 사용법.ipynb\n",
      "2021-12-31  오후 12:05             4,373 test.ipynb\n",
      "2021-12-31  오후 12:16                40 test.txt\n",
      "2021-12-31  오전 11:13               351 test1.txt\n",
      "2021-12-28  오후 05:46             2,081 기초.ipynb\n",
      "2021-12-28  오후 04:18            94,995 매직명령어.jpg\n",
      "2021-12-31  오전 11:09            62,486 파이썬 기초.ipynb\n",
      "2021-12-31  오후 12:22            21,965 함수.ipynb\n",
      "               9개 파일             190,270 바이트\n",
      "               3개 디렉터리  492,384,149,504 바이트 남음\n"
     ]
    }
   ],
   "source": [
    "#파일명 변경\n",
    "!dir"
   ]
  },
  {
   "cell_type": "code",
   "execution_count": 119,
   "id": "c15dea62",
   "metadata": {},
   "outputs": [],
   "source": [
    "os.rename('test1.txt','test_new.txt')"
   ]
  },
  {
   "cell_type": "code",
   "execution_count": 120,
   "id": "6422e614",
   "metadata": {},
   "outputs": [
    {
     "data": {
      "text/plain": [
       "['D:\\\\cakd5\\\\workspace\\\\m1_programming\\\\foo.txt',\n",
       " 'D:\\\\cakd5\\\\workspace\\\\m1_programming\\\\test.txt',\n",
       " 'D:\\\\cakd5\\\\workspace\\\\m1_programming\\\\test_new.txt']"
      ]
     },
     "execution_count": 120,
     "metadata": {},
     "output_type": "execute_result"
    }
   ],
   "source": [
    "#glob() 함수는 인자로 받은 패턴과 이름이 일치하는 모든 팔일과 디렉토리의 리스트를 반환\n",
    "import glob\n",
    "glob.glob('D:\\cakd5\\workspace\\m1_programming/*.txt')"
   ]
  },
  {
   "cell_type": "code",
   "execution_count": 127,
   "id": "8ed8bc52",
   "metadata": {},
   "outputs": [
    {
     "data": {
      "text/plain": [
       "1640921497.4084404"
      ]
     },
     "execution_count": 127,
     "metadata": {},
     "output_type": "execute_result"
    }
   ],
   "source": [
    "#time\n",
    "import time\n",
    "time.time() #1970 1월 1일 부터 초단위"
   ]
  },
  {
   "cell_type": "code",
   "execution_count": 129,
   "id": "3e1b4b16",
   "metadata": {},
   "outputs": [
    {
     "data": {
      "text/plain": [
       "time.struct_time(tm_year=2021, tm_mon=12, tm_mday=31, tm_hour=12, tm_min=32, tm_sec=9, tm_wday=4, tm_yday=365, tm_isdst=0)"
      ]
     },
     "execution_count": 129,
     "metadata": {},
     "output_type": "execute_result"
    }
   ],
   "source": [
    "time.localtime(time.time())"
   ]
  },
  {
   "cell_type": "code",
   "execution_count": 131,
   "id": "4d405e76",
   "metadata": {},
   "outputs": [
    {
     "data": {
      "text/plain": [
       "'Fri Dec 31 12:32:50 2021'"
      ]
     },
     "execution_count": 131,
     "metadata": {},
     "output_type": "execute_result"
    }
   ],
   "source": [
    "time.asctime(time.localtime(time.time()))"
   ]
  },
  {
   "cell_type": "code",
   "execution_count": 132,
   "id": "63840e1b",
   "metadata": {},
   "outputs": [
    {
     "name": "stdout",
     "output_type": "stream",
     "text": [
      "0\n",
      "1\n",
      "2\n",
      "3\n",
      "4\n",
      "5\n",
      "6\n",
      "7\n",
      "8\n",
      "9\n"
     ]
    }
   ],
   "source": [
    "#time.sleep() : 일정한 시간 간격을 두고 루프를 실행할수 있음\n",
    "import time\n",
    "for i in range(10):\n",
    "    print(i)\n",
    "    time.sleep(5)"
   ]
  },
  {
   "cell_type": "code",
   "execution_count": 4,
   "id": "0d0c48d2",
   "metadata": {},
   "outputs": [
    {
     "name": "stdout",
     "output_type": "stream",
     "text": [
      "   December 2021\n",
      "Mo Tu We Th Fr Sa Su\n",
      "       1  2  3  4  5\n",
      " 6  7  8  9 10 11 12\n",
      "13 14 15 16 17 18 19\n",
      "20 21 22 23 24 25 26\n",
      "27 28 29 30 31\n",
      "None\n"
     ]
    }
   ],
   "source": [
    "import calendar\n",
    "print(calendar.prmonth(2021,12))"
   ]
  },
  {
   "cell_type": "code",
   "execution_count": 6,
   "id": "38237af2",
   "metadata": {},
   "outputs": [
    {
     "name": "stdout",
     "output_type": "stream",
     "text": [
      "4\n"
     ]
    }
   ],
   "source": [
    "# 요일(0-월요일 6-일요일)\n",
    "print(calendar.weekday(2021,12,31))"
   ]
  },
  {
   "cell_type": "code",
   "execution_count": 7,
   "id": "d752cc8b",
   "metadata": {},
   "outputs": [
    {
     "data": {
      "text/plain": [
       "(5, 31)"
      ]
     },
     "execution_count": 7,
     "metadata": {},
     "output_type": "execute_result"
    }
   ],
   "source": [
    "#1일의 요일, 날수\n",
    "calendar.monthrange(2022,1)"
   ]
  },
  {
   "cell_type": "code",
   "execution_count": 8,
   "id": "dd3375a8",
   "metadata": {},
   "outputs": [
    {
     "data": {
      "text/plain": [
       "True"
      ]
     },
     "execution_count": 8,
     "metadata": {},
     "output_type": "execute_result"
    }
   ],
   "source": [
    "import webbrowser\n",
    "webbrowser.open(\"google.com\")"
   ]
  },
  {
   "cell_type": "code",
   "execution_count": 11,
   "id": "08b9cfd5",
   "metadata": {},
   "outputs": [
    {
     "name": "stdout",
     "output_type": "stream",
     "text": [
      "[0, 1, 3, 4, 5, 6]\n"
     ]
    }
   ],
   "source": [
    "#내장함수를 이용해서 list = [0,1,2,3,4,5,6]에서 2를 삭제 후 출력\n",
    "list=[0,1,2,3,4,5,6]\n",
    "del list[2]\n",
    "print(list)"
   ]
  },
  {
   "cell_type": "code",
   "execution_count": 128,
   "id": "9a3133ed",
   "metadata": {},
   "outputs": [
    {
     "data": {
      "text/plain": [
       "[0, 1, 3, 4, 5, 6]"
      ]
     },
     "execution_count": 128,
     "metadata": {},
     "output_type": "execute_result"
    }
   ],
   "source": [
    "list=[0,1,2,3,4,5,6]\n",
    "list.pop(2)\n",
    "list"
   ]
  },
  {
   "cell_type": "code",
   "execution_count": 3,
   "id": "486bfd21",
   "metadata": {},
   "outputs": [
    {
     "ename": "ValueError",
     "evalue": "list.remove(x): x not in list",
     "output_type": "error",
     "traceback": [
      "\u001b[1;31m---------------------------------------------------------------------------\u001b[0m",
      "\u001b[1;31mValueError\u001b[0m                                Traceback (most recent call last)",
      "\u001b[1;32m~\\AppData\\Local\\Temp/ipykernel_18964/36560410.py\u001b[0m in \u001b[0;36m<module>\u001b[1;34m\u001b[0m\n\u001b[0;32m      1\u001b[0m \u001b[0mlist\u001b[0m\u001b[1;33m=\u001b[0m\u001b[1;33m[\u001b[0m\u001b[1;36m1\u001b[0m\u001b[1;33m,\u001b[0m\u001b[1;36m6\u001b[0m\u001b[1;33m,\u001b[0m\u001b[1;36m3\u001b[0m\u001b[1;33m,\u001b[0m\u001b[1;36m8\u001b[0m\u001b[1;33m,\u001b[0m\u001b[1;36m1\u001b[0m\u001b[1;33m]\u001b[0m\u001b[1;33m\u001b[0m\u001b[1;33m\u001b[0m\u001b[0m\n\u001b[1;32m----> 2\u001b[1;33m \u001b[0mlist\u001b[0m\u001b[1;33m.\u001b[0m\u001b[0mremove\u001b[0m\u001b[1;33m(\u001b[0m\u001b[1;36m2\u001b[0m\u001b[1;33m)\u001b[0m\u001b[1;33m\u001b[0m\u001b[1;33m\u001b[0m\u001b[0m\n\u001b[0m\u001b[0;32m      3\u001b[0m \u001b[0mlist\u001b[0m\u001b[1;33m\u001b[0m\u001b[1;33m\u001b[0m\u001b[0m\n",
      "\u001b[1;31mValueError\u001b[0m: list.remove(x): x not in list"
     ]
    }
   ],
   "source": [
    "list=[1,6,3,8,1]\n",
    "list.remove(2)\n",
    "list"
   ]
  },
  {
   "cell_type": "code",
   "execution_count": 10,
   "id": "a27c5201",
   "metadata": {},
   "outputs": [
    {
     "name": "stdout",
     "output_type": "stream",
     "text": [
      "[]\n"
     ]
    }
   ],
   "source": [
    "#내장함수를 이용해서 list=[0,1,2,3,4,5,6] 에서 모든 원소를 삭제 후 출력\n",
    "list=[0,1,2,3,4,5,6]\n",
    "list.clear()\n",
    "print(list)"
   ]
  },
  {
   "cell_type": "code",
   "execution_count": 131,
   "id": "9de66472",
   "metadata": {},
   "outputs": [
    {
     "name": "stdout",
     "output_type": "stream",
     "text": [
      "[1, 4, 9, 16, 25]\n",
      "[1, 2]\n"
     ]
    },
    {
     "data": {
      "text/plain": [
       "[1, 4, 9, 16, 25]"
      ]
     },
     "execution_count": 131,
     "metadata": {},
     "output_type": "execute_result"
    }
   ],
   "source": [
    "#람다함수와 적합한 내장함수를 사용하여 아래와 같이 출력하세요\n",
    "double = lambda num : num**2\n",
    "list=[1,2,3,4,5]\n",
    "for i in range(len(list)):\n",
    "    list[i]=double(list[i])\n",
    "print(list)\n",
    "list=[1,2,3,4,5]\n",
    "print(list[0:2])\n",
    "list=[double(i) for i in range(1,6)]\n",
    "list"
   ]
  },
  {
   "cell_type": "code",
   "execution_count": 18,
   "id": "fa806afa",
   "metadata": {},
   "outputs": [
    {
     "name": "stdout",
     "output_type": "stream",
     "text": [
      "<filter object at 0x0000016BB76AAA30>\n"
     ]
    }
   ],
   "source": [
    "list2=[1,-3,0,-5,6]\n",
    "result=filter(lambda x : x>0,list2)\n",
    "print(result)"
   ]
  },
  {
   "cell_type": "code",
   "execution_count": 26,
   "id": "10ce4186",
   "metadata": {},
   "outputs": [
    {
     "name": "stdout",
     "output_type": "stream",
     "text": [
      "[1, 6]\n"
     ]
    }
   ],
   "source": [
    "y=[1,-3,0,-5,6]\n",
    "result=[x for x in y if x>0]\n",
    "print(result)"
   ]
  },
  {
   "cell_type": "code",
   "execution_count": 27,
   "id": "e98bdeb2",
   "metadata": {},
   "outputs": [
    {
     "ename": "TypeError",
     "evalue": "'list' object is not callable",
     "output_type": "error",
     "traceback": [
      "\u001b[1;31m---------------------------------------------------------------------------\u001b[0m",
      "\u001b[1;31mTypeError\u001b[0m                                 Traceback (most recent call last)",
      "\u001b[1;32m~\\AppData\\Local\\Temp/ipykernel_8160/1243515113.py\u001b[0m in \u001b[0;36m<module>\u001b[1;34m\u001b[0m\n\u001b[0;32m      1\u001b[0m \u001b[0my\u001b[0m\u001b[1;33m=\u001b[0m\u001b[1;33m[\u001b[0m\u001b[1;36m1\u001b[0m\u001b[1;33m,\u001b[0m\u001b[1;33m-\u001b[0m\u001b[1;36m3\u001b[0m\u001b[1;33m,\u001b[0m\u001b[1;36m2\u001b[0m\u001b[1;33m,\u001b[0m\u001b[1;36m0\u001b[0m\u001b[1;33m,\u001b[0m\u001b[1;33m-\u001b[0m\u001b[1;36m5\u001b[0m\u001b[1;33m,\u001b[0m\u001b[1;36m6\u001b[0m\u001b[1;33m]\u001b[0m\u001b[1;33m\u001b[0m\u001b[1;33m\u001b[0m\u001b[0m\n\u001b[1;32m----> 2\u001b[1;33m \u001b[0mlist\u001b[0m\u001b[1;33m(\u001b[0m\u001b[0mfilter\u001b[0m\u001b[1;33m(\u001b[0m\u001b[1;32mlambda\u001b[0m \u001b[0mx\u001b[0m\u001b[1;33m:\u001b[0m \u001b[0mx\u001b[0m \u001b[1;33m>\u001b[0m \u001b[1;36m0\u001b[0m \u001b[1;33m,\u001b[0m \u001b[0my\u001b[0m\u001b[1;33m)\u001b[0m\u001b[1;33m)\u001b[0m\u001b[1;33m\u001b[0m\u001b[1;33m\u001b[0m\u001b[0m\n\u001b[0m",
      "\u001b[1;31mTypeError\u001b[0m: 'list' object is not callable"
     ]
    }
   ],
   "source": [
    "y=[1,-3,2,0,-5,6]\n",
    "list(filter(lambda x: x > 0 , y))"
   ]
  },
  {
   "cell_type": "code",
   "execution_count": 55,
   "id": "bbca7bd2",
   "metadata": {},
   "outputs": [
    {
     "name": "stdout",
     "output_type": "stream",
     "text": [
      "(1, 4)(2, 5)(3, 6)\n",
      "(1, 4, 7)(2, 5, 8)(3, 6, 9)\n",
      "('a', 'd')('b', 'e')('c', 'f')"
     ]
    }
   ],
   "source": [
    "#잘못 했음  enumerate 는 변수여러개 동시에\n",
    "m=[1,2,3]\n",
    "f=[4,5,6]\n",
    "result=[]\n",
    "result = zip(m,f)\n",
    "for i,j in enumerate(result):\n",
    "    print(j,end='')\n",
    "print()\n",
    "m=[1,2,3]\n",
    "f=[4,5,6]\n",
    "c=[7,8,9]\n",
    "result=[]\n",
    "result = zip(m,f,c)\n",
    "for i,j in enumerate(result):\n",
    "    print(j,end='')\n",
    "print()\n",
    "m=('abc')\n",
    "f=('def')\n",
    "result=[]\n",
    "result = zip(m,f)\n",
    "for i,j in enumerate(result):\n",
    "    print(j,end='')"
   ]
  },
  {
   "cell_type": "code",
   "execution_count": 3,
   "id": "63b7ef26",
   "metadata": {},
   "outputs": [
    {
     "name": "stdout",
     "output_type": "stream",
     "text": [
      "[(1, 4), (2, 5), (3, 6)]\n",
      "[(1, 4, 7), (2, 5, 8), (3, 6, 9)]\n",
      "[('a', 'd'), ('b', 'e'), ('c', 'f')]\n"
     ]
    }
   ],
   "source": [
    "a = [1, 2, 3]\n",
    "b = [4, 5, 6]\n",
    "c = [7, 8, 9]\n",
    "\n",
    "ab = list(zip(a,b))\n",
    "print(ab)\n",
    "                        \n",
    "abc = list(zip(a,b,c))\n",
    "print(abc)\n",
    "\n",
    "alp = ('abc', 'def')\n",
    "alp_1 = list(zip(tuple(alp[0]), tuple(alp[1])))\n",
    "print(alp_1)\n"
   ]
  },
  {
   "cell_type": "code",
   "execution_count": 8,
   "id": "30ff9cc1",
   "metadata": {},
   "outputs": [
    {
     "name": "stdout",
     "output_type": "stream",
     "text": [
      "(1, 'a')\n",
      "(2, 'b')\n",
      "(3, 'c')\n"
     ]
    }
   ],
   "source": [
    "num = [1,2,3]\n",
    "lt ={'a','b','c'}\n",
    "for pair in zip(num,lt):\n",
    "    print(pair)"
   ]
  },
  {
   "cell_type": "code",
   "execution_count": 15,
   "id": "dc8c57a9",
   "metadata": {},
   "outputs": [
    {
     "data": {
      "text/plain": [
       "2.5"
      ]
     },
     "execution_count": 15,
     "metadata": {},
     "output_type": "execute_result"
    }
   ],
   "source": [
    "# 입력으로 들어오는 모든 수의 평균값을 계산해 주는 함수를 작성한 후 1,2,3을 입력한 결과를 출력하세여\n",
    "def avg(*args):\n",
    "    sum=0\n",
    "    for i in args:\n",
    "        sum+=i\n",
    "    return sum/len(args)\n",
    "avg(1,2,3,4)"
   ]
  },
  {
   "cell_type": "code",
   "execution_count": 12,
   "id": "24bba801",
   "metadata": {},
   "outputs": [
    {
     "data": {
      "text/plain": [
       "['bar', 'ababa', 'ca', 'aaaa', 'a']"
      ]
     },
     "execution_count": 12,
     "metadata": {},
     "output_type": "execute_result"
    }
   ],
   "source": [
    "# strings를 다양한 문자가 포함된 순서로 정렬하세요\n",
    "strings = ['a','ca','bar','aaaa','ababa']\n",
    "strings.sort(key=lambda x:len(set(x)))\n",
    "strings[::-1]"
   ]
  },
  {
   "cell_type": "code",
   "execution_count": 9,
   "id": "d6ed924c",
   "metadata": {},
   "outputs": [
    {
     "name": "stdout",
     "output_type": "stream",
     "text": [
      "{'aaaa', 'bar', 'ca', 'bababa', 'a'}\n",
      "{'aaaa', 'bar', 'ca', 'bababa', 'a'}\n"
     ]
    },
    {
     "data": {
      "text/plain": [
       "('bar', 'bababa', 'ca', 'aaaa', 'a')"
      ]
     },
     "execution_count": 9,
     "metadata": {},
     "output_type": "execute_result"
    }
   ],
   "source": [
    "# 튜플 형태인 strings를 다양한 문자가 포함된 순서로 정렬하세요\n",
    "string = ('a','ca','bar','aaaa','bababa')\n",
    "strings=list(string)\n",
    "strings.sort(key=lambda x:len(set(x)))\n",
    "print(set(strings))\n",
    "str=tuple(strings)\n",
    "str[::-1]"
   ]
  },
  {
   "cell_type": "code",
   "execution_count": 33,
   "id": "8f48b726",
   "metadata": {},
   "outputs": [
    {
     "name": "stdout",
     "output_type": "stream",
     "text": [
      "gfedcba\n"
     ]
    }
   ],
   "source": [
    "s='abcdefg'\n",
    "s=list(s)\n",
    "s.reverse()\n",
    "s\n",
    "print(''.join(s))\n"
   ]
  },
  {
   "cell_type": "code",
   "execution_count": 10,
   "id": "b10078b7",
   "metadata": {},
   "outputs": [
    {
     "name": "stdout",
     "output_type": "stream",
     "text": [
      "gfedcba\n"
     ]
    }
   ],
   "source": [
    "s='abcdefg'\n",
    "print(s[::-1])\n"
   ]
  },
  {
   "cell_type": "code",
   "execution_count": 35,
   "id": "ba8ed2eb",
   "metadata": {},
   "outputs": [
    {
     "name": "stdout",
     "output_type": "stream",
     "text": [
      "gfedcba"
     ]
    }
   ],
   "source": [
    "s='abcdefg'\n",
    "l_s=[]\n",
    "l_s=list(s)\n",
    "l_s.reverse()\n",
    "for i in range(len(s)):\n",
    "    print(l_s[i], end='')\n"
   ]
  },
  {
   "cell_type": "code",
   "execution_count": 44,
   "id": "b93d22dd",
   "metadata": {},
   "outputs": [
    {
     "name": "stdout",
     "output_type": "stream",
     "text": [
      "dcb\n"
     ]
    }
   ],
   "source": [
    "# abcdefg 에서 dcb만 출력\n",
    "s=\"abcdefg\"\n",
    "print(s[3:0:-1])"
   ]
  },
  {
   "cell_type": "code",
   "execution_count": 45,
   "id": "1cb9595c",
   "metadata": {},
   "outputs": [
    {
     "name": "stdout",
     "output_type": "stream",
     "text": [
      "gfedcba\n"
     ]
    }
   ],
   "source": [
    "print(s[6::-1])"
   ]
  },
  {
   "cell_type": "code",
   "execution_count": null,
   "id": "2f24ad79",
   "metadata": {},
   "outputs": [],
   "source": []
  },
  {
   "cell_type": "code",
   "execution_count": null,
   "id": "1bdd6bf9",
   "metadata": {},
   "outputs": [],
   "source": []
  }
 ],
 "metadata": {
  "kernelspec": {
   "display_name": "Python 3 (ipykernel)",
   "language": "python",
   "name": "python3"
  },
  "language_info": {
   "codemirror_mode": {
    "name": "ipython",
    "version": 3
   },
   "file_extension": ".py",
   "mimetype": "text/x-python",
   "name": "python",
   "nbconvert_exporter": "python",
   "pygments_lexer": "ipython3",
   "version": "3.8.12"
  }
 },
 "nbformat": 4,
 "nbformat_minor": 5
}
