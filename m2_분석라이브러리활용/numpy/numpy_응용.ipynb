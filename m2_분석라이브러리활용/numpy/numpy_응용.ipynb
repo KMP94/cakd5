{
 "cells": [
  {
   "cell_type": "code",
   "execution_count": 1,
   "id": "d63568ac",
   "metadata": {},
   "outputs": [],
   "source": [
    "import numpy as np"
   ]
  },
  {
   "cell_type": "code",
   "execution_count": 2,
   "id": "70d37d16",
   "metadata": {},
   "outputs": [
    {
     "data": {
      "text/plain": [
       "array([[3, 5, 4, 8, 5],\n",
       "       [3, 6, 9, 5, 7],\n",
       "       [9, 1, 7, 5, 3],\n",
       "       [1, 6, 6, 8, 6],\n",
       "       [5, 9, 2, 3, 6]])"
      ]
     },
     "execution_count": 2,
     "metadata": {},
     "output_type": "execute_result"
    }
   ],
   "source": [
    "arr=np.random.randint(1,10,size=(5,5))\n",
    "arr"
   ]
  },
  {
   "cell_type": "markdown",
   "id": "30ac91ca",
   "metadata": {},
   "source": [
    "## 전치"
   ]
  },
  {
   "cell_type": "code",
   "execution_count": 3,
   "id": "112ef9a3",
   "metadata": {},
   "outputs": [
    {
     "data": {
      "text/plain": [
       "array([[3, 3, 9, 1, 5],\n",
       "       [5, 6, 1, 6, 9],\n",
       "       [4, 9, 7, 6, 2],\n",
       "       [8, 5, 5, 8, 3],\n",
       "       [5, 7, 3, 6, 6]])"
      ]
     },
     "execution_count": 3,
     "metadata": {},
     "output_type": "execute_result"
    }
   ],
   "source": [
    "#전치1\n",
    "arr.T"
   ]
  },
  {
   "cell_type": "code",
   "execution_count": 4,
   "id": "a926d7ef",
   "metadata": {},
   "outputs": [
    {
     "data": {
      "text/plain": [
       "array([[3, 3, 9, 1, 5],\n",
       "       [5, 6, 1, 6, 9],\n",
       "       [4, 9, 7, 6, 2],\n",
       "       [8, 5, 5, 8, 3],\n",
       "       [5, 7, 3, 6, 6]])"
      ]
     },
     "execution_count": 4,
     "metadata": {},
     "output_type": "execute_result"
    }
   ],
   "source": [
    "#전치2 \n",
    "np.transpose(arr)"
   ]
  },
  {
   "cell_type": "markdown",
   "id": "97b138d7",
   "metadata": {},
   "source": [
    "## dot"
   ]
  },
  {
   "cell_type": "code",
   "execution_count": 5,
   "id": "871b0e8a",
   "metadata": {},
   "outputs": [
    {
     "data": {
      "text/plain": [
       "array([[125,  93, 118, 107,  99],\n",
       "       [ 93, 179, 135, 150, 160],\n",
       "       [118, 135, 186, 166, 152],\n",
       "       [107, 150, 166, 187, 156],\n",
       "       [ 99, 160, 152, 156, 155]])"
      ]
     },
     "execution_count": 5,
     "metadata": {},
     "output_type": "execute_result"
    }
   ],
   "source": [
    "#행렬곱, 내적\n",
    "np.dot(arr.T,arr)"
   ]
  },
  {
   "cell_type": "code",
   "execution_count": 6,
   "id": "de0d1412",
   "metadata": {},
   "outputs": [
    {
     "name": "stdout",
     "output_type": "stream",
     "text": [
      "[[0 1 2]\n",
      " [3 4 5]] \n",
      "\n",
      "[[0 3]\n",
      " [1 4]\n",
      " [2 5]] \n",
      "\n",
      "[[0 3]\n",
      " [1 4]\n",
      " [2 5]] \n",
      "\n",
      "[[0 3]\n",
      " [1 4]\n",
      " [2 5]] \n",
      "\n"
     ]
    }
   ],
   "source": [
    "a = np.arange(6).reshape(2,3)\n",
    "print(a,'\\n')\n",
    "\n",
    "y=np.swapaxes(a,0,1)  # 0은 2차원(열), 1은 1차원(행)\n",
    "print(y,'\\n')\n",
    "y=a.T\n",
    "print(y,'\\n')\n",
    "y=np.transpose(a)\n",
    "print(y,'\\n')"
   ]
  },
  {
   "cell_type": "code",
   "execution_count": 7,
   "id": "86015e23",
   "metadata": {},
   "outputs": [
    {
     "ename": "SyntaxError",
     "evalue": "invalid syntax (Temp/ipykernel_18612/1317794496.py, line 2)",
     "output_type": "error",
     "traceback": [
      "\u001b[1;36m  File \u001b[1;32m\"C:\\Users\\qkrrh\\AppData\\Local\\Temp/ipykernel_18612/1317794496.py\"\u001b[1;36m, line \u001b[1;32m2\u001b[0m\n\u001b[1;33m    [[  1   2   3   4   5   6   7   8   9  10]\u001b[0m\n\u001b[1;37m            ^\u001b[0m\n\u001b[1;31mSyntaxError\u001b[0m\u001b[1;31m:\u001b[0m invalid syntax\n"
     ]
    }
   ],
   "source": [
    "# 1 ~ 100을 아래와 같이 출력하세요\n",
    "[[  1   2   3   4   5   6   7   8   9  10]\n",
    " [ 20  19  18  17  16  15  14  13  12  11]\n",
    " [ 21  22  23  24  25  26  27  28  29  30]\n",
    " [ 40  39  38  37  36  35  34  33  32  31]\n",
    " [ 41  42  43  44  45  46  47  48  49  50]\n",
    " [ 60  59  58  57  56  55  54  53  52  51]\n",
    " [ 61  62  63  64  65  66  67  68  69  70]\n",
    " [ 80  79  78  77  76  75  74  73  72  71]\n",
    " [ 81  82  83  84  85  86  87  88  89  90]\n",
    " [100  99  98  97  96  95  94  93  92  91]] <class 'numpy.ndarray'>\n"
   ]
  },
  {
   "cell_type": "code",
   "execution_count": null,
   "id": "41701f60",
   "metadata": {},
   "outputs": [],
   "source": [
    "arr=np.arange(1,101).reshape(10,10)\n",
    "for i in range(10):\n",
    "    if i%2==0:\n",
    "        continue\n",
    "    else:\n",
    "        arr[i]=arr[i][::-1]\n",
    "arr"
   ]
  },
  {
   "cell_type": "code",
   "execution_count": null,
   "id": "a2be9662",
   "metadata": {},
   "outputs": [],
   "source": [
    "\n",
    "arr = np.arange(1,101).reshape(10,10)\n",
    "for i in range(1,10):\n",
    "    if i % 2 == 1:\n",
    "        arr[i] = arr[i][::-1]\n",
    "print(arr, type(arr))\n"
   ]
  },
  {
   "cell_type": "code",
   "execution_count": null,
   "id": "c2fd73f4",
   "metadata": {},
   "outputs": [],
   "source": [
    "np.arange(1,101).reshape(10,10)\n",
    "for i in range(10):\n",
    "    if i%2==1:\n",
    "        ar[i] = ar[i,::-1]\n",
    "print(ar,type(ar))\n",
    "\n",
    "arr = np.arange(1,101).reshape(10,10)\n",
    "arr[[1,3,5,7,9]] = arr[[1,3,5,7,9]][:,[9,8,7,6,5,4,3,2,1,0]]\n",
    "print(arr)\n"
   ]
  },
  {
   "cell_type": "markdown",
   "id": "4e2182cc",
   "metadata": {},
   "source": [
    "## 차원 변경( transpose )"
   ]
  },
  {
   "cell_type": "code",
   "execution_count": null,
   "id": "3cea56b9",
   "metadata": {},
   "outputs": [],
   "source": [
    "#(0,1,2)  3차원,2차원,1차원\n",
    "# 3차원과 2차원을 바꾸는 경우 : (1,2,3) -> (2,1,3)\n",
    "a=np.arange(6).reshape(1,2,3)\n",
    "print(a,a.shape,'\\n')\n",
    "\n",
    "y = np.transpose(a,(1,0,2))\n",
    "print(y,y.shape)"
   ]
  },
  {
   "cell_type": "code",
   "execution_count": null,
   "id": "a06d1a8d",
   "metadata": {},
   "outputs": [],
   "source": [
    "# (1,2,3)->(2,3,1)\n",
    "a=np.arange(6).reshape(1,2,3)\n",
    "print(a,a.shape,'\\n')\n",
    "\n",
    "y=np.transpose(a,(1,2,0))\n",
    "print(y,y.shape)"
   ]
  },
  {
   "cell_type": "code",
   "execution_count": null,
   "id": "437a845e",
   "metadata": {},
   "outputs": [],
   "source": [
    "#[과제]아래 배열에서 3차원과 2차원을 변경하여 출력하세요(shape 확인)\n",
    "arr=np.arange(16).reshape(2,2,4)\n",
    "print(arr,arr.shape,'\\n')\n",
    "y=np.transpose(arr,(1,0,2))\n",
    "print(y,y.shape)"
   ]
  },
  {
   "cell_type": "code",
   "execution_count": null,
   "id": "7a53a9ca",
   "metadata": {},
   "outputs": [],
   "source": [
    "#[과제] 상기 과제의 arr에서 2차원과 1차원을 변경하여 출력하세요.\n",
    "import numpy as np\n",
    "arr=np.arange(16).reshape(2,2,4)\n",
    "arr21=np.transpose(arr,(0,2,1))\n",
    "print(arr21,arr21.shape,'\\n')\n",
    "arrs=arr.swapaxes(1,2)\n",
    "print(arrs,arrs.shape)"
   ]
  },
  {
   "cell_type": "code",
   "execution_count": null,
   "id": "4c656d91",
   "metadata": {},
   "outputs": [],
   "source": [
    "z=np.transpose(y,(0,2,1))\n",
    "print(z.swapaxes(1,2),z.shape)"
   ]
  },
  {
   "cell_type": "markdown",
   "id": "8c270c23",
   "metadata": {},
   "source": [
    "## mod, remainder 나머지 함수"
   ]
  },
  {
   "cell_type": "code",
   "execution_count": null,
   "id": "c02d9f47",
   "metadata": {},
   "outputs": [],
   "source": [
    "#나머지를 구할 경우 사용하는 함수\n",
    "value1 = np.array([15,30,45])\n",
    "value2 = np.array([2,7,9])\n",
    "print(np.mod(value1,value2))\n",
    "print(np.add(value1,value2))\n",
    "print(np.remainder(value1,value2))\n",
    "print(np.multiply(value1,value2))\n",
    "print(np.subtract(value1,value2))"
   ]
  },
  {
   "cell_type": "markdown",
   "id": "ffd3203e",
   "metadata": {},
   "source": [
    "## reciprocal - 역수"
   ]
  },
  {
   "cell_type": "code",
   "execution_count": 8,
   "id": "89c5ea25",
   "metadata": {},
   "outputs": [
    {
     "name": "stdout",
     "output_type": "stream",
     "text": [
      "[1.17647059 0.54054054 1.         0.01      ] \n",
      "\n",
      "[0.01]\n"
     ]
    }
   ],
   "source": [
    "# 각 수의 역수를 구해주는 함수 reciprocal(역수)\n",
    "value = np.array([0.85,1.85,1,100])\n",
    "print(np.reciprocal(value),'\\n')\n",
    "value1=np.array([100],dtype=int)\n",
    "print(np.reciprocal(value1,dtype=float))"
   ]
  },
  {
   "cell_type": "markdown",
   "id": "41c7bae2",
   "metadata": {},
   "source": [
    "## power - 승수"
   ]
  },
  {
   "cell_type": "code",
   "execution_count": 9,
   "id": "b3d99680",
   "metadata": {},
   "outputs": [
    {
     "name": "stdout",
     "output_type": "stream",
     "text": [
      "[  4 100 225] \n",
      "\n",
      "[   2  100 3375]\n"
     ]
    }
   ],
   "source": [
    "#승수의 결과 값을 표시해주는 함수\n",
    "value1 = np.array([2,10,15])\n",
    "value2 = np.array([1,2,3])\n",
    "print(np.power(value1,2),'\\n')\n",
    "print(np.power(value1,value2))\n"
   ]
  },
  {
   "cell_type": "code",
   "execution_count": 10,
   "id": "98575a07",
   "metadata": {},
   "outputs": [
    {
     "name": "stdout",
     "output_type": "stream",
     "text": [
      "[ 0.49564221 -2.03483669  0.17046017 -0.53314212 -0.27650498  1.36237497\n",
      " -0.32123321 -0.56943318  0.13759515 -0.26660142] \n",
      "\n",
      "-0.18356790875220497 \n",
      "\n",
      "0.8253799845841905\n"
     ]
    }
   ],
   "source": [
    "arr=np.random.randn(10)\n",
    "print(arr,'\\n')\n",
    "print(arr.mean(),'\\n')\n",
    "print(arr.std())"
   ]
  },
  {
   "cell_type": "code",
   "execution_count": null,
   "id": "fb7012df",
   "metadata": {},
   "outputs": [],
   "source": [
    "#양수인 원소의 개수\n",
    "(arr>0).sum()"
   ]
  },
  {
   "cell_type": "code",
   "execution_count": null,
   "id": "bb061db9",
   "metadata": {},
   "outputs": [],
   "source": [
    "#하나 이상의 값이 True인지 검사\n",
    "bools = np.array([False,False,True,True])\n",
    "bools.any()"
   ]
  },
  {
   "cell_type": "code",
   "execution_count": null,
   "id": "cbee1d70",
   "metadata": {},
   "outputs": [],
   "source": [
    "#모든 원소가 True인지 검사\n",
    "bools.all()"
   ]
  },
  {
   "cell_type": "code",
   "execution_count": null,
   "id": "e1871277",
   "metadata": {},
   "outputs": [],
   "source": [
    "# 삼항식의 백터와 버전\n",
    "arr=np.random.randn(4,4)\n",
    "print(arr,'\\n')\n",
    "np.where(arr > 0, 2, -2)"
   ]
  },
  {
   "cell_type": "code",
   "execution_count": null,
   "id": "59816e98",
   "metadata": {},
   "outputs": [],
   "source": [
    "# arr의 모든 양수를 2로 바꿀 경우\n",
    "arr=np.random.randn(4,4)\n",
    "print(arr,'\\n')\n",
    "np.where(arr > 0, 2, arr)"
   ]
  },
  {
   "cell_type": "code",
   "execution_count": null,
   "id": "9e94ff4d",
   "metadata": {},
   "outputs": [],
   "source": [
    "# 두개의 1차원 배열을 받아서 가능한 모든 (X,Y) 짝을 만들 수 있는 2차원 배열 2개 반환 meshgrid함수\n",
    "x=np.arange(1,4)\n",
    "y=np.arange(1,4)\n",
    "xs,ys= np.meshgrid(x,y)\n",
    "print(xs,'\\n\\n',ys)"
   ]
  },
  {
   "cell_type": "code",
   "execution_count": null,
   "id": "348a5eca",
   "metadata": {},
   "outputs": [],
   "source": [
    "# np.sort 원본 반영되지 않음.\n",
    "np.random.seed(0)\n",
    "arr=np.random.randint(1,100,size=10)\n",
    "print(arr,'\\n')\n",
    "print(np.sort(arr),'\\n')\n",
    "print(arr)"
   ]
  },
  {
   "cell_type": "code",
   "execution_count": null,
   "id": "81a24404",
   "metadata": {},
   "outputs": [],
   "source": [
    "sorted = np.sort(arr)\n",
    "print(sorted)"
   ]
  },
  {
   "cell_type": "code",
   "execution_count": null,
   "id": "9cff17a0",
   "metadata": {},
   "outputs": [],
   "source": [
    "# 행렬이 2차원 이상일 때 axis 축 값 설정을 통해 행, 열 방향으로 정렬 수행\n",
    "arr2d=np.array([[8,12],[7,1]])\n",
    "print(arr2d,'\\n')\n",
    "sort_ar2d_axis0=np.sort(arr2d,axis=0) #행방향\n",
    "print(sort_ar2d_axis0,'\\n')\n",
    "sort_ar2d_axis0=np.sort(arr2d,axis=1) #열방향\n",
    "print(sort_ar2d_axis0)"
   ]
  },
  {
   "cell_type": "code",
   "execution_count": null,
   "id": "fc640a88",
   "metadata": {},
   "outputs": [],
   "source": [
    "# ndarray.sort() : 원본 반영\n",
    "np.random.seed(0)\n",
    "arr=np.random.randint(1,10,size=10)\n",
    "print(arr,'\\n')\n",
    "arr.sort() #원본 반영\n",
    "arr"
   ]
  },
  {
   "cell_type": "code",
   "execution_count": null,
   "id": "14b2d1dc",
   "metadata": {},
   "outputs": [],
   "source": [
    "# 다차원 배열의 정렬은 sort 메소드에 넘긴 축에 따라 1차원 부분을 정렬\n",
    "#열방향 default\n",
    "np.random.seed(0)\n",
    "arr=np.random.randint(1,10,size=(5,3))\n",
    "print(arr,'\\n')\n",
    "arr.sort(1)\n",
    "print(arr,'\\n')\n",
    "arr.sort(0)\n",
    "print(arr,'\\n')"
   ]
  },
  {
   "cell_type": "code",
   "execution_count": null,
   "id": "1f572e74",
   "metadata": {},
   "outputs": [],
   "source": [
    "#열방향 정렬\n",
    "np.random.seed(0)\n",
    "arr=np.random.randint(1,10,size=(5,3))\n",
    "print(arr,'\\n')\n",
    "arr.sort()\n",
    "print(arr)"
   ]
  },
  {
   "cell_type": "code",
   "execution_count": null,
   "id": "4ac3bc5b",
   "metadata": {},
   "outputs": [],
   "source": [
    "# 정렬된 행렬의 인덱스 반환 : 기존 원본 행렬의 원소에 대한 인덱스를 필요로 할 때\n",
    "org_array = np.array([3,1,9,5])\n",
    "sort_indices = np.argsort(org_array)\n",
    "print(org_array)\n",
    "print(sort_indices)\n",
    "sort_indices # 인덱스 반환    1-1 3-0 5-3 9-2"
   ]
  },
  {
   "cell_type": "code",
   "execution_count": null,
   "id": "3d436d99",
   "metadata": {},
   "outputs": [],
   "source": [
    "# 배열에서 정렬한 후 5% 분위수에 해당하는 원소만 출력\n",
    "large_arr = np.random.randn(1000)\n",
    "large_arr.sort()\n",
    "large_arr[int(0.05*len(large_arr))]\n",
    "\n"
   ]
  },
  {
   "cell_type": "code",
   "execution_count": null,
   "id": "c16b6cce",
   "metadata": {},
   "outputs": [],
   "source": [
    "# 배열 집합 연산\n",
    "names = np.array(['Bob','Joe','Will','Joe','Joe'])\n",
    "np.unique(names)"
   ]
  },
  {
   "cell_type": "code",
   "execution_count": null,
   "id": "5091e12f",
   "metadata": {},
   "outputs": [],
   "source": [
    "import numpy as np\n",
    "names = np.array(['Bob','Joe','Will','Joe','Joe'])\n",
    "sorted(set(names))"
   ]
  },
  {
   "cell_type": "code",
   "execution_count": null,
   "id": "b2608e1f",
   "metadata": {},
   "outputs": [],
   "source": [
    "# 첫번째 배열의 원소가 두번째 배열의 원소를 포함하는지 알려주는 불리언 배열을 반환\n",
    "values = np.array([6,0,0,3,2,5,6])\n",
    "np.in1d(values,[2,3,6])"
   ]
  },
  {
   "cell_type": "code",
   "execution_count": null,
   "id": "ffeca8f9",
   "metadata": {},
   "outputs": [],
   "source": [
    "# 배열 데이터의 입출력\n",
    "# np.save, np.load는 바이너리 형식 .npy 파일로 저장\n",
    "arr=np.arange(10)\n",
    "np.save('some_array',arr)"
   ]
  },
  {
   "cell_type": "code",
   "execution_count": null,
   "id": "5b1f2f1b",
   "metadata": {},
   "outputs": [],
   "source": [
    "np.load('some_array.npy')"
   ]
  },
  {
   "cell_type": "code",
   "execution_count": null,
   "id": "4a7dc147",
   "metadata": {},
   "outputs": [],
   "source": [
    "# np.savez : 여러개의 배열을 압축된 형식으로 저장\n",
    "np.savez('array_archive.npz',a=arr,b=arr)"
   ]
  },
  {
   "cell_type": "code",
   "execution_count": 13,
   "id": "05082ff9",
   "metadata": {},
   "outputs": [
    {
     "name": "stdout",
     "output_type": "stream",
     "text": [
      "[0 1 2 3 4 5 6 7 8 9]\n",
      "[0 1 2 3 4 5 6 7 8 9]\n"
     ]
    }
   ],
   "source": [
    "arch = np.load('array_archive.npz')\n",
    "print(arch['b'])\n",
    "print(arch['a'])"
   ]
  },
  {
   "cell_type": "code",
   "execution_count": null,
   "id": "46145b81",
   "metadata": {},
   "outputs": [],
   "source": [
    "# Q. 인덱싱을 사용하여 [1 0 1 0 1 0 1 0 1 0] 을 출력하세요.\n",
    "a = np.ones(10)\n",
    "a[[1,3,5,7,9]] = 0\n",
    "print(a)"
   ]
  },
  {
   "cell_type": "code",
   "execution_count": null,
   "id": "6fb66f52",
   "metadata": {},
   "outputs": [],
   "source": [
    "# Q. a = np.arange(10)에서 [6,7,8,9] 출력\n",
    "a = np.arange(10)  # 6,7,8,9 출력\n",
    "a[a>5]\n"
   ]
  },
  {
   "cell_type": "code",
   "execution_count": null,
   "id": "ec63b5f7",
   "metadata": {},
   "outputs": [],
   "source": [
    "# Q. a에서 최대값, 최소값의 인덱스 출력\n",
    "a=np.arange(1,10)\n",
    "print(np.argmax(a))\n",
    "print(np.argmin(a))\n"
   ]
  },
  {
   "cell_type": "code",
   "execution_count": 12,
   "id": "889347d8",
   "metadata": {},
   "outputs": [
    {
     "data": {
      "text/plain": [
       "array([[0, 1, 2],\n",
       "       [0, 1, 2]], dtype=int64)"
      ]
     },
     "execution_count": 12,
     "metadata": {},
     "output_type": "execute_result"
    }
   ],
   "source": [
    "# Q. a에서 인덱스 배열을 역순으로 출력하세요.\n",
    "np.argsort(a)[::-1]   # 인텍스 -> arg~"
   ]
  },
  {
   "cell_type": "code",
   "execution_count": null,
   "id": "646c782b",
   "metadata": {},
   "outputs": [],
   "source": [
    "# Q. np.ones((10,10))을 아래와 같이 출력하세요.\n",
    "array([[1., 1., 1., 1., 1., 1., 1., 1., 1., 1.],\n",
    "       [1., 0., 0., 0., 0., 0., 0., 0., 0., 1.],\n",
    "       [1., 0., 0., 0., 0., 0., 0., 0., 0., 1.],\n",
    "       [1., 0., 0., 0., 0., 0., 0., 0., 0., 1.],\n",
    "       [1., 0., 0., 0., 0., 0., 0., 0., 0., 1.],\n",
    "       [1., 0., 0., 0., 0., 0., 0., 0., 0., 1.],\n",
    "       [1., 0., 0., 0., 0., 0., 0., 0., 0., 1.],\n",
    "       [1., 0., 0., 0., 0., 0., 0., 0., 0., 1.],\n",
    "       [1., 0., 0., 0., 0., 0., 0., 0., 0., 1.],\n",
    "       [1., 1., 1., 1., 1., 1., 1., 1., 1., 1.]])"
   ]
  },
  {
   "cell_type": "code",
   "execution_count": null,
   "id": "9f1b0b44",
   "metadata": {},
   "outputs": [],
   "source": [
    "ar=np.ones((10,10))\n",
    "ar[1:9,1:9] = 0\n",
    "print(ar)"
   ]
  },
  {
   "cell_type": "code",
   "execution_count": null,
   "id": "f2809248",
   "metadata": {},
   "outputs": [],
   "source": [
    "# [과제] np.ones((5,5))을 아래와 같이 출력하세요.\n",
    "array([[0., 0., 0., 0., 0., 0., 0., 0., 0.],\n",
    "       [0., 0., 0., 0., 0., 0., 0., 0., 0.],\n",
    "       [0., 0., 1., 1., 1., 1., 1., 0., 0.],\n",
    "       [0., 0., 1., 1., 1., 1., 1., 0., 0.],\n",
    "       [0., 0., 1., 1., 1., 1., 1., 0., 0.],\n",
    "       [0., 0., 1., 1., 1., 1., 1., 0., 0.],\n",
    "       [0., 0., 1., 1., 1., 1., 1., 0., 0.],\n",
    "       [0., 0., 0., 0., 0., 0., 0., 0., 0.],\n",
    "       [0., 0., 0., 0., 0., 0., 0., 0., 0.]])"
   ]
  },
  {
   "cell_type": "code",
   "execution_count": null,
   "id": "6d528f8b",
   "metadata": {},
   "outputs": [],
   "source": [
    "ar=np.ones((10,10))\n",
    "ar[[0,1,8,9]]=0 #행 \n",
    "ar[:,[0,1,8,9]]=0 #열\n",
    "print(ar)"
   ]
  },
  {
   "cell_type": "code",
   "execution_count": null,
   "id": "8d6782dd",
   "metadata": {},
   "outputs": [],
   "source": [
    "a=np.ones((5,5))\n",
    "b=np.zeros((9,9))\n",
    "b[2:7,2:7]=a\n",
    "b"
   ]
  },
  {
   "cell_type": "code",
   "execution_count": 11,
   "id": "00ba0fcd",
   "metadata": {},
   "outputs": [
    {
     "data": {
      "text/plain": [
       "array([[0., 0., 0., 0., 0., 0., 0., 0., 0.],\n",
       "       [0., 0., 0., 0., 0., 0., 0., 0., 0.],\n",
       "       [0., 0., 1., 1., 1., 1., 1., 0., 0.],\n",
       "       [0., 0., 1., 1., 1., 1., 1., 0., 0.],\n",
       "       [0., 0., 1., 1., 1., 1., 1., 0., 0.],\n",
       "       [0., 0., 1., 1., 1., 1., 1., 0., 0.],\n",
       "       [0., 0., 1., 1., 1., 1., 1., 0., 0.],\n",
       "       [0., 0., 0., 0., 0., 0., 0., 0., 0.],\n",
       "       [0., 0., 0., 0., 0., 0., 0., 0., 0.]])"
      ]
     },
     "execution_count": 11,
     "metadata": {},
     "output_type": "execute_result"
    }
   ],
   "source": [
    "arr1 = np.ones((5,5))\n",
    "np.pad(arr1,(2,2),'constant',constant_values=0)"
   ]
  },
  {
   "cell_type": "code",
   "execution_count": null,
   "id": "a899f63a",
   "metadata": {},
   "outputs": [],
   "source": [
    "# [과제] np.zeros((8,8))을 이용해서 아래와 같이 출력하세요(두가지 방식:인덱싱, tile함수)\n",
    "array([[0, 1, 0, 1, 0, 1, 0, 1],\n",
    "       [1, 0, 1, 0, 1, 0, 1, 0],\n",
    "       [0, 1, 0, 1, 0, 1, 0, 1],\n",
    "       [1, 0, 1, 0, 1, 0, 1, 0],\n",
    "       [0, 1, 0, 1, 0, 1, 0, 1],\n",
    "       [1, 0, 1, 0, 1, 0, 1, 0],\n",
    "       [0, 1, 0, 1, 0, 1, 0, 1],\n",
    "       [1, 0, 1, 0, 1, 0, 1, 0]])"
   ]
  },
  {
   "cell_type": "code",
   "execution_count": null,
   "id": "f8786ec5",
   "metadata": {},
   "outputs": [],
   "source": [
    "arr=np.zeros((8,8),dtype=int)\n",
    "arr[::2,1::2]=1\n",
    "arr[1::2,::2]=1\n",
    "arr"
   ]
  },
  {
   "cell_type": "code",
   "execution_count": null,
   "id": "89de1575",
   "metadata": {},
   "outputs": [],
   "source": [
    "a=np.array([[0,1],[1,0]])\n",
    "b=np.tile(a,(4,4))\n",
    "print(b)"
   ]
  },
  {
   "cell_type": "code",
   "execution_count": null,
   "id": "ec6dd02b",
   "metadata": {},
   "outputs": [],
   "source": [
    "arr=np.zeros((8,8),dtype=int)"
   ]
  },
  {
   "cell_type": "code",
   "execution_count": null,
   "id": "9ba4f5c5",
   "metadata": {},
   "outputs": [],
   "source": [
    "# [도전과제] np.arange(336).reshape(6,7,8)에서 100번째 요소의 인덱스를 구하세요"
   ]
  },
  {
   "cell_type": "code",
   "execution_count": null,
   "id": "5c94996b",
   "metadata": {},
   "outputs": [],
   "source": [
    "arr=np.arange(336).reshape(6,7,8)\n",
    "print(np.where(arr==99),'\\n')\n",
    "\n",
    "arr = np.arange(336).reshape(6,7,8)\n",
    "print(arr)\n",
    "print(np.unravel_index(99,(6,7,8)))  # 인덱스 검출\n"
   ]
  },
  {
   "cell_type": "code",
   "execution_count": null,
   "id": "c09267cc",
   "metadata": {},
   "outputs": [],
   "source": []
  },
  {
   "cell_type": "code",
   "execution_count": null,
   "id": "0ca1b5c6",
   "metadata": {},
   "outputs": [],
   "source": [
    "large_arr = np.random.randn(1000)\n",
    "large_arr.sort()\n",
    "large_arr[int(0.05*len(large_arr))]"
   ]
  },
  {
   "cell_type": "code",
   "execution_count": null,
   "id": "b316641b",
   "metadata": {},
   "outputs": [],
   "source": [
    "# [도전과제] np.arange(4)을 이용해서 아래와 같이 출력하세요.\n",
    "array([[0, 0, 0, 0, 0],\n",
    "       [1, 0, 0, 0, 0],\n",
    "       [0, 2, 0, 0, 0],\n",
    "       [0, 0, 3, 0, 0],\n",
    "       [0, 0, 0, 4, 0]])"
   ]
  },
  {
   "cell_type": "code",
   "execution_count": null,
   "id": "2d6bd31e",
   "metadata": {},
   "outputs": [],
   "source": [
    "arr=np.arange(4)\n",
    "np.diag(arr+1,k=-1)"
   ]
  },
  {
   "cell_type": "code",
   "execution_count": null,
   "id": "2df81a02",
   "metadata": {},
   "outputs": [],
   "source": [
    "zero = np.zeros((5, 5))\n",
    "a = np.arange(4)\n",
    "\n",
    "for i in range(4):\n",
    "    zero[i + 1, i] = a[i] + 1\n",
    "    \n",
    "print(zero)\n"
   ]
  },
  {
   "cell_type": "code",
   "execution_count": null,
   "id": "34343c53",
   "metadata": {},
   "outputs": [],
   "source": [
    "arr=np.arange(1,5)\n",
    "array=np.zeros((5,5))\n",
    "# array[1:5,0:5] = arr[1,2,3,4]\n",
    "array\n",
    "arr"
   ]
  },
  {
   "cell_type": "markdown",
   "id": "a75278d4",
   "metadata": {},
   "source": [
    "[파이썬 random 함수]\n"
   ]
  },
  {
   "cell_type": "code",
   "execution_count": null,
   "id": "dae60e13",
   "metadata": {},
   "outputs": [],
   "source": [
    "import random\n",
    "print(random.random(),'\\n') # 0.0 <= x < 1.0\n",
    "print(random.randint(1,10),'\\n') # 1 <= x < 10 난수 값 리턴\n",
    "print(random.uniform(10,20),'\\n') # min <= x < max float리턴\n",
    "print(random.randrange(10),'\\n') # 0<= x <10 int 리턴\n",
    "print(random.choice([1,2,3,4,5]),'\\n') # 리스트 내부에 있는 요소를 랜덤하게 선택\n",
    "li=[1,2,3,4,5]\n",
    "print(random.sample(li,3),'\\n')  # 리스트 요소를 중복이 안되게  리턴\n",
    "random.shuffle(li)\n",
    "print(li)"
   ]
  },
  {
   "cell_type": "markdown",
   "id": "7f1057b2",
   "metadata": {},
   "source": [
    "[numpy random 함수]\n",
    "\n",
    "- np.random.seed : seed를 통한 난수 생성\n",
    "- np.random.randint : 균일분포의 정수 난수 1개 생성\n",
    "- np.random.rand : 0부터 1사이의 균일분포에서 난수 매트릭스 배열 생성\n",
    "- np.random.randn : 가우시안 표준 정규분포에서 난수 매트릭스 배열 생성\n",
    "- np.random.shuffle : 기존의 데이터 순서 바꾸기\n",
    "- np.random.choice : 기존 데이터에서 sampling"
   ]
  },
  {
   "cell_type": "code",
   "execution_count": null,
   "id": "cece1539",
   "metadata": {},
   "outputs": [],
   "source": [
    "print(np.random.randint(6),'\\n') # 0~5 까지 정수인 난수 1개\n",
    "print(np.random.randint(1,20),'\\n') # 1~19 까지 정수인 난수 1개\n",
    "print(np.random.randint(10,size=10),'\\n') # 0~9까지 정수인 난수 10개\n",
    "print(np.random.randint(10,20,size=10),'\\n') #10~19 까지 정수인 난수 10개\n",
    "print(np.random.randint(10,20,size=(3,5)),'\\n') # 10~19까지 정수인 난수 3행 5열 배열생성"
   ]
  },
  {
   "cell_type": "code",
   "execution_count": null,
   "id": "3079b1ba",
   "metadata": {},
   "outputs": [],
   "source": [
    "r=np.random.rand(6) # 0~1사이의 균일분포\n",
    "print(r)\n",
    "r.mean()"
   ]
  },
  {
   "cell_type": "code",
   "execution_count": null,
   "id": "9c90d98f",
   "metadata": {},
   "outputs": [],
   "source": [
    "#표준 정규분포\n",
    "r = np.random.randn(6)\n",
    "print(r)\n",
    "r.mean()"
   ]
  },
  {
   "cell_type": "code",
   "execution_count": null,
   "id": "65016446",
   "metadata": {},
   "outputs": [],
   "source": [
    "import random as np\n",
    "list = np.random.arange(1,6)\n",
    "print(list,'\\n')\n",
    "np.random.shuffle(list)\n",
    "list"
   ]
  },
  {
   "cell_type": "code",
   "execution_count": null,
   "id": "8344a15d",
   "metadata": {},
   "outputs": [],
   "source": [
    "np.random.choice(list,5)"
   ]
  },
  {
   "cell_type": "code",
   "execution_count": null,
   "id": "3f2d8dca",
   "metadata": {},
   "outputs": [],
   "source": [
    "a = np.array([11,11,3,3,2,2,2,7])\n",
    "index,count=np.unique(a,return_counts=True)\n",
    "print(index)\n",
    "print(count)"
   ]
  },
  {
   "cell_type": "code",
   "execution_count": null,
   "id": "a5786493",
   "metadata": {},
   "outputs": [],
   "source": [
    "np.random.uniform(1.0,2.0,10)"
   ]
  },
  {
   "cell_type": "code",
   "execution_count": null,
   "id": "43b9f8f9",
   "metadata": {},
   "outputs": [],
   "source": [
    "np.random.uniform(0,1,(2,3))"
   ]
  },
  {
   "cell_type": "code",
   "execution_count": null,
   "id": "fc2be5df",
   "metadata": {},
   "outputs": [],
   "source": [
    "# 0 ~ 1 사이의 실수값으루 행렬 생성\n",
    "# uniform 함수의 최소값, 최대값을 각각 0,1로 지정한 것과 같음\n",
    "np.random.random_sample((2,3))"
   ]
  },
  {
   "cell_type": "code",
   "execution_count": null,
   "id": "67f7f665",
   "metadata": {},
   "outputs": [],
   "source": [
    "!pip install pandas"
   ]
  },
  {
   "cell_type": "code",
   "execution_count": null,
   "id": "8a5c1bf4",
   "metadata": {},
   "outputs": [],
   "source": [
    "ar=np.random.rand(4,8)\n",
    "ar"
   ]
  },
  {
   "cell_type": "code",
   "execution_count": null,
   "id": "49928bf8",
   "metadata": {},
   "outputs": [],
   "source": [
    "# 배얄을 데이터프레임으로 변환\n",
    "import pandas as pd\n",
    "df = pd.DataFrame(ar)\n",
    "print(df,type(df))\n",
    "df"
   ]
  },
  {
   "cell_type": "code",
   "execution_count": null,
   "id": "285fa1c9",
   "metadata": {},
   "outputs": [],
   "source": [
    "print(df[0])\n",
    "type(df[0])"
   ]
  },
  {
   "cell_type": "code",
   "execution_count": null,
   "id": "aedcdea8",
   "metadata": {},
   "outputs": [],
   "source": [
    "columns = ['id','gender','age','region','product','price','qty','time']\n",
    "index = [np.arange(4)]\n",
    "df = pd.DataFrame(ar,index,columns=columns)\n",
    "df"
   ]
  },
  {
   "cell_type": "code",
   "execution_count": null,
   "id": "4478e71e",
   "metadata": {},
   "outputs": [],
   "source": [
    "# 의미있는값으로 변환하여 3개의 컬럼으로 구성된 df를 출력하세요,\n",
    "ar=np.zeros((4,3))\n",
    "columns = ['id','gender','age']\n",
    "index = [np.arange(4)]\n",
    "df = pd.DataFrame(ar,index,columns=columns)\n",
    "np.random.seed(0)\n",
    "df.id=np.arange(1,5)\n",
    "df.gender=np.random.randint(0,2,4)\n",
    "df.age=np.arange(1,5)*10\n",
    "df"
   ]
  },
  {
   "cell_type": "markdown",
   "id": "f0f9d344",
   "metadata": {},
   "source": [
    "[과제] 아래 가이드에 따라서 고객 구매데이터를 생성하고 데이터프레임으로 변환하여 출력하세요(관측치 1000개)\n",
    "\n",
    "- id : 1 ~ 1000번 일련번호\n",
    "- gender : 0,1 정수 난수 생성\n",
    "- age : 0 ~ 80사이 정수 난수 생성\n",
    "- region : 1 ~ 10 사이 정수 난수 생성\n",
    "- product_19 : 제품코드 11111 ~ 99999\n",
    "- product_20 : 제품코드 11111 ~ 99999\n",
    "- price_19 : 1000 ~ 50000 사이 실수 난수 생성\n",
    "- price_20 : 1000 ~ 50000 사이 실수 난수 생성\n",
    "- quantity_19 : 1 ~ 100 사이 정수 난수 생성\n",
    "- quantity_20 : 1 ~ 100 사이 정수 난수 생성\n",
    "- time_19 : 01 ~ 24 사이 정수 난수 생성\n",
    "- time_20 : 01 ~ 24 사이 정수 난수 생성\n",
    "- amount_19 : price_19 * quantity_19\n",
    "- amount_20 : price_20 * quantity_20\n",
    "- sales : 19년 대비 20년구매금액이 증가면 1, 감소면 0"
   ]
  },
  {
   "cell_type": "raw",
   "id": "b76a8f97",
   "metadata": {},
   "source": []
  },
  {
   "cell_type": "code",
   "execution_count": null,
   "id": "a0886cba",
   "metadata": {},
   "outputs": [],
   "source": [
    "import pandas as pd\n",
    "import numpy as np\n",
    "ar = np.zeros((1000,15))\n",
    "columns = ['id','gender','age','region','product_19','product_20','price_19',\n",
    "           'price_20','quantity_19','quantity_20','time_19','time_20','amount_19','amount_20','sales']\n",
    "index = [np.arange(1000)]\n",
    "df = pd.DataFrame(ar,index,columns=columns)\n",
    "df.id = np.arange(1,1001)\n",
    "df.gender=np.random.choice(['M','F'],1000)\n",
    "df.age=np.random.randint(0,80,1000)\n",
    "df.region=np.random.randint(1,10,1000)\n",
    "df.product_19=np.random.randint(111,222,1000)\n",
    "df.product_20=np.random.randint(111,999,1000)\n",
    "\n",
    "for i in range(1,1001)\n",
    "    df.price_19[i]=np.random.randint(1000,50000)\n",
    "    df.price_20[i]=np.random.randint(1000,50000)\n",
    "\n",
    "df.quantity_19=np.random.randint(1,100,1000)\n",
    "df.quantity_20=np.random.randint(1,100,1000)\n",
    "df.time_19=np.random.randint(0,24,1000)\n",
    "df.time_20=np.random.randint(0,24,1000)\n",
    "df.amount_19=df.price_19*df.quantity_19\n",
    "df.amount_20=df.price_20*df.quantity_20\n",
    "df.loc[df.amount_20 > df.amount_19,'sales'] = '1'\n",
    "# df.loc[df.amount_20 == df.amount_19,'sales'] = '-'\n",
    "df.loc[df.amount_20 < df.amount_19,'sales'] = '0'\n",
    "# df.sales=np.where(df.amount_20-df.amount_19>0,1,0)\n",
    "df\n",
    "# condition = (df.sales == '1') \n",
    "# df[condition]"
   ]
  },
  {
   "cell_type": "code",
   "execution_count": null,
   "id": "be8e15c4",
   "metadata": {},
   "outputs": [],
   "source": [
    "df[df.product_19==111]"
   ]
  },
  {
   "cell_type": "code",
   "execution_count": null,
   "id": "f760ce92",
   "metadata": {},
   "outputs": [],
   "source": [
    "import numpy as np\n",
    "import pandas as pd\n",
    "import warnings\n",
    "warnings.filterwarnings(action='ignore') \n",
    "customer = 1000\n",
    "\n",
    "array = np.zeros((customer,14),dtype = int)\n",
    "df = pd.DataFrame(array,(np.arange(1,customer+1)),columns = ['id','gender','age','product_19','product_20','price_19','price_20','quantity_19','quantity_20','time_19','time_20','amount_19','amount_20','sales'])\n",
    "np.random.seed(0)\n",
    "df.id = np.arange(1,customer+1)\n",
    "df.gender = np.random.choice(['M','F'],customer)\n",
    "df.age = np.random.randint(1,81,size=customer)\n",
    "df.product_19 = np.random.randint(111,222,size = customer)\n",
    "df.product_20 = np.random.randint(111,222,size = customer)\n",
    "\n",
    "pricearray= np.random.randint(10,500,size = 100000)*100\n",
    "print(pricearray)\n",
    "for i in range(1,customer+1):\n",
    "    df.price_19[i] = pricearray[df.product_19[i]]\n",
    "    df.price_20[i] = pricearray[df.product_20[i]]\n",
    "\n",
    "df.quantity_19 = np.random.randint(1,101,size = customer)\n",
    "df.quantity_20 = np.random.randint(1,101,size = customer)\n",
    "\n",
    "df.time_19 = np.random.randint(1,25,size = customer)\n",
    "df.time_20 = np.random.randint(1,25,size = customer)\n",
    "\n",
    "df.amount_19 = df.price_19*df.quantity_19\n",
    "df.amount_20 = df.price_20*df.quantity_20\n",
    "\n",
    "for i in range(1,customer+1):\n",
    "    if df.amount_20[i]>df.amount_19[i]:\n",
    "        df.sales[i] = 1\n",
    "    else:\n",
    "        df.sales[i] = 0\n",
    "\n",
    "print(df.shape)\n",
    "df.head()"
   ]
  },
  {
   "cell_type": "code",
   "execution_count": null,
   "id": "88b9f5d0",
   "metadata": {},
   "outputs": [],
   "source": [
    "df[df.sales==0]"
   ]
  },
  {
   "cell_type": "code",
   "execution_count": null,
   "id": "5d6934fb",
   "metadata": {},
   "outputs": [],
   "source": [
    "df[df.product_19==220]"
   ]
  }
 ],
 "metadata": {
  "kernelspec": {
   "display_name": "Python 3 (ipykernel)",
   "language": "python",
   "name": "python3"
  },
  "language_info": {
   "codemirror_mode": {
    "name": "ipython",
    "version": 3
   },
   "file_extension": ".py",
   "mimetype": "text/x-python",
   "name": "python",
   "nbconvert_exporter": "python",
   "pygments_lexer": "ipython3",
   "version": "3.8.12"
  },
  "toc": {
   "base_numbering": 1,
   "nav_menu": {},
   "number_sections": true,
   "sideBar": true,
   "skip_h1_title": false,
   "title_cell": "Table of Contents",
   "title_sidebar": "Contents",
   "toc_cell": false,
   "toc_position": {
    "height": "calc(100% - 180px)",
    "left": "10px",
    "top": "150px",
    "width": "384px"
   },
   "toc_section_display": true,
   "toc_window_display": true
  },
  "varInspector": {
   "cols": {
    "lenName": 16,
    "lenType": 16,
    "lenVar": 40
   },
   "kernels_config": {
    "python": {
     "delete_cmd_postfix": "",
     "delete_cmd_prefix": "del ",
     "library": "var_list.py",
     "varRefreshCmd": "print(var_dic_list())"
    },
    "r": {
     "delete_cmd_postfix": ") ",
     "delete_cmd_prefix": "rm(",
     "library": "var_list.r",
     "varRefreshCmd": "cat(var_dic_list()) "
    }
   },
   "types_to_exclude": [
    "module",
    "function",
    "builtin_function_or_method",
    "instance",
    "_Feature"
   ],
   "window_display": false
  }
 },
 "nbformat": 4,
 "nbformat_minor": 5
}
