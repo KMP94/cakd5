{
 "cells": [
  {
   "cell_type": "markdown",
   "id": "d9c8ce99",
   "metadata": {},
   "source": [
    "## selenium\n",
    "- 웹 어플리케이션 테스트를 위한 프레임워크 : 홈페이지 테스트용으로 사용\n",
    "- 사용자가 아닌 프로그램이 웹 브라우저를 제어할 수 있도록 지원\n",
    "- 웹 브라우저마다 클라이언트 프로그램(Web Driver)이 별도로 필요( 브라우저와 프로그램간의 통신 목적 )\n",
    "- 크롤링 보다는 웹을 제어하는 목적이 더 큼\n",
    "- pip install selenium 으로 설치\n",
    "- web drive 설치(크롬 버전 확인) : https://chromedriver.chromium.org/downloads\n",
    "- 압축 해제한 후 해당파일을 적당한 경로로 이동\n",
    "- selenium 모듈 호출 후 설치한 web driver 경로를 지정\n",
    "\n",
    "이벤트로 제어하기 : 브라우저를 직접 제어하기 떄문에 직접 컨트롤하여 마우스 클릭, 키보드 입력, 자바 스크립트 이벤트 처리 가능\n",
    "- 마우스 클릭 : click()\n",
    "- 키보드 입력 : send_keys()\n",
    "- 자바 스크립트 삽입 : execute_script()\n",
    "- 입력 양식 전송 : submit()\n",
    "- 스크린샷 : screenshot(파일 이름)\n",
    "- 입력 글자 지움 : clear()\n",
    "- 뒤로 가기, 앞으로 가기 : back(), forward()\n",
    "\n",
    "### function() list\n",
    "- find_element_by_id : id 속성을 사용하여 접근\n",
    "- find_element(s)_by_class_name : 클래스를 사용하여 접근\n",
    "- find_element(s)_by_name : name 속성을 사용하여 접근\n",
    "- find_element(s)_by_xpath : xpath 속성을 사용하여 접근\n",
    "- find_element(s)_by_link_text : 앵커태그(a)에 사용되는 텍스트로 접근\n",
    "- find_element(s)_by_partial_link_text : 앵커태그(a)에 사용되는 일부 텍스트로 접근\n",
    "- find_element(s)_by_tag_name : 태그를 사용하여 접근\n",
    "- find_element(s)_by_css_selector : CSS 선택자를 사용하여 접근\n"
   ]
  },
  {
   "cell_type": "code",
   "execution_count": 2,
   "id": "29b926ee",
   "metadata": {
    "collapsed": true
   },
   "outputs": [
    {
     "name": "stdout",
     "output_type": "stream",
     "text": [
      "Requirement already satisfied: selenium in d:\\anaconda3\\envs\\cakd5\\lib\\site-packages (4.1.0)\n",
      "Requirement already satisfied: trio~=0.17 in d:\\anaconda3\\envs\\cakd5\\lib\\site-packages (from selenium) (0.19.0)\n",
      "Requirement already satisfied: urllib3[secure]~=1.26 in d:\\anaconda3\\envs\\cakd5\\lib\\site-packages (from selenium) (1.26.8)\n",
      "Requirement already satisfied: trio-websocket~=0.9 in d:\\anaconda3\\envs\\cakd5\\lib\\site-packages (from selenium) (0.9.2)\n",
      "Requirement already satisfied: async-generator>=1.9 in d:\\anaconda3\\envs\\cakd5\\lib\\site-packages (from trio~=0.17->selenium) (1.10)\n",
      "Requirement already satisfied: cffi>=1.14 in d:\\anaconda3\\envs\\cakd5\\lib\\site-packages (from trio~=0.17->selenium) (1.15.0)\n",
      "Requirement already satisfied: attrs>=19.2.0 in d:\\anaconda3\\envs\\cakd5\\lib\\site-packages (from trio~=0.17->selenium) (21.2.0)\n",
      "Requirement already satisfied: idna in d:\\anaconda3\\envs\\cakd5\\lib\\site-packages (from trio~=0.17->selenium) (3.3)\n",
      "Requirement already satisfied: sortedcontainers in d:\\anaconda3\\envs\\cakd5\\lib\\site-packages (from trio~=0.17->selenium) (2.4.0)\n",
      "Requirement already satisfied: outcome in d:\\anaconda3\\envs\\cakd5\\lib\\site-packages (from trio~=0.17->selenium) (1.1.0)\n",
      "Requirement already satisfied: sniffio in d:\\anaconda3\\envs\\cakd5\\lib\\site-packages (from trio~=0.17->selenium) (1.2.0)\n",
      "Requirement already satisfied: pycparser in d:\\anaconda3\\envs\\cakd5\\lib\\site-packages (from cffi>=1.14->trio~=0.17->selenium) (2.21)\n",
      "Requirement already satisfied: wsproto>=0.14 in d:\\anaconda3\\envs\\cakd5\\lib\\site-packages (from trio-websocket~=0.9->selenium) (1.0.0)\n",
      "Requirement already satisfied: cryptography>=1.3.4 in d:\\anaconda3\\envs\\cakd5\\lib\\site-packages (from urllib3[secure]~=1.26->selenium) (36.0.1)\n",
      "Requirement already satisfied: pyOpenSSL>=0.14 in d:\\anaconda3\\envs\\cakd5\\lib\\site-packages (from urllib3[secure]~=1.26->selenium) (22.0.0)\n",
      "Requirement already satisfied: certifi in d:\\anaconda3\\envs\\cakd5\\lib\\site-packages (from urllib3[secure]~=1.26->selenium) (2021.10.8)\n",
      "Requirement already satisfied: h11<1,>=0.9.0 in d:\\anaconda3\\envs\\cakd5\\lib\\site-packages (from wsproto>=0.14->trio-websocket~=0.9->selenium) (0.13.0)\n"
     ]
    }
   ],
   "source": [
    "!pip install selenium"
   ]
  },
  {
   "cell_type": "code",
   "execution_count": 1,
   "id": "9339bb3c",
   "metadata": {},
   "outputs": [],
   "source": [
    "import selenium\n",
    "from selenium import webdriver\n",
    "from selenium.webdriver.common.keys import Keys\n",
    "import warnings\n",
    "warnings.filterwarnings('ignore')\n",
    "\n",
    "# lmplocot Wait\n",
    "from selenium.webdriver.common.by import By\n",
    "from selenium.webdriver.support.ui import WebDriverWait\n",
    "from selenium.webdriver.support import expected_conditions as EC"
   ]
  },
  {
   "cell_type": "markdown",
   "id": "f72e5fce",
   "metadata": {},
   "source": [
    "## step1. 브라우저"
   ]
  },
  {
   "cell_type": "code",
   "execution_count": 10,
   "id": "e43c7845",
   "metadata": {},
   "outputs": [],
   "source": [
    "url = 'https://naver.com'\n",
    "path = 'H:/내 드라이브/tool/chromedriver.exe'\n",
    "driver = webdriver.Chrome(path)\n",
    "driver.get(url)"
   ]
  },
  {
   "cell_type": "markdown",
   "id": "ed9aba48",
   "metadata": {},
   "source": [
    "### 현재 브라우저 URL"
   ]
  },
  {
   "cell_type": "code",
   "execution_count": 7,
   "id": "949c37d1",
   "metadata": {},
   "outputs": [
    {
     "name": "stdout",
     "output_type": "stream",
     "text": [
      "https://www.naver.com/\n"
     ]
    }
   ],
   "source": [
    "print(driver.current_url)"
   ]
  },
  {
   "cell_type": "markdown",
   "id": "ce48b010",
   "metadata": {},
   "source": [
    "### 브라우저 닫기"
   ]
  },
  {
   "cell_type": "code",
   "execution_count": 8,
   "id": "9b8383d6",
   "metadata": {},
   "outputs": [],
   "source": [
    "driver.close()"
   ]
  },
  {
   "cell_type": "markdown",
   "id": "f9d4a466",
   "metadata": {},
   "source": [
    "### 브라우저 창을 띄우지 않고 수행"
   ]
  },
  {
   "cell_type": "code",
   "execution_count": 2,
   "id": "de879b2b",
   "metadata": {},
   "outputs": [
    {
     "name": "stdout",
     "output_type": "stream",
     "text": [
      "https://www.google.com/\n"
     ]
    }
   ],
   "source": [
    "options = webdriver.ChromeOptions()\n",
    "options.add_argument('headless')\n",
    "driver = webdriver.Chrome('H:/내 드라이브/tool/chromedriver.exe',options=options)\n",
    "driver.get('https://google.com')\n",
    "print(driver.current_url)\n",
    "driver.close()"
   ]
  },
  {
   "cell_type": "markdown",
   "id": "2bc2bd46",
   "metadata": {},
   "source": [
    "### 브라우저 최소화/최대화\n",
    "#### maximize , minimize"
   ]
  },
  {
   "cell_type": "code",
   "execution_count": 16,
   "id": "dc23ca4e",
   "metadata": {},
   "outputs": [],
   "source": [
    "driver = webdriver.Chrome(path)\n",
    "driver.get('https://google.com')\n",
    "driver.maximize_window()"
   ]
  },
  {
   "cell_type": "code",
   "execution_count": 17,
   "id": "2466514e",
   "metadata": {},
   "outputs": [],
   "source": [
    "driver.minimize_window()"
   ]
  },
  {
   "cell_type": "markdown",
   "id": "ac8a55a0",
   "metadata": {},
   "source": [
    "### lmplicit Waits(암묵적 대기) \n",
    "- 찾으려는 element가 로드될 때까지 지정한 시간만큼 대기할 수 있도록 설정"
   ]
  },
  {
   "cell_type": "code",
   "execution_count": 15,
   "id": "513f504e",
   "metadata": {},
   "outputs": [],
   "source": [
    "driver = webdriver.Chrome(path)\n",
    "driver.get('https://google.com')\n",
    "try:\n",
    "    element = WebDriverWait(driver, 10).until(\n",
    "        EC.presence_of_element_located((By.CLASS_NAME, 'gLFyf'))\n",
    "    )\n",
    "finally:\n",
    "    driver.quit()"
   ]
  },
  {
   "cell_type": "markdown",
   "id": "af610d3c",
   "metadata": {},
   "source": [
    "### 브라우저 실행 상태 검색 및 추출\n",
    "#### elements_by_xpath"
   ]
  },
  {
   "cell_type": "code",
   "execution_count": 41,
   "id": "2b338f7c",
   "metadata": {},
   "outputs": [
    {
     "name": "stdout",
     "output_type": "stream",
     "text": [
      "<selenium.webdriver.remote.webelement.WebElement (session=\"3c87012a8fab216ee07132bf6decb3ac\", element=\"a53e22ba-ac32-4d6d-b78c-b7f8f252493c\")>\n",
      "<selenium.webdriver.remote.webelement.WebElement (session=\"3c87012a8fab216ee07132bf6decb3ac\", element=\"f57631b0-94d0-4ab1-ba19-61d774faf083\")>\n",
      "<selenium.webdriver.remote.webelement.WebElement (session=\"3c87012a8fab216ee07132bf6decb3ac\", element=\"dc96d473-0455-40c9-aee0-026586bb4a63\")>\n"
     ]
    }
   ],
   "source": [
    "from time import sleep\n",
    "driver = webdriver.Chrome(path)\n",
    "driver.get('https://naver.com')\n",
    "search_box = driver.find_element_by_xpath('//*[@id=\"query\"]')\n",
    "search_box.send_keys('빅데이터')\n",
    "search_box.send_keys(Keys.RETURN)\n",
    "\n",
    "elements = driver.find_elements_by_xpath('//*[@id=\"main_pack\"]/section/div/div/div/div/h3/a')\n",
    "\n",
    "for element in elements:\n",
    "    print(element)\n",
    "    print(element.text, file=open('dataset/test_set.txt','a',encoding='utf-8'))\n",
    "sleep(3)\n",
    "driver.close()"
   ]
  },
  {
   "cell_type": "markdown",
   "id": "61b0de87",
   "metadata": {},
   "source": [
    "### 브라우저 기능 조작(로그인)"
   ]
  },
  {
   "cell_type": "code",
   "execution_count": 54,
   "id": "b1197f6e",
   "metadata": {},
   "outputs": [
    {
     "name": "stdout",
     "output_type": "stream",
     "text": [
      "https://search.naver.com/search.naver?where=nexearch&sm=top_hty&fbm=0&ie=utf8&query=#lnb\n",
      "https://search.naver.com/search.naver?where=nexearch&sm=top_hty&fbm=0&ie=utf8&query=#content\n",
      "https://www.naver.com/\n",
      "https://search.naver.com/search.naver?where=nexearch&sm=top_hty&fbm=0&ie=utf8&query=#\n",
      "https://search.naver.com/search.naver?where=nexearch&sm=top_hty&fbm=0&ie=utf8&query=#\n",
      "https://search.naver.com/search.naver?where=nexearch&sm=top_hty&fbm=0&ie=utf8&query=#\n",
      "https://search.naver.com/search.naver?where=nexearch&sm=top_hty&fbm=0&ie=utf8&query=#\n",
      "https://search.naver.com/search.naver?where=nexearch&sm=top_hty&fbm=0&ie=utf8&query=#\n",
      "https://help.naver.com/support/alias/search/word/word_29.naver\n",
      "https://help.naver.com/support/alias/search/word/word_29.naver\n",
      "https://help.naver.com/support/alias/search/word/word_29.naver\n",
      "https://search.naver.com/search.naver?where=nexearch&sm=top_hty&fbm=0&ie=utf8&query=#\n",
      "https://search.naver.com/search.naver?where=nexearch&sm=top_hty&fbm=0&ie=utf8&query=#\n",
      "https://help.naver.com/support/alias/search/word/word_16.naver\n",
      "https://search.naver.com/search.naver?where=nexearch&sm=top_hty&fbm=0&ie=utf8&query=#\n",
      "https://help.naver.com/support/alias/search/word/word_16.naver\n",
      "https://nid.naver.com/nidlogin.login?url=https%3A%2F%2Fsearch.naver.com%2Fsearch.naver%3Fwhere%3Dnexearch%26sm%3Dtop_hty%26fbm%3D0%26ie%3Dutf8%26query%3D\n",
      "https://help.naver.com/support/alias/search/word/word_16.naver\n",
      "https://search.naver.com/search.naver?where=nexearch&sm=top_hty&fbm=0&ie=utf8&query=#\n",
      "https://help.naver.com/support/alias/search/word/word_17.naver\n",
      "https://help.naver.com/support/alias/search/word/word_18.naver\n",
      "https://search.naver.com/search.naver?where=nexearch&sm=top_hty&fbm=0&ie=utf8&query=#\n",
      "https://nid.naver.com/nidlogin.login?url=https%3A%2F%2Fsearch.naver.com%2Fsearch.naver%3Fwhere%3Dnexearch%26sm%3Dtop_hty%26fbm%3D0%26ie%3Dutf8%26query%3D\n",
      "javascript:;\n",
      "https://search.naver.com/search.naver?where=nexearch&sm=top_hty&fbm=0&ie=utf8&query=#\n",
      "https://nid.naver.com/user2/api/naverProfile?m=checkIdType\n",
      "https://nid.naver.com/user2/api/naverProfile?m=checkIdType\n",
      "https://nid.naver.com/nidlogin.logout?returl=https%3A%2F%2Fsearch.naver.com%2Fsearch.naver%3Fwhere%3Dnexearch%26sm%3Dtop_hty%26fbm%3D0%26ie%3Dutf8%26query%3D\n",
      "https://mail.naver.com/\n",
      "https://nid.naver.com/user2/help/myInfo?menu=home\n",
      "https://nid.naver.com/user2/help/myInfo?m=viewSecurity&menu=security\n",
      "https://nid.naver.com/user2/eSign/v1/home/land\n",
      "https://nid.naver.com/membership/my\n",
      "https://pay.naver.com/\n",
      "https://blog.naver.com/MyBlog.naver\n",
      "https://section.cafe.naver.com/\n",
      "https://pay.naver.com/\n",
      "https://search.naver.com/search.naver?where=nexearch&sm=top_hty&fbm=0&ie=utf8&query=#\n",
      "javascript:;\n",
      "https://noti.naver.com/index.nhn\n",
      "https://mail.naver.com/\n",
      "javascript:;\n",
      "https://search.naver.com/search.naver?where=nexearch&sm=top_hty&fbm=0&ie=utf8&query=#\n",
      "https://search.naver.com/search.naver?where=nexearch&sm=top_hty&fbm=0&ie=utf8&query=#\n",
      "https://search.naver.com/search.naver?where=nexearch&sm=top_hty&fbm=0&ie=utf8&query=#\n",
      "https://search.naver.com/search.naver?where=nexearch&sm=top_hty&fbm=0&ie=utf8&query=#\n",
      "https://search.naver.com/search.naver?where=nexearch&sm=top_hty&fbm=0&ie=utf8&query=#\n",
      "https://search.naver.com/search.naver?where=nexearch&sm=top_hty&fbm=0&ie=utf8&query=#\n",
      "https://search.naver.com/search.naver?where=nexearch&sm=top_hty&fbm=0&ie=utf8&query=#\n",
      "https://cafe.naver.com/\n",
      "https://news.naver.com/\n",
      "https://map.naver.com/\n",
      "https://sports.news.naver.com/\n",
      "https://game.naver.com/\n",
      "https://section.blog.naver.com/\n",
      "https://post.naver.com/main.nhn\n",
      "https://dict.naver.com/\n",
      "https://kin.naver.com/\n",
      "https://n.weather.naver.com/\n",
      "https://mail.naver.com/\n",
      "https://stock.naver.com/\n",
      "https://land.naver.com/\n",
      "https://vibe.naver.com/today/\n",
      "https://book.naver.com/\n",
      "https://shopping.naver.com/\n",
      "https://comic.naver.com/\n",
      "https://movie.naver.com/\n",
      "https://mybox.naver.com/\n",
      "https://auto.naver.com/\n",
      "https://campaign.naver.com/npay/rediret/index.nhn\n",
      "https://www.naver.com/more.html\n",
      "https://www.naver.com/more.html\n",
      "https://dict.naver.com/\n",
      "https://search.naver.com/search.naver?where=nexearch&sm=tab_jum&query=\n",
      "https://search.naver.com/search.naver?where=view&sm=tab_jum&query=\n",
      "https://search.naver.com/search.naver?where=image&sm=tab_jum&query=\n",
      "https://search.naver.com/search.naver?where=kin&sm=tab_jum&query=\n",
      "https://search.naver.com/search.naver?where=influencer&sm=tab_jum&query=\n",
      "https://search.naver.com/search.naver?where=video&sm=tab_jum&query=\n",
      "https://search.shopping.naver.com/search/all?where=all&frm=NVSCTAB&query=\n",
      "https://search.naver.com/search.naver?where=news&sm=tab_jum&query=\n",
      "https://dict.naver.com/search.nhn?dicQuery=&query=&target=dic&query_utf=&isOnlyViewEE=\n",
      "https://map.naver.com/v5/search/\n",
      "https://search.naver.com/search.naver?where=nexearch&sm=top_hty&fbm=0&ie=utf8&query=#\n",
      "https://book.naver.com/search/search.nhn?query=\n",
      "https://vibe.naver.com/search?query=\n",
      "https://search.naver.com/search.naver?where=kdic&sm=tab_jum&query=\n",
      "https://audioclip.naver.com/search/all?keyword=\n",
      "https://academic.naver.com/search.naver?field=0&query=\n",
      "https://search.naver.com/search.naver?where=nexearch&sm=top_hty&fbm=0&ie=utf8&query=#\n",
      "https://search.naver.com/search.naver?where=nexearch&sm=top_hty&fbm=0&ie=utf8&query=#\n",
      "https://search.naver.com/search.naver?where=nexearch&sm=tab_opt&query=&nso=so%3Ar&nso_open=1\n",
      "https://search.naver.com/search.naver?where=nexearch&sm=tab_opt&query=&nso=so%3Add&nso_open=1\n",
      "https://search.naver.com/search.naver?where=nexearch&sm=tab_opt&query=&nso=p%3Aall&nso_open=1\n",
      "https://search.naver.com/search.naver?where=nexearch&sm=tab_opt&query=&nso=p%3A1h&nso_open=1\n",
      "https://search.naver.com/search.naver?where=nexearch&sm=tab_opt&query=&nso=p%3A1d&nso_open=1\n",
      "https://search.naver.com/search.naver?where=nexearch&sm=tab_opt&query=&nso=p%3A1w&nso_open=1\n",
      "https://search.naver.com/search.naver?where=nexearch&sm=tab_opt&query=&nso=p%3A1m&nso_open=1\n",
      "https://search.naver.com/search.naver?where=nexearch&sm=tab_opt&query=&nso=p%3A3m&nso_open=1\n",
      "https://search.naver.com/search.naver?where=nexearch&sm=tab_opt&query=&nso=p%3A6m&nso_open=1\n",
      "https://search.naver.com/search.naver?where=nexearch&sm=tab_opt&query=&nso=p%3A1y&nso_open=1\n",
      "https://search.naver.com/search.naver?where=nexearch&sm=top_hty&fbm=0&ie=utf8&query=#\n",
      "https://search.naver.com/search.naver?where=nexearch&sm=top_hty&fbm=0&ie=utf8&query=#\n",
      "https://search.naver.com/search.naver?where=nexearch&sm=top_hty&fbm=0&ie=utf8&query=#\n",
      "https://search.naver.com/search.naver?where=nexearch&sm=tab_opt&query=&nso_open=1\n",
      "https://help.naver.com/support/alias/search/integration/intergration_84.naver\n",
      "https://kin.naver.com/qna/question.naver\n",
      "https://kin.naver.com/qna/detail.naver?d1id=7&dirId=70101&docId=24158434&qb=MTAwMDAwMDlfMWRkMjc5MWJhNGI0IDEwMDAwMDA5XzAwMDAxM2UxZWJlOSAxMDAwMDAwOV8xYTlmNzk1MjI2NjkgMTAwMDAwMDlfMWRlZjdhYWM0NzZm&enc=utf8&section=kin.ext&rank=1&search_sort=0&spq=0\n",
      "https://kin.naver.com/search/one2oneLink?dirId=70101&docId=24158434&answerNo=1\n",
      "https://kin.naver.com/search/profileLink?dirId=70101&docId=24158434&answerNo=1\n",
      "https://kin.naver.com/qna/detail.naver?d1id=7&dirId=70101&docId=24158434&qb=MTAwMDAwMDlfMWRkMjc5MWJhNGI0IDEwMDAwMDA5XzAwMDAxM2UxZWJlOSAxMDAwMDAwOV8xYTlmNzk1MjI2NjkgMTAwMDAwMDlfMWRlZjdhYWM0NzZm&enc=utf8&section=kin.ext&rank=1&search_sort=0&spq=0\n",
      "https://search.naver.com/search.naver?where=nexearch&query=%EC%9D%8C%EC%8B%9D%EC%95%8C%EB%A0%88%EB%A5%B4%EA%B8%B0%EB%8A%94+%EC%99%9C%EC%83%9D%EA%B8%B0%EB%8A%94+%EA%B1%B8%EA%B9%8C%EC%9A%94%3F&x_kin=%7B%22random_search%22%3A+%7B%22gdid%22%3A%2210000009_1dd2791ba4b4%22%7D%7D&mra=S05J&sm=tab_rnd.more\n",
      "https://search.naver.com/search.naver?where=nexearch&&query=&sm=tab_rnd.another\n",
      "https://search.naver.com/search.naver?where=nexearch&sm=tab_knw&query=%EB%B0%B8%EB%9F%B0%ED%83%80%EC%9D%B8%EB%8D%B0%EC%9D%B4&qdt=0&mra=S0NE\n",
      "https://search.naver.com/search.naver?where=nexearch&sm=tab_knw&query=%EC%BB%AC%EB%A7%81&qdt=0&mra=S0NE\n",
      "https://search.naver.com/search.naver?where=nexearch&sm=tab_knw&query=%EB%8C%80%EB%B3%B4%EB%A6%84&qdt=0&mra=S0NE\n",
      "https://search.naver.com/search.naver?where=nexearch&sm=tab_knw&query=MBTI&qdt=0&mra=S0NE\n",
      "https://search.naver.com/search.naver?where=nexearch&sm=tab_knw&query=%EC%8A%A4%EC%BC%88%EB%A0%88%ED%86%A4&qdt=0&mra=S0NE\n",
      "https://search.naver.com/search.naver?where=nexearch&sm=tab_knw&query=%EB%A9%94%ED%83%80%EB%B2%84%EC%8A%A4&qdt=0&mra=S0NE\n"
     ]
    },
    {
     "name": "stdout",
     "output_type": "stream",
     "text": [
      "https://search.naver.com/search.naver?where=nexearch&sm=tab_knw&query=%EC%BD%94%EB%A1%9C%EB%82%98%EB%B0%94%EC%9D%B4%EB%9F%AC%EC%8A%A4%EA%B0%90%EC%97%BC%EC%A6%9D-19&qdt=0&mra=S0NE\n",
      "https://search.naver.com/search.naver?where=nexearch&sm=tab_knw&query=%EC%A3%BC%ED%9C%B4%EC%88%98%EB%8B%B9&qdt=0&mra=S0NE\n",
      "https://search.naver.com/search.naver?where=nexearch&sm=tab_knw&query=ROC&qdt=0&mra=S0NE\n",
      "https://search.naver.com/search.naver?where=nexearch&sm=tab_knw&query=NFT&qdt=0&mra=S0NE\n",
      "https://search.naver.com/search.naver?where=nexearch&sm=top_hty&fbm=0&ie=utf8&query=#\n",
      "https://search.naver.com/search.naver?where=nexearch&sm=top_hty&fbm=0&ie=utf8&query=#\n",
      "https://help.naver.com/support/alias/search/word/word_30.naver\n",
      "https://m.news.naver.com/covid19/index.nhn\n",
      "https://search.naver.com/search.naver?where=nexearch&query=%EC%BD%94%EB%A1%9C%EB%82%9819+%EC%84%A0%EB%B3%84%EC%A7%84%EB%A3%8C%EC%86%8C&sm=tab_etc\n",
      "https://news.naver.com/main/factcheck/main.nhn?section=%C4%DA%B7%CE%B3%AA%B9%E9%BD%C5\n",
      "https://search.naver.com/search.naver?where=nexearch&query=%EC%9A%B0%EB%A6%AC%EB%8F%99%EB%84%A4+%EB%B0%B1%EC%8B%A0%EC%95%8C%EB%A6%BC&sm=tab_etc\n",
      "https://search.naver.com/search.naver?where=nexearch&query=%EC%BD%94%EB%A1%9C%EB%82%9819+%EB%B3%91%EC%83%81%EA%B0%80%EB%8F%99%EB%A5%A0&sm=tab_etc\n",
      "https://search.naver.com/search.naver?where=nexearch&sm=top_hty&fbm=0&ie=utf8&query=#\n",
      "https://www.naver.com/more.html\n",
      "https://policy.naver.com/policy/service.html\n",
      "https://policy.naver.com/policy/privacy.html\n",
      "https://help.naver.com/support/alias/search/integration/integration_1.naver\n",
      "https://www.navercorp.com/\n"
     ]
    }
   ],
   "source": [
    "import time\n",
    "driver = webdriver.Chrome(path)\n",
    "driver.get('https://naver.com')\n",
    "driver.maximize_window()\n",
    "driver.find_element_by_class_name('link_login').click()\n",
    "time.sleep(1)\n",
    "driver.back()\n",
    "time.sleep(1)\n",
    "driver.forward()\n",
    "time.sleep(1)\n",
    "driver.refresh()\n",
    "driver.back()\n",
    "time.sleep(2)\n",
    "# driver.close()\n",
    "\n",
    "element = driver.find_element_by_id('query')\n",
    "element.send_keys(Keys.ENTER)\n",
    "\n",
    "els = driver.find_elements_by_tag_name('a')\n",
    "for i,e in enumerate(els):\n",
    "    if i <5:\n",
    "        print(e.get_attribute('href'))\n",
    "    else:\n",
    "        pass\n",
    "driver.refresh()\n",
    "driver.get('htts://daum.net')\n",
    "driver.close()"
   ]
  },
  {
   "cell_type": "markdown",
   "id": "53821b5a",
   "metadata": {},
   "source": [
    "### 뉴스페이지에서 타이틀 가져오기"
   ]
  },
  {
   "cell_type": "code",
   "execution_count": 72,
   "id": "a4b3f968",
   "metadata": {},
   "outputs": [
    {
     "name": "stdout",
     "output_type": "stream",
     "text": [
      "\n",
      "빅데이터로 중소기업 성장경로 찾아준다..중진공, 데이터 행정 도입\n",
      "\n",
      "[빅데이터로본다] IT서비스 상장기업 2022년 2월 브랜드평판... 1위 카카오페이, 2위 삼성SDS, 3위 NHN\n",
      "\n",
      "[인터뷰] \"빅데이터 기반한 일용직 일자리 매칭해요\"…구인구직 앱 '일다오' 박한규 대표\n",
      "\n",
      "[빅데이터MSI]11일 오전 주식시장 심리 7단계 '매우좋음'\n",
      "\n",
      "[빅데이터로본다] 손해보험 2022년 2월 브랜드평판... 1위 현대해상, 2위 삼성화재, 3위 KB손해보험\n",
      "\n",
      "[이한용의 글로브] 연준의 '베이비 스텝'과 '빅 스텝'\n",
      "\n",
      "\"정부 개입 지나쳐 부동산 정책 실패..규제 풀고 신뢰 쌓아야\"\n",
      "\n",
      "휴넷, 빅데이터-AI 기반 디지털전문가 양성..'K-디지털 트레이닝' 교육생 모집\n",
      "대구도시철도공사, 빅데이터 분석 ‘수송통계 보고서’ 발간\n",
      "\n",
      "KB국민은행, 사회혁신 스타트업 기업 성장위해 지속 가능한 지원 박차\n"
     ]
    }
   ],
   "source": [
    "# 다음 사이트에서 빅데이터 관련 검색하여 출력한 후 구글 페이지 이동\n",
    "driver = webdriver.Chrome(path)\n",
    "driver.get('https://daum.net')\n",
    "search_box = driver.find_element_by_xpath('//*[@id=\"q\"]')\n",
    "search_box.send_keys('빅데이터')\n",
    "search_box.send_keys(Keys.RETURN)\n",
    "\n",
    "news_=driver.find_element_by_xpath('//*[@id=\"newsExtMore\"]/span')\n",
    "news_.click()\n",
    "news=driver.find_elements_by_xpath('//*[@id=\"newsColl\"]/div/ul/li/div/a')\n",
    "\n",
    "for newsTitle in news:\n",
    "    print(newsTitle.text)\n",
    "\n",
    "driver.get('https://google.com')\n",
    "driver.close()"
   ]
  },
  {
   "cell_type": "markdown",
   "id": "3a9bb949",
   "metadata": {},
   "source": [
    "### 한빛출판네트워크 로그인하여 마일리지 가져오기"
   ]
  },
  {
   "cell_type": "code",
   "execution_count": 23,
   "id": "a8c4f6aa",
   "metadata": {},
   "outputs": [
    {
     "name": "stdout",
     "output_type": "stream",
     "text": [
      "2,000\n"
     ]
    }
   ],
   "source": [
    "path = 'G:/내 드라이브/tool/chromedriver.exe'\n",
    "driver = webdriver.Chrome(path)\n",
    "driver.get(\"https://www.hanbit.co.kr/\")\n",
    "driver.find_element_by_xpath('//*[@id=\"wrap_nav\"]/ul[2]/li[1]/a').click()\n",
    "hanbit_id = driver.find_element_by_xpath('//*[@id=\"m_id\"]') \n",
    "hanbit_id.send_keys('qkrrhk')\n",
    "password = driver.find_element_by_xpath('//*[@id=\"m_passwd\"]')\n",
    "password.send_keys('GKSdud12!@')\n",
    "driver.find_element_by_xpath('//*[@id=\"login_btn\"]').click()\n",
    "driver.find_element_by_xpath('//*[@id=\"wrap_nav\"]/ul[2]/li[3]/a').click()\n",
    "print(driver.find_element_by_xpath('//*[@id=\"container\"]/div/div[2]/dl[1]/dd/span').text)\n",
    "driver.close()"
   ]
  },
  {
   "cell_type": "markdown",
   "id": "72921aec",
   "metadata": {},
   "source": [
    "### 네이버 로그인 후 메일 리스트 출력하기"
   ]
  },
  {
   "cell_type": "code",
   "execution_count": 30,
   "id": "eaf56c79",
   "metadata": {},
   "outputs": [],
   "source": [
    "import time\n",
    "driver = webdriver.Chrome(path)\n",
    "driver.get('https://naver.com')\n",
    "driver.find_element_by_xpath('//*[@id=\"account\"]/a').click()\n",
    "naver_id=driver.find_element_by_xpath('//*[@id=\"id\"]')\n",
    "\n",
    "\n",
    "password=driver.find_element_by_xpath('//*[@id=\"pw\"]')\n",
    "password.send_keys('G')\n",
    "driver.find_element_by_xpath('//*[@id=\"log.login\"]').click()\n"
   ]
  },
  {
   "cell_type": "code",
   "execution_count": 8,
   "id": "1da4c51e",
   "metadata": {},
   "outputs": [
    {
     "name": "stdout",
     "output_type": "stream",
     "text": [
      "Collecting clipboard\n",
      "  Downloading clipboard-0.0.4.tar.gz (1.7 kB)\n",
      "Collecting pyperclip>=1.3\n",
      "  Downloading pyperclip-1.8.2.tar.gz (20 kB)\n",
      "Building wheels for collected packages: clipboard, pyperclip\n",
      "  Building wheel for clipboard (setup.py): started\n",
      "  Building wheel for clipboard (setup.py): finished with status 'done'\n",
      "  Created wheel for clipboard: filename=clipboard-0.0.4-py3-none-any.whl size=1850 sha256=992a247876d5f026fddbd28533e15f73a262b639e2c26b98a2eb8708efd1489d\n",
      "  Stored in directory: c:\\users\\qkrrh\\appdata\\local\\pip\\cache\\wheels\\de\\bc\\35\\fe31f0f559f65513fb90922017715133ed34d148f8eff157f4\n",
      "  Building wheel for pyperclip (setup.py): started\n",
      "  Building wheel for pyperclip (setup.py): finished with status 'done'\n",
      "  Created wheel for pyperclip: filename=pyperclip-1.8.2-py3-none-any.whl size=11136 sha256=f56bb436142ef196c21091acca2fd6be5f61e475949173d19e439994e33343d6\n",
      "  Stored in directory: c:\\users\\qkrrh\\appdata\\local\\pip\\cache\\wheels\\7f\\1a\\65\\84ff8c386bec21fca6d220ea1f5498a0367883a78dd5ba6122\n",
      "Successfully built clipboard pyperclip\n",
      "Installing collected packages: pyperclip, clipboard\n",
      "Successfully installed clipboard-0.0.4 pyperclip-1.8.2\n"
     ]
    }
   ],
   "source": [
    "!pip install clipboard"
   ]
  },
  {
   "cell_type": "code",
   "execution_count": 8,
   "id": "cc40e402",
   "metadata": {},
   "outputs": [
    {
     "name": "stderr",
     "output_type": "stream",
     "text": [
      "C:\\Users\\qkrrh\\AppData\\Local\\Temp/ipykernel_3980/3854704540.py:10: DeprecationWarning: executable_path has been deprecated, please pass in a Service object\n",
      "  driver = webdriver.Chrome(path)\n",
      "C:\\Users\\qkrrh\\AppData\\Local\\Temp/ipykernel_3980/3854704540.py:13: DeprecationWarning: find_element_by_* commands are deprecated. Please use find_element() instead\n",
      "  driver.find_element_by_xpath('//*[@id=\"account\"]/a').click()\n",
      "C:\\Users\\qkrrh\\AppData\\Local\\Temp/ipykernel_3980/3854704540.py:16: DeprecationWarning: find_element_by_* commands are deprecated. Please use find_element() instead\n",
      "  driver.find_element_by_xpath('//*[@id=\"id\"]').click()\n",
      "C:\\Users\\qkrrh\\AppData\\Local\\Temp/ipykernel_3980/3854704540.py:21: DeprecationWarning: find_element_by_* commands are deprecated. Please use find_element() instead\n",
      "  driver.find_element_by_xpath('//*[@id=\"pw\"]').click()\n",
      "C:\\Users\\qkrrh\\AppData\\Local\\Temp/ipykernel_3980/3854704540.py:26: DeprecationWarning: find_element_by_* commands are deprecated. Please use find_element() instead\n",
      "  driver.find_element_by_xpath('//*[@id=\"log.login\"]').click()\n",
      "C:\\Users\\qkrrh\\AppData\\Local\\Temp/ipykernel_3980/3854704540.py:31: DeprecationWarning: find_elements_by_* commands are deprecated. Please use find_elements() instead\n",
      "  titles = driver.find_elements_by_css_selector(\"strong.mail_title\")\n"
     ]
    },
    {
     "name": "stdout",
     "output_type": "stream",
     "text": [
      "새로운 환경에서 로그인 되었습니다.\n",
      "qkrrhk@gmail.com 관련 보안 경고\n",
      "[한빛출판네트워크] 가입해주셔서 감사합니다.\n",
      "[네이버페이] 결제하신 내역을 안내해드립니다.\n",
      "새로운 환경에서 로그인 되었습니다.\n",
      "qkrrhk@gmail.com 관련 보안 경고\n",
      "(광고) 중국어 회화 능력 평가는 ‘TSC 중국어 말하기 시험’과 함께!\n",
      "qkrrhk@gmail.com 관련 보안 경고\n",
      "[B마트]주문내역 안내메일입니다.\n",
      "(광고) [YBM Books] 내셔널지오그래픽 매거진 : 노트르담 대성당 화재 그 후, 적응의 귀재, 넓적부리도요\n",
      "새로운 환경에서 로그인 되었습니다.\n",
      "[네이버페이] 결제하신 내역을 안내해드립니다.\n",
      "[네이버페이] 결제하신 내역을 안내해드립니다.\n",
      "[네이버페이] 구매하신 제품을 무사히 받으셨다면, 구매를 확정 부탁드립니다.\n",
      "(광고) [설문 이벤트] 영어 커뮤니케이션을 위한 가장 기본적인 방법!\n",
      "새로운 환경에서 로그인 되었습니다.\n",
      "[네이버페이] 결제하신 내역을 안내해드립니다.\n",
      "[네이버페이] 결제하신 내역을 안내해드립니다.\n",
      "[네이버페이] 결제하신 내역을 안내해드립니다.\n",
      "[네이버페이] 결제하신 내역을 안내해드립니다.\n",
      "(광고) JPT 정기시험(2022.02.13 (일) 시행) 접수마감 5일 전 입니다!\n",
      "[네이버페이] 결제하신 내역을 안내해드립니다.\n",
      "[네이버페이] 결제하신 내역을 안내해드립니다.\n",
      "[RE][3학년] 9주차 201647008박광민\n",
      "[RE][3학년] 중간고사 201647008박광민\n",
      "RE: [3학년] 3주차 201647008박광민\n"
     ]
    }
   ],
   "source": [
    "from selenium import webdriver\n",
    "from selenium.webdriver.common.action_chains import ActionChains\n",
    "from selenium.webdriver.common.keys import Keys\n",
    "import clipboard\n",
    "import time\n",
    "\n",
    "id = 'qkrrhk'\n",
    "pw = 'GKSdud12!@'\n",
    "path = 'H:/내 드라이브/tool/chromedriver.exe'\n",
    "driver = webdriver.Chrome(path)\n",
    "driver.implicitly_wait(3)\n",
    "driver.get('https://naver.com')\n",
    "driver.find_element_by_xpath('//*[@id=\"account\"]/a').click()\n",
    "\n",
    "clipboard.copy(id)\n",
    "driver.find_element_by_xpath('//*[@id=\"id\"]').click()\n",
    "ActionChains(driver).key_down(Keys.CONTROL).send_keys('v').key_up(Keys.CONTROL).perform()\n",
    "time.sleep(1)\n",
    "\n",
    "clipboard.copy(pw)\n",
    "driver.find_element_by_xpath('//*[@id=\"pw\"]').click()\n",
    "ActionChains(driver).key_down(Keys.CONTROL).send_keys(\n",
    "    'v').key_up(Keys.CONTROL).perform()\n",
    "time.sleep(1)\n",
    "\n",
    "driver.find_element_by_xpath('//*[@id=\"log.login\"]').click()\n",
    "time.sleep(1)\n",
    "\n",
    "driver.get('https://mail.naver.com/')\n",
    "\n",
    "titles = driver.find_elements_by_css_selector(\"strong.mail_title\")\n",
    "\n",
    "for title in titles:\n",
    "    print(title.text)\n",
    "\n",
    "driver.quit()"
   ]
  },
  {
   "cell_type": "code",
   "execution_count": null,
   "id": "e6151a91",
   "metadata": {},
   "outputs": [],
   "source": [
    "import time\n",
    "import selenium\n",
    "from selenium import webdriver\n",
    "\n",
    "path = 'C:/tool/chromedriver.exe'\n",
    "driver = webdriver.Chrome(path)\n",
    "driver.get('https://www.naver.com')\n",
    "driver.maximize_window()\n",
    "time.sleep(1)\n",
    "element = driver.find_element_by_class_name('link_login')\n",
    "element.click()\n",
    "id  = ''\n",
    "pw = ''\n",
    "\n",
    "# execute_script 함수를 사용하면 자바스크립트 코드를 실행\n",
    "# js는 getElementById('id').value로 값을 가져올 수 있다.\n",
    "driver.execute_script(\"document.getElementById('id').value=\\'\" + id + \"\\'\") # text\n",
    "time.sleep(1)\n",
    "driver.execute_script(\"document.getElementById('pw').value=\\'\" + pw + \"\\'\")\n",
    "time.sleep(1)\n",
    "\n",
    "element = driver.find_element_by_class_name('btn_login')\n",
    "element.click()\n",
    "print(driver.page_source)\n"
   ]
  }
 ],
 "metadata": {
  "kernelspec": {
   "display_name": "Python 3 (ipykernel)",
   "language": "python",
   "name": "python3"
  },
  "language_info": {
   "codemirror_mode": {
    "name": "ipython",
    "version": 3
   },
   "file_extension": ".py",
   "mimetype": "text/x-python",
   "name": "python",
   "nbconvert_exporter": "python",
   "pygments_lexer": "ipython3",
   "version": "3.8.12"
  },
  "toc": {
   "base_numbering": 1,
   "nav_menu": {},
   "number_sections": true,
   "sideBar": true,
   "skip_h1_title": true,
   "title_cell": "Table of Contents",
   "title_sidebar": "Contents",
   "toc_cell": false,
   "toc_position": {
    "height": "887.778px",
    "left": "26px",
    "top": "94.586px",
    "width": "426.667px"
   },
   "toc_section_display": true,
   "toc_window_display": false
  },
  "varInspector": {
   "cols": {
    "lenName": 16,
    "lenType": 16,
    "lenVar": 40
   },
   "kernels_config": {
    "python": {
     "delete_cmd_postfix": "",
     "delete_cmd_prefix": "del ",
     "library": "var_list.py",
     "varRefreshCmd": "print(var_dic_list())"
    },
    "r": {
     "delete_cmd_postfix": ") ",
     "delete_cmd_prefix": "rm(",
     "library": "var_list.r",
     "varRefreshCmd": "cat(var_dic_list()) "
    }
   },
   "types_to_exclude": [
    "module",
    "function",
    "builtin_function_or_method",
    "instance",
    "_Feature"
   ],
   "window_display": false
  }
 },
 "nbformat": 4,
 "nbformat_minor": 5
}
