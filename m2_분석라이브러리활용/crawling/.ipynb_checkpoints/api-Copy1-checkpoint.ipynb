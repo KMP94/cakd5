{
 "cells": [
  {
   "cell_type": "markdown",
   "id": "17167d38",
   "metadata": {},
   "source": [
    "## 팀 api 기본"
   ]
  },
  {
   "cell_type": "code",
   "execution_count": 56,
   "id": "6d365d00",
   "metadata": {},
   "outputs": [
    {
     "data": {
      "text/plain": [
       "{'resultCode': '00',\n",
       " 'resultMsg': 'NORMAL_CODE',\n",
       " 'items': {'item': [{'afos_fid': 6467461,\n",
       "    'afos_id': '2018074',\n",
       "    'bjd_cd': '11680108',\n",
       "    'spot_cd': '11680001',\n",
       "    'sido_sgg_nm': '서울특별시 강남구1',\n",
       "    'spot_nm': '서울특별시 강남구 논현동(역삼역 인근)',\n",
       "    'occrrnc_cnt': 57,\n",
       "    'caslt_cnt': 69,\n",
       "    'dth_dnv_cnt': 0,\n",
       "    'se_dnv_cnt': 17,\n",
       "    'sl_dnv_cnt': 44,\n",
       "    'wnd_dnv_cnt': 8,\n",
       "    'geom_json': '{\"type\":\"Polygon\",\"coordinates\":[[[127.03827858,37.50082507],[127.03825269,37.50061652],[127.03817601,37.50041598],[127.03805149,37.50023116],[127.03788392,37.50006917],[127.03767973,37.49993622],[127.03744676,37.49983743],[127.03719399,37.4997766],[127.03693111,37.49975606],[127.03666823,37.4997766],[127.03641545,37.49983743],[127.03618249,37.49993622],[127.0359783,37.50006917],[127.03581073,37.50023116],[127.03568621,37.50041598],[127.03560953,37.50061652],[127.03558364,37.50082507],[127.03560953,37.50103363],[127.03568621,37.50123417],[127.03581073,37.50141898],[127.0359783,37.50158098],[127.03618249,37.50171392],[127.03641545,37.5018127],[127.03666823,37.50187354],[127.03693111,37.50189408],[127.03719399,37.50187354],[127.03744676,37.5018127],[127.03767973,37.50171392],[127.03788392,37.50158098],[127.03805149,37.50141898],[127.03817601,37.50123417],[127.03825269,37.50103363],[127.03827858,37.50082507]]]}',\n",
       "    'lo_crd': '127.036931109384',\n",
       "    'la_crd': '37.500825074718'},\n",
       "   {'afos_fid': 6467462,\n",
       "    'afos_id': '2018074',\n",
       "    'bjd_cd': '11680108',\n",
       "    'spot_cd': '11680002',\n",
       "    'sido_sgg_nm': '서울특별시 강남구2',\n",
       "    'spot_nm': '서울특별시 강남구 논현동(교보타워사거리 인근)',\n",
       "    'occrrnc_cnt': 49,\n",
       "    'caslt_cnt': 74,\n",
       "    'dth_dnv_cnt': 1,\n",
       "    'se_dnv_cnt': 11,\n",
       "    'sl_dnv_cnt': 54,\n",
       "    'wnd_dnv_cnt': 8,\n",
       "    'geom_json': '{\"type\":\"Polygon\",\"coordinates\":[[[127.02583383,37.50452128],[127.02580794,37.50431273],[127.02573126,37.5041122],[127.02560674,37.50392739],[127.02543916,37.50376541],[127.02523497,37.50363247],[127.02500201,37.50353368],[127.02474924,37.50347285],[127.02448636,37.50345231],[127.02422348,37.50347285],[127.0239707,37.50353368],[127.02373774,37.50363247],[127.02353355,37.50376541],[127.02336597,37.50392739],[127.02324145,37.5041122],[127.02316478,37.50431273],[127.02313888,37.50452128],[127.02316478,37.50472982],[127.02324145,37.50493035],[127.02336597,37.50511516],[127.02353355,37.50527714],[127.02373774,37.50541008],[127.0239707,37.50550886],[127.02422348,37.50556969],[127.02448636,37.50559023],[127.02474924,37.50556969],[127.02500201,37.50550886],[127.02523497,37.50541008],[127.02543916,37.50527714],[127.02560674,37.50511516],[127.02573126,37.50493035],[127.02580794,37.50472982],[127.02583383,37.50452128]]]}',\n",
       "    'lo_crd': '127.024486357461',\n",
       "    'la_crd': '37.504521276637'},\n",
       "   {'afos_fid': 6467463,\n",
       "    'afos_id': '2018074',\n",
       "    'bjd_cd': '11680108',\n",
       "    'spot_cd': '11680003',\n",
       "    'sido_sgg_nm': '서울특별시 강남구3',\n",
       "    'spot_nm': '서울특별시 강남구 논현동(CHA여성의학연구소 인근)',\n",
       "    'occrrnc_cnt': 44,\n",
       "    'caslt_cnt': 69,\n",
       "    'dth_dnv_cnt': 0,\n",
       "    'se_dnv_cnt': 12,\n",
       "    'sl_dnv_cnt': 51,\n",
       "    'wnd_dnv_cnt': 6,\n",
       "    'geom_json': '{\"type\":\"Polygon\",\"coordinates\":[[[127.03523696,37.50732931],[127.03521107,37.50712077],[127.03513439,37.50692025],[127.03500987,37.50673545],[127.03484229,37.50657347],[127.0346381,37.50644053],[127.03440514,37.50634175],[127.03415236,37.50628092],[127.03388948,37.50626038],[127.03362661,37.50628092],[127.03337383,37.50634175],[127.03314087,37.50644053],[127.03293668,37.50657347],[127.0327691,37.50673545],[127.03264458,37.50692025],[127.0325679,37.50712077],[127.03254201,37.50732931],[127.0325679,37.50753784],[127.03264458,37.50773836],[127.0327691,37.50792316],[127.03293668,37.50808514],[127.03314087,37.50821807],[127.03337383,37.50831685],[127.03362661,37.50837768],[127.03388948,37.50839822],[127.03415236,37.50837768],[127.03440514,37.50831685],[127.0346381,37.50821807],[127.03484229,37.50808514],[127.03500987,37.50792316],[127.03513439,37.50773836],[127.03521107,37.50753784],[127.03523696,37.50732931]]]}',\n",
       "    'lo_crd': '127.033889484413',\n",
       "    'la_crd': '37.507329308102'}]},\n",
       " 'totalCount': 3,\n",
       " 'numOfRows': 3,\n",
       " 'pageNo': 1}"
      ]
     },
     "execution_count": 56,
     "metadata": {},
     "output_type": "execute_result"
    }
   ],
   "source": [
    "import json\n",
    "import requests\n",
    "\n",
    "ServiceKey = ' 본인키 입력 ' \n",
    "#인증키 - (본인 URL Encode 사용)\n",
    "searchYear = [2017,2018,2019,2020]\n",
    "#연도코드 - ( 가능한 년도 옵션이 2017 - 2020 까지만 존재)\n",
    "siDo = [11,26,27,28,29,30]\n",
    "#시도코드 - ex(서울 - 11, 부산 - 26, 대구 - 27, 인천 - 28, 광주 - 29, 대전 - 30)\n",
    "# siDo[0] - 서울\n",
    "guGun = [680,740,305,500,440,410]\n",
    "# 시군구코드 ( 시도코드와 시군구코드는 서로 연관이 있어야함 서울시도코드에서 부산구군코드 사용불가능 검색 결과 없음)\n",
    "# 서울 {강남구 680, 강동구 740, 강북구 305, 강서구 500}\n",
    "numOfRows = 100 \n",
    "# 검색건수\n",
    "pageNo = 1\n",
    "# 페이지 번호 ( 전체 검색 검수를 확인해 보며 페이지 번호 선택)\n",
    "\n",
    "url = 'http://apis.data.go.kr/B552061/frequentzoneLg/getRestFrequentzoneLg'\n",
    "params ={'serviceKey' : ServiceKey, 'searchYearCd' : searchYear[0], 'siDo' : siDo[0], 'guGun' : guGun[0], 'type' : 'json', 'numOfRows' : numOfRows, 'pageNo' : pageNo }\n",
    "response = requests.get(url, params=params)\n",
    "dictionary = response.json()\n",
    "dictionary\n"
   ]
  },
  {
   "cell_type": "markdown",
   "id": "43b75d3f",
   "metadata": {},
   "source": [
    "## 팀 API 예제"
   ]
  },
  {
   "cell_type": "code",
   "execution_count": 71,
   "id": "86ad5394",
   "metadata": {},
   "outputs": [
    {
     "data": {
      "text/html": [
       "<div>\n",
       "<style scoped>\n",
       "    .dataframe tbody tr th:only-of-type {\n",
       "        vertical-align: middle;\n",
       "    }\n",
       "\n",
       "    .dataframe tbody tr th {\n",
       "        vertical-align: top;\n",
       "    }\n",
       "\n",
       "    .dataframe thead th {\n",
       "        text-align: right;\n",
       "    }\n",
       "</style>\n",
       "<table border=\"1\" class=\"dataframe\">\n",
       "  <thead>\n",
       "    <tr style=\"text-align: right;\">\n",
       "      <th></th>\n",
       "      <th>다발지역지점</th>\n",
       "      <th>사고발생건수</th>\n",
       "      <th>사상자수</th>\n",
       "      <th>경도</th>\n",
       "      <th>위도</th>\n",
       "    </tr>\n",
       "  </thead>\n",
       "  <tbody>\n",
       "    <tr>\n",
       "      <th>0</th>\n",
       "      <td>서울특별시 강남구 논현동(역삼역 인근)</td>\n",
       "      <td>57</td>\n",
       "      <td>69</td>\n",
       "      <td>127.036931109384</td>\n",
       "      <td>37.500825074718</td>\n",
       "    </tr>\n",
       "    <tr>\n",
       "      <th>1</th>\n",
       "      <td>서울특별시 강남구 논현동(교보타워사거리 인근)</td>\n",
       "      <td>49</td>\n",
       "      <td>74</td>\n",
       "      <td>127.024486357461</td>\n",
       "      <td>37.504521276637</td>\n",
       "    </tr>\n",
       "    <tr>\n",
       "      <th>2</th>\n",
       "      <td>서울특별시 강남구 논현동(CHA여성의학연구소 인근)</td>\n",
       "      <td>44</td>\n",
       "      <td>69</td>\n",
       "      <td>127.033889484413</td>\n",
       "      <td>37.507329308102</td>\n",
       "    </tr>\n",
       "  </tbody>\n",
       "</table>\n",
       "</div>"
      ],
      "text/plain": [
       "                         다발지역지점 사고발생건수 사상자수                경도               위도\n",
       "0         서울특별시 강남구 논현동(역삼역 인근)     57   69  127.036931109384  37.500825074718\n",
       "1     서울특별시 강남구 논현동(교보타워사거리 인근)     49   74  127.024486357461  37.504521276637\n",
       "2  서울특별시 강남구 논현동(CHA여성의학연구소 인근)     44   69  127.033889484413  37.507329308102"
      ]
     },
     "execution_count": 71,
     "metadata": {},
     "output_type": "execute_result"
    }
   ],
   "source": [
    "# https://www.data.go.kr/data/15057467/openapi.do - api 신청\n",
    "import json\n",
    "import requests\n",
    "import pandas as pd\n",
    "import numpy as np\n",
    "ServiceKey = ' 본인키 입력 ' \n",
    "#인증키 - (본인 URL Encode 사용)\n",
    "searchYear = [2017,2018,2019,2020]\n",
    "#연도코드 - ( 가능한 년도 옵션이 2017 - 2020 까지만 존재)\n",
    "siDo = [11,26,27,28,29,30]\n",
    "#시도코드 - ex(서울 - 11, 부산 - 26, 대구 - 27, 인천 - 28, 광주 - 29, 대전 - 30)\n",
    "# siDo[0] - 서울\n",
    "guGun = [680,740,305,500,440,410]\n",
    "# 시군구코드 ( 시도코드와 시군구코드는 서로 연관이 있어야함 서울시도코드에서 부산구군코드 사용불가능 검색 결과 없음)\n",
    "# 서울 {강남구 680, 강동구 740, 강북구 305, 강서구 500}\n",
    "numOfRows = 100 \n",
    "# 검색건수\n",
    "pageNo = 1\n",
    "# 페이지 번호 ( 전체 검색 검수를 확인해 보며 페이지 번호 선택)\n",
    "\n",
    "car_df = pd.DataFrame(columns=('다발지역지점','사고발생건수','사상자수','경도','위도'))\n",
    "\n",
    "url = 'http://apis.data.go.kr/B552061/frequentzoneLg/getRestFrequentzoneLg'\n",
    "params ={'serviceKey' : ServiceKey, 'searchYearCd' : searchYear[0], 'siDo' : siDo[0], 'guGun' : guGun[0], 'type' : 'json', 'numOfRows' : numOfRows, 'pageNo' : pageNo }\n",
    "response = requests.get(url, params=params)\n",
    "dictionary = response.json()\n",
    "count = dictionary['totalCount']\n",
    "for i in np.arange(count):\n",
    "    temp = dictionary['items']['item'][i]\n",
    "    spot_nm = temp['spot_nm']\n",
    "    occrrnc_cnt = temp['occrrnc_cnt']\n",
    "    caslt_cnt = temp['caslt_cnt']\n",
    "    lo_crd = temp['lo_crd']\n",
    "    la_crd = temp['la_crd']\n",
    "    car_df.loc[i] = [spot_nm,occrrnc_cnt,caslt_cnt,lo_crd,la_crd]\n",
    "    \n",
    "car_df"
   ]
  },
  {
   "cell_type": "markdown",
   "id": "3bf92403",
   "metadata": {},
   "source": [
    "## 활용사례\n",
    "url : https://scienceon.kisti.re.kr/srch/selectPORSrchReport.do?cn=TRKO201800004574\n",
    "\n",
    "- 빅데이터 기술을 활용하여 수리적 리스크통계의 접근하는 방식이 아닌 사과결과와 사고 요인간의 연관성을 기계학습을 통해 정량화 하여 사고 특성에 따른 사고 다발지역 선정과 분류 작업을 통해 위험 지도 제작을 함.\n",
    "\n",
    "활용계획 \n",
    "\n",
    "1. 기술적 효과\n",
    "\n",
    "- 도로 환경 및 상황적 요인이 교통사고 발생에 미치는 영향을 분석하는 기반제공\n",
    "- 자율 주행 등 미래 교통 시스템 안전관리 기반 기술 마련\n",
    "\n",
    "2. 경제적 효과\n",
    "- 빅데이터의 지속적인 성장에 따른 교통 분야의 시스템 매출 증대\n",
    "- 선진국 수준의 교통사고 분석 기술 개발\n",
    "\n",
    "3. 사회적 효과\n",
    "- 보다 안전한 도로교통 시스템을 통한 국민체감적 안전확보\n",
    "- 선진형 도로 교통 안전관리 문화 수립 기반 마련\n",
    "- 테이터에 기반한 효율적인 사고예방과 위험경감 조치 방안 제공"
   ]
  }
 ],
 "metadata": {
  "kernelspec": {
   "display_name": "Python 3 (ipykernel)",
   "language": "python",
   "name": "python3"
  },
  "language_info": {
   "codemirror_mode": {
    "name": "ipython",
    "version": 3
   },
   "file_extension": ".py",
   "mimetype": "text/x-python",
   "name": "python",
   "nbconvert_exporter": "python",
   "pygments_lexer": "ipython3",
   "version": "3.8.12"
  },
  "toc": {
   "base_numbering": 1,
   "nav_menu": {},
   "number_sections": true,
   "sideBar": true,
   "skip_h1_title": true,
   "title_cell": "Table of Contents",
   "title_sidebar": "Contents",
   "toc_cell": false,
   "toc_position": {
    "height": "887.778px",
    "left": "182px",
    "top": "197.583px",
    "width": "426.632px"
   },
   "toc_section_display": true,
   "toc_window_display": false
  },
  "varInspector": {
   "cols": {
    "lenName": 16,
    "lenType": 16,
    "lenVar": 40
   },
   "kernels_config": {
    "python": {
     "delete_cmd_postfix": "",
     "delete_cmd_prefix": "del ",
     "library": "var_list.py",
     "varRefreshCmd": "print(var_dic_list())"
    },
    "r": {
     "delete_cmd_postfix": ") ",
     "delete_cmd_prefix": "rm(",
     "library": "var_list.r",
     "varRefreshCmd": "cat(var_dic_list()) "
    }
   },
   "types_to_exclude": [
    "module",
    "function",
    "builtin_function_or_method",
    "instance",
    "_Feature"
   ],
   "window_display": false
  }
 },
 "nbformat": 4,
 "nbformat_minor": 5
}
