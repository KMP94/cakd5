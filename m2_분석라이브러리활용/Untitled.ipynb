{
 "cells": [
  {
   "cell_type": "code",
   "execution_count": 1,
   "id": "d953fe0f",
   "metadata": {},
   "outputs": [
    {
     "name": "stdout",
     "output_type": "stream",
     "text": [
      "Collecting cognitive-face\n",
      "  Downloading cognitive_face-1.5.0-py3-none-any.whl (30 kB)\n",
      "Requirement already satisfied: requests in c:\\users\\qkrrh\\anaconda3\\envs\\cakd5\\lib\\site-packages (from cognitive-face) (2.27.1)\n",
      "Requirement already satisfied: idna<4,>=2.5 in c:\\users\\qkrrh\\anaconda3\\envs\\cakd5\\lib\\site-packages (from requests->cognitive-face) (3.3)\n",
      "Requirement already satisfied: charset-normalizer~=2.0.0 in c:\\users\\qkrrh\\anaconda3\\envs\\cakd5\\lib\\site-packages (from requests->cognitive-face) (2.0.11)\n",
      "Requirement already satisfied: certifi>=2017.4.17 in c:\\users\\qkrrh\\anaconda3\\envs\\cakd5\\lib\\site-packages (from requests->cognitive-face) (2021.10.8)\n",
      "Requirement already satisfied: urllib3<1.27,>=1.21.1 in c:\\users\\qkrrh\\anaconda3\\envs\\cakd5\\lib\\site-packages (from requests->cognitive-face) (1.26.8)\n",
      "Installing collected packages: cognitive-face\n",
      "Successfully installed cognitive-face-1.5.0\n"
     ]
    }
   ],
   "source": [
    "!pip install cognitive-face"
   ]
  },
  {
   "cell_type": "code",
   "execution_count": 36,
   "id": "b05b24b6",
   "metadata": {},
   "outputs": [
    {
     "name": "stdout",
     "output_type": "stream",
     "text": [
      "Requirement already satisfied: azure-cognitiveservices-vision-face in c:\\users\\qkrrh\\anaconda3\\envs\\cakd5\\lib\\site-packages (0.6.0)\n",
      "Requirement already satisfied: msrest>=0.5.0 in c:\\users\\qkrrh\\anaconda3\\envs\\cakd5\\lib\\site-packages (from azure-cognitiveservices-vision-face) (0.6.21)\n",
      "Requirement already satisfied: azure-common~=1.1 in c:\\users\\qkrrh\\anaconda3\\envs\\cakd5\\lib\\site-packages (from azure-cognitiveservices-vision-face) (1.1.28)\n",
      "Requirement already satisfied: requests-oauthlib>=0.5.0 in c:\\users\\qkrrh\\anaconda3\\envs\\cakd5\\lib\\site-packages (from msrest>=0.5.0->azure-cognitiveservices-vision-face) (1.3.1)\n",
      "Requirement already satisfied: certifi>=2017.4.17 in c:\\users\\qkrrh\\anaconda3\\envs\\cakd5\\lib\\site-packages (from msrest>=0.5.0->azure-cognitiveservices-vision-face) (2021.10.8)\n",
      "Requirement already satisfied: requests~=2.16 in c:\\users\\qkrrh\\anaconda3\\envs\\cakd5\\lib\\site-packages (from msrest>=0.5.0->azure-cognitiveservices-vision-face) (2.27.1)\n",
      "Requirement already satisfied: isodate>=0.6.0 in c:\\users\\qkrrh\\anaconda3\\envs\\cakd5\\lib\\site-packages (from msrest>=0.5.0->azure-cognitiveservices-vision-face) (0.6.1)\n",
      "Requirement already satisfied: six in c:\\users\\qkrrh\\anaconda3\\envs\\cakd5\\lib\\site-packages (from isodate>=0.6.0->msrest>=0.5.0->azure-cognitiveservices-vision-face) (1.16.0)\n",
      "Requirement already satisfied: urllib3<1.27,>=1.21.1 in c:\\users\\qkrrh\\anaconda3\\envs\\cakd5\\lib\\site-packages (from requests~=2.16->msrest>=0.5.0->azure-cognitiveservices-vision-face) (1.26.8)\n",
      "Requirement already satisfied: charset-normalizer~=2.0.0 in c:\\users\\qkrrh\\anaconda3\\envs\\cakd5\\lib\\site-packages (from requests~=2.16->msrest>=0.5.0->azure-cognitiveservices-vision-face) (2.0.11)\n",
      "Requirement already satisfied: idna<4,>=2.5 in c:\\users\\qkrrh\\anaconda3\\envs\\cakd5\\lib\\site-packages (from requests~=2.16->msrest>=0.5.0->azure-cognitiveservices-vision-face) (3.3)\n",
      "Requirement already satisfied: oauthlib>=3.0.0 in c:\\users\\qkrrh\\anaconda3\\envs\\cakd5\\lib\\site-packages (from requests-oauthlib>=0.5.0->msrest>=0.5.0->azure-cognitiveservices-vision-face) (3.2.0)\n"
     ]
    }
   ],
   "source": [
    "!pip install --upgrade azure-cognitiveservices-vision-face"
   ]
  },
  {
   "cell_type": "code",
   "execution_count": 37,
   "id": "60596cf8",
   "metadata": {},
   "outputs": [
    {
     "name": "stderr",
     "output_type": "stream",
     "text": [
      "ERROR: Could not find a version that satisfies the requirement azure-cognitiveservices-vision-formrecognizer (from versions: none)\n",
      "ERROR: No matching distribution found for azure-cognitiveservices-vision-formrecognizer\n"
     ]
    }
   ],
   "source": [
    "!pip install azure-cognitiveservices-vision-formrecognizer"
   ]
  },
  {
   "cell_type": "code",
   "execution_count": 16,
   "id": "5af7ca7a",
   "metadata": {},
   "outputs": [
    {
     "name": "stdout",
     "output_type": "stream",
     "text": [
      "Collecting azure-cognitiveservices-vision-customvision\n",
      "  Downloading azure_cognitiveservices_vision_customvision-3.1.0-py2.py3-none-any.whl (62 kB)\n",
      "Requirement already satisfied: msrest>=0.5.0 in c:\\users\\qkrrh\\anaconda3\\envs\\cakd5\\lib\\site-packages (from azure-cognitiveservices-vision-customvision) (0.6.21)\n",
      "Requirement already satisfied: azure-common~=1.1 in c:\\users\\qkrrh\\anaconda3\\envs\\cakd5\\lib\\site-packages (from azure-cognitiveservices-vision-customvision) (1.1.28)\n",
      "Requirement already satisfied: isodate>=0.6.0 in c:\\users\\qkrrh\\anaconda3\\envs\\cakd5\\lib\\site-packages (from msrest>=0.5.0->azure-cognitiveservices-vision-customvision) (0.6.1)\n",
      "Requirement already satisfied: certifi>=2017.4.17 in c:\\users\\qkrrh\\anaconda3\\envs\\cakd5\\lib\\site-packages (from msrest>=0.5.0->azure-cognitiveservices-vision-customvision) (2021.10.8)\n",
      "Requirement already satisfied: requests-oauthlib>=0.5.0 in c:\\users\\qkrrh\\anaconda3\\envs\\cakd5\\lib\\site-packages (from msrest>=0.5.0->azure-cognitiveservices-vision-customvision) (1.3.1)\n",
      "Requirement already satisfied: requests~=2.16 in c:\\users\\qkrrh\\anaconda3\\envs\\cakd5\\lib\\site-packages (from msrest>=0.5.0->azure-cognitiveservices-vision-customvision) (2.27.1)\n",
      "Requirement already satisfied: six in c:\\users\\qkrrh\\anaconda3\\envs\\cakd5\\lib\\site-packages (from isodate>=0.6.0->msrest>=0.5.0->azure-cognitiveservices-vision-customvision) (1.16.0)\n",
      "Requirement already satisfied: idna<4,>=2.5 in c:\\users\\qkrrh\\anaconda3\\envs\\cakd5\\lib\\site-packages (from requests~=2.16->msrest>=0.5.0->azure-cognitiveservices-vision-customvision) (3.3)\n",
      "Requirement already satisfied: charset-normalizer~=2.0.0 in c:\\users\\qkrrh\\anaconda3\\envs\\cakd5\\lib\\site-packages (from requests~=2.16->msrest>=0.5.0->azure-cognitiveservices-vision-customvision) (2.0.11)\n",
      "Requirement already satisfied: urllib3<1.27,>=1.21.1 in c:\\users\\qkrrh\\anaconda3\\envs\\cakd5\\lib\\site-packages (from requests~=2.16->msrest>=0.5.0->azure-cognitiveservices-vision-customvision) (1.26.8)\n",
      "Requirement already satisfied: oauthlib>=3.0.0 in c:\\users\\qkrrh\\anaconda3\\envs\\cakd5\\lib\\site-packages (from requests-oauthlib>=0.5.0->msrest>=0.5.0->azure-cognitiveservices-vision-customvision) (3.2.0)\n",
      "Installing collected packages: azure-cognitiveservices-vision-customvision\n",
      "Successfully installed azure-cognitiveservices-vision-customvision-3.1.0\n"
     ]
    }
   ],
   "source": [
    "!pip install azure-cognitiveservices-vision-customvision"
   ]
  },
  {
   "cell_type": "code",
   "execution_count": 15,
   "id": "1a5184d7",
   "metadata": {},
   "outputs": [
    {
     "name": "stdout",
     "output_type": "stream",
     "text": [
      "Collecting azure-cognitiveservices-vision-computervision\n",
      "  Downloading azure_cognitiveservices_vision_computervision-0.9.0-py2.py3-none-any.whl (39 kB)\n",
      "Requirement already satisfied: azure-common~=1.1 in c:\\users\\qkrrh\\anaconda3\\envs\\cakd5\\lib\\site-packages (from azure-cognitiveservices-vision-computervision) (1.1.28)\n",
      "Requirement already satisfied: msrest>=0.5.0 in c:\\users\\qkrrh\\anaconda3\\envs\\cakd5\\lib\\site-packages (from azure-cognitiveservices-vision-computervision) (0.6.21)\n",
      "Requirement already satisfied: requests-oauthlib>=0.5.0 in c:\\users\\qkrrh\\anaconda3\\envs\\cakd5\\lib\\site-packages (from msrest>=0.5.0->azure-cognitiveservices-vision-computervision) (1.3.1)\n",
      "Requirement already satisfied: requests~=2.16 in c:\\users\\qkrrh\\anaconda3\\envs\\cakd5\\lib\\site-packages (from msrest>=0.5.0->azure-cognitiveservices-vision-computervision) (2.27.1)\n",
      "Requirement already satisfied: certifi>=2017.4.17 in c:\\users\\qkrrh\\anaconda3\\envs\\cakd5\\lib\\site-packages (from msrest>=0.5.0->azure-cognitiveservices-vision-computervision) (2021.10.8)\n",
      "Requirement already satisfied: isodate>=0.6.0 in c:\\users\\qkrrh\\anaconda3\\envs\\cakd5\\lib\\site-packages (from msrest>=0.5.0->azure-cognitiveservices-vision-computervision) (0.6.1)\n",
      "Requirement already satisfied: six in c:\\users\\qkrrh\\anaconda3\\envs\\cakd5\\lib\\site-packages (from isodate>=0.6.0->msrest>=0.5.0->azure-cognitiveservices-vision-computervision) (1.16.0)\n",
      "Requirement already satisfied: idna<4,>=2.5 in c:\\users\\qkrrh\\anaconda3\\envs\\cakd5\\lib\\site-packages (from requests~=2.16->msrest>=0.5.0->azure-cognitiveservices-vision-computervision) (3.3)\n",
      "Requirement already satisfied: urllib3<1.27,>=1.21.1 in c:\\users\\qkrrh\\anaconda3\\envs\\cakd5\\lib\\site-packages (from requests~=2.16->msrest>=0.5.0->azure-cognitiveservices-vision-computervision) (1.26.8)\n",
      "Requirement already satisfied: charset-normalizer~=2.0.0 in c:\\users\\qkrrh\\anaconda3\\envs\\cakd5\\lib\\site-packages (from requests~=2.16->msrest>=0.5.0->azure-cognitiveservices-vision-computervision) (2.0.11)\n",
      "Requirement already satisfied: oauthlib>=3.0.0 in c:\\users\\qkrrh\\anaconda3\\envs\\cakd5\\lib\\site-packages (from requests-oauthlib>=0.5.0->msrest>=0.5.0->azure-cognitiveservices-vision-computervision) (3.2.0)\n",
      "Installing collected packages: azure-cognitiveservices-vision-computervision\n",
      "Successfully installed azure-cognitiveservices-vision-computervision-0.9.0\n"
     ]
    }
   ],
   "source": [
    "!pip install azure-cognitiveservices-vision-computervision"
   ]
  },
  {
   "cell_type": "code",
   "execution_count": 45,
   "id": "0201426c",
   "metadata": {},
   "outputs": [
    {
     "ename": "FileNotFoundError",
     "evalue": "[Errno 2] No such file or directory: 'AzureCloudKeys.json'",
     "output_type": "error",
     "traceback": [
      "\u001b[1;31m---------------------------------------------------------------------------\u001b[0m",
      "\u001b[1;31mFileNotFoundError\u001b[0m                         Traceback (most recent call last)",
      "\u001b[1;32m~\\AppData\\Local\\Temp/ipykernel_17756/1557936838.py\u001b[0m in \u001b[0;36m<module>\u001b[1;34m\u001b[0m\n\u001b[0;32m     11\u001b[0m \"\"\"\n\u001b[0;32m     12\u001b[0m \u001b[1;33m\u001b[0m\u001b[0m\n\u001b[1;32m---> 13\u001b[1;33m \u001b[0mcredential\u001b[0m \u001b[1;33m=\u001b[0m \u001b[0mjson\u001b[0m\u001b[1;33m.\u001b[0m\u001b[0mload\u001b[0m\u001b[1;33m(\u001b[0m\u001b[0mopen\u001b[0m\u001b[1;33m(\u001b[0m\u001b[1;34m'AzureCloudKeys.json'\u001b[0m\u001b[1;33m)\u001b[0m\u001b[1;33m)\u001b[0m\u001b[1;33m\u001b[0m\u001b[1;33m\u001b[0m\u001b[0m\n\u001b[0m\u001b[0;32m     14\u001b[0m \u001b[0mAPI_KEY\u001b[0m \u001b[1;33m=\u001b[0m \u001b[0mcredential\u001b[0m\u001b[1;33m[\u001b[0m\u001b[1;34m'e4cfedd59c0140cca8a2645d1c35ec87'\u001b[0m\u001b[1;33m]\u001b[0m\u001b[1;33m\u001b[0m\u001b[1;33m\u001b[0m\u001b[0m\n\u001b[0;32m     15\u001b[0m \u001b[0mENDPOINT\u001b[0m \u001b[1;33m=\u001b[0m \u001b[0mcredential\u001b[0m\u001b[1;33m[\u001b[0m\u001b[1;34m'https://kwangminpark.cognitiveservices.azure.com/'\u001b[0m\u001b[1;33m]\u001b[0m\u001b[1;33m\u001b[0m\u001b[1;33m\u001b[0m\u001b[0m\n",
      "\u001b[1;31mFileNotFoundError\u001b[0m: [Errno 2] No such file or directory: 'AzureCloudKeys.json'"
     ]
    }
   ],
   "source": [
    "import os\n",
    "import io\n",
    "import json\n",
    "from azure.cognitiveservices.vision.face import FaceClient\n",
    "from msrest.authentication import CognitiveServicesCredentials\n",
    "import requests\n",
    "from PIL import Image, ImageDraw, ImageFont\n",
    "\n",
    "\"\"\"\n",
    "Example 1. Detect faces from an image (from the web)\n",
    "\"\"\"\n",
    "\n",
    "credential = json.load(open('AzureCloudKeys.json'))\n",
    "API_KEY = credential['e4cfedd59c0140cca8a2645d1c35ec87']\n",
    "ENDPOINT = credential['https://kwangminpark.cognitiveservices.azure.com/']\n",
    "\n",
    "face_client = FaceClient(ENDPOINT, CognitiveServicesCredentials(API_KEY))\n",
    "image_url = 'https://lh3.googleusercontent.com/pw/AM-JKLWihuQfkjmAu7AG5xRaoCnB9PI5VI6dZGcXhqVtIMk6L9swLa0M8WziWt0uVOTjTEY03WKKzAppzFt62mbpYT9C5x5n-gI0S8TmfOzUOg2X6CceLspAVqWSKyXN96r7C6YNHSGXUw7xm1wK2utNAAjNXg=w2249-h1686-no?authuser=0'\n",
    "image_name = os.path.basename(image_url)\n",
    "\n",
    "response_detected_faces = face_client.face.detect_with_url(\n",
    "    image_url,\n",
    "    detection_model='detection_03',\n",
    "    recognition_model='recognition_04'\n",
    "\n",
    ")\n",
    "print(response_detected_faces)\n",
    "\n",
    "if not response_detected_faces:\n",
    "    raise Exception('No face detected')\n",
    "\n",
    "print('Number of people detected: {0}'.format(len(response_detected_faces)))\n",
    "\n",
    "response_image = requests.get(image_url)\n",
    "img = Image.open(io.BytesIO(response_image.content))\n",
    "draw = ImageDraw.Draw(img)\n",
    "\n",
    "for face in response_detected_faces:\n",
    "    rect = face.face_rectangle\n",
    "    left = rect.left\n",
    "    top = rect.top\n",
    "    right = rect.width + left\n",
    "    bottom = rect.height + top\n",
    "    draw.rectangle(((left, top), (right, bottom)), outline='green', width=5)\n",
    "img.show()\n",
    "img.save('test.jpg')"
   ]
  },
  {
   "cell_type": "code",
   "execution_count": 5,
   "id": "8c2fa737",
   "metadata": {},
   "outputs": [],
   "source": [
    "import asyncio\n",
    "import io\n",
    "import glob\n",
    "import os\n",
    "import sys\n",
    "import time\n",
    "import uuid\n",
    "import requests\n",
    "from urllib.parse import urlparse\n",
    "from io import BytesIO\n",
    "# To install this module, run:\n",
    "# python -m pip install Pillow\n",
    "from PIL import Image, ImageDraw\n",
    "from azure.cognitiveservices.vision.face import FaceClient\n",
    "from msrest.authentication import CognitiveServicesCredentials\n",
    "from azure.cognitiveservices.vision.face.models import TrainingStatusType, Person"
   ]
  },
  {
   "cell_type": "code",
   "execution_count": 7,
   "id": "8c97f711",
   "metadata": {},
   "outputs": [],
   "source": [
    "# This key will serve all examples in this document.\n",
    "KEY = \"e4cfedd59c0140cca8a2645d1c35ec87\"\n",
    "\n",
    "# This endpoint will be used in all examples in this quickstart.\n",
    "ENDPOINT = \"https://kwangminpark.cognitiveservices.azure.com/\""
   ]
  },
  {
   "cell_type": "code",
   "execution_count": 8,
   "id": "8e7559c3",
   "metadata": {},
   "outputs": [],
   "source": [
    "face_client = FaceClient(ENDPOINT, CognitiveServicesCredentials(KEY))"
   ]
  },
  {
   "cell_type": "code",
   "execution_count": null,
   "id": "dd9b1616",
   "metadata": {},
   "outputs": [],
   "source": [
    "import os\n",
    "import io\n",
    "import json\n",
    "from azure.cognitiveservices.vision.face import FaceClient\n",
    "from msrest.authentication import CognitiveServicesCredentials\n",
    "import requests\n",
    "from PIL import Image, ImageDraw, ImageFont\n",
    "\n",
    "\"\"\"\n",
    "Example 3. Guess a person's emotion & age\n",
    "| Attribute Type List\n",
    "| https://docs.microsoft.com/en-us/python/api/azure-cognitiveservices-vision-face/azure.cognitiveservices.vision.face.models.faceattributetype?view=azure-python\n",
    "\"\"\"\n",
    "\n",
    "credential = json.load(open('AzureCloudKeys.json')\n",
    "API_KEY = credential['e4cfedd59c0140cca8a2645d1c35ec87']\n",
    "ENDPOINT = credential['https://kwangminpark.cognitiveservices.azure.com/']\n",
    "face_client = FaceClient(ENDPOINT, CognitiveServicesCredentials(API_KEY))\n",
    "\n",
    "img_file = open('1.jpg', 'rb')\n",
    "\n",
    "response_detection = face_client.face.detect_with_stream(\n",
    "    image=img_file,\n",
    "    detection_model='detection_01',\n",
    "    recognition_model='recognition_04',\n",
    "    return_face_attributes=['age', 'emotion'],\n",
    ")\n",
    "\n",
    "img = Image.open(img_file)\n",
    "draw = ImageDraw.Draw(img)\n",
    "font = ImageFont.truetype(r'C:\\Windows\\Fonts\\OpenSans-Bold.ttf', 35)\n",
    "for face in response_detection:\n",
    "    age = face.face_attributes.age\n",
    "    emotion = face.face_attributes.emotion\n",
    "    neutral = '{0:.0f}%'.format(emotion.neutral * 100)\n",
    "    happiness = '{0:.0f}%'.format(emotion.happiness * 100)\n",
    "    anger = '{0:.0f}%'.format(emotion.anger * 100)\n",
    "    sandness = '{0:.0f}%'.format(emotion.sadness * 100)\n",
    "\n",
    "    rect = face.face_rectangle\n",
    "    left = rect.left\n",
    "    top = rect.top\n",
    "    right = rect.width + left\n",
    "    bottom = rect.height + top\n",
    "    draw.rectangle(((left, top), (right, bottom)), outline='green', width=5)\n",
    "\n",
    "    draw.text((right + 4, top), 'Age: ' + str(int(age)), fill=(255, 255, 255), font=font)\n",
    "    draw.text((right + 4, top+35), 'Neutral: ' + neutral, fill=(255, 255, 255), font=font)\n",
    "    draw.text((right + 4, top+70), 'Happy: ' + happiness, fill=(255, 255, 255), font=font)\n",
    "    draw.text((right + 4, top+105), 'Sad: ' + sandness, fill=(255, 255, 255), font=font)\n",
    "    draw.text((right + 4, top+140), 'Angry: ' + anger, fill=(255, 255, 255), font=font)\n",
    "\n",
    "img.show()\n",
    "img.save('test.jpg')"
   ]
  },
  {
   "cell_type": "code",
   "execution_count": 47,
   "id": "d1fc65a5",
   "metadata": {},
   "outputs": [
    {
     "ename": "SyntaxError",
     "evalue": "invalid syntax (Temp/ipykernel_17756/4255503345.py, line 16)",
     "output_type": "error",
     "traceback": [
      "\u001b[1;36m  File \u001b[1;32m\"C:\\Users\\qkrrh\\AppData\\Local\\Temp/ipykernel_17756/4255503345.py\"\u001b[1;36m, line \u001b[1;32m16\u001b[0m\n\u001b[1;33m    API_KEY = credential['e4cfedd59c0140cca8a2645d1c35ec87']\u001b[0m\n\u001b[1;37m    ^\u001b[0m\n\u001b[1;31mSyntaxError\u001b[0m\u001b[1;31m:\u001b[0m invalid syntax\n"
     ]
    }
   ],
   "source": [
    "import os\n",
    "import io\n",
    "import json\n",
    "from azure.cognitiveservices.vision.face import FaceClient\n",
    "from msrest.authentication import CognitiveServicesCredentials\n",
    "import requests\n",
    "from PIL import Image, ImageDraw, ImageFont\n",
    "\n",
    "\"\"\"\n",
    "Example 3. Guess a person's emotion & age\n",
    "| Attribute Type List\n",
    "| https://docs.microsoft.com/en-us/python/api/azure-cognitiveservices-vision-face/azure.cognitiveservices.vision.face.models.faceattributetype?view=azure-python\n",
    "\"\"\"\n",
    "\n",
    "credential = json.load(open('AzureCloudKeys.json')\n",
    "API_KEY = credential['e4cfedd59c0140cca8a2645d1c35ec87']\n",
    "ENDPOINT = credential['https://kwangminpark.cognitiveservices.azure.com/']\n",
    "face_client = FaceClient(ENDPOINT, CognitiveServicesCredentials(API_KEY))\n",
    "\n",
    "img_file = open('1.jpg', 'rb')\n",
    "\n",
    "response_detection = face_client.face.detect_with_stream(\n",
    "    image=img_file,\n",
    "    detection_model='detection_01',\n",
    "    recognition_model='recognition_04',\n",
    "    return_face_attributes=['age', 'emotion'],\n",
    ")\n",
    "\n",
    "img = Image.open(img_file)\n",
    "draw = ImageDraw.Draw(img)\n",
    "font = ImageFont.truetype(r'C:\\Windows\\Fonts\\OpenSans-Bold.ttf', 35)\n",
    "for face in response_detection:\n",
    "    age = face.face_attributes.age\n",
    "    emotion = face.face_attributes.emotion\n",
    "    neutral = '{0:.0f}%'.format(emotion.neutral * 100)\n",
    "    happiness = '{0:.0f}%'.format(emotion.happiness * 100)\n",
    "    anger = '{0:.0f}%'.format(emotion.anger * 100)\n",
    "    sandness = '{0:.0f}%'.format(emotion.sadness * 100)\n",
    "\n",
    "    rect = face.face_rectangle\n",
    "    left = rect.left\n",
    "    top = rect.top\n",
    "    right = rect.width + left\n",
    "    bottom = rect.height + top\n",
    "    draw.rectangle(((left, top), (right, bottom)), outline='green', width=5)\n",
    "\n",
    "    draw.text((right + 4, top), 'Age: ' + str(int(age)), fill=(255, 255, 255), font=font)\n",
    "    draw.text((right + 4, top+35), 'Neutral: ' + neutral, fill=(255, 255, 255), font=font)\n",
    "    draw.text((right + 4, top+70), 'Happy: ' + happiness, fill=(255, 255, 255), font=font)\n",
    "    draw.text((right + 4, top+105), 'Sad: ' + sandness, fill=(255, 255, 255), font=font)\n",
    "    draw.text((right + 4, top+140), 'Angry: ' + anger, fill=(255, 255, 255), font=font)\n",
    "\n",
    "img.show()\n",
    "img.save('test.jpg')"
   ]
  },
  {
   "cell_type": "code",
   "execution_count": 59,
   "id": "4600b11c",
   "metadata": {},
   "outputs": [],
   "source": [
    "# This key will serve all examples in this document.\n",
    "cog_key = \"e4cfedd59c0140cca8a2645d1c35ec87\"\n",
    "\n",
    "# This endpoint will be used in all examples in this quickstart.b\n",
    "cog_endpoint = \"https://kwangminpark.cognitiveservices.azure.com/\""
   ]
  },
  {
   "cell_type": "code",
   "execution_count": 54,
   "id": "2b332ac7",
   "metadata": {},
   "outputs": [
    {
     "name": "stdout",
     "output_type": "stream",
     "text": [
      "Requirement already satisfied: python_code in c:\\users\\qkrrh\\anaconda3\\envs\\cakd5\\lib\\site-packages (1.0.0)\n"
     ]
    }
   ],
   "source": [
    "!pip install python_code"
   ]
  },
  {
   "cell_type": "code",
   "execution_count": 60,
   "id": "53445520",
   "metadata": {},
   "outputs": [
    {
     "ename": "ModuleNotFoundError",
     "evalue": "No module named 'python_code'",
     "output_type": "error",
     "traceback": [
      "\u001b[1;31m---------------------------------------------------------------------------\u001b[0m",
      "\u001b[1;31mModuleNotFoundError\u001b[0m                       Traceback (most recent call last)",
      "\u001b[1;32m~\\AppData\\Local\\Temp/ipykernel_17756/1584871320.py\u001b[0m in \u001b[0;36m<module>\u001b[1;34m\u001b[0m\n\u001b[0;32m      3\u001b[0m \u001b[1;32mimport\u001b[0m \u001b[0mrequests\u001b[0m\u001b[1;33m\u001b[0m\u001b[1;33m\u001b[0m\u001b[0m\n\u001b[0;32m      4\u001b[0m \u001b[1;32mfrom\u001b[0m \u001b[0mPIL\u001b[0m \u001b[1;32mimport\u001b[0m \u001b[0mImage\u001b[0m\u001b[1;33m,\u001b[0m \u001b[0mImageDraw\u001b[0m\u001b[1;33m,\u001b[0m \u001b[0mImageFont\u001b[0m\u001b[1;33m\u001b[0m\u001b[1;33m\u001b[0m\u001b[0m\n\u001b[1;32m----> 5\u001b[1;33m \u001b[1;32mfrom\u001b[0m \u001b[0mpython_code\u001b[0m \u001b[1;32mimport\u001b[0m \u001b[0mfaces\u001b[0m\u001b[1;33m\u001b[0m\u001b[1;33m\u001b[0m\u001b[0m\n\u001b[0m\u001b[0;32m      6\u001b[0m \u001b[1;32mimport\u001b[0m \u001b[0mos\u001b[0m\u001b[1;33m\u001b[0m\u001b[1;33m\u001b[0m\u001b[0m\n\u001b[0;32m      7\u001b[0m \u001b[0mface_client\u001b[0m \u001b[1;33m=\u001b[0m \u001b[0mFaceClient\u001b[0m\u001b[1;33m(\u001b[0m\u001b[0mcog_endpoint\u001b[0m\u001b[1;33m,\u001b[0m \u001b[0mCognitiveServicesCredentials\u001b[0m\u001b[1;33m(\u001b[0m\u001b[0mcog_key\u001b[0m\u001b[1;33m)\u001b[0m\u001b[1;33m)\u001b[0m\u001b[1;33m\u001b[0m\u001b[1;33m\u001b[0m\u001b[0m\n",
      "\u001b[1;31mModuleNotFoundError\u001b[0m: No module named 'python_code'"
     ]
    }
   ],
   "source": [
    "from azure.cognitiveservices.vision.face import FaceClient\n",
    "from msrest.authentication import CognitiveServicesCredentials\n",
    "import requests\n",
    "from PIL import Image, ImageDraw, ImageFont\n",
    "from python_code import faces\n",
    "import os\n",
    "face_client = FaceClient(cog_endpoint, CognitiveServicesCredentials(cog_key))\n",
    "os.getcwd()\n",
    "os.chdir('c:\\\\Users\\\\user\\\\Desktop\\data')\n",
    "\n"
   ]
  }
 ],
 "metadata": {
  "kernelspec": {
   "display_name": "Python 3 (ipykernel)",
   "language": "python",
   "name": "python3"
  },
  "language_info": {
   "codemirror_mode": {
    "name": "ipython",
    "version": 3
   },
   "file_extension": ".py",
   "mimetype": "text/x-python",
   "name": "python",
   "nbconvert_exporter": "python",
   "pygments_lexer": "ipython3",
   "version": "3.8.12"
  },
  "toc": {
   "base_numbering": 1,
   "nav_menu": {},
   "number_sections": true,
   "sideBar": true,
   "skip_h1_title": false,
   "title_cell": "Table of Contents",
   "title_sidebar": "Contents",
   "toc_cell": false,
   "toc_position": {},
   "toc_section_display": true,
   "toc_window_display": false
  },
  "varInspector": {
   "cols": {
    "lenName": 16,
    "lenType": 16,
    "lenVar": 40
   },
   "kernels_config": {
    "python": {
     "delete_cmd_postfix": "",
     "delete_cmd_prefix": "del ",
     "library": "var_list.py",
     "varRefreshCmd": "print(var_dic_list())"
    },
    "r": {
     "delete_cmd_postfix": ") ",
     "delete_cmd_prefix": "rm(",
     "library": "var_list.r",
     "varRefreshCmd": "cat(var_dic_list()) "
    }
   },
   "types_to_exclude": [
    "module",
    "function",
    "builtin_function_or_method",
    "instance",
    "_Feature"
   ],
   "window_display": false
  }
 },
 "nbformat": 4,
 "nbformat_minor": 5
}
