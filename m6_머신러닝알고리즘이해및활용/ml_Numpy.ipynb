{
 "cells": [
  {
   "cell_type": "markdown",
   "id": "c2f600e5",
   "metadata": {
    "toc": true
   },
   "source": [
    "<h1>Table of Contents<span class=\"tocSkip\"></span></h1>\n",
    "<div class=\"toc\"><ul class=\"toc-item\"><li><span><a href=\"#Numpy-Review\" data-toc-modified-id=\"Numpy-Review-1\"><span class=\"toc-item-num\">1&nbsp;&nbsp;</span>Numpy Review</a></span><ul class=\"toc-item\"><li><span><a href=\"#reshape()\" data-toc-modified-id=\"reshape()-1.1\"><span class=\"toc-item-num\">1.1&nbsp;&nbsp;</span>reshape()</a></span></li><li><span><a href=\"#Indexing\" data-toc-modified-id=\"Indexing-1.2\"><span class=\"toc-item-num\">1.2&nbsp;&nbsp;</span>Indexing</a></span></li><li><span><a href=\"#Slicing\" data-toc-modified-id=\"Slicing-1.3\"><span class=\"toc-item-num\">1.3&nbsp;&nbsp;</span>Slicing</a></span></li><li><span><a href=\"#Fancy-Indexing\" data-toc-modified-id=\"Fancy-Indexing-1.4\"><span class=\"toc-item-num\">1.4&nbsp;&nbsp;</span>Fancy Indexing</a></span></li><li><span><a href=\"#Boolean-Indexing\" data-toc-modified-id=\"Boolean-Indexing-1.5\"><span class=\"toc-item-num\">1.5&nbsp;&nbsp;</span>Boolean Indexing</a></span></li><li><span><a href=\"#Sort\" data-toc-modified-id=\"Sort-1.6\"><span class=\"toc-item-num\">1.6&nbsp;&nbsp;</span>Sort</a></span></li></ul></li></ul></div>"
   ]
  },
  {
   "cell_type": "code",
   "execution_count": 1,
   "id": "7042e20b",
   "metadata": {},
   "outputs": [],
   "source": [
    "import numpy as np"
   ]
  },
  {
   "cell_type": "markdown",
   "id": "4fefa88b",
   "metadata": {},
   "source": [
    "## Numpy Review"
   ]
  },
  {
   "cell_type": "code",
   "execution_count": 9,
   "id": "35d03cda",
   "metadata": {},
   "outputs": [
    {
     "name": "stdout",
     "output_type": "stream",
     "text": [
      "[1 2 3] <class 'numpy.ndarray'> (3,)\n",
      "[[1 2 3]\n",
      " [2 3 4]] <class 'numpy.ndarray'> (2, 3)\n",
      "[[[1 2 3]]] <class 'numpy.ndarray'> (1, 1, 3)\n"
     ]
    }
   ],
   "source": [
    "array1 = np.array([1, 2, 3])\n",
    "array2 = np.array([[1, 2, 3],\n",
    "                   [2, 3, 4]])\n",
    "array3 = np.array([[[1, 2, 3]]])\n",
    "print(array1, type(array1), array1.shape)\n",
    "print(array2, type(array2), array2.shape)\n",
    "print(array3, type(array3), array3.shape)"
   ]
  },
  {
   "cell_type": "code",
   "execution_count": 21,
   "id": "1d669cbf",
   "metadata": {},
   "outputs": [
    {
     "name": "stdout",
     "output_type": "stream",
     "text": [
      "float64\n",
      "int32\n"
     ]
    }
   ],
   "source": [
    "array_int = np.array([1, 2, 3])\n",
    "array_float = array_int.astype('float64')\n",
    "print(array_float.dtype)\n",
    "array_int2 = array_float.astype('int')\n",
    "print(array_int2.dtype)"
   ]
  },
  {
   "cell_type": "code",
   "execution_count": 25,
   "id": "0faada04",
   "metadata": {},
   "outputs": [
    {
     "name": "stdout",
     "output_type": "stream",
     "text": [
      "[[0 0]\n",
      " [0 0]\n",
      " [0 0]]\n"
     ]
    }
   ],
   "source": [
    "zero_array = np.zeros((3, 2), dtype='int32')  # 새성시 dtype 설정\n",
    "print(zero_array)"
   ]
  },
  {
   "cell_type": "code",
   "execution_count": 29,
   "id": "e3d60c88",
   "metadata": {},
   "outputs": [
    {
     "name": "stdout",
     "output_type": "stream",
     "text": [
      "[[1 1]\n",
      " [1 1]\n",
      " [1 1]]\n"
     ]
    }
   ],
   "source": [
    "one_array = np.ones((3, 2), dtype='int64')\n",
    "print(one_array)"
   ]
  },
  {
   "cell_type": "markdown",
   "id": "997a5768",
   "metadata": {},
   "source": [
    "### reshape()"
   ]
  },
  {
   "cell_type": "code",
   "execution_count": 32,
   "id": "eaa244a3",
   "metadata": {},
   "outputs": [
    {
     "name": "stdout",
     "output_type": "stream",
     "text": [
      "[0 1 2 3 4 5 6 7 8 9] (10,)\n",
      "[[0 1 2 3 4]\n",
      " [5 6 7 8 9]] (2, 5)\n",
      "[[[0 1 2 3 4]\n",
      "  [5 6 7 8 9]]] (1, 2, 5)\n"
     ]
    }
   ],
   "source": [
    "ar1 = np.arange(10)\n",
    "print(ar1, ar1.shape)\n",
    "ar2 = ar1.reshape(2, 5)\n",
    "print(ar2, ar2.shape)\n",
    "ar3 = ar1.reshape(1, 2, 5)\n",
    "print(ar3, ar3.shape)"
   ]
  },
  {
   "cell_type": "code",
   "execution_count": 36,
   "id": "27f815cc",
   "metadata": {},
   "outputs": [
    {
     "name": "stdout",
     "output_type": "stream",
     "text": [
      "[[0 1 2 3 4]\n",
      " [5 6 7 8 9]] (2, 5)\n",
      "[[[0 1 2 3 4]\n",
      "  [5 6 7 8 9]]] (1, 2, 5)\n"
     ]
    }
   ],
   "source": [
    "ar2 = ar2.reshape(2, -1)\n",
    "print(ar2, ar2.shape)\n",
    "ar3 = ar1.reshape(1, 2, -1)\n",
    "print(ar3, ar3.shape)"
   ]
  },
  {
   "cell_type": "code",
   "execution_count": 43,
   "id": "16aa34a9",
   "metadata": {},
   "outputs": [
    {
     "name": "stdout",
     "output_type": "stream",
     "text": [
      "[[[0 1]\n",
      "  [2 3]]\n",
      "\n",
      " [[4 5]\n",
      "  [6 7]]] (2, 2, 2)\n",
      "[[0 1]\n",
      " [2 3]\n",
      " [4 5]\n",
      " [6 7]] (4, 2)\n",
      "[0 1 2 3 4 5 6 7] (8,)\n"
     ]
    }
   ],
   "source": [
    "# 3차원을 2,1차원으로\n",
    "ar3 = np.arange(8).reshape((2, 2, 2))\n",
    "print(ar3, ar3.shape)\n",
    "ar2 = ar3.reshape(4, 2)\n",
    "print(ar2, ar2.shape)\n",
    "ar1 = ar3.reshape(-1)\n",
    "print(ar1, ar1.shape)"
   ]
  },
  {
   "cell_type": "markdown",
   "id": "7e643a0e",
   "metadata": {},
   "source": [
    "### Indexing"
   ]
  },
  {
   "cell_type": "code",
   "execution_count": 48,
   "id": "2fae24a9",
   "metadata": {},
   "outputs": [
    {
     "name": "stdout",
     "output_type": "stream",
     "text": [
      "[1 2 3 4 5 6 7 8 9]\n",
      "2\n",
      "9\n",
      "7\n"
     ]
    }
   ],
   "source": [
    "ar1 = np.arange(1, 10)\n",
    "print(ar1)\n",
    "value = ar1[1]\n",
    "print(value)\n",
    "value = ar1[-1]\n",
    "print(value)\n",
    "value = ar1[-3]\n",
    "print(value)"
   ]
  },
  {
   "cell_type": "code",
   "execution_count": 55,
   "id": "747032a2",
   "metadata": {},
   "outputs": [
    {
     "name": "stdout",
     "output_type": "stream",
     "text": [
      "[[1 2 3]\n",
      " [4 5 6]\n",
      " [7 8 9]]\n",
      "1\n",
      "2\n",
      "4\n",
      "9\n"
     ]
    }
   ],
   "source": [
    "ar2d = np.arange(1, 10).reshape(3, 3)\n",
    "print(ar2d)\n",
    "print(ar2d[0, 0])\n",
    "print(ar2d[0, 1])\n",
    "print(ar2d[1, 0])\n",
    "print(ar2d[2, 2])"
   ]
  },
  {
   "cell_type": "markdown",
   "id": "e606d610",
   "metadata": {},
   "source": [
    "### Slicing"
   ]
  },
  {
   "cell_type": "code",
   "execution_count": 60,
   "id": "c847c112",
   "metadata": {},
   "outputs": [
    {
     "name": "stdout",
     "output_type": "stream",
     "text": [
      "[ 1  2  3  4  5  6  7  8  9 10 11 12 13 14 15 16 17 18 19]\n",
      "[4 5 6]\n",
      "[16 17 18]\n"
     ]
    }
   ],
   "source": [
    "ar1 = np.arange(1, 20)\n",
    "print(ar1)\n",
    "print(ar1[3:6])\n",
    "print(ar1[-4:-1])"
   ]
  },
  {
   "cell_type": "code",
   "execution_count": 75,
   "id": "a1e47121",
   "metadata": {},
   "outputs": [
    {
     "name": "stdout",
     "output_type": "stream",
     "text": [
      "[[1 2 3]\n",
      " [4 5 6]\n",
      " [7 8 9]]\n",
      "[[1 2]\n",
      " [4 5]]\n",
      "[[4 5 6]\n",
      " [7 8 9]]\n",
      "[[2 3]\n",
      " [5 6]]\n",
      "[1 4]\n",
      "[1 4]\n"
     ]
    }
   ],
   "source": [
    "ar2d = np.arange(1, 10).reshape(3, 3)\n",
    "print(ar2d)\n",
    "print(ar2d[:2, :2])\n",
    "print(ar2d[1:, :])\n",
    "print(ar2d[:2, 1:])\n",
    "print(ar2d[:2, :1].reshape(-1))\n",
    "print(ar2d[:2, 0])"
   ]
  },
  {
   "cell_type": "markdown",
   "id": "505a3970",
   "metadata": {},
   "source": [
    "### Fancy Indexing"
   ]
  },
  {
   "cell_type": "code",
   "execution_count": 94,
   "id": "fc28bea6",
   "metadata": {},
   "outputs": [
    {
     "name": "stdout",
     "output_type": "stream",
     "text": [
      "[3 6]\n",
      "[[1 2]\n",
      " [4 5]]\n",
      "[[1 2 3]\n",
      " [4 5 6]]\n"
     ]
    }
   ],
   "source": [
    "ar2 = np.arange(1, 10).reshape(3, 3)\n",
    "print(ar2[[0, 1], 2])\n",
    "print(ar2[[0, 1], :2])\n",
    "print(ar2[[0, 1]])"
   ]
  },
  {
   "cell_type": "markdown",
   "id": "e3b7aaa2",
   "metadata": {},
   "source": [
    "### Boolean Indexing"
   ]
  },
  {
   "cell_type": "code",
   "execution_count": 79,
   "id": "c750448c",
   "metadata": {},
   "outputs": [
    {
     "name": "stdout",
     "output_type": "stream",
     "text": [
      "[1 2 3 4 5 6 7 8 9]\n"
     ]
    },
    {
     "data": {
      "text/plain": [
       "array([6, 7, 8, 9])"
      ]
     },
     "execution_count": 79,
     "metadata": {},
     "output_type": "execute_result"
    }
   ],
   "source": [
    "ar1 = np.arange(1, 10)\n",
    "print(ar1)\n",
    "ar1[5:]"
   ]
  },
  {
   "cell_type": "markdown",
   "id": "352fac4c",
   "metadata": {},
   "source": [
    "### Sort"
   ]
  },
  {
   "cell_type": "code",
   "execution_count": 100,
   "id": "f912d926",
   "metadata": {},
   "outputs": [
    {
     "name": "stdout",
     "output_type": "stream",
     "text": [
      "[3 1 9 5]\n",
      "[1 3 5 9]\n",
      "[3 1 9 5]\n",
      "None\n",
      "[1 3 5 9]\n"
     ]
    }
   ],
   "source": [
    "# np.sort -> 원본에 반영되지 않음\n",
    "ar = np.array([3, 1, 9, 5])\n",
    "print(ar)\n",
    "sort_ar = np.sort(ar)\n",
    "print(sort_ar)\n",
    "print(ar)\n",
    "sort_ar1 = ar.sort()\n",
    "print(sort_ar1)\n",
    "print(ar)"
   ]
  },
  {
   "cell_type": "code",
   "execution_count": 102,
   "id": "69e8083e",
   "metadata": {},
   "outputs": [
    {
     "name": "stdout",
     "output_type": "stream",
     "text": [
      "[9 5 3 1]\n"
     ]
    }
   ],
   "source": [
    "sort_ar_desc = np.sort(ar)[::-1]\n",
    "print(sort_ar_desc)"
   ]
  },
  {
   "cell_type": "code",
   "execution_count": 108,
   "id": "ad11883d",
   "metadata": {},
   "outputs": [
    {
     "name": "stdout",
     "output_type": "stream",
     "text": [
      "[[ 8 12]\n",
      " [ 7  1]]\n",
      "[[ 7  1]\n",
      " [ 8 12]]\n",
      "[[ 8 12]\n",
      " [ 1  7]]\n"
     ]
    }
   ],
   "source": [
    "ar2 = np.array([[8, 12],\n",
    "               [7, 1]])\n",
    "print(ar2)\n",
    "sort_ar2_axis0 = np.sort(ar2, axis=0)\n",
    "print(sort_ar2_axis0)\n",
    "sort_ar2_axis1 = np.sort(ar2, axis=1)\n",
    "print(sort_ar2_axis1)"
   ]
  },
  {
   "cell_type": "code",
   "execution_count": 110,
   "id": "97431d8a",
   "metadata": {},
   "outputs": [
    {
     "name": "stdout",
     "output_type": "stream",
     "text": [
      "[3 1 9 5]\n",
      "[1 0 3 2]\n"
     ]
    }
   ],
   "source": [
    "# 정렬 행렬의 인덱스 반환\n",
    "ar = np.array([3, 1, 9, 5])\n",
    "print(ar)\n",
    "sort_indices = np.argsort(ar)\n",
    "print(sort_indices)"
   ]
  },
  {
   "cell_type": "code",
   "execution_count": 112,
   "id": "e9f1b982",
   "metadata": {},
   "outputs": [
    {
     "data": {
      "text/plain": [
       "array([[ 58,  64],\n",
       "       [139, 154]])"
      ]
     },
     "execution_count": 112,
     "metadata": {},
     "output_type": "execute_result"
    }
   ],
   "source": [
    "# 행렬 내적\n",
    "a = np.array([[1, 2, 3], [4, 5, 6]])\n",
    "b = np.array([[7, 8], [9, 10], [11, 12]])\n",
    "np.dot(a, b)"
   ]
  },
  {
   "cell_type": "code",
   "execution_count": 117,
   "id": "4de949ba",
   "metadata": {},
   "outputs": [
    {
     "data": {
      "text/plain": [
       "array([[1, 3],\n",
       "       [2, 4]])"
      ]
     },
     "execution_count": 117,
     "metadata": {},
     "output_type": "execute_result"
    }
   ],
   "source": [
    "# 전치 행렬\n",
    "a = np.array([[1,2],[3,4]])\n",
    "a.T"
   ]
  },
  {
   "cell_type": "code",
   "execution_count": null,
   "id": "5e8d1b12",
   "metadata": {},
   "outputs": [],
   "source": []
  }
 ],
 "metadata": {
  "kernelspec": {
   "display_name": "Python 3 (ipykernel)",
   "language": "python",
   "name": "python3"
  },
  "language_info": {
   "codemirror_mode": {
    "name": "ipython",
    "version": 3
   },
   "file_extension": ".py",
   "mimetype": "text/x-python",
   "name": "python",
   "nbconvert_exporter": "python",
   "pygments_lexer": "ipython3",
   "version": "3.8.12"
  },
  "toc": {
   "base_numbering": 1,
   "nav_menu": {},
   "number_sections": true,
   "sideBar": true,
   "skip_h1_title": false,
   "title_cell": "Table of Contents",
   "title_sidebar": "Contents",
   "toc_cell": true,
   "toc_position": {},
   "toc_section_display": true,
   "toc_window_display": true
  },
  "varInspector": {
   "cols": {
    "lenName": 16,
    "lenType": 16,
    "lenVar": 40
   },
   "kernels_config": {
    "python": {
     "delete_cmd_postfix": "",
     "delete_cmd_prefix": "del ",
     "library": "var_list.py",
     "varRefreshCmd": "print(var_dic_list())"
    },
    "r": {
     "delete_cmd_postfix": ") ",
     "delete_cmd_prefix": "rm(",
     "library": "var_list.r",
     "varRefreshCmd": "cat(var_dic_list()) "
    }
   },
   "types_to_exclude": [
    "module",
    "function",
    "builtin_function_or_method",
    "instance",
    "_Feature"
   ],
   "window_display": false
  }
 },
 "nbformat": 4,
 "nbformat_minor": 5
}
