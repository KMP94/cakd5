{
 "cells": [
  {
   "cell_type": "code",
   "execution_count": 5,
   "id": "a74dc5a5",
   "metadata": {},
   "outputs": [],
   "source": [
    "# https://wooono.tistory.com/111/"
   ]
  },
  {
   "cell_type": "code",
   "execution_count": 8,
   "id": "ad574ac2",
   "metadata": {},
   "outputs": [],
   "source": [
    "import pandas as pd\n",
    "from sklearn import preprocessing\n",
    "from sklearn.model_selection import train_test_split\n",
    "\n",
    "t_df = pd.read_pickle('./dataset/t_df.pkl')\n",
    "X = t_df.drop('survived',axis=1)\n",
    "y=t_df['survived']\n",
    "X=preprocessing.StandardScaler().fit(X).transform(X)\n",
    "X_train,X_test,y_train,y_test = train_test_split(X,y,test_size=0.2,random_state=10)"
   ]
  },
  {
   "cell_type": "code",
   "execution_count": 10,
   "id": "3e83bf19",
   "metadata": {},
   "outputs": [
    {
     "name": "stdout",
     "output_type": "stream",
     "text": [
      "svm예측정확도 : 0.8091603053435115\n"
     ]
    }
   ],
   "source": [
    "#분류모델\n",
    "from sklearn.metrics import accuracy_score\n",
    "from sklearn import svm\n",
    "\n",
    "# 벡터 공간으로 매핑하는 함수를 커널이라고 함\n",
    "svm_model = svm.SVC(kernel='rbf')\n",
    "svm_model.fit(X_train,y_train)\n",
    "svm_pred=svm_model.predict(X_test)\n",
    "svm_accuracy = accuracy_score(y_test,svm_pred)\n",
    "print(f'svm예측정확도 : {svm_accuracy}')"
   ]
  },
  {
   "cell_type": "code",
   "execution_count": 16,
   "id": "6d17bc2b",
   "metadata": {},
   "outputs": [
    {
     "name": "stdout",
     "output_type": "stream",
     "text": [
      "mse:15.377 \n",
      "\n",
      "rmse:3.921 \n",
      "\n"
     ]
    }
   ],
   "source": [
    "#회귀\n",
    "from sklearn import datasets\n",
    "from sklearn.svm import SVR\n",
    "from sklearn.metrics import mean_squared_error\n",
    "from sklearn.utils import shuffle\n",
    "import numpy as np\n",
    "\n",
    "data=datasets.load_boston()\n",
    "X,y = shuffle(data.data,data.target,random_state=7)\n",
    "num_training = int(0.8 * len(X))\n",
    "X_train, y_train = X[:num_training], y[:num_training]\n",
    "X_test,y_test = X[num_training:],y[num_training]\n",
    "\n",
    "svr = SVR(kernel = 'linear',C=1.0 , epsilon=0.1)\n",
    "svr.fit(X_train,y_train)\n",
    "y_pred=svr.predict(X_test)\n",
    "mse = mean_squared_error(y_test,y_pred)\n",
    "rmse = np.sqrt(mse)\n",
    "\n",
    "print(mse,rmse)"
   ]
  },
  {
   "cell_type": "code",
   "execution_count": 18,
   "id": "deb9e191",
   "metadata": {},
   "outputs": [
    {
     "name": "stdout",
     "output_type": "stream",
     "text": [
      "mse:15.377 \n",
      "\n",
      "rmse:3.921 \n",
      "\n"
     ]
    }
   ],
   "source": [
    "# 회귀\n",
    "from sklearn import datasets\n",
    "from sklearn.svm import SVR #(regressor)\n",
    "from sklearn.metrics import mean_squared_error\n",
    "from sklearn.utils import shuffle\n",
    "import numpy as np\n",
    "import warnings\n",
    "warnings.filterwarnings('ignore')\n",
    "\n",
    "data = datasets.load_boston()\n",
    "X, y = shuffle(data.data, data.target, random_state = 7)\n",
    "num_training = int(0.8 * len(X))\n",
    "X_train, y_train = X[:num_training], y[:num_training]\n",
    "X_test, y_test = X[num_training:], y[num_training:]\n",
    "\n",
    "svr = SVR(kernel = 'linear', C=1.0, epsilon = 0.1)\n",
    "svr.fit(X_train, y_train)\n",
    "y_pred = svr.predict(X_test) \n",
    "mse = mean_squared_error(y_test, y_pred)\n",
    "rmse = np.sqrt(mse)\n",
    "\n",
    "print(f'mse:{mse:.3f}', '\\n')\n",
    "print(f'rmse:{rmse:.3f}','\\n')"
   ]
  }
 ],
 "metadata": {
  "kernelspec": {
   "display_name": "Python 3 (ipykernel)",
   "language": "python",
   "name": "python3"
  },
  "language_info": {
   "codemirror_mode": {
    "name": "ipython",
    "version": 3
   },
   "file_extension": ".py",
   "mimetype": "text/x-python",
   "name": "python",
   "nbconvert_exporter": "python",
   "pygments_lexer": "ipython3",
   "version": "3.8.12"
  },
  "toc": {
   "base_numbering": 1,
   "nav_menu": {},
   "number_sections": true,
   "sideBar": true,
   "skip_h1_title": true,
   "title_cell": "Table of Contents",
   "title_sidebar": "Contents",
   "toc_cell": false,
   "toc_position": {},
   "toc_section_display": true,
   "toc_window_display": true
  },
  "varInspector": {
   "cols": {
    "lenName": 16,
    "lenType": 16,
    "lenVar": 40
   },
   "kernels_config": {
    "python": {
     "delete_cmd_postfix": "",
     "delete_cmd_prefix": "del ",
     "library": "var_list.py",
     "varRefreshCmd": "print(var_dic_list())"
    },
    "r": {
     "delete_cmd_postfix": ") ",
     "delete_cmd_prefix": "rm(",
     "library": "var_list.r",
     "varRefreshCmd": "cat(var_dic_list()) "
    }
   },
   "types_to_exclude": [
    "module",
    "function",
    "builtin_function_or_method",
    "instance",
    "_Feature"
   ],
   "window_display": false
  }
 },
 "nbformat": 4,
 "nbformat_minor": 5
}
