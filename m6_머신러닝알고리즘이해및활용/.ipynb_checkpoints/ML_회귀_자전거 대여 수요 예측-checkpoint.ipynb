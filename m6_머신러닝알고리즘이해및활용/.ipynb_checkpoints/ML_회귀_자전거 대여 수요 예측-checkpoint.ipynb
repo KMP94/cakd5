{
 "cells": [
  {
   "cell_type": "markdown",
   "id": "97ecc2f7",
   "metadata": {},
   "source": [
    "[과제] bike_train.csv를 불어와서 다음 사항들을 고려하여 자전거 대여횟수를 예측하는 모델을 생성 후 평가하세요.\n",
    "\n",
    "- datetime 타입에서 년, 월, 일, 시간 추출하여 반영 후 선형회귀 모델링 및 평가 \n",
    "    - 사용자 함수 : RMSLE, RMSE, MAE\n",
    "- 종속변수 정규성 개선위한 로그 변환\n",
    "    - 'year', month', 'day', hour'등의 피처들을 One Hot Encoding\n",
    "    - 로그 변환된 y_target_log를 반영하여 학습/테스트 데이터 셋 분할 \n",
    "    - 선형회귀, ridge, lasso model 별로 평가 수행\n",
    "    - 회귀계수 중요도 시각화\n"
   ]
  },
  {
   "cell_type": "code",
   "execution_count": 26,
   "id": "77eec9e7",
   "metadata": {},
   "outputs": [
    {
     "data": {
      "text/html": [
       "<div>\n",
       "<style scoped>\n",
       "    .dataframe tbody tr th:only-of-type {\n",
       "        vertical-align: middle;\n",
       "    }\n",
       "\n",
       "    .dataframe tbody tr th {\n",
       "        vertical-align: top;\n",
       "    }\n",
       "\n",
       "    .dataframe thead th {\n",
       "        text-align: right;\n",
       "    }\n",
       "</style>\n",
       "<table border=\"1\" class=\"dataframe\">\n",
       "  <thead>\n",
       "    <tr style=\"text-align: right;\">\n",
       "      <th></th>\n",
       "      <th>datetime</th>\n",
       "      <th>season</th>\n",
       "      <th>holiday</th>\n",
       "      <th>workingday</th>\n",
       "      <th>weather</th>\n",
       "      <th>temp</th>\n",
       "      <th>atemp</th>\n",
       "      <th>humidity</th>\n",
       "      <th>windspeed</th>\n",
       "      <th>casual</th>\n",
       "      <th>registered</th>\n",
       "      <th>count</th>\n",
       "    </tr>\n",
       "  </thead>\n",
       "  <tbody>\n",
       "    <tr>\n",
       "      <th>0</th>\n",
       "      <td>2011-01-01 00:00:00</td>\n",
       "      <td>1</td>\n",
       "      <td>0</td>\n",
       "      <td>0</td>\n",
       "      <td>1</td>\n",
       "      <td>9.84</td>\n",
       "      <td>14.395</td>\n",
       "      <td>81</td>\n",
       "      <td>0.0</td>\n",
       "      <td>3</td>\n",
       "      <td>13</td>\n",
       "      <td>16</td>\n",
       "    </tr>\n",
       "    <tr>\n",
       "      <th>1</th>\n",
       "      <td>2011-01-01 01:00:00</td>\n",
       "      <td>1</td>\n",
       "      <td>0</td>\n",
       "      <td>0</td>\n",
       "      <td>1</td>\n",
       "      <td>9.02</td>\n",
       "      <td>13.635</td>\n",
       "      <td>80</td>\n",
       "      <td>0.0</td>\n",
       "      <td>8</td>\n",
       "      <td>32</td>\n",
       "      <td>40</td>\n",
       "    </tr>\n",
       "    <tr>\n",
       "      <th>2</th>\n",
       "      <td>2011-01-01 02:00:00</td>\n",
       "      <td>1</td>\n",
       "      <td>0</td>\n",
       "      <td>0</td>\n",
       "      <td>1</td>\n",
       "      <td>9.02</td>\n",
       "      <td>13.635</td>\n",
       "      <td>80</td>\n",
       "      <td>0.0</td>\n",
       "      <td>5</td>\n",
       "      <td>27</td>\n",
       "      <td>32</td>\n",
       "    </tr>\n",
       "    <tr>\n",
       "      <th>3</th>\n",
       "      <td>2011-01-01 03:00:00</td>\n",
       "      <td>1</td>\n",
       "      <td>0</td>\n",
       "      <td>0</td>\n",
       "      <td>1</td>\n",
       "      <td>9.84</td>\n",
       "      <td>14.395</td>\n",
       "      <td>75</td>\n",
       "      <td>0.0</td>\n",
       "      <td>3</td>\n",
       "      <td>10</td>\n",
       "      <td>13</td>\n",
       "    </tr>\n",
       "    <tr>\n",
       "      <th>4</th>\n",
       "      <td>2011-01-01 04:00:00</td>\n",
       "      <td>1</td>\n",
       "      <td>0</td>\n",
       "      <td>0</td>\n",
       "      <td>1</td>\n",
       "      <td>9.84</td>\n",
       "      <td>14.395</td>\n",
       "      <td>75</td>\n",
       "      <td>0.0</td>\n",
       "      <td>0</td>\n",
       "      <td>1</td>\n",
       "      <td>1</td>\n",
       "    </tr>\n",
       "  </tbody>\n",
       "</table>\n",
       "</div>"
      ],
      "text/plain": [
       "              datetime  season  holiday  workingday  weather  temp   atemp  \\\n",
       "0  2011-01-01 00:00:00       1        0           0        1  9.84  14.395   \n",
       "1  2011-01-01 01:00:00       1        0           0        1  9.02  13.635   \n",
       "2  2011-01-01 02:00:00       1        0           0        1  9.02  13.635   \n",
       "3  2011-01-01 03:00:00       1        0           0        1  9.84  14.395   \n",
       "4  2011-01-01 04:00:00       1        0           0        1  9.84  14.395   \n",
       "\n",
       "   humidity  windspeed  casual  registered  count  \n",
       "0        81        0.0       3          13     16  \n",
       "1        80        0.0       8          32     40  \n",
       "2        80        0.0       5          27     32  \n",
       "3        75        0.0       3          10     13  \n",
       "4        75        0.0       0           1      1  "
      ]
     },
     "execution_count": 26,
     "metadata": {},
     "output_type": "execute_result"
    }
   ],
   "source": [
    "import pandas as pd\n",
    "import numpy as np\n",
    "import seaborn as sns\n",
    "import matplotlib.pyplot as plt\n",
    "\n",
    "bike_df=pd.read_csv('./dataset/bike_train.csv')\n",
    "bike_df.head()"
   ]
  },
  {
   "cell_type": "code",
   "execution_count": 27,
   "id": "9b8cd177",
   "metadata": {},
   "outputs": [
    {
     "name": "stdout",
     "output_type": "stream",
     "text": [
      "<class 'pandas.core.frame.DataFrame'>\n",
      "RangeIndex: 10886 entries, 0 to 10885\n",
      "Data columns (total 12 columns):\n",
      " #   Column      Non-Null Count  Dtype  \n",
      "---  ------      --------------  -----  \n",
      " 0   datetime    10886 non-null  object \n",
      " 1   season      10886 non-null  int64  \n",
      " 2   holiday     10886 non-null  int64  \n",
      " 3   workingday  10886 non-null  int64  \n",
      " 4   weather     10886 non-null  int64  \n",
      " 5   temp        10886 non-null  float64\n",
      " 6   atemp       10886 non-null  float64\n",
      " 7   humidity    10886 non-null  int64  \n",
      " 8   windspeed   10886 non-null  float64\n",
      " 9   casual      10886 non-null  int64  \n",
      " 10  registered  10886 non-null  int64  \n",
      " 11  count       10886 non-null  int64  \n",
      "dtypes: float64(3), int64(8), object(1)\n",
      "memory usage: 1020.7+ KB\n"
     ]
    }
   ],
   "source": [
    "bike_df.info()"
   ]
  },
  {
   "cell_type": "code",
   "execution_count": 28,
   "id": "f7f79fd6",
   "metadata": {},
   "outputs": [],
   "source": [
    "bike_df['datetime']=bike_df['datetime'].apply(pd.to_datetime)"
   ]
  },
  {
   "cell_type": "code",
   "execution_count": 29,
   "id": "6bf09760",
   "metadata": {},
   "outputs": [
    {
     "data": {
      "text/html": [
       "<div>\n",
       "<style scoped>\n",
       "    .dataframe tbody tr th:only-of-type {\n",
       "        vertical-align: middle;\n",
       "    }\n",
       "\n",
       "    .dataframe tbody tr th {\n",
       "        vertical-align: top;\n",
       "    }\n",
       "\n",
       "    .dataframe thead th {\n",
       "        text-align: right;\n",
       "    }\n",
       "</style>\n",
       "<table border=\"1\" class=\"dataframe\">\n",
       "  <thead>\n",
       "    <tr style=\"text-align: right;\">\n",
       "      <th></th>\n",
       "      <th>datetime</th>\n",
       "      <th>season</th>\n",
       "      <th>holiday</th>\n",
       "      <th>workingday</th>\n",
       "      <th>weather</th>\n",
       "      <th>temp</th>\n",
       "      <th>atemp</th>\n",
       "      <th>humidity</th>\n",
       "      <th>windspeed</th>\n",
       "      <th>casual</th>\n",
       "      <th>registered</th>\n",
       "      <th>count</th>\n",
       "      <th>year</th>\n",
       "      <th>month</th>\n",
       "      <th>day</th>\n",
       "      <th>hour</th>\n",
       "    </tr>\n",
       "  </thead>\n",
       "  <tbody>\n",
       "    <tr>\n",
       "      <th>0</th>\n",
       "      <td>2011-01-01 00:00:00</td>\n",
       "      <td>1</td>\n",
       "      <td>0</td>\n",
       "      <td>0</td>\n",
       "      <td>1</td>\n",
       "      <td>9.84</td>\n",
       "      <td>14.395</td>\n",
       "      <td>81</td>\n",
       "      <td>0.0</td>\n",
       "      <td>3</td>\n",
       "      <td>13</td>\n",
       "      <td>16</td>\n",
       "      <td>2011</td>\n",
       "      <td>1</td>\n",
       "      <td>1</td>\n",
       "      <td>0</td>\n",
       "    </tr>\n",
       "    <tr>\n",
       "      <th>1</th>\n",
       "      <td>2011-01-01 01:00:00</td>\n",
       "      <td>1</td>\n",
       "      <td>0</td>\n",
       "      <td>0</td>\n",
       "      <td>1</td>\n",
       "      <td>9.02</td>\n",
       "      <td>13.635</td>\n",
       "      <td>80</td>\n",
       "      <td>0.0</td>\n",
       "      <td>8</td>\n",
       "      <td>32</td>\n",
       "      <td>40</td>\n",
       "      <td>2011</td>\n",
       "      <td>1</td>\n",
       "      <td>1</td>\n",
       "      <td>1</td>\n",
       "    </tr>\n",
       "    <tr>\n",
       "      <th>2</th>\n",
       "      <td>2011-01-01 02:00:00</td>\n",
       "      <td>1</td>\n",
       "      <td>0</td>\n",
       "      <td>0</td>\n",
       "      <td>1</td>\n",
       "      <td>9.02</td>\n",
       "      <td>13.635</td>\n",
       "      <td>80</td>\n",
       "      <td>0.0</td>\n",
       "      <td>5</td>\n",
       "      <td>27</td>\n",
       "      <td>32</td>\n",
       "      <td>2011</td>\n",
       "      <td>1</td>\n",
       "      <td>1</td>\n",
       "      <td>2</td>\n",
       "    </tr>\n",
       "    <tr>\n",
       "      <th>3</th>\n",
       "      <td>2011-01-01 03:00:00</td>\n",
       "      <td>1</td>\n",
       "      <td>0</td>\n",
       "      <td>0</td>\n",
       "      <td>1</td>\n",
       "      <td>9.84</td>\n",
       "      <td>14.395</td>\n",
       "      <td>75</td>\n",
       "      <td>0.0</td>\n",
       "      <td>3</td>\n",
       "      <td>10</td>\n",
       "      <td>13</td>\n",
       "      <td>2011</td>\n",
       "      <td>1</td>\n",
       "      <td>1</td>\n",
       "      <td>3</td>\n",
       "    </tr>\n",
       "    <tr>\n",
       "      <th>4</th>\n",
       "      <td>2011-01-01 04:00:00</td>\n",
       "      <td>1</td>\n",
       "      <td>0</td>\n",
       "      <td>0</td>\n",
       "      <td>1</td>\n",
       "      <td>9.84</td>\n",
       "      <td>14.395</td>\n",
       "      <td>75</td>\n",
       "      <td>0.0</td>\n",
       "      <td>0</td>\n",
       "      <td>1</td>\n",
       "      <td>1</td>\n",
       "      <td>2011</td>\n",
       "      <td>1</td>\n",
       "      <td>1</td>\n",
       "      <td>4</td>\n",
       "    </tr>\n",
       "  </tbody>\n",
       "</table>\n",
       "</div>"
      ],
      "text/plain": [
       "             datetime  season  holiday  workingday  weather  temp   atemp  \\\n",
       "0 2011-01-01 00:00:00       1        0           0        1  9.84  14.395   \n",
       "1 2011-01-01 01:00:00       1        0           0        1  9.02  13.635   \n",
       "2 2011-01-01 02:00:00       1        0           0        1  9.02  13.635   \n",
       "3 2011-01-01 03:00:00       1        0           0        1  9.84  14.395   \n",
       "4 2011-01-01 04:00:00       1        0           0        1  9.84  14.395   \n",
       "\n",
       "   humidity  windspeed  casual  registered  count  year  month  day  hour  \n",
       "0        81        0.0       3          13     16  2011      1    1     0  \n",
       "1        80        0.0       8          32     40  2011      1    1     1  \n",
       "2        80        0.0       5          27     32  2011      1    1     2  \n",
       "3        75        0.0       3          10     13  2011      1    1     3  \n",
       "4        75        0.0       0           1      1  2011      1    1     4  "
      ]
     },
     "execution_count": 29,
     "metadata": {},
     "output_type": "execute_result"
    }
   ],
   "source": [
    "bike_df['year']=bike_df['datetime'].apply(lambda x:x.year)\n",
    "bike_df['month']=bike_df['datetime'].apply(lambda x:x.month)\n",
    "bike_df['day']=bike_df['datetime'].apply(lambda x:x.day)\n",
    "bike_df['hour']=bike_df['datetime'].apply(lambda x:x.hour)\n",
    "bike_df.head()"
   ]
  },
  {
   "cell_type": "code",
   "execution_count": 30,
   "id": "1a6e35cd",
   "metadata": {},
   "outputs": [],
   "source": [
    "# count와 중복 컬럼\n",
    "bike_df.drop(['datetime','casual','registered'],axis=1,inplace=True)"
   ]
  },
  {
   "cell_type": "code",
   "execution_count": 31,
   "id": "670615f9",
   "metadata": {},
   "outputs": [
    {
     "data": {
      "text/html": [
       "<div>\n",
       "<style scoped>\n",
       "    .dataframe tbody tr th:only-of-type {\n",
       "        vertical-align: middle;\n",
       "    }\n",
       "\n",
       "    .dataframe tbody tr th {\n",
       "        vertical-align: top;\n",
       "    }\n",
       "\n",
       "    .dataframe thead th {\n",
       "        text-align: right;\n",
       "    }\n",
       "</style>\n",
       "<table border=\"1\" class=\"dataframe\">\n",
       "  <thead>\n",
       "    <tr style=\"text-align: right;\">\n",
       "      <th></th>\n",
       "      <th>season</th>\n",
       "      <th>holiday</th>\n",
       "      <th>workingday</th>\n",
       "      <th>weather</th>\n",
       "      <th>temp</th>\n",
       "      <th>atemp</th>\n",
       "      <th>humidity</th>\n",
       "      <th>windspeed</th>\n",
       "      <th>count</th>\n",
       "      <th>year</th>\n",
       "      <th>month</th>\n",
       "      <th>day</th>\n",
       "      <th>hour</th>\n",
       "    </tr>\n",
       "  </thead>\n",
       "  <tbody>\n",
       "    <tr>\n",
       "      <th>0</th>\n",
       "      <td>1</td>\n",
       "      <td>0</td>\n",
       "      <td>0</td>\n",
       "      <td>1</td>\n",
       "      <td>9.84</td>\n",
       "      <td>14.395</td>\n",
       "      <td>81</td>\n",
       "      <td>0.0</td>\n",
       "      <td>16</td>\n",
       "      <td>2011</td>\n",
       "      <td>1</td>\n",
       "      <td>1</td>\n",
       "      <td>0</td>\n",
       "    </tr>\n",
       "    <tr>\n",
       "      <th>1</th>\n",
       "      <td>1</td>\n",
       "      <td>0</td>\n",
       "      <td>0</td>\n",
       "      <td>1</td>\n",
       "      <td>9.02</td>\n",
       "      <td>13.635</td>\n",
       "      <td>80</td>\n",
       "      <td>0.0</td>\n",
       "      <td>40</td>\n",
       "      <td>2011</td>\n",
       "      <td>1</td>\n",
       "      <td>1</td>\n",
       "      <td>1</td>\n",
       "    </tr>\n",
       "    <tr>\n",
       "      <th>2</th>\n",
       "      <td>1</td>\n",
       "      <td>0</td>\n",
       "      <td>0</td>\n",
       "      <td>1</td>\n",
       "      <td>9.02</td>\n",
       "      <td>13.635</td>\n",
       "      <td>80</td>\n",
       "      <td>0.0</td>\n",
       "      <td>32</td>\n",
       "      <td>2011</td>\n",
       "      <td>1</td>\n",
       "      <td>1</td>\n",
       "      <td>2</td>\n",
       "    </tr>\n",
       "    <tr>\n",
       "      <th>3</th>\n",
       "      <td>1</td>\n",
       "      <td>0</td>\n",
       "      <td>0</td>\n",
       "      <td>1</td>\n",
       "      <td>9.84</td>\n",
       "      <td>14.395</td>\n",
       "      <td>75</td>\n",
       "      <td>0.0</td>\n",
       "      <td>13</td>\n",
       "      <td>2011</td>\n",
       "      <td>1</td>\n",
       "      <td>1</td>\n",
       "      <td>3</td>\n",
       "    </tr>\n",
       "    <tr>\n",
       "      <th>4</th>\n",
       "      <td>1</td>\n",
       "      <td>0</td>\n",
       "      <td>0</td>\n",
       "      <td>1</td>\n",
       "      <td>9.84</td>\n",
       "      <td>14.395</td>\n",
       "      <td>75</td>\n",
       "      <td>0.0</td>\n",
       "      <td>1</td>\n",
       "      <td>2011</td>\n",
       "      <td>1</td>\n",
       "      <td>1</td>\n",
       "      <td>4</td>\n",
       "    </tr>\n",
       "  </tbody>\n",
       "</table>\n",
       "</div>"
      ],
      "text/plain": [
       "   season  holiday  workingday  weather  temp   atemp  humidity  windspeed  \\\n",
       "0       1        0           0        1  9.84  14.395        81        0.0   \n",
       "1       1        0           0        1  9.02  13.635        80        0.0   \n",
       "2       1        0           0        1  9.02  13.635        80        0.0   \n",
       "3       1        0           0        1  9.84  14.395        75        0.0   \n",
       "4       1        0           0        1  9.84  14.395        75        0.0   \n",
       "\n",
       "   count  year  month  day  hour  \n",
       "0     16  2011      1    1     0  \n",
       "1     40  2011      1    1     1  \n",
       "2     32  2011      1    1     2  \n",
       "3     13  2011      1    1     3  \n",
       "4      1  2011      1    1     4  "
      ]
     },
     "execution_count": 31,
     "metadata": {},
     "output_type": "execute_result"
    }
   ],
   "source": [
    "bike_df.head()"
   ]
  },
  {
   "cell_type": "code",
   "execution_count": 32,
   "id": "e1b7f53a",
   "metadata": {},
   "outputs": [
    {
     "data": {
      "text/html": [
       "<div>\n",
       "<style scoped>\n",
       "    .dataframe tbody tr th:only-of-type {\n",
       "        vertical-align: middle;\n",
       "    }\n",
       "\n",
       "    .dataframe tbody tr th {\n",
       "        vertical-align: top;\n",
       "    }\n",
       "\n",
       "    .dataframe thead th {\n",
       "        text-align: right;\n",
       "    }\n",
       "</style>\n",
       "<table border=\"1\" class=\"dataframe\">\n",
       "  <thead>\n",
       "    <tr style=\"text-align: right;\">\n",
       "      <th></th>\n",
       "      <th>season</th>\n",
       "      <th>holiday</th>\n",
       "      <th>workingday</th>\n",
       "      <th>weather</th>\n",
       "      <th>temp</th>\n",
       "      <th>atemp</th>\n",
       "      <th>humidity</th>\n",
       "      <th>windspeed</th>\n",
       "      <th>count</th>\n",
       "      <th>year</th>\n",
       "      <th>month</th>\n",
       "      <th>day</th>\n",
       "      <th>hour</th>\n",
       "    </tr>\n",
       "  </thead>\n",
       "  <tbody>\n",
       "    <tr>\n",
       "      <th>season</th>\n",
       "      <td>1.000000</td>\n",
       "      <td>0.029368</td>\n",
       "      <td>-0.008126</td>\n",
       "      <td>0.008879</td>\n",
       "      <td>0.258689</td>\n",
       "      <td>0.264744</td>\n",
       "      <td>0.190610</td>\n",
       "      <td>-0.147121</td>\n",
       "      <td>0.163439</td>\n",
       "      <td>-0.004797</td>\n",
       "      <td>0.971524</td>\n",
       "      <td>0.001729</td>\n",
       "      <td>-0.006546</td>\n",
       "    </tr>\n",
       "    <tr>\n",
       "      <th>holiday</th>\n",
       "      <td>0.029368</td>\n",
       "      <td>1.000000</td>\n",
       "      <td>-0.250491</td>\n",
       "      <td>-0.007074</td>\n",
       "      <td>0.000295</td>\n",
       "      <td>-0.005215</td>\n",
       "      <td>0.001929</td>\n",
       "      <td>0.008409</td>\n",
       "      <td>-0.005393</td>\n",
       "      <td>0.012021</td>\n",
       "      <td>0.001731</td>\n",
       "      <td>-0.015877</td>\n",
       "      <td>-0.000354</td>\n",
       "    </tr>\n",
       "    <tr>\n",
       "      <th>workingday</th>\n",
       "      <td>-0.008126</td>\n",
       "      <td>-0.250491</td>\n",
       "      <td>1.000000</td>\n",
       "      <td>0.033772</td>\n",
       "      <td>0.029966</td>\n",
       "      <td>0.024660</td>\n",
       "      <td>-0.010880</td>\n",
       "      <td>0.013373</td>\n",
       "      <td>0.011594</td>\n",
       "      <td>-0.002482</td>\n",
       "      <td>-0.003394</td>\n",
       "      <td>0.009829</td>\n",
       "      <td>0.002780</td>\n",
       "    </tr>\n",
       "    <tr>\n",
       "      <th>weather</th>\n",
       "      <td>0.008879</td>\n",
       "      <td>-0.007074</td>\n",
       "      <td>0.033772</td>\n",
       "      <td>1.000000</td>\n",
       "      <td>-0.055035</td>\n",
       "      <td>-0.055376</td>\n",
       "      <td>0.406244</td>\n",
       "      <td>0.007261</td>\n",
       "      <td>-0.128655</td>\n",
       "      <td>-0.012548</td>\n",
       "      <td>0.012144</td>\n",
       "      <td>-0.007890</td>\n",
       "      <td>-0.022740</td>\n",
       "    </tr>\n",
       "    <tr>\n",
       "      <th>temp</th>\n",
       "      <td>0.258689</td>\n",
       "      <td>0.000295</td>\n",
       "      <td>0.029966</td>\n",
       "      <td>-0.055035</td>\n",
       "      <td>1.000000</td>\n",
       "      <td>0.984948</td>\n",
       "      <td>-0.064949</td>\n",
       "      <td>-0.017852</td>\n",
       "      <td>0.394454</td>\n",
       "      <td>0.061226</td>\n",
       "      <td>0.257589</td>\n",
       "      <td>0.015551</td>\n",
       "      <td>0.145430</td>\n",
       "    </tr>\n",
       "    <tr>\n",
       "      <th>atemp</th>\n",
       "      <td>0.264744</td>\n",
       "      <td>-0.005215</td>\n",
       "      <td>0.024660</td>\n",
       "      <td>-0.055376</td>\n",
       "      <td>0.984948</td>\n",
       "      <td>1.000000</td>\n",
       "      <td>-0.043536</td>\n",
       "      <td>-0.057473</td>\n",
       "      <td>0.389784</td>\n",
       "      <td>0.058540</td>\n",
       "      <td>0.264173</td>\n",
       "      <td>0.011866</td>\n",
       "      <td>0.140343</td>\n",
       "    </tr>\n",
       "    <tr>\n",
       "      <th>humidity</th>\n",
       "      <td>0.190610</td>\n",
       "      <td>0.001929</td>\n",
       "      <td>-0.010880</td>\n",
       "      <td>0.406244</td>\n",
       "      <td>-0.064949</td>\n",
       "      <td>-0.043536</td>\n",
       "      <td>1.000000</td>\n",
       "      <td>-0.318607</td>\n",
       "      <td>-0.317371</td>\n",
       "      <td>-0.078606</td>\n",
       "      <td>0.204537</td>\n",
       "      <td>-0.011335</td>\n",
       "      <td>-0.278011</td>\n",
       "    </tr>\n",
       "    <tr>\n",
       "      <th>windspeed</th>\n",
       "      <td>-0.147121</td>\n",
       "      <td>0.008409</td>\n",
       "      <td>0.013373</td>\n",
       "      <td>0.007261</td>\n",
       "      <td>-0.017852</td>\n",
       "      <td>-0.057473</td>\n",
       "      <td>-0.318607</td>\n",
       "      <td>1.000000</td>\n",
       "      <td>0.101369</td>\n",
       "      <td>-0.015221</td>\n",
       "      <td>-0.150192</td>\n",
       "      <td>0.036157</td>\n",
       "      <td>0.146631</td>\n",
       "    </tr>\n",
       "    <tr>\n",
       "      <th>count</th>\n",
       "      <td>0.163439</td>\n",
       "      <td>-0.005393</td>\n",
       "      <td>0.011594</td>\n",
       "      <td>-0.128655</td>\n",
       "      <td>0.394454</td>\n",
       "      <td>0.389784</td>\n",
       "      <td>-0.317371</td>\n",
       "      <td>0.101369</td>\n",
       "      <td>1.000000</td>\n",
       "      <td>0.260403</td>\n",
       "      <td>0.166862</td>\n",
       "      <td>0.019826</td>\n",
       "      <td>0.400601</td>\n",
       "    </tr>\n",
       "    <tr>\n",
       "      <th>year</th>\n",
       "      <td>-0.004797</td>\n",
       "      <td>0.012021</td>\n",
       "      <td>-0.002482</td>\n",
       "      <td>-0.012548</td>\n",
       "      <td>0.061226</td>\n",
       "      <td>0.058540</td>\n",
       "      <td>-0.078606</td>\n",
       "      <td>-0.015221</td>\n",
       "      <td>0.260403</td>\n",
       "      <td>1.000000</td>\n",
       "      <td>-0.004932</td>\n",
       "      <td>0.001800</td>\n",
       "      <td>-0.004234</td>\n",
       "    </tr>\n",
       "    <tr>\n",
       "      <th>month</th>\n",
       "      <td>0.971524</td>\n",
       "      <td>0.001731</td>\n",
       "      <td>-0.003394</td>\n",
       "      <td>0.012144</td>\n",
       "      <td>0.257589</td>\n",
       "      <td>0.264173</td>\n",
       "      <td>0.204537</td>\n",
       "      <td>-0.150192</td>\n",
       "      <td>0.166862</td>\n",
       "      <td>-0.004932</td>\n",
       "      <td>1.000000</td>\n",
       "      <td>0.001974</td>\n",
       "      <td>-0.006818</td>\n",
       "    </tr>\n",
       "    <tr>\n",
       "      <th>day</th>\n",
       "      <td>0.001729</td>\n",
       "      <td>-0.015877</td>\n",
       "      <td>0.009829</td>\n",
       "      <td>-0.007890</td>\n",
       "      <td>0.015551</td>\n",
       "      <td>0.011866</td>\n",
       "      <td>-0.011335</td>\n",
       "      <td>0.036157</td>\n",
       "      <td>0.019826</td>\n",
       "      <td>0.001800</td>\n",
       "      <td>0.001974</td>\n",
       "      <td>1.000000</td>\n",
       "      <td>0.001132</td>\n",
       "    </tr>\n",
       "    <tr>\n",
       "      <th>hour</th>\n",
       "      <td>-0.006546</td>\n",
       "      <td>-0.000354</td>\n",
       "      <td>0.002780</td>\n",
       "      <td>-0.022740</td>\n",
       "      <td>0.145430</td>\n",
       "      <td>0.140343</td>\n",
       "      <td>-0.278011</td>\n",
       "      <td>0.146631</td>\n",
       "      <td>0.400601</td>\n",
       "      <td>-0.004234</td>\n",
       "      <td>-0.006818</td>\n",
       "      <td>0.001132</td>\n",
       "      <td>1.000000</td>\n",
       "    </tr>\n",
       "  </tbody>\n",
       "</table>\n",
       "</div>"
      ],
      "text/plain": [
       "              season   holiday  workingday   weather      temp     atemp  \\\n",
       "season      1.000000  0.029368   -0.008126  0.008879  0.258689  0.264744   \n",
       "holiday     0.029368  1.000000   -0.250491 -0.007074  0.000295 -0.005215   \n",
       "workingday -0.008126 -0.250491    1.000000  0.033772  0.029966  0.024660   \n",
       "weather     0.008879 -0.007074    0.033772  1.000000 -0.055035 -0.055376   \n",
       "temp        0.258689  0.000295    0.029966 -0.055035  1.000000  0.984948   \n",
       "atemp       0.264744 -0.005215    0.024660 -0.055376  0.984948  1.000000   \n",
       "humidity    0.190610  0.001929   -0.010880  0.406244 -0.064949 -0.043536   \n",
       "windspeed  -0.147121  0.008409    0.013373  0.007261 -0.017852 -0.057473   \n",
       "count       0.163439 -0.005393    0.011594 -0.128655  0.394454  0.389784   \n",
       "year       -0.004797  0.012021   -0.002482 -0.012548  0.061226  0.058540   \n",
       "month       0.971524  0.001731   -0.003394  0.012144  0.257589  0.264173   \n",
       "day         0.001729 -0.015877    0.009829 -0.007890  0.015551  0.011866   \n",
       "hour       -0.006546 -0.000354    0.002780 -0.022740  0.145430  0.140343   \n",
       "\n",
       "            humidity  windspeed     count      year     month       day  \\\n",
       "season      0.190610  -0.147121  0.163439 -0.004797  0.971524  0.001729   \n",
       "holiday     0.001929   0.008409 -0.005393  0.012021  0.001731 -0.015877   \n",
       "workingday -0.010880   0.013373  0.011594 -0.002482 -0.003394  0.009829   \n",
       "weather     0.406244   0.007261 -0.128655 -0.012548  0.012144 -0.007890   \n",
       "temp       -0.064949  -0.017852  0.394454  0.061226  0.257589  0.015551   \n",
       "atemp      -0.043536  -0.057473  0.389784  0.058540  0.264173  0.011866   \n",
       "humidity    1.000000  -0.318607 -0.317371 -0.078606  0.204537 -0.011335   \n",
       "windspeed  -0.318607   1.000000  0.101369 -0.015221 -0.150192  0.036157   \n",
       "count      -0.317371   0.101369  1.000000  0.260403  0.166862  0.019826   \n",
       "year       -0.078606  -0.015221  0.260403  1.000000 -0.004932  0.001800   \n",
       "month       0.204537  -0.150192  0.166862 -0.004932  1.000000  0.001974   \n",
       "day        -0.011335   0.036157  0.019826  0.001800  0.001974  1.000000   \n",
       "hour       -0.278011   0.146631  0.400601 -0.004234 -0.006818  0.001132   \n",
       "\n",
       "                hour  \n",
       "season     -0.006546  \n",
       "holiday    -0.000354  \n",
       "workingday  0.002780  \n",
       "weather    -0.022740  \n",
       "temp        0.145430  \n",
       "atemp       0.140343  \n",
       "humidity   -0.278011  \n",
       "windspeed   0.146631  \n",
       "count       0.400601  \n",
       "year       -0.004234  \n",
       "month      -0.006818  \n",
       "day         0.001132  \n",
       "hour        1.000000  "
      ]
     },
     "execution_count": 32,
     "metadata": {},
     "output_type": "execute_result"
    }
   ],
   "source": [
    "bike_df.corr()"
   ]
  },
  {
   "cell_type": "code",
   "execution_count": 33,
   "id": "387fc6a8",
   "metadata": {},
   "outputs": [
    {
     "data": {
      "text/plain": [
       "<AxesSubplot:>"
      ]
     },
     "execution_count": 33,
     "metadata": {},
     "output_type": "execute_result"
    },
    {
     "data": {
      "image/png": "[encoded data removed]",
      "text/plain": [
       "<Figure size 1440x1440 with 2 Axes>"
      ]
     },
     "metadata": {
      "needs_background": "light"
     },
     "output_type": "display_data"
    }
   ],
   "source": [
    "plt.figure(figsize=(20,20))\n",
    "sns.heatmap(bike_df.corr(), cmap='RdBu',annot=True)"
   ]
  },
  {
   "cell_type": "code",
   "execution_count": 34,
   "id": "f3fe240c",
   "metadata": {},
   "outputs": [],
   "source": [
    "from sklearn.metrics import mean_squared_error, mean_absolute_error\n",
    "\n",
    "def rmsle(y, pred):\n",
    "    log_y = np.log1p(y)\n",
    "    log_pred = np.log1p(pred)\n",
    "    squared_error = (log_y - log_pred)**2\n",
    "    rmsle = np.sqrt(np.mean(squared_error))\n",
    "    return rmsle\n",
    "\n",
    "def rmse(y, pred):\n",
    "    return np.sqrt(mean_squared_error(y, pred))\n",
    "\n",
    "def evaluate_regr(y, pred):\n",
    "    rmsle_val = rmsle(y, pred)\n",
    "    rmse_val = rmse(y, pred)\n",
    "    mae_val = mean_absolute_error(y, pred)\n",
    "    print(\"RMSLE: {0:.3f}, RMSE : {1:.3f}, MAE : {2:.3f}\".format(rmsle_val, rmse_val, mae_val))"
   ]
  },
  {
   "cell_type": "code",
   "execution_count": 35,
   "id": "954b41a9",
   "metadata": {},
   "outputs": [
    {
     "name": "stdout",
     "output_type": "stream",
     "text": [
      "RMSLE: 1.165, RMSE : 140.900, MAE : 105.924\n"
     ]
    },
    {
     "name": "stderr",
     "output_type": "stream",
     "text": [
      "C:\\Users\\qkrrh\\AppData\\Local\\Temp/ipykernel_11220/2986640460.py:5: RuntimeWarning: invalid value encountered in log1p\n",
      "  log_pred = np.log1p(pred)\n"
     ]
    }
   ],
   "source": [
    "from sklearn.model_selection import train_test_split, GridSearchCV\n",
    "from sklearn.linear_model import LinearRegression, Ridge, Lasso\n",
    "\n",
    "y_target = bike_df['count']\n",
    "X_features = bike_df.drop(['count'], axis = 1, inplace = False)\n",
    "\n",
    "X_train, X_test, y_train, y_test = train_test_split(X_features, y_target, test_size = 0.3, random_state = 0)\n",
    "\n",
    "lr_reg = LinearRegression()\n",
    "lr_reg.fit(X_train, y_train)\n",
    "pred = lr_reg.predict(X_test)\n",
    "\n",
    "evaluate_regr(y_test, pred)"
   ]
  },
  {
   "cell_type": "code",
   "execution_count": 36,
   "id": "5cffaefc",
   "metadata": {},
   "outputs": [
    {
     "name": "stdout",
     "output_type": "stream",
     "text": [
      "      real_count  predicted_count   diff\n",
      "1618         890            322.0  568.0\n",
      "3151         798            241.0  557.0\n",
      "966          884            327.0  557.0\n",
      "412          745            194.0  551.0\n",
      "2817         856            310.0  546.0\n"
     ]
    }
   ],
   "source": [
    "def get_top_error_data(y_test, pred, n_tops = 5):\n",
    "    result_df = pd.DataFrame(y_test.values, columns = ['real_count'])\n",
    "    result_df['predicted_count'] = np.round(pred)\n",
    "    result_df['diff'] = np.abs(result_df['real_count'] - result_df['predicted_count'])\n",
    "    print(result_df.sort_values('diff', ascending = False)[:n_tops])\n",
    "    \n",
    "get_top_error_data(y_test, pred, n_tops = 5)"
   ]
  },
  {
   "cell_type": "code",
   "execution_count": 37,
   "id": "dfeaa09b",
   "metadata": {},
   "outputs": [
    {
     "data": {
      "text/plain": [
       "<AxesSubplot:>"
      ]
     },
     "execution_count": 37,
     "metadata": {},
     "output_type": "execute_result"
    },
    {
     "data": {
      "image/png": "[encoded data removed]",
      "text/plain": [
       "<Figure size 432x288 with 1 Axes>"
      ]
     },
     "metadata": {
      "needs_background": "light"
     },
     "output_type": "display_data"
    }
   ],
   "source": [
    "y_target.hist()"
   ]
  },
  {
   "cell_type": "code",
   "execution_count": 38,
   "id": "d34e475d",
   "metadata": {},
   "outputs": [
    {
     "data": {
      "text/plain": [
       "<AxesSubplot:>"
      ]
     },
     "execution_count": 38,
     "metadata": {},
     "output_type": "execute_result"
    },
    {
     "data": {
      "image/png": "[encoded data removed]",
      "text/plain": [
       "<Figure size 432x288 with 1 Axes>"
      ]
     },
     "metadata": {
      "needs_background": "light"
     },
     "output_type": "display_data"
    }
   ],
   "source": [
    "y_log_transform =  np.log1p(y_target)\n",
    "y_log_transform.hist()"
   ]
  },
  {
   "cell_type": "code",
   "execution_count": 39,
   "id": "af987acb",
   "metadata": {},
   "outputs": [
    {
     "name": "stdout",
     "output_type": "stream",
     "text": [
      "RMSLE: 1.017, RMSE : 162.594, MAE : 109.286\n"
     ]
    }
   ],
   "source": [
    "y_target_log = np.log1p(y_target)\n",
    "\n",
    "X_train, X_test, y_train, y_test = train_test_split(X_features, y_target_log, test_size = 0.3, random_state = 0)\n",
    "\n",
    "lr_reg = LinearRegression()\n",
    "lr_reg.fit(X_train, y_train)\n",
    "pred = lr_reg.predict(X_test)\n",
    "y_test_exp = np.expm1(y_test)\n",
    "pred_exp = np.expm1(pred)\n",
    "\n",
    "evaluate_regr(y_test_exp, pred_exp)"
   ]
  },
  {
   "cell_type": "code",
   "execution_count": 40,
   "id": "8968f1e0",
   "metadata": {},
   "outputs": [
    {
     "data": {
      "text/plain": [
       "<AxesSubplot:>"
      ]
     },
     "execution_count": 40,
     "metadata": {},
     "output_type": "execute_result"
    },
    {
     "data": {
      "image/png": "[encoded data removed]",
      "text/plain": [
       "<Figure size 1296x720 with 1 Axes>"
      ]
     },
     "metadata": {
      "needs_background": "light"
     },
     "output_type": "display_data"
    }
   ],
   "source": [
    "plt.figure(figsize=(18,10))\n",
    "coef = pd.Series(lr_reg.coef_, index = X_features.columns)\n",
    "coef_sort = coef.sort_values(ascending = False)\n",
    "sns.barplot(x= coef_sort.values, y = coef_sort.index)"
   ]
  },
  {
   "cell_type": "code",
   "execution_count": 41,
   "id": "b1bdb972",
   "metadata": {},
   "outputs": [],
   "source": [
    "X_features_ohe = pd.get_dummies(X_features, columns = ['year','month','day','hour','holiday','workingday','season','weather'])"
   ]
  },
  {
   "cell_type": "code",
   "execution_count": 42,
   "id": "2d64b462",
   "metadata": {},
   "outputs": [
    {
     "name": "stdout",
     "output_type": "stream",
     "text": [
      "### LinearRegression ###\n",
      "RMSLE: 0.590, RMSE : 97.688, MAE : 63.382\n",
      "### Ridge ###\n",
      "RMSLE: 0.590, RMSE : 98.529, MAE : 63.893\n",
      "### Lasso ###\n",
      "RMSLE: 0.635, RMSE : 113.219, MAE : 72.803\n"
     ]
    }
   ],
   "source": [
    "X_train, X_test, y_train, y_test = train_test_split(X_features_ohe, y_target_log, test_size = 0.3, random_state = 0)\n",
    "\n",
    "def get_model_predict(model, X_train, X_test, y_train, y_test, is_expm1=False):\n",
    "    model.fit(X_train, y_train)\n",
    "    pred = model.predict(X_test)\n",
    "    if is_expm1 :\n",
    "        y_test = np.expm1(y_test)\n",
    "        pred = np.expm1(pred)\n",
    "    print(\"###\", model.__class__.__name__, '###')\n",
    "    evaluate_regr(y_test, pred)\n",
    "\n",
    "lr_reg = LinearRegression()\n",
    "ridge_reg = Ridge(alpha = 10)\n",
    "lasso_reg = Lasso(alpha = 0.01)\n",
    "\n",
    "for model in [lr_reg, ridge_reg, lasso_reg]:\n",
    "    get_model_predict(model, X_train, X_test, y_train, y_test, is_expm1=True)"
   ]
  },
  {
   "cell_type": "code",
   "execution_count": 43,
   "id": "b571bdf7",
   "metadata": {},
   "outputs": [
    {
     "data": {
      "text/plain": [
       "<AxesSubplot:>"
      ]
     },
     "execution_count": 43,
     "metadata": {},
     "output_type": "execute_result"
    },
    {
     "data": {
      "image/png": "[encoded data removed]",
      "text/plain": [
       "<Figure size 1296x720 with 1 Axes>"
      ]
     },
     "metadata": {
      "needs_background": "light"
     },
     "output_type": "display_data"
    }
   ],
   "source": [
    "plt.figure(figsize=(18,10))\n",
    "coef = pd.Series(lr_reg.coef_, index = X_features_ohe.columns)\n",
    "coef_sort = coef.sort_values(ascending= False)[:25]\n",
    "sns.barplot(x = coef_sort.values, y = coef_sort.index)"
   ]
  },
  {
   "cell_type": "code",
   "execution_count": 44,
   "id": "02a437de",
   "metadata": {},
   "outputs": [
    {
     "name": "stdout",
     "output_type": "stream",
     "text": [
      "### RandomForestRegressor ###\n",
      "RMSLE: 0.355, RMSE : 50.486, MAE : 31.249\n",
      "### GradientBoostingRegressor ###\n",
      "RMSLE: 0.330, RMSE : 53.363, MAE : 32.755\n",
      "### XGBRegressor ###\n",
      "RMSLE: 0.342, RMSE : 51.732, MAE : 31.251\n",
      "### LGBMRegressor ###\n",
      "RMSLE: 0.319, RMSE : 47.215, MAE : 29.029\n"
     ]
    }
   ],
   "source": [
    "from sklearn.ensemble import RandomForestRegressor, GradientBoostingRegressor\n",
    "from xgboost import XGBRegressor\n",
    "from lightgbm import LGBMRegressor\n",
    "\n",
    "rf_reg = RandomForestRegressor(n_estimators = 500)\n",
    "gbm_reg = GradientBoostingRegressor(n_estimators = 500)\n",
    "xgb_reg = XGBRegressor(n_estimators = 500)\n",
    "lgbm_reg = LGBMRegressor(n_estimators = 500)\n",
    "\n",
    "for model in [rf_reg, gbm_reg, xgb_reg, lgbm_reg]:\n",
    "    get_model_predict(model, X_train.values, X_test.values, y_train.values, y_test.values, is_expm1= True)"
   ]
  }
 ],
 "metadata": {
  "kernelspec": {
   "display_name": "Python 3 (ipykernel)",
   "language": "python",
   "name": "python3"
  },
  "language_info": {
   "codemirror_mode": {
    "name": "ipython",
    "version": 3
   },
   "file_extension": ".py",
   "mimetype": "text/x-python",
   "name": "python",
   "nbconvert_exporter": "python",
   "pygments_lexer": "ipython3",
   "version": "3.8.12"
  },
  "toc": {
   "base_numbering": 1,
   "nav_menu": {},
   "number_sections": true,
   "sideBar": true,
   "skip_h1_title": true,
   "title_cell": "Table of Contents",
   "title_sidebar": "Contents",
   "toc_cell": false,
   "toc_position": {},
   "toc_section_display": true,
   "toc_window_display": false
  },
  "varInspector": {
   "cols": {
    "lenName": 16,
    "lenType": 16,
    "lenVar": 40
   },
   "kernels_config": {
    "python": {
     "delete_cmd_postfix": "",
     "delete_cmd_prefix": "del ",
     "library": "var_list.py",
     "varRefreshCmd": "print(var_dic_list())"
    },
    "r": {
     "delete_cmd_postfix": ") ",
     "delete_cmd_prefix": "rm(",
     "library": "var_list.r",
     "varRefreshCmd": "cat(var_dic_list()) "
    }
   },
   "types_to_exclude": [
    "module",
    "function",
    "builtin_function_or_method",
    "instance",
    "_Feature"
   ],
   "window_display": false
  }
 },
 "nbformat": 4,
 "nbformat_minor": 5
}
